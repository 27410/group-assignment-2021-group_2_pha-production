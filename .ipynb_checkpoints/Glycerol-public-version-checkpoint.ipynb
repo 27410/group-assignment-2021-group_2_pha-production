{
 "cells": [
  {
   "cell_type": "code",
   "execution_count": 2,
   "id": "db680545",
   "metadata": {},
   "outputs": [],
   "source": [
    "import cobra.test\n",
    "import os\n",
    "from os.path import join\n",
    "from cobra.io import read_sbml_model\n",
    "model = cobra.io.load_json_model(join(\"RehMBEL1391_sbml_L3V1.json\"))\n",
    "from cobra import Model, Reaction, Metabolite"
   ]
  },
  {
   "cell_type": "markdown",
   "id": "e337c14b-a0c1-4261-9be9-588582ac112e",
   "metadata": {
    "tags": []
   },
   "source": [
    "# Adding glycerol to the medium"
   ]
  },
  {
   "cell_type": "markdown",
   "id": "d88b0504-3fff-477f-bf30-9b5002b53bd1",
   "metadata": {},
   "source": [
<<<<<<< HEAD
    "Current carbon source: Fructose"
=======
    "**Current carbon source: Fructose**"
>>>>>>> a701b44c3673c09f4046d48c85c9baed9820c6b0
   ]
  },
  {
   "cell_type": "markdown",
   "id": "9fa3b523-af88-4453-af82-bf842c61ddf2",
   "metadata": {},
   "source": [
<<<<<<< HEAD
    "Model information:"
=======
    "**Model information:**"
>>>>>>> a701b44c3673c09f4046d48c85c9baed9820c6b0
   ]
  },
  {
   "cell_type": "code",
<<<<<<< HEAD
   "execution_count": 8,
   "id": "d7767370-a378-41e3-ae46-bb5b2b93adc6",
   "metadata": {
    "jupyter": {
     "source_hidden": true
    },
=======
   "execution_count": 3,
   "id": "d7767370-a378-41e3-ae46-bb5b2b93adc6",
   "metadata": {
>>>>>>> a701b44c3673c09f4046d48c85c9baed9820c6b0
    "tags": []
   },
   "outputs": [
    {
     "data": {
      "text/html": [
       "\n",
       "        <table>\n",
       "            <tr>\n",
       "                <td><strong>Name</strong></td>\n",
       "                <td>RehMBEL1391</td>\n",
       "            </tr><tr>\n",
       "                <td><strong>Memory address</strong></td>\n",
<<<<<<< HEAD
       "                <td>0x07f8e650f3d00</td>\n",
=======
       "                <td>0x07ff607ea1e20</td>\n",
>>>>>>> a701b44c3673c09f4046d48c85c9baed9820c6b0
       "            </tr><tr>\n",
       "                <td><strong>Number of metabolites</strong></td>\n",
       "                <td>1348</td>\n",
       "            </tr><tr>\n",
       "                <td><strong>Number of reactions</strong></td>\n",
       "                <td>1538</td>\n",
       "            </tr><tr>\n",
       "                <td><strong>Number of groups</strong></td>\n",
       "                <td>0</td>\n",
       "            </tr><tr>\n",
       "                <td><strong>Objective expression</strong></td>\n",
       "                <td>1.0*Biomass - 1.0*Biomass_reverse_57a34</td>\n",
       "            </tr><tr>\n",
       "                <td><strong>Compartments</strong></td>\n",
       "                <td>c, e</td>\n",
       "            </tr>\n",
       "          </table>"
      ],
      "text/plain": [
<<<<<<< HEAD
       "<Model RehMBEL1391 at 0x7f8e650f3d00>"
      ]
     },
     "execution_count": 8,
=======
       "<Model RehMBEL1391 at 0x7ff607ea1e20>"
      ]
     },
     "execution_count": 3,
>>>>>>> a701b44c3673c09f4046d48c85c9baed9820c6b0
     "metadata": {},
     "output_type": "execute_result"
    }
   ],
   "source": [
    "model"
   ]
  },
  {
   "cell_type": "markdown",
<<<<<<< HEAD
=======
   "id": "82007201-1139-4c54-87a0-34b8a6bbcbd2",
   "metadata": {},
   "source": [
    "**Uptake and secrection of raw model**"
   ]
  },
  {
   "cell_type": "code",
   "execution_count": 4,
   "id": "ebdf59eb-ca9f-40ce-ba68-d760977e4a18",
   "metadata": {
    "tags": []
   },
   "outputs": [
    {
     "data": {
      "text/html": [
       "<h3>Objective</h3><p>1.0 Biomass = 0.2852858664276789</p><h4>Uptake</h4><table border=\"1\" class=\"dataframe\">\n",
       "  <thead>\n",
       "    <tr style=\"text-align: right;\">\n",
       "      <th>Metabolite</th>\n",
       "      <th>Reaction</th>\n",
       "      <th>Flux</th>\n",
       "      <th>C-Number</th>\n",
       "      <th>C-Flux</th>\n",
       "    </tr>\n",
       "  </thead>\n",
       "  <tbody>\n",
       "    <tr>\n",
       "      <td>fe2_e</td>\n",
       "      <td>EX_fe2_e</td>\n",
       "      <td>6.333E-05</td>\n",
       "      <td>0</td>\n",
       "      <td>0.00%</td>\n",
       "    </tr>\n",
       "    <tr>\n",
       "      <td>fru_e</td>\n",
       "      <td>EX_fru_e</td>\n",
       "      <td>3</td>\n",
       "      <td>6</td>\n",
       "      <td>100.00%</td>\n",
       "    </tr>\n",
       "    <tr>\n",
       "      <td>h_e</td>\n",
       "      <td>EX_h_e</td>\n",
       "      <td>10.72</td>\n",
       "      <td>0</td>\n",
       "      <td>0.00%</td>\n",
       "    </tr>\n",
       "    <tr>\n",
       "      <td>nh4_e</td>\n",
       "      <td>EX_nh4_e</td>\n",
       "      <td>3.038</td>\n",
       "      <td>0</td>\n",
       "      <td>0.00%</td>\n",
       "    </tr>\n",
       "    <tr>\n",
       "      <td>o2_e</td>\n",
       "      <td>EX_o2_e</td>\n",
       "      <td>5.734</td>\n",
       "      <td>0</td>\n",
       "      <td>0.00%</td>\n",
       "    </tr>\n",
       "    <tr>\n",
       "      <td>pi_e</td>\n",
       "      <td>EX_pi_e</td>\n",
       "      <td>7.987</td>\n",
       "      <td>0</td>\n",
       "      <td>0.00%</td>\n",
       "    </tr>\n",
       "    <tr>\n",
       "      <td>so4_e</td>\n",
       "      <td>EX_so4_e</td>\n",
       "      <td>0.05797</td>\n",
       "      <td>0</td>\n",
       "      <td>0.00%</td>\n",
       "    </tr>\n",
       "  </tbody>\n",
       "</table><h4>Secretion</h4><table border=\"1\" class=\"dataframe\">\n",
       "  <thead>\n",
       "    <tr style=\"text-align: right;\">\n",
       "      <th>Metabolite</th>\n",
       "      <th>Reaction</th>\n",
       "      <th>Flux</th>\n",
       "      <th>C-Number</th>\n",
       "      <th>C-Flux</th>\n",
       "    </tr>\n",
       "  </thead>\n",
       "  <tbody>\n",
       "    <tr>\n",
       "      <td>BIOMASS_c</td>\n",
       "      <td>EX_BIOMASS_c</td>\n",
       "      <td>-0.2853</td>\n",
       "      <td>0</td>\n",
       "      <td>0.00%</td>\n",
       "    </tr>\n",
       "    <tr>\n",
       "      <td>co2_e</td>\n",
       "      <td>EX_co2_e</td>\n",
       "      <td>-6.151</td>\n",
       "      <td>1</td>\n",
       "      <td>100.00%</td>\n",
       "    </tr>\n",
       "    <tr>\n",
       "      <td>h2o_e</td>\n",
       "      <td>EX_h2o_e</td>\n",
       "      <td>-23.87</td>\n",
       "      <td>0</td>\n",
       "      <td>0.00%</td>\n",
       "    </tr>\n",
       "  </tbody>\n",
       "</table>"
      ],
      "text/plain": [
       "<cobra.summary.model_summary.ModelSummary at 0x7ff607ea15e0>"
      ]
     },
     "execution_count": 4,
     "metadata": {},
     "output_type": "execute_result"
    }
   ],
   "source": [
    "model.summary()"
   ]
  },
  {
   "cell_type": "markdown",
>>>>>>> a701b44c3673c09f4046d48c85c9baed9820c6b0
   "id": "3eaad982-efd1-47c0-8997-2fa11069f711",
   "metadata": {},
   "source": [
    "## Checking if the model can currently uptake glycerol "
   ]
  },
  {
   "cell_type": "code",
<<<<<<< HEAD
   "execution_count": 9,
=======
   "execution_count": 5,
>>>>>>> a701b44c3673c09f4046d48c85c9baed9820c6b0
   "id": "726d7e76-fae0-41a2-a38b-b7d4dc1ba038",
   "metadata": {},
   "outputs": [],
   "source": [
    "for metabolite in model.metabolites.query('glycerin', 'name'):\n",
    "    print(metabolite.name)"
   ]
  },
  {
   "cell_type": "code",
<<<<<<< HEAD
   "execution_count": 10,
   "id": "ed2cd36f-1477-4a5b-b6e6-4cae57aeaa9d",
   "metadata": {
    "collapsed": true,
    "jupyter": {
     "outputs_hidden": true
    },
=======
   "execution_count": 6,
   "id": "ed2cd36f-1477-4a5b-b6e6-4cae57aeaa9d",
   "metadata": {
>>>>>>> a701b44c3673c09f4046d48c85c9baed9820c6b0
    "tags": []
   },
   "outputs": [
    {
     "name": "stdout",
     "output_type": "stream",
     "text": [
      "CDP-diacylglycerol\n",
      "D-erythro-1-(Imidazol-4-yl)glycerol 3-phosphate\n",
      "Triacylglycerol\n",
      "1,2-Diacyl-sn-glycerol\n",
      "Phosphatidylglycerol\n",
      "Glycerophosphoglycerol\n",
      "1-Acyl-sn-glycerol 3-phosphate\n",
      "1-Acylglycerol\n",
      "C1-(3-Indolyl)-glycerol 3-phosphate\n"
     ]
    }
   ],
   "source": [
    "for metabolite in model.metabolites.query('glycerol', 'name'):\n",
    "    print(metabolite.name)"
   ]
  },
  {
   "cell_type": "markdown",
   "id": "6a5c4681-e102-44dc-b164-8f6e9d960fb2",
   "metadata": {
    "tags": []
   },
   "source": [
    "-> No glycerol uptake pathway in the current model"
   ]
  },
  {
<<<<<<< HEAD
   "cell_type": "code",
   "execution_count": 6,
   "id": "3d911ccb",
   "metadata": {
    "tags": []
   },
   "outputs": [
    {
     "name": "stdout",
     "output_type": "stream",
     "text": [
      "RBPC: co2_c + h2o_c + rb15bp_c --> 2.0 3pg_c + 2.0 h_c Ribulose-bisphosphate carboxylase\n",
      "PGM: 2pg_c <=> 3pg_c Phosphoglycerate mutase\n",
      "GLYCEK1: atp_c + glyc__R_c --> 3pg_c + adp_c + h_c Glycerate kinase\n",
      "ACYP: 13dpg_c + h2o_c --> 3pg_c + h_c + pi_c Acylphosphatase\n",
      "3PGt: 3pg_e + h_e --> 3pg_c + h_c 3-Phospho-D-glycerate transport\n",
      "PGLCED: 3pg_c + nad_c --> 3php_c + h_c + nadh_c D-3-phosphoglycerate dehydrogenase\n",
      "PGK: 3pg_c + atp_c <=> 13dpg_c + adp_c Phosphoglycerate kinase\n"
     ]
    }
   ],
   "source": [
    "### TEST #### \n",
    "model.metabolites.h_c\n",
    "model.metabolites.nadph_c\n",
    "model.metabolites.nadp_c\n",
    "model.metabolites.h2o_c\n",
    "model.metabolites\n",
    "model.metabolites.get_by_id('3pg_c').reactions\n",
    "for reactions in model.metabolites.get_by_id('3pg_c').reactions:\n",
    "    print (reactions, reactions.name)"
   ]
  },
  {
   "cell_type": "code",
   "execution_count": 74,
   "id": "d09042f3-dd16-440b-b239-9932f7a47355",
   "metadata": {},
   "outputs": [
    {
     "name": "stdout",
     "output_type": "stream",
     "text": [
      "PGM: 2pg_c <=> 3pg_c Phosphoglycerate mutase\n",
      "GLYCEK1: atp_c + glyc__R_c --> 3pg_c + adp_c + h_c Glycerate kinase\n",
      "ACYP: 13dpg_c + h2o_c --> 3pg_c + h_c + pi_c Acylphosphatase\n",
      "PGK: 3pg_c + atp_c <=> 13dpg_c + adp_c Phosphoglycerate kinase\n",
      "RBPC: co2_c + h2o_c + rb15bp_c --> 2.0 3pg_c + 2.0 h_c Ribulose-bisphosphate carboxylase\n",
      "PGLCED: 3pg_c + nad_c --> 3php_c + h_c + nadh_c D-3-phosphoglycerate dehydrogenase\n",
      "3PGt: 3pg_e + h_e --> 3pg_c + h_c 3-Phospho-D-glycerate transport\n"
     ]
    }
   ],
   "source": [
    "##find connected pathways\n",
    "for reactions in model.metabolites.get_by_id('3pg_c').reactions:\n",
    "    print (reactions, reactions.name)"
=======
   "cell_type": "markdown",
   "id": "08582a3c-646e-41f4-bc71-8b1c9b05c2ee",
   "metadata": {
    "tags": []
   },
   "source": [
    "## Adding a new glycerolipid pathway"
   ]
  },
  {
   "cell_type": "markdown",
   "id": "2505f607-ca83-49ac-8395-90345b5dbc2c",
   "metadata": {},
   "source": [
    "### First reaction: Glycerol dehydrogenase "
   ]
  },
  {
   "cell_type": "markdown",
   "id": "fcae87ec-2e68-41ec-8009-2c5f27bd65fd",
   "metadata": {},
   "source": [
    "Check if the metabolites of this reaction already exist in the model. If not adding missing metabolites."
>>>>>>> a701b44c3673c09f4046d48c85c9baed9820c6b0
   ]
  },
  {
   "cell_type": "code",
<<<<<<< HEAD
   "execution_count": 75,
=======
   "execution_count": 7,
>>>>>>> a701b44c3673c09f4046d48c85c9baed9820c6b0
   "id": "3ebf2882",
   "metadata": {
    "tags": []
   },
   "outputs": [
    {
     "name": "stdout",
     "output_type": "stream",
     "text": [
<<<<<<< HEAD
      "###### check glycerol\n",
=======
      "Check glycerol\n",
>>>>>>> a701b44c3673c09f4046d48c85c9baed9820c6b0
      "CDP-diacylglycerol\n",
      "D-erythro-1-(Imidazol-4-yl)glycerol 3-phosphate\n",
      "Triacylglycerol\n",
      "1,2-Diacyl-sn-glycerol\n",
      "Phosphatidylglycerol\n",
      "Glycerophosphoglycerol\n",
      "1-Acyl-sn-glycerol 3-phosphate\n",
      "1-Acylglycerol\n",
      "C1-(3-Indolyl)-glycerol 3-phosphate\n",
<<<<<<< HEAD
      "###### check NADP+\n",
      "nadp_c\n",
      "###### check D-glyceraldehyde\n",
      "###### check NADPH\n",
      "nadph_c\n",
      "###### check H+\n",
      "(Z)-5-Oxohex-2-enedioate\n",
      "Acetyl phosphate\n",
      "Phenylacetyl-CoA\n",
      "2-Hydroxy-3-methylbenzalpyruvate\n",
      "L-Methionyl-tRNA (Met)\n",
      "Selenophosphate\n",
      "heptadecanoic acid (C17:0)\n",
      "cis-2-Chloro-4-carboxymethylenebut-2-en-1,4-olide\n",
      "Phosphatidylserine\n",
      "Phenethylamine\n",
      "2-Methylbut-2-enoyl-CoATiglyl-CoA\n",
      "5-Chloro-2-hydroxymuconic semialdehyde\n",
      "Dihydrofolate\n",
      "Inorganic triphosphate\n",
      "5'-Methylthioadenosine\n",
      "Thiocysteine\n",
      "4-Nitrophenol\n",
      "Anthranilyl-CoA\n",
      "cis-3-(3-Carboxyethenyl)-3,5-cyclohexadiene-1,2-diol\n",
      "4-(2-Aminophenyl)-2,4-dioxobutanoate\n",
      "D-Methionine\n",
      "D-Glucosamine 1-phosphate\n",
      "D-Xylulose 5-phosphate\n",
      "D-Methionine\n",
      "tRNA(Phe)\n",
      "branching glycogen\n",
      "N1-(alpha-D-ribosyl)-5,6-dimethylbenzimidazole\n",
      "3,4-Dihydroxymandelaldehyde\n",
      "D-Glycero-D-manno-heptose 1,7-bisphosphate\n",
      "4-Sulfocatechol\n",
      "Phosphatidylethanolamine\n",
      "Phenylacetaldehyde\n",
      "2-Hydroxyhepta-2,4-dienedioate\n",
      "Glycerophosphoserine\n",
      "1,6-Dihydroxy-cis-2,4-cyclohexadiene-1- carboxylic acid\n",
      "1-Hydroxymethylnaphthalene\n",
      "2-Amino-5-oxocyclohex-1-enecarbonyl-CoA\n",
      "methylisocitrate\n",
      "D-Erythrose 4-phosphate\n",
      "L-Rhamnose\n",
      "L-Rhamnose\n",
      "4-Nitrophenyl phosphate\n",
      "3-Phospho-D-glyceroyl phosphate\n",
      "O-Phospho-L-serine\n",
      "Betaine aldehyde\n",
      "D-erythro-1-(Imidazol-4-yl)glycerol 3-phosphate\n",
      "5-Amino-6-(5'-phosphoribosylamino)uracil\n",
      "1,4-Dihydroxy-2-naphthoate\n",
      "Dimethylallyl diphosphate\n",
      "lipopolisaccharide\n",
      "Glutathionylspermidine\n",
      "L-Glutamate 1-semialdehyde\n",
      "D-Glyceraldehyde 3-phosphate\n",
      "1-(5'-Phosphoribosyl)-5-amino-4-imidazolecarboxamide\n",
      "Thiamin\n",
      "Thiamin\n",
      "Naphthyl-2-methyl-succinic acid\n",
      "CDP-4-dehydro-6-deoxy-D-glucose\n",
      "2,6-Dichlorohydroquinone\n",
      "Thiamine diphosphate\n",
      "2-Methylprop-2-enoyl-CoA\n",
      "2-Fluorocyclohexadiene-cis,cis-1,2-diol-1-carboxylate\n",
      "4-Chlorophenylacetate\n",
      "sn-Glycero-3-phosphoethanolamine\n",
      "hexadecenoate (n-C16:1)\n",
      "3,4,6-Trichlorocatechol\n",
      "L-Phenylalanine\n",
      "Thiocyanate\n",
      "Choline phosphate\n",
      "L-Phenylalanine\n",
      "D-Glycerate 2-phosphate\n",
      "D-Glycerate 2-phosphate\n",
      "Presqualene diphosphate\n",
      "1-Hydroxy-2-methyl-2-butenyl 4-diphosphate\n",
      "sn-Glycero-3-phospho-1-inositol\n",
      "4-Amino-2-methyl-5-phosphomethylpyrimidine\n",
      "Dephospho-CoA\n",
      "Cyclohexanone\n",
      "L-Cystathionine\n",
      "2-Dehydro-3-deoxy-D-glucarate\n",
      "Thymidine\n",
      "Porphobilinogen\n",
      "5-Formyltetrahydrofolate\n",
      "Dihydropteroate\n",
      "5,6-Dihydrothymine\n",
      "Thymidine\n",
      "Methylimidazole acetaldehyde\n",
      "5-O-(1-Carboxyvinyl)-3-phosphoshikimate\n",
      "Imidazole-4-acetaldehyde\n",
      "2-Hydroxy-2-hydropyrone-4,6-dicarboxylate\n",
      "Se-Adenosylselenomethionine\n",
      "3-Fluorocatechol\n",
      "2-Hydroxycyclohexan-1-one\n",
      "Protoporphyrin\n",
      "4,6-Dihydroxyquinoline\n",
      "3-Octaprenyl-4-hydroxybenzoate\n",
      "trans-2,3-Dihydroxycinnamate\n",
      "2-Hydroxy-cis-hex-2,4-dienoate\n",
      "3,4-Dihydroxyphenylethyleneglycol\n",
      "5-Methyl-3-oxo-4-hexenoyl-CoA\n",
      "N-(5-Phospho-D-ribosyl)anthranilate\n",
      "Cyclohexylamine\n",
      "D-Fructose 1-phosphate\n",
      "cis-3-(Carboxy-ethyl)-3,5-cyclohexadiene-1,2-diol\n",
      "1-(5-Phosphoribosyl)-AMP\n",
      "Shikimate\n",
      "phosphatidylcholine\n",
      "5-Phospho-alpha-D-ribose\n",
      "beta-D-Fructose 2,6-bisphosphate\n",
      "Hydroxymethylbilane\n",
      "beta-D-Fructose 2-phosphate\n",
      "4-Hydroxy-2-oxo-heptanedioate\n",
      "1,2-Anthracenediol\n",
      "Phosphatidylglycerol\n",
      "5-Methyltetrahydropteroyltri-L-glutamate\n",
      "1-Methylnaphthalene\n",
      "Naphthalene-1,2-diol\n",
      "S-Adenosyl-4-methylthio-2-oxobutanoate\n",
      "P1,P4-Bis(5'-uridyl) tetraphosphate\n",
      "4-Carboxy-2-hydroxymuconate semialdehyde\n",
      "2,3,4,5-Tetrahydrodipicolinate\n",
      "Adenosyl cobinamide phosphate\n",
      "Sulfoacetaldehyde\n",
      "1-(5-Phosphoribosyl)-ATP\n",
      "2-Demethylmenaquinone\n",
      "5-carboxyamino-1-(5-phospho-D-ribosyl)imidazole\n",
      "S-(2-Methylbutanoyl)-dihydrolipoamide-E\n",
      "2-Amino-3-carboxymuconate semialdehyde\n",
      "5-Formamido-1-(5-phospho-D-ribosyl)\n",
      "6-Phospho-D-gluconate\n",
      "5-Amino-6-(5'-phosphoribitylamino)uracil\n",
      "2-Naphthoic acid\n",
      "Catechol\n",
      "Catechol\n",
      "4-Methylsalicylate\n",
      "O-Acetylhomoserine\n",
      "O-Succinylhomoserine\n",
      "4-Nitrocatechol\n",
      "5,6-Dihydroxyindole\n",
      "3-Deoxy-D-manno-octulosonate 8-phosphate\n",
      "UDP-2,3-bis(3-hydroxytetradecanoyl)glucosamine\n",
      "Glycerophosphoglycerol\n",
      "L-Aspartate 4-semialdehyde\n",
      "3-Oxo-4-methylpentanoic acid\n",
      "Geranyl diphosphate\n",
      "Methylmalonate\n",
      "S-Ribosyl-L-homocysteine\n",
      "4-Ethylphenol\n",
      "cis-hexadec-9-enoyl-[acyl-carrier protein]\n",
      "2-Octaprenyl-3-methyl-5-hydroxy-6-methoxy-1,4-benzoquinone\n",
      "S-Glutaryldihydrolipoamide\n",
      "2-Octaprenyl-6-methoxyphenol\n",
      "(2E)-5-Methylhexa-2,4-dienoyl-CoA\n",
      "S-Formylglutathione\n",
      "1-Acyl-sn-glycerol 3-phosphate\n",
      "Ethanolamine phosphate\n",
      "D-Mannose 1-phosphate\n",
      "Thiamin monophosphate\n",
      "Pyridoxamine 5'-phosphate\n",
      "Phosphate\n",
      "4-(Trimethylammonio)but-2-enoate\n",
      "Indole-3-acetaldehyde\n",
      "Phenol\n",
      "Phenol\n",
      "2,3,5-Trichloro-cis,cis-muconate\n",
      "Cyclohexane-1-carboxyl-CoA\n",
      "3-Chloro-cis,cis-muconate\n",
      "Phosphate\n",
      "(R)-2,3-Dihydroxy-3-methylpentanoate\n",
      "Thiosulfate\n",
      "N-Acetyl-D-mannosamine 6-phosphate\n",
      "N-Acetyl-D-glucosamine 6-phosphate\n",
      "heptadecenoyl-ACP (C17:1 ACP)\n",
      "Thiosulfate\n",
      "L-1-Pyrroline-3-hydroxy-5-carboxylate\n",
      "Dihydrobiopterin\n",
      "alpha-Aminopropiononitrile\n",
      "2-Hexaprenyl-3-methyl-5-hydroxy-6-methoxy-1,4-benzoquinone\n",
      "2,3-Dihydroxytoluene\n",
      "Uroporphyrinogen III\n",
      "5-Carboxy-2-oxohept-3-enedioate\n",
      "2-Chloro-4-hydroxy-6-amino-1,3,5-triazine\n",
      "all-trans-Hexaprenyl diphosphate\n",
      "Uroporphyrinogen I\n",
      "CDP-ethanolamine\n",
      "tRNA(Thr)\n",
      "2-Ketocyclohexane-1-carboxyl-CoA\n",
      "Coproporphyrinogen I\n",
      "Sedoheptulose 7-phosphate\n",
      "Phenylacetonitrile\n",
      "Undecaprenyl-diphospho-N-acetylmuramoyl-(N-acetylglucosamine)-L-alanyl-D-glutaminyl-meso-2,6-diaminopimeloyl-D-alanyl-D-alanine\n",
      "4-Methylcatechol\n",
      "carbohydrate\n",
      "Phosphatidate\n",
      "Galactitol 1-phosphate\n",
      "S-(2-Methylpropionyl)-dihydrolipoamide-E\n",
      "Naphthyl-2-methyl-succinyl-CoA\n",
      "2-Hydroxycyclohexane-1-carboxyl-CoA\n",
      "D-Fructose 1,6-bisphosphate\n",
      "alpha-D-Ribose 5-phosphate\n",
      "5-Methylcytosine\n",
      "Dihydroneopterin\n",
      "1,2-Dihydroxynaphthalene-6-sulfonate\n",
      "4-Carboxy-2-hydroxyhexa-2,4-dienedioate\n",
      "all-trans-Octaprenyl diphosphate\n",
      "D-Glucosamine 6-phosphate\n",
      "4-Fluorocyclohexadiene-cis,cis-1,2-diol\n",
      "Chloride\n",
      "m-Methylbenzoate\n",
      "Chloride\n",
      "Gentisate aldehyde\n",
      "Selenocystathionine\n",
      "2-Octaprenyl-3-methyl-6-methoxy-1,4-benzoquinone\n",
      "L-Dopachrome\n",
      "3-Chloro-2-hydroxymuconic semialdehyde\n",
      "L-Threonyl-tRNA(Thr)\n",
      "2-Methylnaphthalene\n",
      "3-Methylcrotonyl-CoA\n",
      "Prephenate\n",
      "(S)-5-Oxo-2,5-dihydrofuran-2-acetate\n",
      "Poly-beta-hydroxybutyrate\n",
      "Poly-beta-hydroxybutyrate\n",
      "Maltohexaose\n",
      "(S)-5-Oxo-2,5-dihydrofuran-2-acetate\n",
      "Maltohexaose\n",
      "beta-Aminopropion aldehyde\n",
      "Aminoacetaldehyde\n",
      "3-Carboxy-2-hydroxy-4-methylpentanoate\n",
      "Undecaprenyl diphosphate\n",
      "2-C-methyl-D-erythritol 4-phosphate\n",
      "cis-4-Carboxymethylenebut-2-en-4-olide\n",
      "cis-3-Chloroacrylic acid\n",
      "L-Methionine\n",
      "Phenylacetylglycine\n",
      "(S)-3-Methyl-2-oxopentanoate\n",
      "(S)-Methylmalonyl-CoA\n",
      "L-Methionine\n",
      "1,2-Dihydroxyfluorene\n",
      "4-Hydroxy-2-oxohexanoic acid\n",
      "S-Adenosyl-L-methionine\n",
      "5-Fluorocyclohexadiene-cis,cis-1,2-diol-1-carboxylate\n",
      "Carbamoyl phosphate\n",
      "Fluoroacetaldehyde\n",
      "Formylanthranilate\n",
      "2-Hydroxy-4-hydroxymethylbenzalpyruvate\n",
      "5-Methylhex-4-enoyl-CoA\n",
      "N1-(5-Phospho-alpha-D-ribosyl)-5,6-dimethylbenzimidazole\n",
      "5-[(5-Phospho-1-deoxyribulos-1-ylamino)methylideneamino]-1-(5-phosphoribosyl)imidazole-4-carboxamide\n",
      "2,3,2'3'-Tetrakis(3-hydroxytetradecanoyl)-D-glucosaminyl-1,6-beta-D-glucosamine 1,4'-bisphosphate\n",
      "2-Hydroxy-6-oxo-6-(2-hydroxyphenyl)-hexa-2,4-dienoate\n",
      "3-Chlorocatechol\n",
      "5-(2-Hydroxyethyl)-4-methylthiazole\n",
      "3-Vinylcatechol\n",
      "4-(Cytidine 5'-diphospho)-2-C-methyl-Derythritol\n",
      "Naphthyl-2-oxomethyl-succinyl-CoA\n",
      "S-Adenosyl-L-homocysteine\n",
      "2-Dehydropantoate\n",
      "6-Hydroxycyclohex-1-enecarbonyl-CoA\n",
      "3-Hydroxy-2-naphthoate\n",
      "D-4'-Phosphopantothenate\n",
      "Acetaldehyde\n",
      "L-Ascorbate 6-phosphate\n",
      "Acetaldehyde\n",
      "Trehalose\n",
      "N6-(1,2-Dicarboxyethyl)-AMP\n",
      "cis-3-Chloro-2-propene-1-ol\n",
      "Selenomethionine\n",
      "Trehalose\n",
      "2-Dehydro-3-deoxy-6-phospho-D-gluconate\n",
      "2,5-Dihydroxybenzoate\n",
      "2,5-Dihydroxybenzoate\n",
      "Bis(4'-chlorophenyl)methane\n",
      "N-Acetyl-D-glucosamine 1-phosphate\n",
      "2,4,6-Trichlorophenol\n",
      "6-Fluorocyclohexadiene-cis,cis-1,2-diol-1-carboxylate\n",
      "phospholipid\n",
      "3-Methoxy-4-hydroxyphenylacetaldehyde\n",
      "2-Deoxy-D-ribose 1-phosphate\n",
      "6-Pyruvoyltetrahydropterin\n",
      "D-Sorbitol 6-phosphate\n",
      "2-Dehydro-D-gluconate 6-phosphate\n",
      "Protoporphyrinogen IX\n",
      "4-Hydroxyphenylacetyl-CoA\n",
      "Sirohydrochlorin\n",
      "Phenanthrene-9,10-oxide\n",
      "2-Hydroxy-6-oxo-6-(2-hydroxyphenoxy)-hexa-2,4-dienoate\n",
      "(Z)-4-(2-Hydroxy-5-sulfonatophenyl)-2-oxo-3-butenoate\n",
      "P1,P4-Bis(5'-guanosyl) tetraphosphate\n",
      "(Z)-4-Hydroxyphenylacetaldehyde-oxime\n",
      "2,2-Bis(4-hydroxyphenyl)-1-propanol\n",
      "2-Phytyl-1,4-naphthoquinone\n",
      "GDP-4-dehydro-6-deoxy-D-mannose\n",
      "Anthracene-9,10-dihydrodiol\n",
      "L-4-Hydroxyglutamate semialdehyde\n",
      "Undecaprenyl-diphospho-N-acetylmuramoyl-(N-acetylglucosamine)-L-alanyl-D-glutamyl-meso-2,6-diaminopimeloyl-D-alanyl-D-alanine\n",
      "N-Succinyl-LL-2,6-diaminoheptanedioate\n",
      "N-Formyl-L-methionine\n",
      "3-Hydroxybenzyl alcohol\n",
      "5,10-Methenyltetrahydrofolate\n",
      "Phenanthracene\n",
      "Adenosine 3',5'-bisphosphate\n",
      "Phosphoenolpyruvate\n",
      "P1,P4-Bis(5'-xanthosyl) tetraphosphate\n",
      "1-(4'-Hydroxyphenyl)ethanol\n",
      "Isopentenyl diphosphate\n",
      "D-Glucose 6-phosphate\n",
      "N-Acetyl-L-glutamate 5-semialdehyde\n",
      "5-Phosphoribosylamine\n",
      "6-Hydroxyhexanoic acid\n",
      "L-Tryptophanyl-tRNA(Trp)\n",
      "trans-3-Chloroacrylic acid\n",
      "D-erythro-3-Methylmalate\n",
      "3-Methyl-2-oxobutanoate\n",
      "D-Glucose 6-phosphate\n",
      "2-Hydroxy-6-oxo-6-(4'-chlorophenyl)-hexa-2,4-dienoate\n",
      "6,7-Dimethyl-8-(1-D-ribityl)lumazine\n",
      "L-Glutamate 5-semialdehyde\n",
      "L-Phenylalanyl-tRNA(Phe)\n",
      "Phenylpropanoate\n",
      "2,3-Dihydroxy 1,1,1-Trichloro-2,2-bis(4'-chlorophenyl)ethane\n",
      "Phenylpropanoate\n",
      "3-Hydroxyphenylacetate\n",
      "2-Methyl-4-amino-5-hydroxymethylpyrimidine diphosphate\n",
      "2-Oxo-5-methyl-cis-muconate\n",
      "(+)-cis-3,4-Dihydrophenanthrene-3,4-diol\n",
      "Thioredoxin disulfide\n",
      "S-Acetyldihydrolipoamide-E\n",
      "UDP-3-O-(3-hydroxytetradecanoyl)-N-acetylglucosamine\n",
      "4-amino-4-deoxychorismate\n",
      "Adenosyl cobyrinate hexaamide\n",
      "hcl\n",
      "D-Tagatose 6-phosphate\n",
      "Reduced glutathione\n",
      "dTDP-4-dehydro-6-deoxy-L-mannose\n",
      "3'-Phosphoadenylyl sulfate\n",
      "2,5-Dichloro-4-oxohex-2-enedioate\n",
      "3-Methoxytyramine\n",
      "2-Naphthaldehyde\n",
      "2-Chloro-3-oxoadipate\n",
      "5,6,7,8-Tetrahydrofolate\n",
      "dTDP-L-rhamnose\n",
      "4-Hydroxy-L-threonine\n",
      "3-Carboxy-4-methyl-2-oxopentanoate\n",
      "1,1-Dichloro-2-(dihydroxy-4'-chlorophenyl)-2-(4'-chlorophenyl)ethylene\n",
      "3-Chloroallyl aldehyde\n",
      "D-Ribose 1,5-bisphosphate\n",
      "2-Hydroxyisophthalic acid\n",
      "Glycerol 3-phosphate\n",
      "Glycerol 3-phosphate\n",
      "ADP-L-glycero-D-manno-heptose\n",
      "P1,P4-Bis(5'-adenosyl) tetraphosphate\n",
      "4-Hydroxymethylsalicylate\n",
      "1-(5-Phosphoribosyl)-5-[(5-phosphoribosylamino)methylideneamino]imidazole-4-carboxamide\n",
      "10-Formyltetrahydrofolate\n",
      "4-Hydroxymethylcatechol\n",
      "1-Hydroxy-2-naphthoate\n",
      "LL-2,6-Diaminoheptanedioate\n",
      "L-Ornithine\n",
      "N-Methylhistamine\n",
      "3,4-Dihydroxyphenylacetate\n",
      "L-Ornithine\n",
      "2-Methylcitrate\n",
      "all-trans-Heptaprenyl diphosphate\n",
      "Guanosine 3'-diphosphate 5'-triphosphate\n",
      "dihydrosirohydrochlorin\n",
      "Sorbose 1-phosphate\n",
      "L-Lactaldehyde\n",
      "4-Amino-5-hydroxymethyl-2-methylpyrimidine\n",
      "Succinate semialdehyde-thiamin diphosphate anion\n",
      "3-(3-Hydroxy-phenyl)-propanoic acid\n",
      "3-(3-Hydroxy-phenyl)-propanoic acid\n",
      "2-(Formamido)-N1-(5-phospho-D-ribosyl) acetamidine\n",
      "3-Hydroxy-5-oxohexanoyl-CoA\n",
      "L-Threonine\n",
      "L-Threonine\n",
      "N2-Acetyl-L-ornithine\n",
      "Propanoyl phosphate\n",
      "(R)-2-Methylmalate\n",
      "5-Methyltetrahydrofolate\n",
      "Glycolaldehyde\n",
      "7-Methyl-3-oxo-6-octenoyl-CoA\n",
      "2,3-Bis(3-hydroxytetradecanoyl)-beta-D-glucosaminyl 1-phosphate\n",
      "(+)-(3S,4R)-cis-3,4-Dihydroxy-3,4-dihydrofluorene\n",
      "D-1-Aminopropan-2-ol O-phosphate\n",
      "Dihydrolipoylprotein\n",
      "5,10-Methylenetetrahydrofolate\n",
      "2-Naphthoyl-CoA\n",
      "4-Hydroxymethylsalicylaldehyde\n",
      "D-Lactaldehyde\n",
      "2-Hydroxy-5-methyl-cis,cis-muconic semialdehyde\n",
      "2,3,2',3'-Tetrakis(3-hydroxytetradecanoyl)-D-glucosaminyl-1,6-beta-D-glucosamine 1-phosphate\n",
      "4-Methylthio-2-oxobutanoate\n",
      "L-Metanephrine\n",
      "Thioredoxin\n",
      "L-Normetanephrine\n",
      "2-Methylpropanoyl-CoA\n",
      "4-Phospho-L-aspartate\n",
      "2-Hydroxy-4-(1-oxo-1,3-dihydro-2Hinden-2-ylidene)-but-2-enoic acid\n",
      "alpha-Oxo-benzeneacetic acid\n",
      "N-((R)-Pantothenoyl)-L-cysteine\n",
      "Dihydroneopterin phosphate\n",
      "(S)-3-Hydroxy-2-methylbutyryl-CoA\n",
      "L-Glutamate 5-phosphate\n",
      "L-erythro-4-Hydroxyglutamate\n",
      "3-Phospho-D-glycerate\n",
      "3-Phospho-D-glycerate\n",
      "3-Methyl-cis,cis-hexadienedioate\n",
      "2-Hydroxy-4-(2-oxo-1,3-dihydro-2Hinden-1-ylidene)but-2-enoic acid\n",
      "4-Chlorobenzoate\n",
      "Thymine\n",
      "alpha-D-Ribose 1-phosphate\n",
      "1-(2-Carboxyphenylamino)-1'-deoxy-D-ribulose 5'-phosphate\n",
      "Benzoyl phosphate\n",
      "2,6-Dichlorophenol\n",
      "5-Carboxymethyl-2-hydroxymuconate\n",
      "1-Phenanthrol\n",
      "(R)-2,3-Dihydroxy-3-methylbutanoate\n",
      "3-(2-Aminoethyl)-1H-indol-5-ol\n",
      "2-Dehydro-3-deoxy-D-arabino-heptonate 7-phosphate\n",
      "2-Methylmaleate\n",
      "ph\n",
      "1,2-Bis(4-hydroxyphenyl)-2-propanol\n",
      "alpha-Oxo-benzeneacetic acid\n",
      "D-Arabinose 5-phosphate\n",
      "Glycerone phosphate\n",
      "2-Aminomuconate semialdehyde\n",
      "Malonate semialdehyde\n",
      "1-deoxy-D-xylulose 5-phosphate\n",
      "Coproporphyrinogen III\n",
      "2,5-Diamino-6-(5'-phosphoribosylamino)-4-pyrimidineone\n",
      "D-Mannitol 1-phosphate\n",
      "4-Methylmuconolactone\n",
      "Succinic semialdehyde\n",
      "2-Methylacetoacetyl-CoA\n",
      "2,3-Bis(4-hydroxyphenyl)-1,2-propanediol\n",
      "2-Hexaprenyl-3-methyl-6-methoxy-1,4-benzoquinone\n",
      "1-(5-Phospho-D-ribosyl)-5-amino-4-imidazolecarboxylate\n",
      "5,6-Dihydrouracil\n",
      "4-Hydroxybenzaldehyde\n",
      "S-(Hydroxymethyl)glutathione\n",
      "1-(5'-Phosphoribosyl)-5-amino-4-(N-succinocarboxamide)-imidazole\n",
      "5-(3'-Carboxy-3'-oxopropyl)-4,6-dihydroxypicolinate\n",
      "Ethanolamine\n",
      "4,8-Dihydroxyquinoline\n",
      "4-Hydroxyphenylacetate\n",
      "4-Hydroxyphenylacetate\n",
      "6-Oxo-2-hydroxy-7-(4'-chlorophenyl)-3,8,8-trichloroocta-2E,4E,7E-trienoate\n",
      "Se-Adenosylselenohomocysteine\n",
      "2-Amino-4-hydroxy-6-(erythro-1,2,3-trihydroxypropyl)dihydropteridine triphosphate\n",
      "2-Hydroxy-6-oxo-6-phenylhexa-2,4-dienoate\n",
      "Phenylacetic acid\n",
      "Phenylacetic acid\n",
      "chorismate\n",
      "L-Fucose 1-phosphate\n",
      "(R)-S-Lactoylglutathione\n",
      "L-Fucose 1-phosphate\n",
      "O-Phospho-4-hydroxy-L-threonine\n",
      "1-Oxa-2-oxo-3-hydroxycycloheptane\n",
      "N-Acetyl-L-glutamyl 5-phosphate\n",
      "4-Chlorocatechol\n",
      "N-[(R)-4'-Phosphopantothenoyl]-L-cysteine\n",
      "Anthranilate\n",
      "Anthranilate\n",
      "N-Formylmethionyl-tRNA\n",
      "Phylloquinone\n",
      "Tetrahydropteroyltri-L-glutamate\n",
      "Phenylboronic acid\n",
      "Inositol 1-phosphate\n",
      "D-Glycero-D-manno-heptose 1-phosphate\n",
      "3-Phosphohydroxypyruvate\n",
      "2-Phenylacetamide\n",
      "D-Mannose 6-phosphate\n",
      "L-Histidinol phosphate\n",
      "4-Fluoro-L-threonine\n",
      "D-Mannose 6-phosphate\n",
      "4-Fluoro-L-threonine\n",
      "4'-Hydroxyacetophenone\n",
      "2-Hydroxy-5-methyl-cis,cis-muconate\n",
      "O-Succinyl-L-homoserine\n",
      "D-Ribulose 5-phosphate\n",
      "Diphosphate\n",
      "5-Hydroxyindoleacetaldehyde\n",
      "3-Methoxy-4-hydroxyphenylglycolaldehyde\n",
      "Celloheptaose\n",
      "Naphthyl-2-hydroxymethyl-succinyl CoA\n",
      "(S)-2-Methylbutanoyl-CoA\n",
      "2,5-Dichloro-carboxymethylenebut-2-en-4-olide\n",
      "(2-Naphthyl)methanol\n",
      "4-Methyl-2-oxopentanoate\n",
      "6-Chlorohydroxyquinol\n",
      "Reduced thioredoxin\n",
      "6-Chlorohydroxyquinol\n",
      "S-Adenosylmethioninamine\n",
      "2-Amino-7,8-dihydro-4-hydroxy-6-(diphosphooxymethyl)pteridine\n",
      "1-Naphthaldehyde\n",
      "Xanthosine 5'-phosphate\n",
      "Methylamine\n",
      "4-(3-Hydroxy-2-naphthyl)-2-oxobut-3-enoic acid\n",
      "5-Dehydro-4-deoxy-D-glucarate\n",
      "Ethylamine\n",
      "3-(4-Hydroxyphenyl)pyruvate\n",
      "2-Oxohept-3-enedioate\n",
      "Phenylpyruvate\n",
      "3-Hydroxybenzaldehyde\n",
      "p-Tolualdehyde\n",
      "3,4-dihydroxy-2-butanone 4-phosphate\n",
      "3-Amino-2-oxopropyl phosphate\n",
      "alpha-Amino-gamma-cyanobutanoate\n",
      "6-Carboxyhexanoate\n",
      "2-Amino-4-hydroxy-6-hydroxymethyl-7,8-dihydropteridine\n",
      "N,N-Dimethylglycine\n",
      "O-Acetyl-L-homoserine\n",
      "(S)-3-Hydroxy-3-methylglutaryl-CoA\n",
      "trans-4-Carboxymethylenebut-2-en-4-olide\n",
      "Biphenyl-2,3-diol\n",
      "Biphenyl-2,3-diol\n",
      "(R)-Pantothenate\n",
      "2-C-methyl-D-erythritol 2,4-cyclodiphosphate\n",
      "(R)-Pantothenate\n",
      "4-Phospho-D-erythronate\n",
      "Bisphenol A\n",
      "dTDP-4-dehydro-6-deoxy-alpha-D-glucose\n",
      "Nicotinamide adenine dinucleotide phosphate\n",
      "2-Octaprenyl-6-methoxy-1,4-benzoquinol\n",
      "Oxidized thioredoxin\n",
      "4-Methyl-5-(2-phosphoethyl)-thiazole\n",
      "Orotidine 5'-phosphate\n",
      "D-Glycero-D-manno-heptose 7-phosphate\n",
      "Pantetheine 4'-phosphate\n",
      "Selenomethionyl-tRNA(Met)\n",
      "S-Aminomethyldihydrolipoylprotein\n",
      "3-(2,3-Dihydroxyphenyl)propanoate\n",
      "(S)-Dihydroorotate\n",
      "2-phospho-4-(cytidine 5'-diphospho)-2-C-methyl-D-erythritol\n",
      "2-Oxo-3-hydroxy-4-phosphobutanoate\n",
      "3-Methylbutanoyl-CoA\n",
      "3-Fluorocyclohexadiene-cis,cis-1,2-diol-1-carboxylate\n",
      "2-Hydroxymuconate semialdehyde\n",
      "2,3-Dihydroxy-4'-chlorobiphenyl\n",
      "ADP-D-glycero-D-manno-heptose\n",
      "4-Fluorocatechol\n",
      "3-Methylsalicylaldehyde\n",
      "6-Oxo-2-hydroxy-7-(4'-chlorophenyl)-3,8,8,8-tetrachloroocta-2E,4E-dienoate\n",
      "2-Acyl-sn-glycero-3-phosphoethanolamine\n",
      "3,4-Dihydroxyphenylacetaldehyde\n",
      "Dihydrolipoamide-E\n",
      "6-phospho-D-glucono-1,5-lactone\n",
      "Chloroacetaldehyde\n",
      "5'-Phosphoribosylglycinamide\n",
      "3-Methylsalicylate\n",
      "Meso-2,6-Diaminoheptanedioate\n",
      "3-Hydroxy-5-methylhex-4-enoyl-CoA\n",
      "Meso-2,6-Diaminoheptanedioate\n",
      "Bis(4'-chlorophenyl)acetate\n",
      "2-Dehydro-3-deoxy-D-gluconate\n",
      "2-Dehydro-3-deoxy-D-gluconate\n",
      "L-Tryptophan\n",
      "D-Glucose 1-phosphate\n",
      "L-Tryptophan\n",
      "UDP-3-O-(3-hydroxytetradecanoyl)-D-glucosamine\n",
      "4-Carboxy-4-hydroxy-2-oxoadipate\n",
      "2-Aminoacrylate Dehydroalanine\n",
      "cis-2,3-Dihydrodiol 1,1,1-Trichloro-2,2-bis(4'-chlorophenyl)ethane cis-2,3-Dihydrodiol\n",
      "Oxidized glutathione\n",
      "Naphthyl-2-methylene-succinyl-CoA\n",
      "2-Phosphoglycolate\n",
      "2-Hydroxyphenylacetate\n",
      "Choline\n",
      "Choline\n",
      "Xanthine\n",
      "3,4-Dihydroxybenzoate\n",
      "Anthracene\n",
      "D-Phenylalanine\n",
      "Nicotinamide adenine dinucleotide phosphate -reduced\n",
      "6-Carboxyhex-2-enoyl-CoA\n",
      "Xanthine\n",
      "Undecaprenyl-diphospho-N-acetylmuramoyl-L-alanyl-D-glutamylmeso-2,6-diaminopimeloyl-D-alanyl-D-alanine\n",
      "Methylglyoxal\n",
      "3,4-Dihydroxybenzoate\n",
      "(R)-Methylmalonyl-CoA\n",
      "2-Acyl-sn-glycero-3-phosphoserine\n",
      "S-(3-Methylbutanoyl)-dihydrolipoamide-E\n",
      "(S)-Methylmalonate semialdehyde\n",
      "2-Carboxy-2,3-dihydro-5,6-dihydroxyindole\n",
      "D-Glyceraldehyde\n",
      "D-Glyceraldehyde\n",
      "2,3-Dihydrodipicolinate\n",
      "Farnesyl diphosphate\n",
      "O-Phospho-L-homoserine\n",
      "2,6-Dihydroxycyclohexane-1-carboxyl-CoA\n",
      "4-Hydroxyphenylacetaldehyde\n",
      "3-Hydroxyanthranilate\n",
      "sn-Glycero-3-phosphocholine\n",
      "2-Hydroxyethylenedicarboxylate\n",
      "Phenanthrene-1,2-oxide\n",
      "cis-3-Chloroallyl aldehyde\n",
      "Pyridoxine 5'-phosphate\n",
      "(S)-2-Aceto-2-hydroxybutanoate\n",
      "2-Chloro-cis,cis-muconate\n",
      "Ethanol\n",
      "3,4-Dihydroxyfluorene\n",
      "2-Chloromaleylacetate\n",
      "2-Hydroxy-6-keto-2,4-heptadienoate\n",
      "Ethanol\n",
      "C1-(3-Indolyl)-glycerol 3-phosphate\n",
      "Selenohomocysteine\n",
      "2-Octaprenyl-6-hydroxyphenol\n",
      "2-Oxo-2,3-dihydrofuran-5-acetate\n",
      "cis-2-Methylaconitate\n",
      "4-Hydroxyphenylglyoxylate\n",
      "heptadecanoyl-ACP (C17:0 ACP)\n",
      "3-Carboxy-3-hydroxy-4-methylpentanoate\n",
      "3'-Phosphoadenylylselenate\n",
      "N-Succinyl-2-L-amino-6-oxoheptanedioate\n",
      "3-Dehydroshikimate\n",
      "3-(Imidazol-4-yl)-2-oxopropyl phosphate\n",
      "Shikimate 5-phosphate\n",
      "3-[6-(Carboxymethylene)cyclohexa-2,4-dien-1-ylidene]-2-oxopropanate\n",
      "5-(3'-Carboxy-3'-oxopropenyl)-4,6-dihydroxypicolinate\n",
      "2-Methylbenzaldehyde\n",
      "Benzaldehyde\n",
      "Benzaldehyde\n",
      "Chloroacetic acid\n",
      "Cyclohexane-1-carboxylate\n",
      "Dihydrolipoamide\n",
      "3-Sulfocatechol\n",
      "3-Dehydroquinate\n",
      "D-Fructose 6-phosphate\n",
      "Protoheme\n",
      "Tetrahydrobiopterin\n",
      "2-Octaprenylphenol\n",
      "Undecaprenyl-diphospho-N-acetylmuramoyl-(N-acetylglucosamine)-L-alanyl-D-glutaminyl-meso-2,6-diaminopimeloyl-(glycyl)5-D-alanyl-D-alanine\n",
      "Pyridoxal 5'-phosphate\n",
      "L-Allo-threonine\n",
      "5,6-Dimethylbenzimidazole\n",
      "Xanthosine\n",
      "trans-3-Chloro-2-propene-1-ol\n",
      "alpha,alpha'-Trehalose 6-phosphate\n",
      "2,4-Dihydroxyhept-2-enedioate\n",
      "Dethiobiotin\n",
      "Pantetheine\n",
      "2-Amino-3-oxo-4-phosphonooxybutyrate\n",
      "Hypoxanthine\n",
      "3-Methylbenzaldehyde\n",
      "Hypoxanthine\n",
      "Undecaprenyl phosphate\n",
      "3-(2-Carboxyvinyl)naphthalene-2-carboxylic acid\n",
      "Guanosine 3',5'-bis(diphosphate)\n",
      "Phosphatidylglycerophosphate\n",
      "N2-Formyl-N1-(5-phospho-D-ribosyl) glycinamide\n",
      "Parathion\n",
      "N-Cyclohexylformamide\n",
      "4-Hydroxyphenylacetylglycine\n",
      "Pseudouridine 5'-phosphate\n",
      "Xanthosine\n",
      "2-Acyl-sn-glycero-3-phosphocholine\n",
      "4-Fluorocyclohexadiene-cis,cis-1,2-diol-1-carboxylate\n",
      "Ribulose-1,5-bisphosphate\n",
      "4-Hydroxy-benzyl alcohol\n"
=======
      "____________________________\n",
      "Check NADP+\n",
      "nadp_c\n",
      "____________________________\n",
      "Check D-glyceraldehyde\n",
      "____________________________\n",
      "Check NADPH\n",
      "nadph_c\n",
      "____________________________\n",
      "Check H+\n"
>>>>>>> a701b44c3673c09f4046d48c85c9baed9820c6b0
     ]
    }
   ],
   "source": [
<<<<<<< HEAD
    "############### ADDING NEW REACTIONS FOR Glycerolipid metabolism\n",
    "################################################################\n",
    "### glycerol + NADP+ = D-glyceraldehyde + NADPH + H+ [RN:R01041]\n",
    "\n",
    "### Check for glycerol\n",
    "print(\"###### check glycerol\")\n",
    "for metabolite in model.metabolites.query('glycerol', 'name'):\n",
    "    print(metabolite.name)\n",
    "### No direct glycerol pathway so far\n",
    "#Add glycerol\n",
    "model.add_metabolites([Metabolite(\"glycerol_e\", name=\"Glycerol\", compartment = \"e\")])\n",
    "#glycerol_e = Metabolite(id='glycerol_e', compartment='e')\n",
    "\n",
    "\n",
    "### Check for NADP+\n",
    "print(\"###### check NADP+\")\n",
    "for metabolite in model.metabolites.query('nadp', 'name'):\n",
    "    print(metabolite.name)\n",
    "### No NADP+\n",
    "### Found in model\n",
    "print(model.metabolites.nadp_c)\n",
    "\n",
    "### Check for D-glyceraldehyde\n",
    "print(\"###### check D-glyceraldehyde\")\n",
    "for metabolite in model.metabolites.query('d-glyceraldehyde', 'name'):\n",
    "    print(metabolite.name)\n",
    "### No D-glyceraldehyde \n",
    "#add D-glyceraldehyde\n",
    "glyceraldehyde_c = Metabolite(id='glyceraldehyde_c', compartment='c')\n",
    "\n",
    "### Check for NADPH\n",
    "print(\"###### check NADPH\")\n",
    "for metabolite in model.metabolites.query('nadph', 'name'):\n",
    "    print(metabolite.name)\n",
    "### NADPH not found\n",
    "### NADPH found in model\n",
    "print(model.metabolites.nadph_c)\n",
    "\n",
    "### Check for  H+\n",
    "print(\"###### check H+\")\n",
    "for metabolite in model.metabolites.query('h', 'name'):\n",
    "    print(metabolite.name)\n",
    "### H+ found\n"
=======
    "print(\"Check glycerol\")\n",
    "for metabolite in model.metabolites.query('glycerol', 'name'):\n",
    "    print(metabolite.name)\n",
    "model.add_metabolites([Metabolite(\"glycerol_c\", formula='C3H8O3', name=\"glycerol_c\", compartment = \"c\")])\n",
    "print(\"____________________________\")\n",
    "\n",
    "print(\"Check NADP+\")\n",
    "for metabolite in model.metabolites.query('nadp', 'name'):\n",
    "    print(metabolite.name)\n",
    "print(model.metabolites.nadp_c)\n",
    "print(\"____________________________\")\n",
    "\n",
    "### Check for D-glyceraldehyde\n",
    "print(\"Check D-glyceraldehyde\")\n",
    "for metabolite in model.metabolites.query('d-glyceraldehyde', 'name'):\n",
    "    print(metabolite.name)\n",
    "model.add_metabolites([Metabolite(\"glyceraldehyde_c\", formula='C3H6O3', name=\"glyceraldehyde_c\", compartment = \"c\")])\n",
    "print(\"____________________________\")\n",
    "\n",
    "### Check for NADPH\n",
    "print(\"Check NADPH\")\n",
    "for metabolite in model.metabolites.query('nadph', 'name'):\n",
    "    print(metabolite.name)\n",
    "print(model.metabolites.nadph_c)\n",
    "print(\"____________________________\")\n",
    "\n",
    "### Check for  H+\n",
    "print(\"Check H+\")\n",
    "for metabolite in model.metabolites.query('h_c', 'name'):\n",
    "    print(metabolite.name)\n",
    "\n"
   ]
  },
  {
   "cell_type": "markdown",
   "id": "1dd1a141-5d12-472d-8331-f654d2828c07",
   "metadata": {},
   "source": [
    "Add reaction glycerol dehydrogenase: Glycerol + NADP+ = D-glyceraldehyde + NADPH + H+"
>>>>>>> a701b44c3673c09f4046d48c85c9baed9820c6b0
   ]
  },
  {
   "cell_type": "code",
<<<<<<< HEAD
   "execution_count": 76,
=======
   "execution_count": 8,
>>>>>>> a701b44c3673c09f4046d48c85c9baed9820c6b0
   "id": "4b4f0482",
   "metadata": {},
   "outputs": [
    {
<<<<<<< HEAD
     "ename": "NameError",
     "evalue": "name 'Glycerol' is not defined",
     "output_type": "error",
     "traceback": [
      "\u001b[0;31m---------------------------------------------------------------------------\u001b[0m",
      "\u001b[0;31mNameError\u001b[0m                                 Traceback (most recent call last)",
      "\u001b[0;32m<ipython-input-76-84ca76c0dbc8>\u001b[0m in \u001b[0;36m<module>\u001b[0;34m\u001b[0m\n\u001b[1;32m      2\u001b[0m \u001b[0;31m## Reaction: glycerol + NADP+ = D-glyceraldehyde + NADPH + H+ [RN:R01041]\u001b[0m\u001b[0;34m\u001b[0m\u001b[0;34m\u001b[0m\u001b[0;34m\u001b[0m\u001b[0m\n\u001b[1;32m      3\u001b[0m \u001b[0mGlycerol_dehydrogenase\u001b[0m \u001b[0;34m=\u001b[0m \u001b[0mReaction\u001b[0m\u001b[0;34m(\u001b[0m\u001b[0;34m'1.1.1.72'\u001b[0m\u001b[0;34m)\u001b[0m\u001b[0;34m\u001b[0m\u001b[0;34m\u001b[0m\u001b[0m\n\u001b[0;32m----> 4\u001b[0;31m Glycerol_dehydrogenase.add_metabolites({Glycerol: -1,\n\u001b[0m\u001b[1;32m      5\u001b[0m                             \u001b[0mmodel\u001b[0m\u001b[0;34m.\u001b[0m\u001b[0mmetabolites\u001b[0m\u001b[0;34m.\u001b[0m\u001b[0mnadp_c\u001b[0m\u001b[0;34m:\u001b[0m \u001b[0;34m-\u001b[0m\u001b[0;36m1\u001b[0m\u001b[0;34m,\u001b[0m\u001b[0;34m\u001b[0m\u001b[0;34m\u001b[0m\u001b[0m\n\u001b[1;32m      6\u001b[0m                             \u001b[0mglyceraldehyde_c\u001b[0m\u001b[0;34m:\u001b[0m \u001b[0;36m1\u001b[0m\u001b[0;34m,\u001b[0m\u001b[0;34m\u001b[0m\u001b[0;34m\u001b[0m\u001b[0m\n",
      "\u001b[0;31mNameError\u001b[0m: name 'Glycerol' is not defined"
     ]
    }
   ],
   "source": [
    "## Add reaction glycerol dehydrogenase \n",
    "## Reaction: glycerol + NADP+ = D-glyceraldehyde + NADPH + H+ [RN:R01041]\n",
    "Glycerol_dehydrogenase = Reaction('1.1.1.72') \n",
    "Glycerol_dehydrogenase.add_metabolites({Glycerol: -1,\n",
    "                            model.metabolites.nadp_c: -1,\n",
    "                            glyceraldehyde_c: 1,\n",
=======
     "name": "stdout",
     "output_type": "stream",
     "text": [
      "glycerol_c + nadp_c --> glyceraldehyde_c + h_c + nadph_c\n"
     ]
    },
    {
     "data": {
      "text/html": [
       "\n",
       "        <table>\n",
       "            <tr>\n",
       "                <td><strong>Reaction identifier</strong></td><td>Gly_deh</td>\n",
       "            </tr><tr>\n",
       "                <td><strong>Name</strong></td><td></td>\n",
       "            </tr><tr>\n",
       "                <td><strong>Memory address</strong></td>\n",
       "                <td>0x07ff6111ba370</td>\n",
       "            </tr><tr>\n",
       "                <td><strong>Stoichiometry</strong></td>\n",
       "                <td>\n",
       "                    <p style='text-align:right'>glycerol_c + nadp_c --> glyceraldehyde_c + h_c + nadph_c</p>\n",
       "                    <p style='text-align:right'>glycerol_c + Nicotinamide adenine dinucleotide phosphate --> glyceraldehyde_c + H+ + Nicotinamide adenine dinucleotide phosphate -reduced</p>\n",
       "                </td>\n",
       "            </tr><tr>\n",
       "                <td><strong>GPR</strong></td><td></td>\n",
       "            </tr><tr>\n",
       "                <td><strong>Lower bound</strong></td><td>0.0</td>\n",
       "            </tr><tr>\n",
       "                <td><strong>Upper bound</strong></td><td>1000.0</td>\n",
       "            </tr>\n",
       "        </table>\n",
       "        "
      ],
      "text/plain": [
       "<Reaction Gly_deh at 0x7ff6111ba370>"
      ]
     },
     "execution_count": 8,
     "metadata": {},
     "output_type": "execute_result"
    }
   ],
   "source": [
    "Glycerol_dehydrogenase = Reaction('Gly_deh') \n",
    "Glycerol_dehydrogenase.add_metabolites({model.metabolites.glycerol_c: -1,\n",
    "                            model.metabolites.nadp_c: -1,\n",
    "                             model.metabolites.glyceraldehyde_c: 1,\n",
>>>>>>> a701b44c3673c09f4046d48c85c9baed9820c6b0
    "                          model.metabolites.nadph_c: 1,\n",
    "                            model.metabolites.h_c: 1, \n",
    "                              })\n",
    "print(Glycerol_dehydrogenase.build_reaction_string())\n",
<<<<<<< HEAD
    "\n"
=======
    "model.add_reactions([Glycerol_dehydrogenase])\n",
    "model.reactions.Gly_deh\n"
   ]
  },
  {
   "cell_type": "code",
   "execution_count": 9,
   "id": "e6303c43-52a9-4bb3-a029-c03589cf2d08",
   "metadata": {},
   "outputs": [
    {
     "data": {
      "text/html": [
       "\n",
       "        <table>\n",
       "            <tr>\n",
       "                <td><strong>Metabolite identifier</strong></td><td>glycerol_c</td>\n",
       "            </tr><tr>\n",
       "                <td><strong>Name</strong></td><td>glycerol_c</td>\n",
       "            </tr><tr>\n",
       "                <td><strong>Memory address</strong></td>\n",
       "                <td>0x07ff6111ba9a0</td>\n",
       "            </tr><tr>\n",
       "                <td><strong>Formula</strong></td><td>C3H8O3</td>\n",
       "            </tr><tr>\n",
       "                <td><strong>Compartment</strong></td><td>c</td>\n",
       "            </tr><tr>\n",
       "                <td><strong>In 1 reaction(s)</strong></td><td>\n",
       "                    Gly_deh</td>\n",
       "            </tr>\n",
       "        </table>"
      ],
      "text/plain": [
       "<Metabolite glycerol_c at 0x7ff6111ba9a0>"
      ]
     },
     "execution_count": 9,
     "metadata": {},
     "output_type": "execute_result"
    }
   ],
   "source": [
    "model.metabolites.glycerol_c"
   ]
  },
  {
   "cell_type": "markdown",
   "id": "56d47115-1e8c-49b2-8e31-183caf667798",
   "metadata": {},
   "source": [
    "### Add glycerol as an exchange reaction in to the model "
   ]
  },
  {
   "cell_type": "code",
   "execution_count": 10,
   "id": "624cdbcd-beea-4c9f-8b45-d5da2148cd4e",
   "metadata": {},
   "outputs": [],
   "source": [
    "model.add_metabolites([Metabolite(\"glycerol_e\", formula='C3H8O3', name=\"glycerol_e\", compartment = \"e\")])\n",
    "model.add_boundary(model.metabolites.get_by_id(\"glycerol_e\"), type=\"exchange\")\n",
    "Glycerol_import = Reaction(\"glyc_imp\")\n",
    "Glycerol_import.add_metabolites({model.metabolites.glycerol_e: -1, model.metabolites.glycerol_c: 1})\n",
    "model.add_reactions([Glycerol_import])"
>>>>>>> a701b44c3673c09f4046d48c85c9baed9820c6b0
   ]
  },
  {
   "cell_type": "code",
<<<<<<< HEAD
   "execution_count": 77,
=======
   "execution_count": 11,
   "id": "14ee6e6c-e472-4484-b492-4c272fac6e83",
   "metadata": {},
   "outputs": [],
   "source": [
    "Glycerol_import.lower_bound = - 3 "
   ]
  },
  {
   "cell_type": "code",
   "execution_count": 12,
   "id": "c46d7433-e9a8-4f3b-af74-201514927164",
   "metadata": {},
   "outputs": [
    {
     "data": {
      "text/html": [
       "\n",
       "        <table>\n",
       "            <tr>\n",
       "                <td><strong>Reaction identifier</strong></td><td>glyc_imp</td>\n",
       "            </tr><tr>\n",
       "                <td><strong>Name</strong></td><td></td>\n",
       "            </tr><tr>\n",
       "                <td><strong>Memory address</strong></td>\n",
       "                <td>0x07ff6111bae50</td>\n",
       "            </tr><tr>\n",
       "                <td><strong>Stoichiometry</strong></td>\n",
       "                <td>\n",
       "                    <p style='text-align:right'>glycerol_e <=> glycerol_c</p>\n",
       "                    <p style='text-align:right'>glycerol_e <=> glycerol_c</p>\n",
       "                </td>\n",
       "            </tr><tr>\n",
       "                <td><strong>GPR</strong></td><td></td>\n",
       "            </tr><tr>\n",
       "                <td><strong>Lower bound</strong></td><td>-3</td>\n",
       "            </tr><tr>\n",
       "                <td><strong>Upper bound</strong></td><td>1000.0</td>\n",
       "            </tr>\n",
       "        </table>\n",
       "        "
      ],
      "text/plain": [
       "<Reaction glyc_imp at 0x7ff6111bae50>"
      ]
     },
     "execution_count": 12,
     "metadata": {},
     "output_type": "execute_result"
    }
   ],
   "source": [
    "model.reactions.glyc_imp"
   ]
  },
  {
   "cell_type": "code",
   "execution_count": 14,
   "id": "6faab701-deaf-4f28-8f7b-6b29b136472c",
   "metadata": {},
   "outputs": [
    {
     "data": {
      "text/html": [
       "\n",
       "        <table>\n",
       "            <tr>\n",
       "                <td><strong>Reaction identifier</strong></td><td>EX_fru_e</td>\n",
       "            </tr><tr>\n",
       "                <td><strong>Name</strong></td><td>EX_fru_e</td>\n",
       "            </tr><tr>\n",
       "                <td><strong>Memory address</strong></td>\n",
       "                <td>0x07ff60e90ec10</td>\n",
       "            </tr><tr>\n",
       "                <td><strong>Stoichiometry</strong></td>\n",
       "                <td>\n",
       "                    <p style='text-align:right'>fru_e <=></p>\n",
       "                    <p style='text-align:right'>D-Fructose <=></p>\n",
       "                </td>\n",
       "            </tr><tr>\n",
       "                <td><strong>GPR</strong></td><td></td>\n",
       "            </tr><tr>\n",
       "                <td><strong>Lower bound</strong></td><td>-3.0</td>\n",
       "            </tr><tr>\n",
       "                <td><strong>Upper bound</strong></td><td>1000.0</td>\n",
       "            </tr>\n",
       "        </table>\n",
       "        "
      ],
      "text/plain": [
       "<Reaction EX_fru_e at 0x7ff60e90ec10>"
      ]
     },
     "execution_count": 14,
     "metadata": {},
     "output_type": "execute_result"
    }
   ],
   "source": [
    "model.summary()\n",
    "model.reactions.EX_fru_e"
   ]
  },
  {
   "cell_type": "markdown",
   "id": "0ab42d71-09ec-4946-9ff4-4fec25abc043",
   "metadata": {},
   "source": [
    "### Second reaction: Aldehyde dehydrogenase"
   ]
  },
  {
   "cell_type": "markdown",
   "id": "9bb58e04-efac-4da7-8ebb-e57b6e58a979",
   "metadata": {},
   "source": [
    "Check if the metabolites of this reaction already exist in the model. If not adding missing metabolites."
   ]
  },
  {
   "cell_type": "code",
   "execution_count": 13,
>>>>>>> a701b44c3673c09f4046d48c85c9baed9820c6b0
   "id": "efbf981b-9124-4e7d-98bd-adc17c8a6c27",
   "metadata": {
    "tags": []
   },
   "outputs": [
    {
     "name": "stdout",
     "output_type": "stream",
     "text": [
<<<<<<< HEAD
      "###### check aldehyde\n",
=======
      "Check aldehyde\n",
>>>>>>> a701b44c3673c09f4046d48c85c9baed9820c6b0
      "5-Chloro-2-hydroxymuconic semialdehyde\n",
      "3,4-Dihydroxymandelaldehyde\n",
      "Phenylacetaldehyde\n",
      "Betaine aldehyde\n",
      "L-Glutamate 1-semialdehyde\n",
      "D-Glyceraldehyde 3-phosphate\n",
      "Methylimidazole acetaldehyde\n",
      "Imidazole-4-acetaldehyde\n",
      "4-Carboxy-2-hydroxymuconate semialdehyde\n",
      "Sulfoacetaldehyde\n",
      "2-Amino-3-carboxymuconate semialdehyde\n",
      "L-Aspartate 4-semialdehyde\n",
      "Indole-3-acetaldehyde\n",
      "Gentisate aldehyde\n",
      "3-Chloro-2-hydroxymuconic semialdehyde\n",
      "beta-Aminopropion aldehyde\n",
      "Aminoacetaldehyde\n",
      "Fluoroacetaldehyde\n",
      "Acetaldehyde\n",
      "Acetaldehyde\n",
      "3-Methoxy-4-hydroxyphenylacetaldehyde\n",
      "(Z)-4-Hydroxyphenylacetaldehyde-oxime\n",
      "L-4-Hydroxyglutamate semialdehyde\n",
      "N-Acetyl-L-glutamate 5-semialdehyde\n",
      "L-Glutamate 5-semialdehyde\n",
      "2-Naphthaldehyde\n",
      "3-Chloroallyl aldehyde\n",
      "L-Lactaldehyde\n",
      "Succinate semialdehyde-thiamin diphosphate anion\n",
      "Glycolaldehyde\n",
      "4-Hydroxymethylsalicylaldehyde\n",
      "D-Lactaldehyde\n",
      "2-Hydroxy-5-methyl-cis,cis-muconic semialdehyde\n",
      "2-Aminomuconate semialdehyde\n",
      "Malonate semialdehyde\n",
      "Succinic semialdehyde\n",
      "4-Hydroxybenzaldehyde\n",
      "5-Hydroxyindoleacetaldehyde\n",
      "3-Methoxy-4-hydroxyphenylglycolaldehyde\n",
      "1-Naphthaldehyde\n",
      "3-Hydroxybenzaldehyde\n",
      "p-Tolualdehyde\n",
      "2-Hydroxymuconate semialdehyde\n",
      "3-Methylsalicylaldehyde\n",
      "3,4-Dihydroxyphenylacetaldehyde\n",
      "Chloroacetaldehyde\n",
      "(S)-Methylmalonate semialdehyde\n",
      "D-Glyceraldehyde\n",
      "D-Glyceraldehyde\n",
      "4-Hydroxyphenylacetaldehyde\n",
      "cis-3-Chloroallyl aldehyde\n",
      "2-Methylbenzaldehyde\n",
      "Benzaldehyde\n",
      "Benzaldehyde\n",
      "3-Methylbenzaldehyde\n",
<<<<<<< HEAD
      "###### check NAD+\n",
      "nonadecanoic acid (C19:0)\n",
      "nonadecanoyl-ACP (C19:0 ACP)\n",
      "nad_c\n",
      "###### check H2O\n",
      "H2O\n",
      "H2O\n",
      "H2O2\n",
      "model:  h2o_c\n",
      "###### check carboxylate\n",
=======
      "glyceraldehyde_c\n",
      "____________________________\n",
      "Check NAD+\n",
      "nonadecanoic acid (C19:0)\n",
      "nonadecanoyl-ACP (C19:0 ACP)\n",
      "nad_c\n",
      "____________________________\n",
      "Check H2O\n",
      "H2O\n",
      "H2O\n",
      "H2O2\n",
      "____________________________\n",
      "Check carboxylate\n",
>>>>>>> a701b44c3673c09f4046d48c85c9baed9820c6b0
      "2-Fluorocyclohexadiene-cis,cis-1,2-diol-1-carboxylate\n",
      "2-Hydroxy-2-hydropyrone-4,6-dicarboxylate\n",
      "Urea-1-carboxylate\n",
      "L-1-Pyrroline-3-hydroxy-5-carboxylate\n",
      "5-Fluorocyclohexadiene-cis,cis-1,2-diol-1-carboxylate\n",
      "6-Fluorocyclohexadiene-cis,cis-1,2-diol-1-carboxylate\n",
      "(E)-4-Oxobut-1-ene-1,2,4-tricarboxylate\n",
      "1-Pyrroline-5-carboxylate\n",
      "carboxylate\n",
      "2-Pyrone-4,6-dicarboxylate\n",
      "1-(5-Phospho-D-ribosyl)-5-amino-4-imidazolecarboxylate\n",
      "Cyclopropanecarboxylate\n",
      "3-Fluorocyclohexadiene-cis,cis-1,2-diol-1-carboxylate\n",
      "1-Aminocyclopropane-1-carboxylate\n",
      "2-Hydroxyethylenedicarboxylate\n",
      "5-Amino-4-imidazole carboxylate\n",
      "Cyclohexane-1-carboxylate\n",
      "4-Fluorocyclohexadiene-cis,cis-1,2-diol-1-carboxylate\n",
<<<<<<< HEAD
      "model:  carboxylate_c\n",
      "###### check NADH\n",
      "nadh_c\n"
=======
      "____________________________\n",
      "Check NADH\n",
      "nadh_c\n",
      "____________________________\n"
>>>>>>> a701b44c3673c09f4046d48c85c9baed9820c6b0
     ]
    }
   ],
   "source": [
<<<<<<< HEAD
    "### aldehyde + NAD+ + H2O = a carboxylate + NADH + H+\n",
    "\n",
    "### Check for aldehyde\n",
    "print(\"###### check aldehyde\")\n",
    "for metabolite in model.metabolites.query('aldehyde', 'name'):\n",
    "    print(metabolite.name)\n",
    "#not found\n",
    "#add aldehyde\n",
    "aldehyde_c = Metabolite(id='aldehyde_c ', compartment='c')\n",
    "\n",
    "### Check for NAD+\n",
    "print(\"###### check NAD+\")\n",
    "for metabolite in model.metabolites.query('nad', 'name'):\n",
    "    print(metabolite.name)\n",
    "#not found\n",
    "#short cut in model?\n",
    "print(model.metabolites.nad_c)\n",
    "\n",
    "### Check for H2O\n",
    "print(\"###### check H2O\")\n",
    "for metabolite in model.metabolites.query('H2O', 'name'):\n",
    "    print(metabolite.name)\n",
    "## found\n",
    "## check name in model\n",
    "print(\"model: \", model.metabolites.h2o_c)\n",
    "\n",
    "### Check for NADH\n",
    "print(\"###### check carboxylate\")\n",
    "for metabolite in model.metabolites.query('carboxylate', 'name'):\n",
    "    print(metabolite.name)\n",
    "## found\n",
    "## check name in model\n",
    "print(\"model: \", model.metabolites.carboxylate_c)\n",
    "\n",
    "### Check for NADH\n",
    "print(\"###### check NADH\")\n",
    "for metabolite in model.metabolites.query('nadh', 'name'):\n",
    "    print(metabolite.name)\n",
    "#not found\n",
    "#short cut in model?\n",
    "print(model.metabolites.nadh_c)\n",
    "\n",
    "### Check for  H+\n",
=======
    "print(\"Check aldehyde\")\n",
    "for metabolite in model.metabolites.query('aldehyde', 'name'):\n",
    "    print(metabolite.name)\n",
    "model.add_metabolites([Metabolite(\"aldehyde_c\", formula='CHOR', name=\"aldehyde_c\", compartment = \"c\")])\n",
    "print(\"____________________________\")\n",
    "\n",
    "print(\"Check NAD+\")\n",
    "for metabolite in model.metabolites.query('nad', 'name'):\n",
    "    print(metabolite.name)\n",
    "print(model.metabolites.nad_c)\n",
    "print(\"____________________________\")\n",
    "\n",
    "print(\"Check H2O\")\n",
    "for metabolite in model.metabolites.query('H2O', 'name'):\n",
    "    print(metabolite.name)\n",
    "print(\"____________________________\")\n",
    "\n",
    "print(\"Check carboxylate\")\n",
    "for metabolite in model.metabolites.query('carboxylate', 'name'):\n",
    "    print(metabolite.name)\n",
    "print(\"____________________________\")\n",
    "\n",
    "### Check for NADH\n",
    "print(\"Check NADH\")\n",
    "for metabolite in model.metabolites.query('nadh', 'name'):\n",
    "    print(metabolite.name)\n",
    "print(model.metabolites.nadh_c)\n",
    "print(\"____________________________\")\n",
    "\n",
>>>>>>> a701b44c3673c09f4046d48c85c9baed9820c6b0
    "### H+ already found in glycerol dehydrogenase reaction\n"
   ]
  },
  {
<<<<<<< HEAD
   "cell_type": "code",
   "execution_count": 78,
=======
   "cell_type": "markdown",
   "id": "8991fab9-bc3c-4899-a607-cc79e0e0e07d",
   "metadata": {},
   "source": [
    "Add reaction aldehyde dehydrogenase: Aldehyde + NAD+ + H2O = carboxylate + NADH + H+"
   ]
  },
  {
   "cell_type": "code",
   "execution_count": 14,
>>>>>>> a701b44c3673c09f4046d48c85c9baed9820c6b0
   "id": "84ed713e-5552-4255-b6a9-0c26c0a79ff2",
   "metadata": {},
   "outputs": [
    {
     "name": "stdout",
     "output_type": "stream",
     "text": [
<<<<<<< HEAD
      "aldehyde_c  + h2o_c + nad_c --> carboxylate_c + h_c + nadh_c\n"
     ]
    }
   ],
   "source": [
    "## Add reaction glycerol dehydrogenase \n",
    "## Reaction: aldehyde + NAD+ + H2O = carboxylate + NADH + H+\n",
    "Oxidoreductase = Reaction('1.2.1.3') \n",
    "Oxidoreductase.add_metabolites({aldehyde_c: -1,\n",
=======
      "aldehyde_c + h2o_c + nad_c --> carboxylate_c + h_c + nadh_c\n"
     ]
    },
    {
     "data": {
      "text/html": [
       "\n",
       "        <table>\n",
       "            <tr>\n",
       "                <td><strong>Reaction identifier</strong></td><td>Oxi_red</td>\n",
       "            </tr><tr>\n",
       "                <td><strong>Name</strong></td><td></td>\n",
       "            </tr><tr>\n",
       "                <td><strong>Memory address</strong></td>\n",
       "                <td>0x07f9d2a46aca0</td>\n",
       "            </tr><tr>\n",
       "                <td><strong>Stoichiometry</strong></td>\n",
       "                <td>\n",
       "                    <p style='text-align:right'>aldehyde_c + h2o_c + nad_c --> carboxylate_c + h_c + nadh_c</p>\n",
       "                    <p style='text-align:right'>aldehyde_c + H2O + Nicotinamide adenine dinucleotide --> carboxylate + H+ + Nicotinamide adenine dinucleotide -reduced</p>\n",
       "                </td>\n",
       "            </tr><tr>\n",
       "                <td><strong>GPR</strong></td><td></td>\n",
       "            </tr><tr>\n",
       "                <td><strong>Lower bound</strong></td><td>0.0</td>\n",
       "            </tr><tr>\n",
       "                <td><strong>Upper bound</strong></td><td>1000.0</td>\n",
       "            </tr>\n",
       "        </table>\n",
       "        "
      ],
      "text/plain": [
       "<Reaction Oxi_red at 0x7f9d2a46aca0>"
      ]
     },
     "execution_count": 14,
     "metadata": {},
     "output_type": "execute_result"
    }
   ],
   "source": [
    "Oxidoreductase = Reaction(\"Oxi_red\") \n",
    "Oxidoreductase.add_metabolites({model.metabolites.aldehyde_c: -1,\n",
>>>>>>> a701b44c3673c09f4046d48c85c9baed9820c6b0
    "                            model.metabolites.nad_c: -1,\n",
    "                            model.metabolites.h2o_c: -1,\n",
    "                          model.metabolites.carboxylate_c: 1,\n",
    "                            model.metabolites.nadh_c: 1, \n",
    "                              model.metabolites.h_c: 1,\n",
    "                              })\n",
<<<<<<< HEAD
    "print(Oxidoreductase.build_reaction_string())"
=======
    "print(Oxidoreductase.build_reaction_string())\n",
    "model.add_reactions([Oxidoreductase])\n",
    "model.reactions.Oxi_red"
   ]
  },
  {
   "cell_type": "markdown",
   "id": "3a81ccf8-c960-49cb-b95f-cdafca64632e",
   "metadata": {},
   "source": [
    "### Third reaction: D-glycerate 3-kinase"
   ]
  },
  {
   "cell_type": "markdown",
   "id": "03845461-c555-48b2-92df-b98bc99fd902",
   "metadata": {},
   "source": [
    "Check if the metabolites of this reaction already exist in the model. If not adding missing metabolites."
>>>>>>> a701b44c3673c09f4046d48c85c9baed9820c6b0
   ]
  },
  {
   "cell_type": "code",
<<<<<<< HEAD
   "execution_count": 79,
=======
   "execution_count": 15,
>>>>>>> a701b44c3673c09f4046d48c85c9baed9820c6b0
   "id": "8abc7d57-c5cf-4c40-825a-d72bf1560aff",
   "metadata": {
    "tags": []
   },
   "outputs": [
    {
     "name": "stdout",
     "output_type": "stream",
     "text": [
<<<<<<< HEAD
      "###### check ATP\n",
      "atp_c\n",
      "###### check glycerate\n",
      "3-Phospho-D-glycerate\n",
      "3-Phospho-D-glycerate\n",
      "###### check ADP\n",
=======
      "Check ATP\n",
      "atp_c\n",
      "____________________________\n",
      "Check glycerate\n",
      "3-Phospho-D-glycerate\n",
      "3-Phospho-D-glycerate\n",
      "____________________________\n",
      "Check ADP\n",
>>>>>>> a701b44c3673c09f4046d48c85c9baed9820c6b0
      "ADP-D-ribose\n",
      "dADP\n",
      "ADP-L-glycero-D-manno-heptose\n",
      "ADP-D-glycero-D-manno-heptose\n",
      "ADP\n",
<<<<<<< HEAD
      "model:  adp_c\n",
      "###### check 3-phospho-D-glycerate\n",
=======
      "____________________________\n",
      "Check 3-phospho-D-glycerate\n",
      "3-Phospho-D-glycerate\n",
      "3-Phospho-D-glycerate\n",
      "glycerate_c\n",
>>>>>>> a701b44c3673c09f4046d48c85c9baed9820c6b0
      "3pg_c\n"
     ]
    }
   ],
   "source": [
<<<<<<< HEAD
    "### ATP + D-glycerate = ADP + 3-phospho-D-glycerate\n",
    "\n",
    "### Check for ATP\n",
    "print(\"###### check ATP\")\n",
    "for metabolite in model.metabolites.query('atp', 'name'):\n",
    "    print(metabolite.name)\n",
    "# found\n",
    "## check name in model\n",
    "print(model.metabolites.atp_c)\n",
    "\n",
    "### Check for glycerate\n",
    "print(\"###### check glycerate\")\n",
    "for metabolite in model.metabolites.query('glycerate', 'name'):\n",
    "    print(metabolite.name)\n",
    "# not found\n",
    "# add new\n",
    "glycerate_c = Metabolite(id='glycerate_c', compartment='c')\n",
    "\n",
    "### Check for ADP\n",
    "print(\"###### check ADP\")\n",
    "for metabolite in model.metabolites.query('ADP', 'name'):\n",
    "    print(metabolite.name)\n",
    "## found\n",
    "## check name in model\n",
    "print(\"model: \", model.metabolites.adp_c)\n",
    "\n",
    "### Check for 3-phospho-D-glycerate\n",
    "print(\"###### check 3-phospho-D-glycerate\")\n",
    "for metabolite in model.metabolites.query('3-phospho-D-glycerate', 'name'):\n",
    "    print(metabolite.name)\n",
    "##found in glycerate search\n",
=======
    "print(\"Check ATP\")\n",
    "for metabolite in model.metabolites.query('atp', 'name'):\n",
    "    print(metabolite.name)\n",
    "print(model.metabolites.get_by_id('atp_c'))\n",
    "print(\"____________________________\")\n",
    "\n",
    "print(\"Check glycerate\")\n",
    "for metabolite in model.metabolites.query('glycerate', 'name'):\n",
    "    print(metabolite.name)\n",
    "model.add_metabolites([Metabolite(\"glycerate_c\",formula='C3H6O4', name=\"glycerate_c\", compartment = \"c\")])\n",
    "print(\"____________________________\")\n",
    "\n",
    "print(\"Check ADP\")\n",
    "for metabolite in model.metabolites.query('ADP', 'name'):\n",
    "    print(metabolite.name)\n",
    "print(\"____________________________\")\n",
    "\n",
    "print(\"Check 3-phospho-D-glycerate\")\n",
    "for metabolite in model.metabolites.query('glycerate', 'name'):\n",
    "    print(metabolite.name)\n",
>>>>>>> a701b44c3673c09f4046d48c85c9baed9820c6b0
    "## check name in model\n",
    "print(model.metabolites.get_by_id('3pg_c'))"
   ]
  },
  {
<<<<<<< HEAD
   "cell_type": "code",
   "execution_count": 80,
=======
   "cell_type": "markdown",
   "id": "a6fd4236-bc25-4a10-b256-b0f333ebe685",
   "metadata": {},
   "source": [
    "Add reaction glycerate 3-kinase: ATP + D-glycerate = ADP + 3-phospho-D-glycerate"
   ]
  },
  {
   "cell_type": "code",
   "execution_count": 16,
>>>>>>> a701b44c3673c09f4046d48c85c9baed9820c6b0
   "id": "de8b57b8-76ba-447d-89e2-c68fe047f358",
   "metadata": {
    "tags": []
   },
   "outputs": [
    {
     "name": "stdout",
     "output_type": "stream",
     "text": [
      "atp_c + glycerate_c --> 3pg_c + adp_c\n"
     ]
    }
   ],
   "source": [
<<<<<<< HEAD
    "## Add reaction gTransferases \n",
    "## ATP + D-glycerate = ADP + 3-phospho-D-glycerate\n",
    "Transferases = Reaction('2.7.1.31')  \n",
    "Transferases.add_metabolites({model.metabolites.atp_c: -1,\n",
    "                            glycerate_c: -1,\n",
    "                            model.metabolites.adp_c: 1,\n",
    "                           model.metabolites.get_by_id('3pg_c'): 1\n",
    "                              })\n",
    "print(Transferases.build_reaction_string())\n"
   ]
  },
  {
   "cell_type": "code",
   "execution_count": 81,
   "id": "6fc83b0f-5726-4c02-96be-d56a03d41368",
   "metadata": {},
   "outputs": [
    {
     "data": {
      "text/html": [
       "\n",
       "        <table>\n",
       "            <tr>\n",
       "                <td><strong>Reaction identifier</strong></td><td>EX_glycerol_e</td>\n",
       "            </tr><tr>\n",
       "                <td><strong>Name</strong></td><td>Glycerol exchange</td>\n",
       "            </tr><tr>\n",
       "                <td><strong>Memory address</strong></td>\n",
       "                <td>0x07f87e23f12e0</td>\n",
       "            </tr><tr>\n",
       "                <td><strong>Stoichiometry</strong></td>\n",
       "                <td>\n",
       "                    <p style='text-align:right'>glycerol_e <=></p>\n",
       "                    <p style='text-align:right'>Glycerol <=></p>\n",
       "                </td>\n",
       "            </tr><tr>\n",
       "                <td><strong>GPR</strong></td><td></td>\n",
       "            </tr><tr>\n",
       "                <td><strong>Lower bound</strong></td><td>-1000.0</td>\n",
       "            </tr><tr>\n",
       "                <td><strong>Upper bound</strong></td><td>1000.0</td>\n",
       "            </tr>\n",
       "        </table>\n",
       "        "
      ],
      "text/plain": [
       "<Reaction EX_glycerol_e at 0x7f87e23f12e0>"
      ]
     },
     "execution_count": 81,
     "metadata": {},
     "output_type": "execute_result"
    }
   ],
   "source": [
    "#add glycerol exchange reaction to model\n",
    "model.add_boundary(model.metabolites.get_by_id(\"glycerol_e\"), type=\"exchange\")\n"
=======
    "Transferases = Reaction('Tra_fer')  \n",
    "Transferases.add_metabolites({model.metabolites.atp_c: -1,\n",
    "                            model.metabolites.glycerate_c: -1,\n",
    "                            model.metabolites.adp_c: 1,\n",
    "                           model.metabolites.get_by_id('3pg_c'): 1\n",
    "                              })\n",
    "print(Transferases.build_reaction_string())\n",
    "model.add_reactions([Transferases])"
   ]
  },
  {
   "cell_type": "markdown",
   "id": "6e3ff9a7-e5ae-4df3-9604-f7752495af6e",
   "metadata": {},
   "source": [
    "# Comparison of biomass, PHB production rate and theoretical max. yield between fructose and glycerol in medium"
   ]
  },
  {
   "cell_type": "markdown",
   "id": "52ffbd4f-aab3-4c64-92e5-a9ef88f134f9",
   "metadata": {},
   "source": [
    "Displaying current media components "
>>>>>>> a701b44c3673c09f4046d48c85c9baed9820c6b0
   ]
  },
  {
   "cell_type": "code",
<<<<<<< HEAD
   "execution_count": 82,
   "id": "286921f7-58be-4a0a-b795-95168bc0b048",
   "metadata": {},
=======
   "execution_count": 17,
   "id": "286921f7-58be-4a0a-b795-95168bc0b048",
   "metadata": {
    "tags": []
   },
>>>>>>> a701b44c3673c09f4046d48c85c9baed9820c6b0
   "outputs": [
    {
     "data": {
      "text/plain": [
       "{'EX_fe2_e': 10.0,\n",
       " 'EX_mg2_e': 10.0,\n",
       " 'EX_pi_e': 100.0,\n",
       " 'EX_cobalt2_e': 10.0,\n",
       " 'EX_cl_e': 10.0,\n",
       " 'EX_k_e': 10.0,\n",
       " 'EX_fe3_e': 10.0,\n",
       " 'EX_so4_e': 10.0,\n",
       " 'EX_fru_e': 3.0,\n",
       " 'EX_nh4_e': 10.0,\n",
       " 'EX_na_e': 10.0,\n",
       " 'EX_o2_e': 18.5,\n",
       " 'EX_mobd_e': 10.0,\n",
       " 'EX_h2o_e': 1000.0,\n",
       " 'EX_h_e': 100.0,\n",
       " 'EX_glycerol_e': 1000.0}"
      ]
     },
<<<<<<< HEAD
     "execution_count": 82,
=======
     "execution_count": 17,
>>>>>>> a701b44c3673c09f4046d48c85c9baed9820c6b0
     "metadata": {},
     "output_type": "execute_result"
    }
   ],
   "source": [
<<<<<<< HEAD
    "####################################\n",
    "#### What is the maximum production rate of PHB growing on fructose\n",
=======
>>>>>>> a701b44c3673c09f4046d48c85c9baed9820c6b0
    "medium = model.medium\n",
    "medium"
   ]
  },
  {
<<<<<<< HEAD
   "cell_type": "code",
   "execution_count": null,
   "id": "69b0efe8-0cb7-48cf-82c8-4bbe8a269ec1",
   "metadata": {},
   "outputs": [],
   "source": []
  },
  {
   "cell_type": "code",
   "execution_count": 83,
=======
   "cell_type": "markdown",
   "id": "63d8a7a9-28db-4ccf-a426-2a67ff91b6fa",
   "metadata": {},
   "source": [
    "Displaying current uptake and secretion"
   ]
  },
  {
   "cell_type": "code",
   "execution_count": 18,
   "id": "d23694a4-5386-4840-b971-a1a18dc345f4",
   "metadata": {},
   "outputs": [
    {
     "data": {
      "text/html": [
       "<h3>Objective</h3><p>1.0 Biomass = 0.2852858664276766</p><h4>Uptake</h4><table border=\"1\" class=\"dataframe\">\n",
       "  <thead>\n",
       "    <tr style=\"text-align: right;\">\n",
       "      <th>Metabolite</th>\n",
       "      <th>Reaction</th>\n",
       "      <th>Flux</th>\n",
       "      <th>C-Number</th>\n",
       "      <th>C-Flux</th>\n",
       "    </tr>\n",
       "  </thead>\n",
       "  <tbody>\n",
       "    <tr>\n",
       "      <td>fe2_e</td>\n",
       "      <td>EX_fe2_e</td>\n",
       "      <td>6.333E-05</td>\n",
       "      <td>0</td>\n",
       "      <td>0.00%</td>\n",
       "    </tr>\n",
       "    <tr>\n",
       "      <td>fru_e</td>\n",
       "      <td>EX_fru_e</td>\n",
       "      <td>3</td>\n",
       "      <td>6</td>\n",
       "      <td>100.00%</td>\n",
       "    </tr>\n",
       "    <tr>\n",
       "      <td>h_e</td>\n",
       "      <td>EX_h_e</td>\n",
       "      <td>10.72</td>\n",
       "      <td>0</td>\n",
       "      <td>0.00%</td>\n",
       "    </tr>\n",
       "    <tr>\n",
       "      <td>nh4_e</td>\n",
       "      <td>EX_nh4_e</td>\n",
       "      <td>3.038</td>\n",
       "      <td>0</td>\n",
       "      <td>0.00%</td>\n",
       "    </tr>\n",
       "    <tr>\n",
       "      <td>o2_e</td>\n",
       "      <td>EX_o2_e</td>\n",
       "      <td>5.734</td>\n",
       "      <td>0</td>\n",
       "      <td>0.00%</td>\n",
       "    </tr>\n",
       "    <tr>\n",
       "      <td>pi_e</td>\n",
       "      <td>EX_pi_e</td>\n",
       "      <td>7.987</td>\n",
       "      <td>0</td>\n",
       "      <td>0.00%</td>\n",
       "    </tr>\n",
       "    <tr>\n",
       "      <td>so4_e</td>\n",
       "      <td>EX_so4_e</td>\n",
       "      <td>0.05797</td>\n",
       "      <td>0</td>\n",
       "      <td>0.00%</td>\n",
       "    </tr>\n",
       "  </tbody>\n",
       "</table><h4>Secretion</h4><table border=\"1\" class=\"dataframe\">\n",
       "  <thead>\n",
       "    <tr style=\"text-align: right;\">\n",
       "      <th>Metabolite</th>\n",
       "      <th>Reaction</th>\n",
       "      <th>Flux</th>\n",
       "      <th>C-Number</th>\n",
       "      <th>C-Flux</th>\n",
       "    </tr>\n",
       "  </thead>\n",
       "  <tbody>\n",
       "    <tr>\n",
       "      <td>BIOMASS_c</td>\n",
       "      <td>EX_BIOMASS_c</td>\n",
       "      <td>-0.2853</td>\n",
       "      <td>0</td>\n",
       "      <td>0.00%</td>\n",
       "    </tr>\n",
       "    <tr>\n",
       "      <td>co2_e</td>\n",
       "      <td>EX_co2_e</td>\n",
       "      <td>-6.151</td>\n",
       "      <td>1</td>\n",
       "      <td>100.00%</td>\n",
       "    </tr>\n",
       "    <tr>\n",
       "      <td>h2o_e</td>\n",
       "      <td>EX_h2o_e</td>\n",
       "      <td>-23.87</td>\n",
       "      <td>0</td>\n",
       "      <td>0.00%</td>\n",
       "    </tr>\n",
       "  </tbody>\n",
       "</table>"
      ],
      "text/plain": [
       "<cobra.summary.model_summary.ModelSummary at 0x7f9d2a0048e0>"
      ]
     },
     "execution_count": 18,
     "metadata": {},
     "output_type": "execute_result"
    }
   ],
   "source": [
    "model.summary()"
   ]
  },
  {
   "cell_type": "markdown",
   "id": "0531c616-3c16-48d7-ad26-87238bdea839",
   "metadata": {},
   "source": [
    "## Changing media to only fructose as c-source"
   ]
  },
  {
   "cell_type": "code",
   "execution_count": 15,
>>>>>>> a701b44c3673c09f4046d48c85c9baed9820c6b0
   "id": "26f646a6-b190-43cd-8887-45ce919633cd",
   "metadata": {
    "tags": []
   },
   "outputs": [
    {
     "name": "stdout",
     "output_type": "stream",
     "text": [
<<<<<<< HEAD
      "{'EX_fe2_e': 10.0, 'EX_mg2_e': 10.0, 'EX_pi_e': 100.0, 'EX_cobalt2_e': 10.0, 'EX_cl_e': 10.0, 'EX_k_e': 10.0, 'EX_fe3_e': 10.0, 'EX_so4_e': 10.0, 'EX_fru_e': 10, 'EX_nh4_e': 10.0, 'EX_na_e': 10.0, 'EX_o2_e': 18.5, 'EX_mobd_e': 10.0, 'EX_h2o_e': 1000.0, 'EX_h_e': 100.0, 'EX_glycerol_e': 0}\n",
      "biomass 0.0\n",
      "Max. phb production [mmol gDW^-1 h^-1]: 12.542372881355929\n",
      "Theoretical max. yield [mmol-phb / mmol-fru]: 1.254237288135593\n"
=======
      "{'EX_fe2_e': 10.0, 'EX_mg2_e': 10.0, 'EX_pi_e': 100.0, 'EX_cobalt2_e': 10.0, 'EX_cl_e': 10.0, 'EX_k_e': 10.0, 'EX_fe3_e': 10.0, 'EX_so4_e': 10.0, 'EX_fru_e': 10, 'EX_nh4_e': 10.0, 'EX_na_e': 10.0, 'EX_o2_e': 18.5, 'EX_mobd_e': 10.0, 'EX_h2o_e': 1000.0, 'EX_h_e': 100.0}\n",
      "The current theoretical maximum biomass productivity: 0.0 h\n",
      "----------------\n",
      "The current maximum theoretical productivity for making PHB: 12.542372881355922 mmol/gDW*h\n",
      "----------------\n",
      "Maximum theoretical yield = 1.254237288135592 mmol phb/mmol fructose\n"
>>>>>>> a701b44c3673c09f4046d48c85c9baed9820c6b0
     ]
    }
   ],
   "source": [
<<<<<<< HEAD
    "#### with only fructose as C-source\n",
=======
>>>>>>> a701b44c3673c09f4046d48c85c9baed9820c6b0
    "with model:\n",
    "    medium = model.medium\n",
    "    medium ['EX_fru_e'] = 10\n",
    "    medium [\"EX_glycerol_e\"] = 0\n",
    "    model.medium = medium\n",
<<<<<<< HEAD
    "    print(medium)\n",
    "    model.objective = model.reactions.EX_pbhb_e\n",
    "    phb_production_fru = model.optimize().objective_value\n",
    "    print(\"biomass\", model.optimize().fluxes['EX_BIOMASS_c'])\n",
    "    print(\"Max. phb production [mmol gDW^-1 h^-1]:\", phb_production_fru)\n",
    "    print(\"Theoretical max. yield [mmol-phb / mmol-fru]:\", phb_production_fru / (-1*model.reactions.EX_fru_e.flux))"
=======
    "    model.objective = model.reactions.EX_pbhb_e\n",
    "    solution = model.optimize()\n",
    "    print(model.medium)\n",
    "    print('The current theoretical maximum biomass productivity:', solution.fluxes['EX_BIOMASS_c'], 'h')\n",
    "    print('----------------')\n",
    "    phb_production_fru = model.optimize().objective_value\n",
    "    print('The current maximum theoretical productivity for making PHB:', phb_production_fru , 'mmol/gDW*h')\n",
    "    print('----------------')\n",
    "    maximum_yield = phb_production_fru / (-1*(model.reactions.EX_fru_e.flux))\n",
    "    print('Maximum theoretical yield =', maximum_yield, 'mmol phb/mmol fructose')"
   ]
  },
  {
   "cell_type": "markdown",
   "id": "45cf4fc6-f91f-40a8-942f-c311f73d8092",
   "metadata": {},
   "source": [
    "#### Changing media to only glycerol as c-source"
>>>>>>> a701b44c3673c09f4046d48c85c9baed9820c6b0
   ]
  },
  {
   "cell_type": "code",
<<<<<<< HEAD
   "execution_count": 84,
=======
   "execution_count": 20,
>>>>>>> a701b44c3673c09f4046d48c85c9baed9820c6b0
   "id": "08cd5b5a-53a7-4db5-b677-afa2059651df",
   "metadata": {},
   "outputs": [
    {
     "name": "stdout",
     "output_type": "stream",
     "text": [
<<<<<<< HEAD
      "{'EX_fe2_e': 10.0, 'EX_mg2_e': 10.0, 'EX_pi_e': 100.0, 'EX_cobalt2_e': 10.0, 'EX_cl_e': 10.0, 'EX_k_e': 10.0, 'EX_fe3_e': 10.0, 'EX_so4_e': 10.0, 'EX_fru_e': 0, 'EX_nh4_e': 10.0, 'EX_na_e': 10.0, 'EX_o2_e': 18.5, 'EX_mobd_e': 10.0, 'EX_h2o_e': 1000.0, 'EX_h_e': 100.0, 'EX_glycerol_e': 100}\n",
=======
      "{'EX_fe2_e': 10.0, 'EX_mg2_e': 10.0, 'EX_pi_e': 100.0, 'EX_cobalt2_e': 10.0, 'EX_cl_e': 10.0, 'EX_k_e': 10.0, 'EX_fe3_e': 10.0, 'EX_so4_e': 10.0, 'EX_nh4_e': 10.0, 'EX_na_e': 10.0, 'EX_o2_e': 18.5, 'EX_mobd_e': 10.0, 'EX_h2o_e': 1000.0, 'EX_h_e': 100.0, 'EX_glycerol_e': 10}\n",
>>>>>>> a701b44c3673c09f4046d48c85c9baed9820c6b0
      "The current theoretical maximum biomass productivity: 0.0 h\n",
      "----------------\n",
      "The current maximum theoretical productivity for making PHB: 0.0 mmol/gDW*h\n",
      "----------------\n"
     ]
    },
    {
<<<<<<< HEAD
     "ename": "AttributeError",
     "evalue": "'Reaction' object has no attribute 'EX_glycerol_e'",
     "output_type": "error",
     "traceback": [
      "\u001b[0;31m---------------------------------------------------------------------------\u001b[0m",
      "\u001b[0;31mAttributeError\u001b[0m                            Traceback (most recent call last)",
      "\u001b[0;32m<ipython-input-84-bcf586c262c5>\u001b[0m in \u001b[0;36m<module>\u001b[0;34m\u001b[0m\n\u001b[1;32m     12\u001b[0m     \u001b[0mprint\u001b[0m\u001b[0;34m(\u001b[0m\u001b[0;34m'The current maximum theoretical productivity for making PHB:'\u001b[0m\u001b[0;34m,\u001b[0m \u001b[0mphb_production_gly\u001b[0m \u001b[0;34m,\u001b[0m \u001b[0;34m'mmol/gDW*h'\u001b[0m\u001b[0;34m)\u001b[0m\u001b[0;34m\u001b[0m\u001b[0;34m\u001b[0m\u001b[0m\n\u001b[1;32m     13\u001b[0m     \u001b[0mprint\u001b[0m\u001b[0;34m(\u001b[0m\u001b[0;34m'----------------'\u001b[0m\u001b[0;34m)\u001b[0m\u001b[0;34m\u001b[0m\u001b[0;34m\u001b[0m\u001b[0m\n\u001b[0;32m---> 14\u001b[0;31m     \u001b[0mprint\u001b[0m\u001b[0;34m(\u001b[0m\u001b[0mreactions\u001b[0m\u001b[0;34m.\u001b[0m\u001b[0mEX_glycerol_e\u001b[0m\u001b[0;34m.\u001b[0m\u001b[0mflux\u001b[0m\u001b[0;34m)\u001b[0m\u001b[0;34m\u001b[0m\u001b[0;34m\u001b[0m\u001b[0m\n\u001b[0m\u001b[1;32m     15\u001b[0m     \u001b[0ma\u001b[0m \u001b[0;34m=\u001b[0m \u001b[0;34m(\u001b[0m\u001b[0;34m-\u001b[0m\u001b[0;36m1\u001b[0m\u001b[0;34m*\u001b[0m\u001b[0mmodel\u001b[0m\u001b[0;34m.\u001b[0m\u001b[0mreactions\u001b[0m\u001b[0;34m.\u001b[0m\u001b[0mEX_glycerol_e\u001b[0m\u001b[0;34m.\u001b[0m\u001b[0mflux\u001b[0m\u001b[0;34m)\u001b[0m\u001b[0;34m\u001b[0m\u001b[0;34m\u001b[0m\u001b[0m\n\u001b[1;32m     16\u001b[0m     \u001b[0mprint\u001b[0m\u001b[0;34m(\u001b[0m\u001b[0ma\u001b[0m\u001b[0;34m)\u001b[0m\u001b[0;34m\u001b[0m\u001b[0;34m\u001b[0m\u001b[0m\n",
      "\u001b[0;31mAttributeError\u001b[0m: 'Reaction' object has no attribute 'EX_glycerol_e'"
=======
     "ename": "ZeroDivisionError",
     "evalue": "float division by zero",
     "output_type": "error",
     "traceback": [
      "\u001b[0;31m---------------------------------------------------------------------------\u001b[0m",
      "\u001b[0;31mZeroDivisionError\u001b[0m                         Traceback (most recent call last)",
      "\u001b[0;32m<ipython-input-20-3e923f560a55>\u001b[0m in \u001b[0;36m<module>\u001b[0;34m\u001b[0m\n\u001b[1;32m     12\u001b[0m     \u001b[0mprint\u001b[0m\u001b[0;34m(\u001b[0m\u001b[0;34m'The current maximum theoretical productivity for making PHB:'\u001b[0m\u001b[0;34m,\u001b[0m \u001b[0mphb_production_gly\u001b[0m \u001b[0;34m,\u001b[0m \u001b[0;34m'mmol/gDW*h'\u001b[0m\u001b[0;34m)\u001b[0m\u001b[0;34m\u001b[0m\u001b[0;34m\u001b[0m\u001b[0m\n\u001b[1;32m     13\u001b[0m     \u001b[0mprint\u001b[0m\u001b[0;34m(\u001b[0m\u001b[0;34m'----------------'\u001b[0m\u001b[0;34m)\u001b[0m\u001b[0;34m\u001b[0m\u001b[0;34m\u001b[0m\u001b[0m\n\u001b[0;32m---> 14\u001b[0;31m     \u001b[0mmaximum_yield\u001b[0m \u001b[0;34m=\u001b[0m \u001b[0mphb_production_gly\u001b[0m \u001b[0;34m/\u001b[0m \u001b[0;34m(\u001b[0m\u001b[0;34m-\u001b[0m\u001b[0;36m1\u001b[0m\u001b[0;34m*\u001b[0m\u001b[0;34m(\u001b[0m\u001b[0mmodel\u001b[0m\u001b[0;34m.\u001b[0m\u001b[0mreactions\u001b[0m\u001b[0;34m.\u001b[0m\u001b[0mEX_glycerol_e\u001b[0m\u001b[0;34m.\u001b[0m\u001b[0mflux\u001b[0m\u001b[0;34m)\u001b[0m\u001b[0;34m)\u001b[0m\u001b[0;34m\u001b[0m\u001b[0;34m\u001b[0m\u001b[0m\n\u001b[0m\u001b[1;32m     15\u001b[0m     \u001b[0mprint\u001b[0m\u001b[0;34m(\u001b[0m\u001b[0;34m'Maximum theoretical yield ='\u001b[0m\u001b[0;34m,\u001b[0m \u001b[0mmaximum_yield\u001b[0m\u001b[0;34m,\u001b[0m \u001b[0;34m'mmol phb/mmol glycerol'\u001b[0m\u001b[0;34m)\u001b[0m\u001b[0;34m\u001b[0m\u001b[0;34m\u001b[0m\u001b[0m\n",
      "\u001b[0;31mZeroDivisionError\u001b[0m: float division by zero"
>>>>>>> a701b44c3673c09f4046d48c85c9baed9820c6b0
     ]
    }
   ],
   "source": [
    "with model:\n",
    "    medium = model.medium\n",
    "    medium ['EX_fru_e'] = 0\n",
<<<<<<< HEAD
    "    medium [\"EX_glycerol_e\"] = 100\n",
    "    model.medium = medium\n",
    "    solution= model.optimize()\n",
    "    print(medium)\n",
=======
    "    medium [\"EX_glycerol_e\"] = 10\n",
    "    model.medium = medium\n",
    "    solution = model.optimize()\n",
    "    print(model.medium)\n",
>>>>>>> a701b44c3673c09f4046d48c85c9baed9820c6b0
    "    print('The current theoretical maximum biomass productivity:', solution.fluxes['EX_BIOMASS_c'], 'h')\n",
    "    print('----------------')\n",
    "    model.objective = model.reactions.EX_pbhb_e\n",
    "    phb_production_gly=model.optimize().objective_value\n",
    "    print('The current maximum theoretical productivity for making PHB:', phb_production_gly , 'mmol/gDW*h')\n",
    "    print('----------------')\n",
<<<<<<< HEAD
    "    print(reactions.EX_glycerol_e.flux)\n",
    "    a = (-1*model.reactions.EX_glycerol_e.flux)\n",
    "    print(a)\n",
    "    maximum_yield = phb_production_gly / (-1*(model.reactions.EX_glycerol_e.flux))\n",
    "    print('Maximum theoretical yield =', maximum_yield, 'mmol phb/mmol Glyerol')"
=======
    "    maximum_yield = phb_production_gly / (-1*(model.reactions.EX_glycerol_e.flux))\n",
    "    print('Maximum theoretical yield =', maximum_yield, 'mmol phb/mmol glycerol')"
   ]
  },
  {
   "cell_type": "code",
   "execution_count": 17,
   "id": "8176cc88-6c9d-4405-99e9-0421e17da3ab",
   "metadata": {},
   "outputs": [
    {
     "data": {
      "text/html": [
       "<h3>Objective</h3><p>1.0 EX_pbhb_e = 3.7627118644067776</p><h4>Uptake</h4><table border=\"1\" class=\"dataframe\">\n",
       "  <thead>\n",
       "    <tr style=\"text-align: right;\">\n",
       "      <th>Metabolite</th>\n",
       "      <th>Reaction</th>\n",
       "      <th>Flux</th>\n",
       "      <th>C-Number</th>\n",
       "      <th>C-Flux</th>\n",
       "    </tr>\n",
       "  </thead>\n",
       "  <tbody>\n",
       "    <tr>\n",
       "      <td>fru_e</td>\n",
       "      <td>EX_fru_e</td>\n",
       "      <td>3</td>\n",
       "      <td>6</td>\n",
       "      <td>100.00%</td>\n",
       "    </tr>\n",
       "    <tr>\n",
       "      <td>o2_e</td>\n",
       "      <td>EX_o2_e</td>\n",
       "      <td>1.068</td>\n",
       "      <td>0</td>\n",
       "      <td>0.00%</td>\n",
       "    </tr>\n",
       "  </tbody>\n",
       "</table><h4>Secretion</h4><table border=\"1\" class=\"dataframe\">\n",
       "  <thead>\n",
       "    <tr style=\"text-align: right;\">\n",
       "      <th>Metabolite</th>\n",
       "      <th>Reaction</th>\n",
       "      <th>Flux</th>\n",
       "      <th>C-Number</th>\n",
       "      <th>C-Flux</th>\n",
       "    </tr>\n",
       "  </thead>\n",
       "  <tbody>\n",
       "    <tr>\n",
       "      <td>co2_e</td>\n",
       "      <td>EX_co2_e</td>\n",
       "      <td>-2.949</td>\n",
       "      <td>1</td>\n",
       "      <td>100.00%</td>\n",
       "    </tr>\n",
       "    <tr>\n",
       "      <td>h2o_e</td>\n",
       "      <td>EX_h2o_e</td>\n",
       "      <td>-6.712</td>\n",
       "      <td>0</td>\n",
       "      <td>0.00%</td>\n",
       "    </tr>\n",
       "    <tr>\n",
       "      <td>phb_e</td>\n",
       "      <td>EX_pbhb_e</td>\n",
       "      <td>-3.763</td>\n",
       "      <td>0</td>\n",
       "      <td>0.00%</td>\n",
       "    </tr>\n",
       "  </tbody>\n",
       "</table>"
      ],
      "text/plain": [
       "<cobra.summary.model_summary.ModelSummary at 0x7ff60e21ef10>"
      ]
     },
     "execution_count": 17,
     "metadata": {},
     "output_type": "execute_result"
    }
   ],
   "source": [
    "model.objective = model.reactions.EX_pbhb_e\n",
    "model.summary()"
>>>>>>> a701b44c3673c09f4046d48c85c9baed9820c6b0
   ]
  },
  {
   "cell_type": "code",
<<<<<<< HEAD
   "execution_count": 88,
=======
   "execution_count": 22,
>>>>>>> a701b44c3673c09f4046d48c85c9baed9820c6b0
   "id": "500638fd-2f07-4b41-9291-ba0515b7953a",
   "metadata": {},
   "outputs": [
    {
     "name": "stdout",
     "output_type": "stream",
     "text": [
<<<<<<< HEAD
      "{'EX_fe2_e': 10.0, 'EX_mg2_e': 10.0, 'EX_pi_e': 100.0, 'EX_cobalt2_e': 10.0, 'EX_cl_e': 10.0, 'EX_k_e': 10.0, 'EX_fe3_e': 10.0, 'EX_so4_e': 10.0, 'EX_nh4_e': 10.0, 'EX_na_e': 10.0, 'EX_o2_e': 18.5, 'EX_mobd_e': 10.0, 'EX_h2o_e': 1000.0, 'EX_h_e': 100.0, 'EX_glycerol_e': 10}\n",
      "{'EX_fe2_e': 10.0, 'EX_mg2_e': 10.0, 'EX_pi_e': 100.0, 'EX_cobalt2_e': 10.0, 'EX_cl_e': 10.0, 'EX_k_e': 10.0, 'EX_fe3_e': 10.0, 'EX_so4_e': 10.0, 'EX_nh4_e': 10.0, 'EX_na_e': 10.0, 'EX_o2_e': 18.5, 'EX_mobd_e': 10.0, 'EX_h2o_e': 1000.0, 'EX_h_e': 100.0, 'EX_glycerol_e': 10, 'EX_fru_e': 0}\n",
=======
      "{'EX_fe2_e': 10.0, 'EX_mg2_e': 10.0, 'EX_pi_e': 100.0, 'EX_cobalt2_e': 10.0, 'EX_cl_e': 10.0, 'EX_k_e': 10.0, 'EX_fe3_e': 10.0, 'EX_so4_e': 10.0, 'EX_fru_e': 3.0, 'EX_nh4_e': 10.0, 'EX_na_e': 10.0, 'EX_o2_e': 18.5, 'EX_mobd_e': 10.0, 'EX_h2o_e': 1000.0, 'EX_h_e': 100.0, 'EX_glycerol_e': 1000.0}\n",
      "{'EX_fe2_e': 10.0, 'EX_mg2_e': 10.0, 'EX_pi_e': 100.0, 'EX_cobalt2_e': 10.0, 'EX_cl_e': 10.0, 'EX_k_e': 10.0, 'EX_fe3_e': 10.0, 'EX_so4_e': 10.0, 'EX_fru_e': 0, 'EX_nh4_e': 10.0, 'EX_na_e': 10.0, 'EX_o2_e': 18.5, 'EX_mobd_e': 10.0, 'EX_h2o_e': 1000.0, 'EX_h_e': 100.0, 'EX_glycerol_e': 10}\n",
>>>>>>> a701b44c3673c09f4046d48c85c9baed9820c6b0
      "Max. phb production [mmol gDW^-1 h^-1]: 0.0\n"
     ]
    },
    {
     "ename": "ZeroDivisionError",
     "evalue": "float division by zero",
     "output_type": "error",
     "traceback": [
      "\u001b[0;31m---------------------------------------------------------------------------\u001b[0m",
      "\u001b[0;31mZeroDivisionError\u001b[0m                         Traceback (most recent call last)",
<<<<<<< HEAD
      "\u001b[0;32m<ipython-input-88-2f7af683e7da>\u001b[0m in \u001b[0;36m<module>\u001b[0;34m\u001b[0m\n\u001b[1;32m     10\u001b[0m \u001b[0mphb_production_gly\u001b[0m \u001b[0;34m=\u001b[0m \u001b[0mmodel\u001b[0m\u001b[0;34m.\u001b[0m\u001b[0moptimize\u001b[0m\u001b[0;34m(\u001b[0m\u001b[0;34m)\u001b[0m\u001b[0;34m.\u001b[0m\u001b[0mobjective_value\u001b[0m\u001b[0;34m\u001b[0m\u001b[0;34m\u001b[0m\u001b[0m\n\u001b[1;32m     11\u001b[0m \u001b[0mprint\u001b[0m\u001b[0;34m(\u001b[0m\u001b[0;34m\"Max. phb production [mmol gDW^-1 h^-1]:\"\u001b[0m\u001b[0;34m,\u001b[0m \u001b[0mphb_production_gly\u001b[0m\u001b[0;34m)\u001b[0m\u001b[0;34m\u001b[0m\u001b[0;34m\u001b[0m\u001b[0m\n\u001b[0;32m---> 12\u001b[0;31m \u001b[0mprint\u001b[0m\u001b[0;34m(\u001b[0m\u001b[0;34m\"Theoretical max. yield [mmol-phb / mmol-phb]:\"\u001b[0m\u001b[0;34m,\u001b[0m \u001b[0mphb_production_gly\u001b[0m \u001b[0;34m/\u001b[0m\u001b[0;34m(\u001b[0m\u001b[0;34m-\u001b[0m\u001b[0;36m1\u001b[0m\u001b[0;34m*\u001b[0m\u001b[0mmodel\u001b[0m\u001b[0;34m.\u001b[0m\u001b[0mreactions\u001b[0m\u001b[0;34m.\u001b[0m\u001b[0mEX_glycerol_e\u001b[0m\u001b[0;34m.\u001b[0m\u001b[0mflux\u001b[0m\u001b[0;34m)\u001b[0m\u001b[0;34m)\u001b[0m\u001b[0;34m\u001b[0m\u001b[0;34m\u001b[0m\u001b[0m\n\u001b[0m\u001b[1;32m     13\u001b[0m \u001b[0;34m\u001b[0m\u001b[0m\n\u001b[1;32m     14\u001b[0m \u001b[0;34m\u001b[0m\u001b[0m\n",
=======
      "\u001b[0;32m<ipython-input-22-2f7af683e7da>\u001b[0m in \u001b[0;36m<module>\u001b[0;34m\u001b[0m\n\u001b[1;32m     10\u001b[0m \u001b[0mphb_production_gly\u001b[0m \u001b[0;34m=\u001b[0m \u001b[0mmodel\u001b[0m\u001b[0;34m.\u001b[0m\u001b[0moptimize\u001b[0m\u001b[0;34m(\u001b[0m\u001b[0;34m)\u001b[0m\u001b[0;34m.\u001b[0m\u001b[0mobjective_value\u001b[0m\u001b[0;34m\u001b[0m\u001b[0;34m\u001b[0m\u001b[0m\n\u001b[1;32m     11\u001b[0m \u001b[0mprint\u001b[0m\u001b[0;34m(\u001b[0m\u001b[0;34m\"Max. phb production [mmol gDW^-1 h^-1]:\"\u001b[0m\u001b[0;34m,\u001b[0m \u001b[0mphb_production_gly\u001b[0m\u001b[0;34m)\u001b[0m\u001b[0;34m\u001b[0m\u001b[0;34m\u001b[0m\u001b[0m\n\u001b[0;32m---> 12\u001b[0;31m \u001b[0mprint\u001b[0m\u001b[0;34m(\u001b[0m\u001b[0;34m\"Theoretical max. yield [mmol-phb / mmol-phb]:\"\u001b[0m\u001b[0;34m,\u001b[0m \u001b[0mphb_production_gly\u001b[0m \u001b[0;34m/\u001b[0m\u001b[0;34m(\u001b[0m\u001b[0;34m-\u001b[0m\u001b[0;36m1\u001b[0m\u001b[0;34m*\u001b[0m\u001b[0mmodel\u001b[0m\u001b[0;34m.\u001b[0m\u001b[0mreactions\u001b[0m\u001b[0;34m.\u001b[0m\u001b[0mEX_glycerol_e\u001b[0m\u001b[0;34m.\u001b[0m\u001b[0mflux\u001b[0m\u001b[0;34m)\u001b[0m\u001b[0;34m)\u001b[0m\u001b[0;34m\u001b[0m\u001b[0;34m\u001b[0m\u001b[0m\n\u001b[0m\u001b[1;32m     13\u001b[0m \u001b[0;34m\u001b[0m\u001b[0m\n\u001b[1;32m     14\u001b[0m \u001b[0;34m\u001b[0m\u001b[0m\n",
>>>>>>> a701b44c3673c09f4046d48c85c9baed9820c6b0
      "\u001b[0;31mZeroDivisionError\u001b[0m: float division by zero"
     ]
    }
   ],
   "source": [
    "#### with only glycerol as C-source \n",
    "medium = model.medium\n",
    "print(medium)\n",
    "## adding glyercol to media, switching off fructose intake\n",
    "medium [\"EX_glycerol_e\"] = 10\n",
    "medium ['EX_fru_e'] = 0\n",
    "model.medium = medium\n",
    "print(medium)\n",
    "model.objective = model.reactions.EX_pbhb_e\n",
    "phb_production_gly = model.optimize().objective_value\n",
    "print(\"Max. phb production [mmol gDW^-1 h^-1]:\", phb_production_gly)\n",
    "print(\"Theoretical max. yield [mmol-phb / mmol-phb]:\", phb_production_gly /(-1*model.reactions.EX_glycerol_e.flux))\n",
    "\n",
    "\n"
   ]
  },
  {
   "cell_type": "code",
<<<<<<< HEAD
   "execution_count": 52,
=======
   "execution_count": 23,
>>>>>>> a701b44c3673c09f4046d48c85c9baed9820c6b0
   "id": "725e0c7a-9224-453f-8c88-b0ff17cf7309",
   "metadata": {},
   "outputs": [],
   "source": [
    "### This code doesnt work for some reason ... \n",
    "# with model:\n",
    "#    medium = model.medium\n",
    " #   medium ['EX_fru_e'] = 0\n",
    "  #  medium ['EX_glycerol_e'] = 10\n",
    "  #  model.medium = medium\n",
    "  #  print(medium)\n",
    "  #  model.objective = model.reactions.EX_pbhb_e\n",
    "  #  phb_production_fru = model.optimize().objective_value\n",
    "  #  print(\"Max. phb production [mmol gDW^-1 h^-1]:\", phb_production_fru)\n",
    "  #  print(\"Theoretical max. yield [mmol-succ / mmol-ac]:\", phb_production_fru / (-1*model.reactions.EX_fru_e.flux))"
   ]
  },
  {
   "cell_type": "code",
<<<<<<< HEAD
   "execution_count": 53,
=======
   "execution_count": 24,
>>>>>>> a701b44c3673c09f4046d48c85c9baed9820c6b0
   "id": "0b817cb6-2cd2-4bdf-846d-44d4b481ff6e",
   "metadata": {},
   "outputs": [
    {
     "name": "stdout",
     "output_type": "stream",
     "text": [
      "{'EX_fe2_e': 10.0, 'EX_mg2_e': 10.0, 'EX_pi_e': 100.0, 'EX_cobalt2_e': 10.0, 'EX_cl_e': 10.0, 'EX_k_e': 10.0, 'EX_fe3_e': 10.0, 'EX_so4_e': 10.0, 'EX_nh4_e': 10.0, 'EX_na_e': 10.0, 'EX_o2_e': 18.5, 'EX_mobd_e': 10.0, 'EX_h2o_e': 1000.0, 'EX_h_e': 100.0, 'EX_glycerol_e': 10}\n",
      "{'EX_fe2_e': 10.0, 'EX_mg2_e': 10.0, 'EX_pi_e': 100.0, 'EX_cobalt2_e': 10.0, 'EX_cl_e': 10.0, 'EX_k_e': 10.0, 'EX_fe3_e': 10.0, 'EX_so4_e': 10.0, 'EX_nh4_e': 10.0, 'EX_na_e': 10.0, 'EX_o2_e': 18.5, 'EX_mobd_e': 10.0, 'EX_h2o_e': 1000.0, 'EX_h_e': 100.0, 'EX_glycerol_e': 0, 'EX_fru_e': 0}\n",
      "0.0\n",
      "biomass 0.0\n",
      "Max. phb production [mmol gDW^-1 h^-1]: 0.0\n"
     ]
    },
    {
     "data": {
      "text/html": [
       "<h3>Objective</h3><p>1.0 EX_pbhb_e = 0.0</p><h4>Uptake</h4><table border=\"1\" class=\"dataframe\">\n",
       "  <thead>\n",
       "    <tr style=\"text-align: right;\">\n",
       "      <th>Metabolite</th>\n",
       "      <th>Reaction</th>\n",
       "      <th>Flux</th>\n",
       "      <th>C-Number</th>\n",
       "      <th>C-Flux</th>\n",
       "    </tr>\n",
       "  </thead>\n",
       "  <tbody>\n",
       "  </tbody>\n",
       "</table><h4>Secretion</h4><table border=\"1\" class=\"dataframe\">\n",
       "  <thead>\n",
       "    <tr style=\"text-align: right;\">\n",
       "      <th>Metabolite</th>\n",
       "      <th>Reaction</th>\n",
       "      <th>Flux</th>\n",
       "      <th>C-Number</th>\n",
       "      <th>C-Flux</th>\n",
       "    </tr>\n",
       "  </thead>\n",
       "  <tbody>\n",
       "  </tbody>\n",
       "</table>"
      ],
      "text/plain": [
<<<<<<< HEAD
       "<cobra.summary.model_summary.ModelSummary at 0x7f87fee75fd0>"
      ]
     },
     "execution_count": 53,
=======
       "<cobra.summary.model_summary.ModelSummary at 0x7f9d29a01700>"
      ]
     },
     "execution_count": 24,
>>>>>>> a701b44c3673c09f4046d48c85c9baed9820c6b0
     "metadata": {},
     "output_type": "execute_result"
    }
   ],
   "source": [
    "#### test if glucose and glycerol = 0 resulting in phb 0 and biomass 0\n",
    "medium = model.medium\n",
    "print(medium)\n",
    "## adding glyercol to media, switching off fructose intake\n",
    "medium[\"EX_glycerol_e\"] = 0\n",
    "medium['EX_fru_e'] = 0\n",
    "model.medium = medium\n",
    "print(medium)\n",
    "solution=model.optimize()\n",
    "print(solution.fluxes['EX_BIOMASS_c'])\n",
<<<<<<< HEAD
    "model.objective = model.reactions.EX_pbhb_e\n",
=======
>>>>>>> a701b44c3673c09f4046d48c85c9baed9820c6b0
    "phb_production_gly = model.optimize().objective_value\n",
    "print(\"biomass\", model.optimize().fluxes['EX_BIOMASS_c'])\n",
    "print(\"Max. phb production [mmol gDW^-1 h^-1]:\", phb_production_gly)\n",
    "model.summary()"
   ]
  },
  {
   "cell_type": "code",
   "execution_count": null,
   "id": "c95745e9-a639-4140-ab67-bf46eb7fb9f1",
   "metadata": {},
   "outputs": [],
   "source": []
  },
  {
   "cell_type": "code",
   "execution_count": null,
   "id": "854f9d27-03e5-4984-9488-11de6756cfd8",
   "metadata": {},
   "outputs": [],
   "source": []
  },
  {
   "cell_type": "code",
   "execution_count": null,
   "id": "dbcc8a0f-c9fa-431c-9917-4cd3774c5fde",
   "metadata": {},
   "outputs": [],
   "source": []
  },
  {
   "cell_type": "code",
   "execution_count": null,
   "id": "7596f580-1961-4dd1-b478-5d94274cab55",
   "metadata": {},
   "outputs": [],
   "source": []
  },
  {
   "cell_type": "code",
   "execution_count": null,
   "id": "2d7b8a86-7e32-44eb-b042-cce4baaf281f",
   "metadata": {},
   "outputs": [],
   "source": []
  },
  {
   "cell_type": "code",
   "execution_count": null,
   "id": "467bd4d2-ed31-4b63-be7d-fe2e9bba4136",
   "metadata": {},
   "outputs": [],
   "source": []
  },
  {
   "cell_type": "code",
   "execution_count": null,
   "id": "25d2a5c2-2361-4810-ab4f-f7885ba11e77",
   "metadata": {},
   "outputs": [],
   "source": []
<<<<<<< HEAD
=======
  },
  {
   "cell_type": "code",
   "execution_count": null,
   "id": "4208b85f-5406-44b5-a0ca-0de4d5b14b42",
   "metadata": {},
   "outputs": [],
   "source": []
  },
  {
   "cell_type": "code",
   "execution_count": null,
   "id": "4cec6a0a-23f5-42db-9fad-4713fd021b9d",
   "metadata": {},
   "outputs": [],
   "source": []
  },
  {
   "cell_type": "code",
   "execution_count": null,
   "id": "7fbc0595-3b9d-4da3-8c14-3230fbdf208a",
   "metadata": {},
   "outputs": [],
   "source": []
  },
  {
   "cell_type": "code",
   "execution_count": null,
   "id": "484cc3ca-70b6-4505-a024-d6422f488e6e",
   "metadata": {},
   "outputs": [],
   "source": []
  },
  {
   "cell_type": "code",
   "execution_count": null,
   "id": "e3592440-966a-4562-a911-2b1553d6ffea",
   "metadata": {},
   "outputs": [],
   "source": []
>>>>>>> a701b44c3673c09f4046d48c85c9baed9820c6b0
  }
 ],
 "metadata": {
  "kernelspec": {
   "display_name": "Python 3",
   "language": "python",
   "name": "python3"
  },
  "language_info": {
   "codemirror_mode": {
    "name": "ipython",
    "version": 3
   },
   "file_extension": ".py",
   "mimetype": "text/x-python",
   "name": "python",
   "nbconvert_exporter": "python",
   "pygments_lexer": "ipython3",
   "version": "3.8.8"
  }
 },
 "nbformat": 4,
 "nbformat_minor": 5
}
