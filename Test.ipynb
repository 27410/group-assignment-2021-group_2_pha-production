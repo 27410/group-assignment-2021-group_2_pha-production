{
 "cells": [
  {
   "cell_type": "code",
   "execution_count": 2,
   "id": "db680545",
   "metadata": {},
   "outputs": [],
   "source": [
    "import cobra.test\n",
    "import os\n",
    "from os.path import join\n",
    "from cobra.io import read_sbml_model\n",
    "model = cobra.io.load_json_model(join(\"RehMBEL1391_sbml_L3V1.json\"))"
   ]
  },
  {
   "cell_type": "code",
   "execution_count": 3,
   "id": "8d4a8aec-39bf-4154-b659-713b1e43ce83",
   "metadata": {},
   "outputs": [
    {
     "data": {
      "text/plain": [
       "1538"
      ]
     },
     "execution_count": 3,
     "metadata": {},
     "output_type": "execute_result"
    }
   ],
   "source": [
    "len(model.reactions)"
   ]
  },
  {
   "cell_type": "code",
   "execution_count": 4,
   "id": "01aa489b-3b71-4273-96ff-233bb6669f4f",
   "metadata": {},
   "outputs": [
    {
     "data": {
      "text/plain": [
       "1348"
      ]
     },
     "execution_count": 4,
     "metadata": {},
     "output_type": "execute_result"
    }
   ],
   "source": [
    "len(model.metabolites)"
   ]
  },
  {
   "cell_type": "code",
   "execution_count": 5,
   "id": "726d7e76-fae0-41a2-a38b-b7d4dc1ba038",
   "metadata": {},
   "outputs": [
    {
     "data": {
      "text/plain": [
       "1350"
      ]
     },
     "execution_count": 5,
     "metadata": {},
     "output_type": "execute_result"
    }
   ],
   "source": [
    "len(model.genes)"
   ]
  },
  {
   "cell_type": "code",
   "execution_count": 6,
   "id": "ed2cd36f-1477-4a5b-b6e6-4cae57aeaa9d",
   "metadata": {},
   "outputs": [
    {
     "data": {
      "text/plain": [
       "{'EX_fe2_e': 10.0,\n",
       " 'EX_mg2_e': 10.0,\n",
       " 'EX_pi_e': 100.0,\n",
       " 'EX_cobalt2_e': 10.0,\n",
       " 'EX_cl_e': 10.0,\n",
       " 'EX_k_e': 10.0,\n",
       " 'EX_fe3_e': 10.0,\n",
       " 'EX_so4_e': 10.0,\n",
       " 'EX_fru_e': 3.0,\n",
       " 'EX_nh4_e': 10.0,\n",
       " 'EX_na_e': 10.0,\n",
       " 'EX_o2_e': 18.5,\n",
       " 'EX_mobd_e': 10.0,\n",
       " 'EX_h2o_e': 1000.0,\n",
       " 'EX_h_e': 100.0}"
      ]
     },
     "execution_count": 6,
     "metadata": {},
     "output_type": "execute_result"
    }
   ],
   "source": [
    "model.medium"
   ]
  },
  {
   "cell_type": "code",
   "execution_count": 7,
   "id": "ae72bcfc",
   "metadata": {},
   "outputs": [
    {
     "data": {
      "text/html": [
       "\n",
       "        <table>\n",
       "            <tr>\n",
       "                <td><strong>Name</strong></td>\n",
       "                <td>RehMBEL1391</td>\n",
       "            </tr><tr>\n",
       "                <td><strong>Memory address</strong></td>\n",
       "                <td>0x013b2a78c250</td>\n",
       "            </tr><tr>\n",
       "                <td><strong>Number of metabolites</strong></td>\n",
       "                <td>1348</td>\n",
       "            </tr><tr>\n",
       "                <td><strong>Number of reactions</strong></td>\n",
       "                <td>1538</td>\n",
       "            </tr><tr>\n",
       "                <td><strong>Number of groups</strong></td>\n",
       "                <td>0</td>\n",
       "            </tr><tr>\n",
       "                <td><strong>Objective expression</strong></td>\n",
       "                <td>1.0*Biomass - 1.0*Biomass_reverse_57a34</td>\n",
       "            </tr><tr>\n",
       "                <td><strong>Compartments</strong></td>\n",
       "                <td>c, e</td>\n",
       "            </tr>\n",
       "          </table>"
      ],
      "text/plain": [
       "<Model RehMBEL1391 at 0x13b2a78c250>"
      ]
     },
     "execution_count": 7,
     "metadata": {},
     "output_type": "execute_result"
    }
   ],
   "source": [
    "model"
   ]
  },
  {
   "cell_type": "code",
   "execution_count": 8,
   "id": "3d911ccb",
   "metadata": {},
   "outputs": [
    {
     "data": {
      "text/plain": [
       "[<Metabolite zoe_c at 0x13b2a78c3d0>,\n",
       " <Metabolite 3hbz_c at 0x13b314b9c10>,\n",
       " <Metabolite hco3_c at 0x13b314b9be0>,\n",
       " <Metabolite actp_c at 0x13b314b9c70>,\n",
       " <Metabolite glytrna_c at 0x13b314b9ca0>,\n",
       " <Metabolite phaccoa_c at 0x13b314b9cd0>,\n",
       " <Metabolite 2h3mbzpyr_c at 0x13b314b9d00>,\n",
       " <Metabolite mettrna_c at 0x13b314b9d30>,\n",
       " <Metabolite ugmd_c at 0x13b314b9d60>,\n",
       " <Metabolite adprib_c at 0x13b314b9d90>]"
      ]
     },
     "execution_count": 8,
     "metadata": {},
     "output_type": "execute_result"
    }
   ],
   "source": [
    "model.metabolites[0:10]"
   ]
  },
  {
   "cell_type": "code",
   "execution_count": 28,
   "id": "3ebf2882",
   "metadata": {},
   "outputs": [
    {
     "name": "stdout",
     "output_type": "stream",
     "text": [
      "PHBD: h2o_c + phb_c <=> h_c + r3hbn2_c + r3rhbb_c\n",
      "PHBt: h_c + phb_c --> h_e + phb_e\n",
      "PHAS: r3hbcoa_c <=> coa_c + phb_c\n",
      "EX_pbhb_e: phb_e --> \n",
      "PHBt: h_c + phb_c --> h_e + phb_e\n"
     ]
    }
   ],
   "source": [
    "model.metabolites.phb_e\n",
    "model.reactions.EX_pbhb_e\n",
    "\n",
    "\n",
    "for reactions in model.metabolites.get_by_id(\"phb_c\").reactions: \n",
    "    print(reactions)\n",
    "    \n",
    "\n",
    "for reactions in model.metabolites.get_by_id(\"phb_e\").reactions: \n",
    "    print(reactions)\n",
    "    \n",
    "#pha_reactions = []\n",
    "#if \"EX_pbhb_e\" in model.reactions:\n",
    "#    pha_reactions.append(\"PHA\")\n",
    "\n",
    "#print(pha_reactions)\n",
    "    \n"
   ]
  },
  {
   "cell_type": "code",
   "execution_count": 44,
   "id": "36424f39-dd9e-499f-8157-8d144648f8fe",
   "metadata": {},
   "outputs": [
    {
     "name": "stdout",
     "output_type": "stream",
     "text": [
      "3HBCD: r3hbcoa_c <=> b2coa_c + h2o_c\n",
      "AACOAR: nadp_c + r3hbcoa_c <=> aacoa_c + h_c + nadph_c\n",
      "PHAS: r3hbcoa_c <=> coa_c + phb_c\n",
      "3HBCD: r3hbcoa_c <=> b2coa_c + h2o_c\n",
      "AACOAR: nadp_c + r3hbcoa_c <=> aacoa_c + h_c + nadph_c\n",
      "PHAS: r3hbcoa_c <=> coa_c + phb_c\n"
     ]
    }
   ],
   "source": [
    "for reactions in model.metabolites.get_by_id(\"r3hbcoa_c\").reactions: \n",
    "    print(reactions)\n",
    "    \n",
    "\n",
    "for reactions in model.metabolites.get_by_id(\"r3hbcoa_c\").reactions: \n",
    "    print(reactions)"
   ]
  },
  {
   "cell_type": "code",
   "execution_count": 46,
   "id": "10dc6aeb-4725-47aa-9548-f7dc262a8b9c",
   "metadata": {},
   "outputs": [
    {
     "data": {
      "text/html": [
       "\n",
       "        <table>\n",
       "            <tr>\n",
       "                <td><strong>Metabolite identifier</strong></td><td>b2coa_c</td>\n",
       "            </tr><tr>\n",
       "                <td><strong>Name</strong></td><td>Crotonoyl-CoA</td>\n",
       "            </tr><tr>\n",
       "                <td><strong>Memory address</strong></td>\n",
       "                <td>0x013b3169d970</td>\n",
       "            </tr><tr>\n",
       "                <td><strong>Formula</strong></td><td>C25H36N7O17P3S</td>\n",
       "            </tr><tr>\n",
       "                <td><strong>Compartment</strong></td><td>c</td>\n",
       "            </tr><tr>\n",
       "                <td><strong>In 4 reaction(s)</strong></td><td>\n",
       "                    ENCOAH1, GLUCD1, 3HBCD, ACOADH1</td>\n",
       "            </tr>\n",
       "        </table>"
      ],
      "text/plain": [
       "<Metabolite b2coa_c at 0x13b3169d970>"
      ]
     },
     "execution_count": 46,
     "metadata": {},
     "output_type": "execute_result"
    }
   ],
   "source": [
    "model.metabolites.b2coa_c"
   ]
  },
  {
   "cell_type": "code",
   "execution_count": 47,
   "id": "54867733-5521-47ba-9986-6913a5081505",
   "metadata": {},
   "outputs": [
    {
     "data": {
      "text/html": [
       "\n",
       "        <table>\n",
       "            <tr>\n",
       "                <td><strong>Metabolite identifier</strong></td><td>aacoa_c</td>\n",
       "            </tr><tr>\n",
       "                <td><strong>Name</strong></td><td>Acetoacetyl-CoA</td>\n",
       "            </tr><tr>\n",
       "                <td><strong>Memory address</strong></td>\n",
       "                <td>0x013b3172a070</td>\n",
       "            </tr><tr>\n",
       "                <td><strong>Formula</strong></td><td>C25H36N7O18P3S</td>\n",
       "            </tr><tr>\n",
       "                <td><strong>Compartment</strong></td><td>c</td>\n",
       "            </tr><tr>\n",
       "                <td><strong>In 6 reaction(s)</strong></td><td>\n",
       "                    AACOAR, 3HBCDH, OCOAT1m, HACD1, AACOAS, ACACT1r</td>\n",
       "            </tr>\n",
       "        </table>"
      ],
      "text/plain": [
       "<Metabolite aacoa_c at 0x13b3172a070>"
      ]
     },
     "execution_count": 47,
     "metadata": {},
     "output_type": "execute_result"
    }
   ],
   "source": [
    "model.metabolites.aacoa_c"
   ]
  },
  {
   "cell_type": "code",
   "execution_count": 33,
   "id": "3e98a6b5-dc17-456c-8944-ad75ee553ab5",
   "metadata": {},
   "outputs": [
    {
     "name": "stdout",
     "output_type": "stream",
     "text": [
      "PHBD: h2o_c + phb_c <=> h_c + r3hbn2_c + r3rhbb_c\n",
      "HBDH: h2o_c + r3rhbb_c <=> 2.0 bhb_c + h_c\n"
     ]
    }
   ],
   "source": [
    "for reactions in model.metabolites.get_by_id(\"r3rhbb_c\").reactions: \n",
    "    print(reactions)"
   ]
  },
  {
   "cell_type": "code",
   "execution_count": 34,
   "id": "1727b2a9-7aa5-466d-9bf0-9bbaa3584464",
   "metadata": {},
   "outputs": [
    {
     "data": {
      "text/html": [
       "\n",
       "        <table>\n",
       "            <tr>\n",
       "                <td><strong>Metabolite identifier</strong></td><td>bhb_c</td>\n",
       "            </tr><tr>\n",
       "                <td><strong>Name</strong></td><td>(R)-3-Hydroxybutanoate</td>\n",
       "            </tr><tr>\n",
       "                <td><strong>Memory address</strong></td>\n",
       "                <td>0x013b31701fd0</td>\n",
       "            </tr><tr>\n",
       "                <td><strong>Formula</strong></td><td>C4H7O3</td>\n",
       "            </tr><tr>\n",
       "                <td><strong>Compartment</strong></td><td>c</td>\n",
       "            </tr><tr>\n",
       "                <td><strong>In 3 reaction(s)</strong></td><td>\n",
       "                    HBDH, R3HBNt, 3HBD</td>\n",
       "            </tr>\n",
       "        </table>"
      ],
      "text/plain": [
       "<Metabolite bhb_c at 0x13b31701fd0>"
      ]
     },
     "execution_count": 34,
     "metadata": {},
     "output_type": "execute_result"
    }
   ],
   "source": [
    "model.metabolites.bhb_c"
   ]
  },
  {
   "cell_type": "code",
   "execution_count": 36,
   "id": "2c683e83-2e66-4c21-a7de-1f6c9cf02716",
   "metadata": {},
   "outputs": [
    {
     "name": "stdout",
     "output_type": "stream",
     "text": [
      "PHBD: h2o_c + phb_c <=> h_c + r3hbn2_c + r3rhbb_c\n"
     ]
    }
   ],
   "source": [
    "for reactions in model.metabolites.get_by_id(\"r3hbn2_c\").reactions: \n",
    "    print(reactions)"
   ]
  },
  {
   "cell_type": "code",
   "execution_count": 40,
   "id": "68bc6b52-2263-48f7-b631-b76195c2318b",
   "metadata": {},
   "outputs": [
    {
     "data": {
      "text/html": [
       "\n",
       "        <table>\n",
       "            <tr>\n",
       "                <td><strong>Metabolite identifier</strong></td><td>r3hbn2_c</td>\n",
       "            </tr><tr>\n",
       "                <td><strong>Name</strong></td><td>((R)-3-Hydroxybutanoyl)(n-2)</td>\n",
       "            </tr><tr>\n",
       "                <td><strong>Memory address</strong></td>\n",
       "                <td>0x013b316c5880</td>\n",
       "            </tr><tr>\n",
       "                <td><strong>Formula</strong></td><td>None</td>\n",
       "            </tr><tr>\n",
       "                <td><strong>Compartment</strong></td><td>c</td>\n",
       "            </tr><tr>\n",
       "                <td><strong>In 1 reaction(s)</strong></td><td>\n",
       "                    PHBD</td>\n",
       "            </tr>\n",
       "        </table>"
      ],
      "text/plain": [
       "<Metabolite r3hbn2_c at 0x13b316c5880>"
      ]
     },
     "execution_count": 40,
     "metadata": {},
     "output_type": "execute_result"
    }
   ],
   "source": [
    "model.metabolites.r3hbn2_c"
   ]
  },
  {
   "cell_type": "code",
   "execution_count": 38,
   "id": "63d7de87-bcd2-4d6e-beec-f69f6bd6af9b",
   "metadata": {},
   "outputs": [
    {
     "data": {
      "text/html": [
       "\n",
       "        <table>\n",
       "            <tr>\n",
       "                <td><strong>Metabolite identifier</strong></td><td>r3rhbb_c</td>\n",
       "            </tr><tr>\n",
       "                <td><strong>Name</strong></td><td>(R)-3-((R)-3-Hydroxybutanoyloxy)butanoate</td>\n",
       "            </tr><tr>\n",
       "                <td><strong>Memory address</strong></td>\n",
       "                <td>0x013b316c5340</td>\n",
       "            </tr><tr>\n",
       "                <td><strong>Formula</strong></td><td>None</td>\n",
       "            </tr><tr>\n",
       "                <td><strong>Compartment</strong></td><td>c</td>\n",
       "            </tr><tr>\n",
       "                <td><strong>In 2 reaction(s)</strong></td><td>\n",
       "                    PHBD, HBDH</td>\n",
       "            </tr>\n",
       "        </table>"
      ],
      "text/plain": [
       "<Metabolite r3rhbb_c at 0x13b316c5340>"
      ]
     },
     "execution_count": 38,
     "metadata": {},
     "output_type": "execute_result"
    }
   ],
   "source": [
    "model.metabolites.r3rhbb_c"
   ]
  },
  {
   "cell_type": "code",
   "execution_count": 43,
   "id": "ba3b7ff4-e6ab-4b2a-b9e2-588ca2166d0e",
   "metadata": {},
   "outputs": [
    {
     "data": {
      "text/html": [
       "\n",
       "        <table>\n",
       "            <tr>\n",
       "                <td><strong>Metabolite identifier</strong></td><td>r3hbcoa_c</td>\n",
       "            </tr><tr>\n",
       "                <td><strong>Name</strong></td><td>(R)-3-Hydroxybutanoyl-CoA</td>\n",
       "            </tr><tr>\n",
       "                <td><strong>Memory address</strong></td>\n",
       "                <td>0x013b31733580</td>\n",
       "            </tr><tr>\n",
       "                <td><strong>Formula</strong></td><td>None</td>\n",
       "            </tr><tr>\n",
       "                <td><strong>Compartment</strong></td><td>c</td>\n",
       "            </tr><tr>\n",
       "                <td><strong>In 3 reaction(s)</strong></td><td>\n",
       "                    3HBCD, AACOAR, PHAS</td>\n",
       "            </tr>\n",
       "        </table>"
      ],
      "text/plain": [
       "<Metabolite r3hbcoa_c at 0x13b31733580>"
      ]
     },
     "execution_count": 43,
     "metadata": {},
     "output_type": "execute_result"
    }
   ],
   "source": [
    "model.metabolites.r3hbcoa_c"
   ]
  },
  {
   "cell_type": "code",
   "execution_count": 7,
   "id": "4b4f0482",
   "metadata": {},
   "outputs": [
    {
     "name": "stdout",
     "output_type": "stream",
     "text": [
      "Index(['H2Ot', 'EX_h_e', 'EX_pi_e', 'CO2t', 'EX_o2_e', 'EX_nh4_e', 'EX_fru_e',\n",
      "       'PGI', 'PGK', 'PGM'],\n",
      "      dtype='object')\n"
     ]
    }
   ],
   "source": [
    "solution = model.optimize()\n",
    "fluxes = solution.fluxes\n",
    "order = fluxes.sort_values()\n",
    "print(order.index[0:10])"
   ]
  }
 ],
 "metadata": {
  "kernelspec": {
   "display_name": "Python 3",
   "language": "python",
   "name": "python3"
  },
  "language_info": {
   "codemirror_mode": {
    "name": "ipython",
    "version": 3
   },
   "file_extension": ".py",
   "mimetype": "text/x-python",
   "name": "python",
   "nbconvert_exporter": "python",
   "pygments_lexer": "ipython3",
   "version": "3.8.8"
  }
 },
 "nbformat": 4,
 "nbformat_minor": 5
}
