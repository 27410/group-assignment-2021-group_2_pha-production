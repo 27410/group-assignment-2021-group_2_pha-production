{
 "cells": [
  {
   "cell_type": "code",
   "execution_count": 1,
   "id": "db680545",
   "metadata": {},
   "outputs": [],
   "source": [
    "import cobra.test\n",
    "import os\n",
    "from os.path import join\n",
    "from cobra.io import read_sbml_model\n",
    "from cobra import Reaction, Metabolite\n",
    "from cobra.util import create_stoichiometric_matrix\n",
    "import numpy as np\n",
    "model = cobra.io.load_json_model(join(\"RehMBEL1391_sbml_L3V1.json\"))"
   ]
  },
  {
   "cell_type": "code",
   "execution_count": 2,
   "id": "8d4a8aec-39bf-4154-b659-713b1e43ce83",
   "metadata": {},
   "outputs": [
    {
     "data": {
      "text/plain": [
       "1538"
      ]
     },
     "execution_count": 2,
     "metadata": {},
     "output_type": "execute_result"
    }
   ],
   "source": [
    "len(model.reactions)"
   ]
  },
  {
   "cell_type": "code",
   "execution_count": 3,
   "id": "01aa489b-3b71-4273-96ff-233bb6669f4f",
   "metadata": {},
   "outputs": [
    {
     "data": {
      "text/plain": [
       "1348"
      ]
     },
     "execution_count": 3,
     "metadata": {},
     "output_type": "execute_result"
    }
   ],
   "source": [
    "len(model.metabolites)"
   ]
  },
  {
   "cell_type": "code",
   "execution_count": 4,
   "id": "726d7e76-fae0-41a2-a38b-b7d4dc1ba038",
   "metadata": {},
   "outputs": [
    {
     "data": {
      "text/plain": [
       "1350"
      ]
     },
     "execution_count": 4,
     "metadata": {},
     "output_type": "execute_result"
    }
   ],
   "source": [
    "len(model.genes)"
   ]
  },
  {
   "cell_type": "code",
   "execution_count": 5,
   "id": "ed2cd36f-1477-4a5b-b6e6-4cae57aeaa9d",
   "metadata": {},
   "outputs": [
    {
     "data": {
      "text/plain": [
       "{'EX_fe2_e': 10.0,\n",
       " 'EX_mg2_e': 10.0,\n",
       " 'EX_pi_e': 100.0,\n",
       " 'EX_cobalt2_e': 10.0,\n",
       " 'EX_cl_e': 10.0,\n",
       " 'EX_k_e': 10.0,\n",
       " 'EX_fe3_e': 10.0,\n",
       " 'EX_so4_e': 10.0,\n",
       " 'EX_fru_e': 3.0,\n",
       " 'EX_nh4_e': 10.0,\n",
       " 'EX_na_e': 10.0,\n",
       " 'EX_o2_e': 18.5,\n",
       " 'EX_mobd_e': 10.0,\n",
       " 'EX_h2o_e': 1000.0,\n",
       " 'EX_h_e': 100.0}"
      ]
     },
     "execution_count": 5,
     "metadata": {},
     "output_type": "execute_result"
    }
   ],
   "source": [
    "model.medium"
   ]
  },
  {
   "cell_type": "code",
   "execution_count": 6,
   "id": "ae72bcfc",
   "metadata": {},
   "outputs": [
    {
     "data": {
      "text/html": [
       "\n",
       "        <table>\n",
       "            <tr>\n",
       "                <td><strong>Name</strong></td>\n",
       "                <td>RehMBEL1391</td>\n",
       "            </tr><tr>\n",
       "                <td><strong>Memory address</strong></td>\n",
       "                <td>0x01ccac5c75e0</td>\n",
       "            </tr><tr>\n",
       "                <td><strong>Number of metabolites</strong></td>\n",
       "                <td>1348</td>\n",
       "            </tr><tr>\n",
       "                <td><strong>Number of reactions</strong></td>\n",
       "                <td>1538</td>\n",
       "            </tr><tr>\n",
       "                <td><strong>Number of groups</strong></td>\n",
       "                <td>0</td>\n",
       "            </tr><tr>\n",
       "                <td><strong>Objective expression</strong></td>\n",
       "                <td>1.0*Biomass - 1.0*Biomass_reverse_57a34</td>\n",
       "            </tr><tr>\n",
       "                <td><strong>Compartments</strong></td>\n",
       "                <td>c, e</td>\n",
       "            </tr>\n",
       "          </table>"
      ],
      "text/plain": [
       "<Model RehMBEL1391 at 0x1ccac5c75e0>"
      ]
     },
     "execution_count": 6,
     "metadata": {},
     "output_type": "execute_result"
    }
   ],
   "source": [
    "model"
   ]
  },
  {
   "cell_type": "code",
   "execution_count": 7,
   "id": "3d911ccb",
   "metadata": {},
   "outputs": [
    {
     "data": {
      "text/plain": [
       "[<Metabolite zoe_c at 0x1ccabb16d30>,\n",
       " <Metabolite 3hbz_c at 0x1ccac59f3d0>,\n",
       " <Metabolite hco3_c at 0x1ccac59f400>,\n",
       " <Metabolite actp_c at 0x1ccac59f370>,\n",
       " <Metabolite glytrna_c at 0x1ccac59f340>,\n",
       " <Metabolite phaccoa_c at 0x1ccac59f310>,\n",
       " <Metabolite 2h3mbzpyr_c at 0x1ccac59f2e0>,\n",
       " <Metabolite mettrna_c at 0x1ccac59f2b0>,\n",
       " <Metabolite ugmd_c at 0x1ccac59f280>,\n",
       " <Metabolite adprib_c at 0x1ccac59f250>]"
      ]
     },
     "execution_count": 7,
     "metadata": {},
     "output_type": "execute_result"
    }
   ],
   "source": [
    "model.metabolites[0:10]"
   ]
  },
  {
   "cell_type": "code",
   "execution_count": 8,
   "id": "3ebf2882",
   "metadata": {},
   "outputs": [
    {
     "name": "stdout",
     "output_type": "stream",
     "text": [
      "PHAS: r3hbcoa_c <=> coa_c + phb_c Polyhydroxyalkanoate synthase\n",
      "PHBD: h2o_c + phb_c <=> h_c + r3hbn2_c + r3rhbb_c Poly(3-hydroxybutyrate) depolymerase\n",
      "PHBt: h_c + phb_c --> h_e + phb_e Poly-beta-hydroxybutyrate transport\n",
      "EX_pbhb_e: phb_e -->  EX_pbhb_e\n",
      "PHBt: h_c + phb_c --> h_e + phb_e Poly-beta-hydroxybutyrate transport\n"
     ]
    }
   ],
   "source": [
    "model.metabolites.phb_e\n",
    "model.reactions.EX_pbhb_e\n",
    "\n",
    "#figuring out the PHA-production-pathway that is included in the provided model \n",
    "for reactions in model.metabolites.get_by_id(\"phb_c\").reactions: \n",
    "    print(reactions, reactions.name)  \n",
    "\n",
    "for reactions in model.metabolites.get_by_id(\"phb_e\").reactions: \n",
    "    print(reactions, reactions.name)"
   ]
  },
  {
   "cell_type": "code",
   "execution_count": 9,
   "id": "36424f39-dd9e-499f-8157-8d144648f8fe",
   "metadata": {},
   "outputs": [
    {
     "name": "stdout",
     "output_type": "stream",
     "text": [
      "AACOAR: nadp_c + r3hbcoa_c <=> aacoa_c + h_c + nadph_c Acetoacetyl-CoA reductase\n",
      "3HBCD: r3hbcoa_c <=> b2coa_c + h2o_c 3-hydroxybutyryl-CoA dehydratase\n",
      "PHAS: r3hbcoa_c <=> coa_c + phb_c Polyhydroxyalkanoate synthase\n"
     ]
    }
   ],
   "source": [
    "for reactions in model.metabolites.get_by_id(\"r3hbcoa_c\").reactions: \n",
    "    print(reactions, reactions.name)"
   ]
  },
  {
   "cell_type": "code",
   "execution_count": 10,
   "id": "2c683e83-2e66-4c21-a7de-1f6c9cf02716",
   "metadata": {},
   "outputs": [
    {
     "name": "stdout",
     "output_type": "stream",
     "text": [
      "PHBD: h2o_c + phb_c <=> h_c + r3hbn2_c + r3rhbb_c Poly(3-hydroxybutyrate) depolymerase\n"
     ]
    }
   ],
   "source": [
    "for reactions in model.metabolites.get_by_id(\"r3hbn2_c\").reactions: \n",
    "    print(reactions, reactions.name)\n",
    "#found a dead-end"
   ]
  },
  {
   "cell_type": "code",
   "execution_count": 11,
   "id": "3e98a6b5-dc17-456c-8944-ad75ee553ab5",
   "metadata": {},
   "outputs": [
    {
     "name": "stdout",
     "output_type": "stream",
     "text": [
      "HBDH: h2o_c + r3rhbb_c <=> 2.0 bhb_c + h_c\n",
      "PHBD: h2o_c + phb_c <=> h_c + r3hbn2_c + r3rhbb_c\n"
     ]
    }
   ],
   "source": [
    "for reactions in model.metabolites.get_by_id(\"r3rhbb_c\").reactions:\n",
    "    print(reactions)"
   ]
  },
  {
   "cell_type": "code",
   "execution_count": 12,
   "id": "be8fd073-9464-4e6f-b22d-4ea8dd501275",
   "metadata": {},
   "outputs": [
    {
     "name": "stdout",
     "output_type": "stream",
     "text": [
      "3HBCD: r3hbcoa_c <=> b2coa_c + h2o_c 3-hydroxybutyryl-CoA dehydratase\n",
      "GLUCD1: gcoa_c + nad_c --> b2coa_c + co2_c + nadh_c Glutaryl-CoA dehydrogenase\n",
      "ENCOAH1: 3hbcoa_c <=> b2coa_c + h2o_c Enoyl-CoA hydratase\n",
      "ACOADH1: btcoa_c + fad_c + h_c <=> b2coa_c + fadh2_c Acyl-CoA dehydrogenase butanoyl-CoA)\n"
     ]
    }
   ],
   "source": [
    "for reactions in model.metabolites.get_by_id(\"b2coa_c\").reactions: \n",
    "    print(reactions, reactions.name)"
   ]
  },
  {
   "cell_type": "code",
   "execution_count": 13,
   "id": "b2653189-4ea5-4434-bfc5-f70709fc2ec0",
   "metadata": {},
   "outputs": [
    {
     "name": "stdout",
     "output_type": "stream",
     "text": [
      "AACOAS: acac_c + atp_c + coa_c --> aacoa_c + amp_c + h_c + ppi_c Acetoacetyl-CoA synthetase\n",
      "ACACT1r: 2.0 accoa_c <=> aacoa_c + coa_c Acetyl-CoA C-acetyltransferase\n",
      "AACOAR: nadp_c + r3hbcoa_c <=> aacoa_c + h_c + nadph_c Acetoacetyl-CoA reductase\n",
      "OCOAT1m: acac_c + succoa_c <=> aacoa_c + succ_c 3-oxoacid CoA-transferase\n",
      "3HBCDH: 3hbcoa_c + nadp_c --> aacoa_c + h_c + nadph_c 3-hydroxybutyryl-CoA dehydrogenase\n",
      "HACD1: 3hbcoa_c + nad_c --> aacoa_c + h_c + nadh_c 3-hydroxyacyl-CoA dehydrogenase (acetoacetyl-CoA)\n"
     ]
    }
   ],
   "source": [
    "for reactions in model.metabolites.get_by_id(\"aacoa_c\").reactions: \n",
    "    print(reactions, reactions.name)"
   ]
  },
  {
   "cell_type": "code",
   "execution_count": 14,
   "id": "b7f29957-44c9-450f-b9c5-54d28a8d946b",
   "metadata": {},
   "outputs": [
    {
     "name": "stdout",
     "output_type": "stream",
     "text": [
      "aacoa_c  =  Acetoacetyl-CoA\n",
      "acac_c  =  Acetoacetate\n",
      "succoa_c  =  Succinyl-CoA\n",
      "gcoa_c  =  Glutaryl-CoA\n",
      "oaa_c  =  Oxaloacetate\n",
      "accoa_c  =  Acetyl-CoA\n",
      "btcoa_c  =  Butanoyl-CoA\n",
      "b2coa_c  =  Crotonoyl-CoA\n",
      "r3rhbb_c  =  (R)-3-((R)-3-Hydroxybutanoyloxy)butanoate\n",
      "r3hbn2_c  =  ((R)-3-Hydroxybutanoyl)(n-2)\n",
      "bhb_c  =  (R)-3-Hydroxybutanoate\n"
     ]
    }
   ],
   "source": [
    "#to figure out the names of the IDs we printed them\n",
    "print(model.metabolites.aacoa_c, ' = ', model.metabolites.aacoa_c.name)\n",
    "print(model.metabolites.acac_c, ' = ', model.metabolites.acac_c.name)\n",
    "print(model.metabolites.succoa_c, ' = ', model.metabolites.succoa_c.name)\n",
    "print(model.metabolites.gcoa_c, ' = ',model.metabolites.gcoa_c.name)\n",
    "print(model.metabolites.oaa_c, ' = ',model.metabolites.oaa_c.name)\n",
    "print(model.metabolites.accoa_c, ' = ',model.metabolites.accoa_c.name)\n",
    "print(model.metabolites.btcoa_c, ' = ',model.metabolites.btcoa_c.name)\n",
    "print(model.metabolites.b2coa_c, ' = ',model.metabolites.b2coa_c.name)\n",
    "print(model.metabolites.r3rhbb_c, ' = ',model.metabolites.r3rhbb_c.name)\n",
    "print(model.metabolites.r3hbn2_c, ' = ',model.metabolites.r3hbn2_c.name)\n",
    "print(model.metabolites.bhb_c, ' = ',model.metabolites.bhb_c.name)"
   ]
  },
  {
   "cell_type": "code",
   "execution_count": 15,
   "id": "a6854799-caa4-4742-a0a6-458a20640041",
   "metadata": {},
   "outputs": [
    {
     "name": "stdout",
     "output_type": "stream",
     "text": [
      "(3S)-3-Hydroxyadipyl-CoA molecular formula is C27H44N7O20P3S\n"
     ]
    }
   ],
   "source": [
    "#whenever we found a metabolite without an assigned molecular formula we added it in accordance with data found on pubchem\n",
    "model.metabolites.get_by_id(\"3hadpcoa_c\")\n",
    "#change molecluar formula of 3hadpcoa_c in accordance with data found on pubchem(https://pubchem.ncbi.nlm.nih.gov/compound/3S_-3-Hydroxyadipyl-CoA) \n",
    "model.metabolites.get_by_id(\"3hadpcoa_c\").elements = {\"C\": 27, \"H\": 44, \"N\": 7, \"O\": 20, \"P\":3, \"S\":1}\n",
    "\n",
    "#confirm that the molecular formula was updated\n",
    "print(model.metabolites.get_by_id(\"3hadpcoa_c\").name, 'molecular formula is', model.metabolites.get_by_id(\"3hadpcoa_c\").formula)"
   ]
  },
  {
   "cell_type": "code",
   "execution_count": 16,
   "id": "26e9315e-5427-459f-a0a3-bb7dd5268b30",
   "metadata": {},
   "outputs": [
    {
     "name": "stdout",
     "output_type": "stream",
     "text": [
      "Phenylacetyl-CoA = phaccoa_c\n",
      "2-Methylbut-2-enoyl-CoATiglyl-CoA = 2m2ecoa_c\n",
      "Anthranilyl-CoA = anthcoa_c\n",
      "crotonobetainyl-CoA = ctbtcoa_c\n",
      "Crotonoyl-CoA = b2coa_c\n",
      "Propanoyl-CoA = ppcoa_c\n",
      "2-Amino-5-oxocyclohex-1-enecarbonyl-CoA = 2amoeccoa_c\n",
      "3-Hydroxypropionyl-CoA = 3hpcoa_c\n",
      "2-Methylprop-2-enoyl-CoA = 2mp2coa_c\n",
      "O-Succinylbenzoyl-CoA = sbzcoa_c\n",
      "Pimeloyl-CoA = pmcoa_c\n",
      "Succinyl-CoA = succoa_c\n",
      "Glutaryl-CoA = gcoa_c\n",
      "5-Methyl-3-oxo-4-hexenoyl-CoA = 5m3o4hcoa_c\n",
      "(2E)-5-Methylhexa-2,4-dienoyl-CoA = 2e5mhdcoa_c\n",
      "Cyclohexane-1-carboxyl-CoA = cchccoa_c\n",
      "Malonyl-CoA = malcoa_c\n",
      "3-Oxopropionyl-CoA = 3oppcoa_c\n",
      "Adipyl-CoA = adipcoa_c\n",
      "2-Ketocyclohexane-1-carboxyl-CoA = 2kchccoa_c\n",
      "Naphthyl-2-methyl-succinyl-CoA = napmsccoa_c\n",
      "2-Hydroxycyclohexane-1-carboxyl-CoA = hcchccoa_c\n",
      "3-Methylcrotonyl-CoA = 3mccoa_c\n",
      "(S)-Methylmalonyl-CoA = mmcoa__S_c\n",
      "5-Methylhex-4-enoyl-CoA = 5mh4ecoa_c\n",
      "3-Hydroxypimeloyl-CoA = hpimcoa_c\n",
      "Naphthyl-2-oxomethyl-succinyl-CoA = napomsuccoa_c\n",
      "6-Hydroxycyclohex-1-enecarbonyl-CoA = 6hcecoa_c\n",
      "4-Hydroxyphenylacetyl-CoA = 4hpheacoa_c\n",
      "3-Oxoadipyl-CoA = oxadpcoa_c\n",
      "Cyclopropanecarboxyl-CoA = ccppccoa_c\n",
      "Acetyl-CoA = accoa_c\n",
      "Benzoyl-CoA = benzcoa_c\n",
      "3-Hydroxy-5-oxohexanoyl-CoA = 3h5ohcoa_c\n",
      "Citronellyl-CoA = citnlcoa_c\n",
      "(S)-3-Hydroxybutanoyl-CoA = 3hbcoa_c\n",
      "7-Methyl-3-oxo-6-octenoyl-CoA = 7m3o6ocoa_c\n",
      "2-Naphthoyl-CoA = 2naptcoa_c\n",
      "5-Carboxy-2-pentenoyl-CoA = carpcoa_c\n",
      "2-Methylpropanoyl-CoA = 2mppacoa_c\n",
      "2-Hydroxyglutaryl-CoA = hgcoa_c\n",
      "(S)-3-Hydroxy-2-methylbutyryl-CoA = 3hmbcoa_c\n",
      "3-Hydroxyisovaleryl-CoA = hivcoa_c\n",
      "2-Methylacetoacetyl-CoA = 2maaccoa_c\n",
      "(3S)-3-Hydroxyadipyl-CoA = 3hadpcoa_c\n",
      "Benzoyl acetyl-CoA = bzaccoa_c\n",
      "4-Hydroxybenzoyl-CoA = 4hbzcoa_c\n",
      "(S)-3-Hydroxyisobutyryl-CoA = 3hibutcoa_c\n",
      "(S)-2-Methylbutanoyl-CoA = 2mbcoa_c\n",
      "gamma-butyrobetainyl-CoA = bbtcoa_c\n",
      "3-Oxopimeloyl-CoA = 3opimcoa_c\n",
      "Lactoyl-CoA = laccoa_c\n",
      "(S)-3-Hydroxy-3-methylglutaryl-CoA = 3h3mgcoa_c\n",
      "Propenoyl-CoA = prpncoa_c\n",
      "Itaconyl-CoA = itcncoa_c\n",
      "3-Methylbutanoyl-CoA = 3mbcoa_c\n",
      "trans-Geranyl-CoA = tgercoa_c\n",
      "3-Hydroxy-5-methylhex-4-enoyl-CoA = 3h5m4ecoa_c\n",
      "3-Butenoyl-CoA = 3btecoa_c\n",
      "Naphthyl-2-methylene-succinyl-CoA = nap2msuccoa_c\n",
      "6-Carboxyhex-2-enoyl-CoA = 6checoa_c\n",
      "(R)-Methylmalonyl-CoA = mmcoa__R_c\n",
      "Acetoacetyl-CoA = aacoa_c\n",
      "2,6-Dihydroxycyclohexane-1-carboxyl-CoA = 26dhccoa_c\n",
      "Butanoyl-CoA = btcoa_c\n",
      "(R)-3-Hydroxybutanoyl-CoA = r3hbcoa_c\n",
      "L-Carnitinyl-CoA = crncoa_c\n"
     ]
    }
   ],
   "source": [
    "#finding the names of hydroxyacyl-CoA included in the model to later create an reaction where they react to PHA \n",
    "for metabolite in model.metabolites.query('yl-CoA', 'name'):\n",
    "    print(metabolite.name, '=', metabolite.id)"
   ]
  },
  {
   "cell_type": "code",
   "execution_count": 17,
   "id": "3f9b3d61-447e-4e8c-8711-f2b695a20b5e",
   "metadata": {},
   "outputs": [
    {
     "name": "stdout",
     "output_type": "stream",
     "text": [
      "3hadpcoa_c  =  (3S)-3-Hydroxyadipyl-CoA\n",
      "hpimcoa_c  =  3-Hydroxypimeloyl-CoA\n",
      "3hpcoa_c  =  3-Hydroxypropionyl-CoA\n",
      "r3hbcoa_c  =  (R)-3-Hydroxybutanoyl-CoA\n",
      "3hbcoa_c  =  (S)-3-Hydroxybutanoyl-CoA\n",
      "3hibutcoa_c  =  (S)-3-Hydroxyisobutyryl-CoA\n"
     ]
    }
   ],
   "source": [
    "#results for R-3-hydroxyacyl-CoAs from generated list \n",
    "#A total of 6 3-hydroxyacyl-CoAs has been found, but only 1 is available as an (R)-isomer\n",
    "#potential to include epimerisation reaction, where S-epimers are converted into R-epimers\n",
    "print(model.metabolites.get_by_id(\"3hadpcoa_c\"), ' = ', model.metabolites.get_by_id(\"3hadpcoa_c\").name)\n",
    "print(model.metabolites.get_by_id(\"hpimcoa_c\"), ' = ', model.metabolites.get_by_id(\"hpimcoa_c\").name)\n",
    "print(model.metabolites.get_by_id(\"3hpcoa_c\"), ' = ', model.metabolites.get_by_id(\"3hpcoa_c\").name)\n",
    "print(model.metabolites.get_by_id(\"r3hbcoa_c\"), ' = ', model.metabolites.get_by_id(\"r3hbcoa_c\").name)\n",
    "print(model.metabolites.get_by_id(\"3hbcoa_c\"), ' = ', model.metabolites.get_by_id(\"3hbcoa_c\").name)\n",
    "print(model.metabolites.get_by_id(\"3hibutcoa_c\"), ' = ', model.metabolites.get_by_id(\"3hibutcoa_c\").name)"
   ]
  },
  {
   "cell_type": "markdown",
   "id": "df6cf134-ec0f-401c-81d4-7c88d72938f7",
   "metadata": {},
   "source": [
    "**result:**\n",
    "\n",
    "*S-epimers:*\n",
    "- 3hadpcoa_c  =  (3S)-3-Hydroxyadipyl-CoA\n",
    "- 3hbcoa_c  =  (S)-3-Hydroxybutanoyl-CoA\n",
    "- 3hibutcoa_c  =  (S)-3-Hydroxyisobutyryl-CoA\n",
    "\n",
    "*R-epimers:*\n",
    "- hpimcoa_c  =  3-Hydroxypimeloyl-CoA\n",
    "- 3hpcoa_c  =  3-Hydroxypropionyl-CoA\n",
    "- r3hbcoa_c  =  (R)-3-Hydroxybutanoyl-CoA"
   ]
  },
  {
   "cell_type": "code",
   "execution_count": 18,
   "id": "a51818c4-b47f-43b9-80d1-dcc7db357352",
   "metadata": {},
   "outputs": [
    {
     "name": "stdout",
     "output_type": "stream",
     "text": [
      "{}\n",
      "3-Hydroxypimeloyl-CoA molecular formula is C28H46N7O20P3S\n"
     ]
    }
   ],
   "source": [
    "print(model.metabolites.hpimcoa_c.elements)\n",
    "#add missing molecular formula with data found on PubChem (\"https://pubchem.ncbi.nlm.nih.gov/compound/9543022\")\n",
    "model.metabolites.get_by_id(\"hpimcoa_c\").elements = {\"C\": 28, \"H\": 46, \"N\": 7, \"O\": 20, \"P\":3, \"S\":1}\n",
    "#check\n",
    "print(model.metabolites.get_by_id(\"hpimcoa_c\").name, 'molecular formula is', model.metabolites.get_by_id(\"hpimcoa_c\").formula)"
   ]
  },
  {
   "cell_type": "code",
   "execution_count": 19,
   "id": "ba3b7ff4-e6ab-4b2a-b9e2-588ca2166d0e",
   "metadata": {},
   "outputs": [
    {
     "name": "stdout",
     "output_type": "stream",
     "text": [
      "{}\n",
      "The molecular formula of (R)-3-Hydroxybutanoyl-CoA is C25H42N7O18P3S\n",
      "The molecular formula of (R)-3-((R)-3-Hydroxybutanoyloxy)butanoate is C8H13O5\n",
      "The molecular formula of ((R)-3-Hydroxybutanoyl)(n-2) is C4H6O2\n"
     ]
    }
   ],
   "source": [
    "print(model.metabolites.r3hbcoa_c.elements)\n",
    "#add missing molecular formula for r3hbcoa_3\n",
    "model.metabolites.r3hbcoa_c.elements = {\"C\": 25,\"H\": 42,\"N\": 7,\"O\": 18,\"P\": 3,\"S\": 1}\n",
    "print('The molecular formula of', model.metabolites.get_by_id(\"r3hbcoa_c\").name, 'is', model.metabolites.get_by_id(\"r3hbcoa_c\").formula)\n",
    "\n",
    "#add molecular formula for r3rhbb_c and r3hbn2_c\n",
    "model.metabolites.r3rhbb_c.elements = {\"C\": 8, \"H\": 13, \"O\": 5}\n",
    "model.metabolites.r3hbn2_c.elements = {\"C\": 4, \"H\": 6, \"O\": 2}\n",
    "#print to check whether it was successful\n",
    "print('The molecular formula of', model.metabolites.get_by_id(\"r3rhbb_c\").name, 'is', model.metabolites.get_by_id(\"r3rhbb_c\").formula)\n",
    "print('The molecular formula of', model.metabolites.get_by_id(\"r3hbn2_c\").name, 'is', model.metabolites.get_by_id(\"r3hbn2_c\").formula)"
   ]
  },
  {
   "cell_type": "code",
   "execution_count": 20,
   "id": "8c1680d4-4bf1-459f-b40c-e5d3c5bce800",
   "metadata": {},
   "outputs": [
    {
     "data": {
      "text/plain": [
       "{}"
      ]
     },
     "execution_count": 20,
     "metadata": {},
     "output_type": "execute_result"
    }
   ],
   "source": [
    "#there is no molecular formula for phb\n",
    "model.metabolites.get_by_id(\"phb_e\").elements"
   ]
  },
  {
   "cell_type": "code",
   "execution_count": 21,
   "id": "766ef18a-b531-424b-b5f7-e681a813d253",
   "metadata": {},
   "outputs": [],
   "source": [
    "#check which metabolite-ids are already taken that could resemble PHA-names\n",
    "for metabolite in model.metabolites.query('phhx_c', 'name'):\n",
    "    print(metabolite)\n",
    "for metabolite in model.metabolites.query('phh_c', 'name'):\n",
    "    print(metabolite)\n",
    "for metabolite in model.metabolites.query('phho_c', 'name'):\n",
    "    print(metabolite)\n",
    "for metabolite in model.metabolites.query('phn_c', 'name'):\n",
    "    print(metabolite)\n",
    "for metabolite in model.metabolites.query('phd_c', 'name'):\n",
    "    print(metabolite)\n",
    "#nothing got printed meaning none of the names have been used before in the model."
   ]
  },
  {
   "cell_type": "code",
   "execution_count": 22,
   "id": "62af15b4-2a5d-4034-845a-5a32728b4ccc",
   "metadata": {},
   "outputs": [],
   "source": [
    "#creating metabolites, giving them a unique ID according to the abbreviation of their full name\n",
    "PHHx = Metabolite(id=\"phhx_c\", compartment =\"c\", name =\"Polyhydroxyhexanoate\")\n",
    "PHH = Metabolite(id=\"phh_c\", compartment = \"c\", name =\"Polyhydroxyheptanoate\")\n",
    "PHHO = Metabolite(id=\"phho_c\", compartment =\"c\", name =\"Polyhydroxyoctanoate\")\n",
    "PHN = Metabolite(id=\"phn_c\", compartment = \"c\", name =\"Polyhydroxynonaoate\")\n",
    "PHD = Metabolite(id=\"phd_c\", compartment = \"c\", name =\"Polyhydroxydecanoate\")"
   ]
  },
  {
   "cell_type": "code",
   "execution_count": 23,
   "id": "2c8708fe-5acd-4ae1-9597-cdff38b2c73f",
   "metadata": {},
   "outputs": [],
   "source": [
    "#creating new reactions to model the production of medium-chain-length PHAs from (R)-3-Hydroxybutanoyl-CoA\n",
    "mcl_PHA_model = model\n",
    "phaC_PHHx_r3hbcoa_c = Reaction('mcl-Polyhydroxyalkanoate-synthase_for_PHHx_from_r3hbcoa_c')\n",
    "phaC_PHH_r3hbcoa_c = Reaction('mcl-Polyhydroxyalkanoate-synthase_for_PHH_from_r3hbcoa_c')\n",
    "phaC_PHHO_r3hbcoa_c = Reaction('mcl-Polyhydroxyalkanoate-synthase_for_PHHO_from_r3hbcoa_c')\n",
    "phaC_PHN_r3hbcoa_c = Reaction('mcl-Polyhydroxyalkanoate-synthase_for_PHN_from_r3hbcoa_c')\n",
    "phaC_PHD_r3hbcoa_c = Reaction('mcl-Polyhydroxyalkanoate-synthase_for_PHD_from_r3hbcoa_c')\n",
    "\n",
    "#creating new reactions to model the production of (R)-3-Hydroxybutanoyl-CoA from medium-chain-length PHA \n",
    "phaC_r3hbcoa_c_PHHx = Reaction('PHHx_breakdown_to_(R)-3-Hydroxybutanoyl-CoA')\n",
    "phaC_r3hbcoa_c_PHH = Reaction('PHH_breakdown_to_(R)-3-Hydroxybutanoyl-CoA')\n",
    "phaC_r3hbcoa_c_PHHO = Reaction('PHHO_breakdown_to_(R)-3-Hydroxybutanoyl-CoA')\n",
    "phaC_r3hbcoa_c_PHN = Reaction('PHN_breakdown_to_(R)-3-Hydroxybutanoyl-CoA')\n",
    "phaC_r3hbcoa_c_PHD = Reaction('PHD_breakdown_to_(R)-3-Hydroxybutanoyl-CoA')"
   ]
  },
  {
   "cell_type": "markdown",
   "id": "bb830b86-7840-45ec-ba49-179cd4172abf",
   "metadata": {},
   "source": [
    "From KEGG ENZYME:2.3.1.304 (https://www.genome.jp/entry/2.3.1.304) \n",
    "\n",
    "reaction equation:\n",
    "(3R)-3-hydroxyacyl-CoA + poly[(R)-3-hydroxyalkanoate]n = CoA + poly[(R)-3-hydroxyalkanoate]n+1\n",
    "\n",
    "for easier handling in this model:\n",
    "hydroxyacyl-CoA = CoA + polyhydroxyalkanoate"
   ]
  },
  {
   "cell_type": "code",
   "execution_count": 24,
   "id": "48cc5786-2ba8-4b82-b8dc-f2df7d3fe678",
   "metadata": {},
   "outputs": [],
   "source": [
    "#adding stochiometric data and involved metabolites to new reactions to model to produce medium-chain-length PHA from (R)-3-Hydroxybutanoyl-CoA\n",
    "phaC_PHHx_r3hbcoa_c.add_metabolites({mcl_PHA_model.metabolites.r3hbcoa_c: -1,\n",
    "                                PHHx: 1,\n",
    "                                   mcl_PHA_model.metabolites.coa_c: 1})\n",
    "phaC_PHH_r3hbcoa_c.add_metabolites({mcl_PHA_model.metabolites.r3hbcoa_c: -1,\n",
    "                                PHH: 1, \n",
    "                                   mcl_PHA_model.metabolites.coa_c: 1, })\n",
    "phaC_PHHO_r3hbcoa_c.add_metabolites({mcl_PHA_model.metabolites.r3hbcoa_c: -1,\n",
    "                                PHHO: 1,\n",
    "                                   mcl_PHA_model.metabolites.coa_c: 1, })\n",
    "phaC_PHN_r3hbcoa_c.add_metabolites({mcl_PHA_model.metabolites.r3hbcoa_c: -1,\n",
    "                                PHN: 1, \n",
    "                                   mcl_PHA_model.metabolites.coa_c: 1,})\n",
    "phaC_PHD_r3hbcoa_c.add_metabolites({mcl_PHA_model.metabolites.r3hbcoa_c: -1,\n",
    "                                PHD: 1,\n",
    "                                   mcl_PHA_model.metabolites.coa_c: 1,})\n",
    "\n",
    "#adding other direction of reactions as well\n",
    "phaC_r3hbcoa_c_PHHx.add_metabolites({mcl_PHA_model.metabolites.r3hbcoa_c: 1,\n",
    "                                PHHx: -1,\n",
    "                                   mcl_PHA_model.metabolites.coa_c: -1})\n",
    "phaC_r3hbcoa_c_PHH.add_metabolites({mcl_PHA_model.metabolites.r3hbcoa_c: 1,\n",
    "                                PHH: -1, \n",
    "                                   mcl_PHA_model.metabolites.coa_c: -1, })\n",
    "phaC_r3hbcoa_c_PHHO.add_metabolites({mcl_PHA_model.metabolites.r3hbcoa_c: 1,\n",
    "                                PHHO: -1,\n",
    "                                   mcl_PHA_model.metabolites.coa_c: -1, })\n",
    "phaC_r3hbcoa_c_PHN.add_metabolites({mcl_PHA_model.metabolites.r3hbcoa_c: 1,\n",
    "                                PHN: -1, \n",
    "                                   mcl_PHA_model.metabolites.coa_c: -1,})\n",
    "phaC_r3hbcoa_c_PHD.add_metabolites({mcl_PHA_model.metabolites.r3hbcoa_c: 1,\n",
    "                                PHD: -1,\n",
    "                                   mcl_PHA_model.metabolites.coa_c: -1,})"
   ]
  },
  {
   "cell_type": "code",
   "execution_count": 25,
   "id": "67840a41-dd70-407a-b978-387e0b9fa8f7",
   "metadata": {},
   "outputs": [],
   "source": [
    "#adding the reactions to the model\n",
    "mcl_PHA_model.add_reactions([phaC_PHHx_r3hbcoa_c])\n",
    "mcl_PHA_model.add_reactions([phaC_PHH_r3hbcoa_c])\n",
    "mcl_PHA_model.add_reactions([phaC_PHHO_r3hbcoa_c])\n",
    "mcl_PHA_model.add_reactions([phaC_PHN_r3hbcoa_c])\n",
    "mcl_PHA_model.add_reactions([phaC_PHD_r3hbcoa_c])\n",
    "\n",
    "mcl_PHA_model.add_reactions([phaC_r3hbcoa_c_PHHx])\n",
    "mcl_PHA_model.add_reactions([phaC_r3hbcoa_c_PHH])\n",
    "mcl_PHA_model.add_reactions([phaC_r3hbcoa_c_PHHO])\n",
    "mcl_PHA_model.add_reactions([phaC_r3hbcoa_c_PHN])\n",
    "mcl_PHA_model.add_reactions([phaC_r3hbcoa_c_PHD])"
   ]
  },
  {
   "cell_type": "code",
   "execution_count": 26,
   "id": "36ab96f7-a3d4-4440-87f9-349332b9513f",
   "metadata": {},
   "outputs": [],
   "source": [
    "#never forget to set boundaries for newly added reactions\n",
    "#somehow never added for the other reactions? \n",
    "#mcl_PHA_model.add_boundary(mcl_PHA_model.metabolites.phhx_c, type=\"demand\")\n",
    "#mcl_PHA_model.add_boundary(mcl_PHA_model.metabolites.phh_c, type=\"demand\")\n",
    "#mcl_PHA_model.add_boundary(mcl_PHA_model.metabolites.phho_c, type=\"demand\")\n",
    "#mcl_PHA_model.add_boundary(mcl_PHA_model.metabolites.phn_c, type=\"demand\")\n",
    "#mcl_PHA_model.add_boundary(mcl_PHA_model.metabolites.phd_c, type=\"demand\")"
   ]
  },
  {
   "cell_type": "code",
   "execution_count": 27,
   "id": "b628cd4e-a167-4cd6-9b02-df461019ea13",
   "metadata": {},
   "outputs": [],
   "source": [
    "#it works \n",
    "#doing the same for the other 3-Hydroxyacetyl-CoAs\n",
    "\n",
    "#creating new reaction to model to produce medium-chain-length PHA from 3-Hydroxypimeloyl-CoA\n",
    "phaC_PHHx_hpimcoa_c = Reaction('mcl-Polyhydroxyalkanoate-synthase_for_PHHx_from_hpimcoa_c')\n",
    "phaC_PHH_hpimcoa_c = Reaction('mcl-Polyhydroxyalkanoate-synthase_for_PHH_from_hpimcoa_c')\n",
    "phaC_PHHO_hpimcoa_c = Reaction('mcl-Polyhydroxyalkanoate-synthase_for_PHHO_from_hpimcoa_c')\n",
    "phaC_PHN_hpimcoa_c = Reaction('mcl-Polyhydroxyalkanoate-synthase_for_PHN_from_hpimcoa_c')\n",
    "phaC_PHD_hpimcoa_c = Reaction('mcl-Polyhydroxyalkanoate-synthase_for_PHD_from_hpimcoa_c')\n",
    "\n",
    "#creating new reactions to model the production of 3-Hydroxypimeloyl-CoA from medium-chain-length PHA \n",
    "phaC_hpimcoa_c_PHHx = Reaction('PHHx_breakdown_to_3-Hydroxypimeloyl-CoA')\n",
    "phaC_hpimcoa_c_PHH = Reaction('PHH_breakdown_to_3-Hydroxypimeloyl-CoA')\n",
    "phaC_hpimcoa_c_PHHO = Reaction('PHHO_breakdown_to_3-Hydroxypimeloyl-CoA')\n",
    "phaC_hpimcoa_c_PHN = Reaction('PHN_breakdown_to_3-Hydroxypimeloyl-CoA')\n",
    "phaC_hpimcoa_c_PHD = Reaction('PHD_breakdown_to_3-Hydroxypimeloyl-CoA')\n",
    "\n",
    "#adding stochiometric data and involved metabolites to new reactions to model the production of medium-chain-length PHA from 3-Hydroxypimeloyl-CoA\n",
    "phaC_PHHx_hpimcoa_c.add_metabolites({mcl_PHA_model.metabolites.hpimcoa_c: -1,\n",
    "                                PHHx: 1, \n",
    "                                    mcl_PHA_model.metabolites.coa_c: 1,})\n",
    "phaC_PHH_hpimcoa_c.add_metabolites({mcl_PHA_model.metabolites.hpimcoa_c: -1,\n",
    "                                PHH: 1, \n",
    "                                   mcl_PHA_model.metabolites.coa_c: 1,})\n",
    "phaC_PHHO_hpimcoa_c.add_metabolites({mcl_PHA_model.metabolites.hpimcoa_c: -1,\n",
    "                                PHHO: 1, \n",
    "                                    mcl_PHA_model.metabolites.coa_c: 1,})\n",
    "phaC_PHN_hpimcoa_c.add_metabolites({mcl_PHA_model.metabolites.hpimcoa_c: -1,\n",
    "                                PHN: 1, \n",
    "                                   mcl_PHA_model.metabolites.coa_c: 1,})\n",
    "phaC_PHD_hpimcoa_c.add_metabolites({mcl_PHA_model.metabolites.hpimcoa_c: -1,\n",
    "                                PHD: 1, \n",
    "                                   mcl_PHA_model.metabolites.coa_c: 1,})\n",
    "\n",
    "#adding stochiometric data and involved metabolites to new reactions to model the break-down of medium-chain-length PHA to 3-Hydroxypimeloyl-CoA\n",
    "phaC_hpimcoa_c_PHHx.add_metabolites({mcl_PHA_model.metabolites.hpimcoa_c: 1,\n",
    "                                PHHx: -1, \n",
    "                                    mcl_PHA_model.metabolites.coa_c: -1,})\n",
    "phaC_hpimcoa_c_PHH.add_metabolites({mcl_PHA_model.metabolites.hpimcoa_c: 1,\n",
    "                                PHH: -1, \n",
    "                                   mcl_PHA_model.metabolites.coa_c: -1,})\n",
    "phaC_hpimcoa_c_PHHO.add_metabolites({mcl_PHA_model.metabolites.hpimcoa_c: 1,\n",
    "                                PHHO: -1, \n",
    "                                    mcl_PHA_model.metabolites.coa_c: -1,})\n",
    "phaC_hpimcoa_c_PHN.add_metabolites({mcl_PHA_model.metabolites.hpimcoa_c: 1,\n",
    "                                PHN: -1, \n",
    "                                   mcl_PHA_model.metabolites.coa_c: -1,})\n",
    "phaC_hpimcoa_c_PHD.add_metabolites({mcl_PHA_model.metabolites.hpimcoa_c: 1,\n",
    "                                PHD: -1, \n",
    "                                   mcl_PHA_model.metabolites.coa_c: -1,})\n",
    "\n",
    "#adding the reactions to the model\n",
    "mcl_PHA_model.add_reactions([phaC_PHHx_hpimcoa_c])\n",
    "mcl_PHA_model.add_reactions([phaC_PHH_hpimcoa_c])\n",
    "mcl_PHA_model.add_reactions([phaC_PHHO_hpimcoa_c])\n",
    "mcl_PHA_model.add_reactions([phaC_PHN_hpimcoa_c])\n",
    "mcl_PHA_model.add_reactions([phaC_PHD_hpimcoa_c])\n",
    "\n",
    "mcl_PHA_model.add_reactions([phaC_hpimcoa_c_PHHx])\n",
    "mcl_PHA_model.add_reactions([phaC_hpimcoa_c_PHH])\n",
    "mcl_PHA_model.add_reactions([phaC_hpimcoa_c_PHHO])\n",
    "mcl_PHA_model.add_reactions([phaC_hpimcoa_c_PHN])\n",
    "mcl_PHA_model.add_reactions([phaC_hpimcoa_c_PHD])\n"
   ]
  },
  {
   "cell_type": "code",
   "execution_count": 28,
   "id": "d9c2f2f5-763f-4c83-9b49-198007cec9d7",
   "metadata": {},
   "outputs": [],
   "source": [
    "#it works \n",
    "#doing the same for 3-Hydroxypropionyl\n",
    "\n",
    "#creating new reaction to model to produce medium-chain-length PHA from 3-Hydroxypropionyl-CoA\n",
    "phaC_PHHx_3hpcoa_c = Reaction('mcl-Polyhydroxyalkanoate-synthase_for_PHHx_from_3hpcoa_c')\n",
    "phaC_PHH_3hpcoa_c = Reaction('mcl-Polyhydroxyalkanoate-synthase_for_PHH_from_3hpcoa_c')\n",
    "phaC_PHHO_3hpcoa_c = Reaction('mcl-Polyhydroxyalkanoate-synthase_for_PHHO_from_3hpcoa_c')\n",
    "phaC_PHN_3hpcoa_c = Reaction('mcl-Polyhydroxyalkanoate-synthase_for_PHN_from_3hpcoa_c')\n",
    "phaC_PHD_3hpcoa_c = Reaction('mcl-Polyhydroxyalkanoate-synthase_for_PHD_from_3hpcoa_c')\n",
    "\n",
    "#creating new reactions to model the production of 3-Hydroxypropionyl-CoA from medium-chain-length PHA \n",
    "phaC_3hpcoa_c_PHHx = Reaction('PHHx_breakdown_to_3-Hydroxypropionyl-CoA')\n",
    "phaC_3hpcoa_c_PHH = Reaction('PHH_breakdown_to_3-Hydroxypropionyl-CoA')\n",
    "phaC_3hpcoa_c_PHHO = Reaction('PHHO_breakdown_to_3-Hydroxypropionyl-CoA')\n",
    "phaC_3hpcoa_c_PHN = Reaction('PHN_breakdown_to_3-Hydroxypropionyl-CoA')\n",
    "phaC_3hpcoa_c_PHD = Reaction('PHD_breakdown_to_3-Hydroxypropionyl-CoA')\n",
    "\n",
    "#adding stochiometric data and involved metabolites to new reactions to model the production of mcl-PHAs from 3-Hydroxypropionyl-CoA\n",
    "phaC_PHHx_3hpcoa_c.add_metabolites({mcl_PHA_model.metabolites.get_by_id(\"3hpcoa_c\"): -1,\n",
    "                                PHHx: 1, \n",
    "                                    mcl_PHA_model.metabolites.coa_c: 1,})\n",
    "phaC_PHH_3hpcoa_c.add_metabolites({mcl_PHA_model.metabolites.get_by_id(\"3hpcoa_c\"): -1,\n",
    "                                PHH: 1, \n",
    "                                   mcl_PHA_model.metabolites.coa_c: 1,})\n",
    "phaC_PHHO_3hpcoa_c.add_metabolites({mcl_PHA_model.metabolites.get_by_id(\"3hpcoa_c\"): -1,\n",
    "                                PHHO: 1, \n",
    "                                    mcl_PHA_model.metabolites.coa_c: 1,})\n",
    "phaC_PHN_3hpcoa_c.add_metabolites({mcl_PHA_model.metabolites.get_by_id(\"3hpcoa_c\"): -1,\n",
    "                                PHN: 1, \n",
    "                                   mcl_PHA_model.metabolites.coa_c: 1,})\n",
    "phaC_PHD_3hpcoa_c.add_metabolites({mcl_PHA_model.metabolites.get_by_id(\"3hpcoa_c\"): -1,\n",
    "                                PHD: 1, \n",
    "                                   mcl_PHA_model.metabolites.coa_c: 1,})\n",
    "\n",
    "#adding stochiometric data and involved metabolites to new reactions to model the break-down of medium-chain-length PHA to 3-Hydroxypropionyl-CoA\n",
    "phaC_3hpcoa_c_PHHx.add_metabolites({mcl_PHA_model.metabolites.get_by_id(\"3hpcoa_c\"): 1,\n",
    "                                PHHx: -1, \n",
    "                                    mcl_PHA_model.metabolites.coa_c: -1,})\n",
    "phaC_3hpcoa_c_PHH.add_metabolites({mcl_PHA_model.metabolites.get_by_id(\"3hpcoa_c\"): 1,\n",
    "                                PHH: -1, \n",
    "                                   mcl_PHA_model.metabolites.coa_c: -1,})\n",
    "phaC_3hpcoa_c_PHHO.add_metabolites({mcl_PHA_model.metabolites.get_by_id(\"3hpcoa_c\"): 1,\n",
    "                                PHHO: -1, \n",
    "                                    mcl_PHA_model.metabolites.coa_c: -1,})\n",
    "phaC_3hpcoa_c_PHN.add_metabolites({mcl_PHA_model.metabolites.get_by_id(\"3hpcoa_c\"): 1,\n",
    "                                PHN: -1, \n",
    "                                   mcl_PHA_model.metabolites.coa_c: -1,})\n",
    "phaC_3hpcoa_c_PHD.add_metabolites({mcl_PHA_model.metabolites.get_by_id(\"3hpcoa_c\"): 1,\n",
    "                                PHD: -1, \n",
    "                                   mcl_PHA_model.metabolites.coa_c: -1,})\n",
    "\n",
    "#adding the reactions to the model\n",
    "mcl_PHA_model.add_reactions([phaC_PHHx_3hpcoa_c])\n",
    "mcl_PHA_model.add_reactions([phaC_PHH_3hpcoa_c])\n",
    "mcl_PHA_model.add_reactions([phaC_PHHO_3hpcoa_c])\n",
    "mcl_PHA_model.add_reactions([phaC_PHN_3hpcoa_c])\n",
    "mcl_PHA_model.add_reactions([phaC_PHD_3hpcoa_c])\n",
    "\n",
    "mcl_PHA_model.add_reactions([phaC_3hpcoa_c_PHHx])\n",
    "mcl_PHA_model.add_reactions([phaC_3hpcoa_c_PHH])\n",
    "mcl_PHA_model.add_reactions([phaC_3hpcoa_c_PHHO])\n",
    "mcl_PHA_model.add_reactions([phaC_3hpcoa_c_PHN])\n",
    "mcl_PHA_model.add_reactions([phaC_3hpcoa_c_PHD])"
   ]
  },
  {
   "cell_type": "code",
   "execution_count": 29,
   "id": "119f02b9-f582-44bb-bf20-0f8bc2b25c38",
   "metadata": {},
   "outputs": [
    {
     "name": "stdout",
     "output_type": "stream",
     "text": [
      "PHHx_breakdown_to_(R)-3-Hydroxybutanoyl-CoA: coa_c + phhx_c --> r3hbcoa_c \n",
      "PHHx_breakdown_to_3-Hydroxypimeloyl-CoA: coa_c + phhx_c --> hpimcoa_c \n",
      "mcl-Polyhydroxyalkanoate-synthase_for_PHHx_from_r3hbcoa_c: r3hbcoa_c --> coa_c + phhx_c \n",
      "mcl-Polyhydroxyalkanoate-synthase_for_PHHx_from_hpimcoa_c: hpimcoa_c --> coa_c + phhx_c \n",
      "PHHx_breakdown_to_3-Hydroxypropionyl-CoA: coa_c + phhx_c --> 3hpcoa_c \n",
      "mcl-Polyhydroxyalkanoate-synthase_for_PHHx_from_3hpcoa_c: 3hpcoa_c --> coa_c + phhx_c \n"
     ]
    }
   ],
   "source": [
    "#check whether addition was successful\n",
    "for reactions in model.metabolites.get_by_id(\"phhx_c\").reactions:\n",
    "    print(reactions, reactions.name)"
   ]
  },
  {
   "cell_type": "code",
   "execution_count": 30,
   "id": "f0c0a03d-8e2a-4857-9400-b5898d11038a",
   "metadata": {},
   "outputs": [
    {
     "name": "stdout",
     "output_type": "stream",
     "text": [
      "mcl-Polyhydroxyalkanoate-synthase_for_PHHO_from_hpimcoa_c: hpimcoa_c --> coa_c + phho_c \n",
      "mcl-Polyhydroxyalkanoate-synthase_for_PHN_from_hpimcoa_c: hpimcoa_c --> coa_c + phn_c \n",
      "mcl-Polyhydroxyalkanoate-synthase_for_PHD_from_hpimcoa_c: hpimcoa_c --> coa_c + phd_c \n",
      "PHHx_breakdown_to_3-Hydroxypimeloyl-CoA: coa_c + phhx_c --> hpimcoa_c \n",
      "mcl-Polyhydroxyalkanoate-synthase_for_PHH_from_hpimcoa_c: hpimcoa_c --> coa_c + phh_c \n",
      "PHH_breakdown_to_3-Hydroxypimeloyl-CoA: coa_c + phh_c --> hpimcoa_c \n",
      "PHD_breakdown_to_3-Hydroxypimeloyl-CoA: coa_c + phd_c --> hpimcoa_c \n",
      "PHHO_breakdown_to_3-Hydroxypimeloyl-CoA: coa_c + phho_c --> hpimcoa_c \n",
      "mcl-Polyhydroxyalkanoate-synthase_for_PHHx_from_hpimcoa_c: hpimcoa_c --> coa_c + phhx_c \n",
      "PHN_breakdown_to_3-Hydroxypimeloyl-CoA: coa_c + phn_c --> hpimcoa_c \n",
      "ACDH6: 6checoa_c + h2o_c --> hpimcoa_c Acyl dehydratase\n"
     ]
    }
   ],
   "source": [
    "for reactions in model.metabolites.get_by_id(\"hpimcoa_c\").reactions:\n",
    "    print(reactions, reactions.name)"
   ]
  },
  {
   "cell_type": "code",
   "execution_count": 31,
   "id": "7bdc4639-0ce2-4b3e-9029-354fba2ca306",
   "metadata": {},
   "outputs": [
    {
     "name": "stdout",
     "output_type": "stream",
     "text": [
      "3HBCD: r3hbcoa_c <=> b2coa_c + h2o_c 3-hydroxybutyryl-CoA dehydratase\n",
      "mcl-Polyhydroxyalkanoate-synthase_for_PHHO_from_r3hbcoa_c: r3hbcoa_c --> coa_c + phho_c \n",
      "PHHx_breakdown_to_(R)-3-Hydroxybutanoyl-CoA: coa_c + phhx_c --> r3hbcoa_c \n",
      "PHHO_breakdown_to_(R)-3-Hydroxybutanoyl-CoA: coa_c + phho_c --> r3hbcoa_c \n",
      "AACOAR: nadp_c + r3hbcoa_c <=> aacoa_c + h_c + nadph_c Acetoacetyl-CoA reductase\n",
      "mcl-Polyhydroxyalkanoate-synthase_for_PHH_from_r3hbcoa_c: r3hbcoa_c --> coa_c + phh_c \n",
      "mcl-Polyhydroxyalkanoate-synthase_for_PHN_from_r3hbcoa_c: r3hbcoa_c --> coa_c + phn_c \n",
      "PHAS: r3hbcoa_c <=> coa_c + phb_c Polyhydroxyalkanoate synthase\n",
      "mcl-Polyhydroxyalkanoate-synthase_for_PHHx_from_r3hbcoa_c: r3hbcoa_c --> coa_c + phhx_c \n",
      "PHD_breakdown_to_(R)-3-Hydroxybutanoyl-CoA: coa_c + phd_c --> r3hbcoa_c \n",
      "PHN_breakdown_to_(R)-3-Hydroxybutanoyl-CoA: coa_c + phn_c --> r3hbcoa_c \n",
      "PHH_breakdown_to_(R)-3-Hydroxybutanoyl-CoA: coa_c + phh_c --> r3hbcoa_c \n",
      "mcl-Polyhydroxyalkanoate-synthase_for_PHD_from_r3hbcoa_c: r3hbcoa_c --> coa_c + phd_c \n"
     ]
    }
   ],
   "source": [
    "for reactions in model.metabolites.r3hbcoa_c.reactions: \n",
    "    print(reactions, reactions.name)"
   ]
  },
  {
   "cell_type": "code",
   "execution_count": 32,
   "id": "e640d051-4d47-402c-857e-2118637f0680",
   "metadata": {},
   "outputs": [],
   "source": [
    "#creation of R-epimers of S-hydroxybutanoyl-CoA, S-3-Hydroxybutyryl-CoA and (3S)-3-Hydroxyadipyl-CoA\n",
    "#ID is similar to S-epimer with addition of r\n",
    "#this time we also know molecular formula (addition of elements as dict does not work, but copy-pasting of formula from model.metabolites.ID-data does)\n",
    "R3_HADP_COA = Metabolite(id=\"r3hadpcoa_c\", compartment =\"c\", name =\"(3R)-R-Hydroxyadipyl-CoA\", formula = 'C27H44N7O20P3S')\n",
    "#R-epimer of butanoyl-CoA is already existing, does not need to be created and epimerisation reaction as well\n",
    "#R3_HB_COA = Metabolite(id=\"r3hbcoa_c\", compartment = \"c\", name =\"(R)-3-Hydroxybutanoyl-CoA\", formula = 'C25H38N7O18P3S')\n",
    "R3_HIBUT_COA = Metabolite(id=\"r3hibutcoa_c\", compartment =\"c\", name =\"(R)-3-Hydroxyisobutyryl-CoA\", formula = 'C25H38N7O18P3S')\n",
    "\n",
    "epimerase_3hadpcoa_c = Reaction('Epimerisation_of_S-Hydroxyadipyl-CoA')\n",
    "#epimerase_3hbcoa_c = Reaction('Epimerisation_of_S-Hydroxybutanoyl-CoA')\n",
    "epimerase_3hibutcoa_c = Reaction('Epimerisation_of_S-Hydroxyisobutyryl-CoA')\n",
    "\n",
    "#adding stochiometric data and involved metabolites to new reactions to model the epimerisation\n",
    "epimerase_3hadpcoa_c.add_metabolites({mcl_PHA_model.metabolites.get_by_id(\"3hadpcoa_c\"): -1,\n",
    "                                mcl_PHA_model.metabolites.r3hbcoa_c: 1,})\n",
    "#epimerase_3hbcoa_c.add_metabolites({mcl_PHA_model.metabolites.get_by_id(\"3hbcoa_c\"): -1,\n",
    "#                                R3_HB_COA: 1,})\n",
    "epimerase_3hibutcoa_c.add_metabolites({mcl_PHA_model.metabolites.get_by_id(\"3hibutcoa_c\"): -1,\n",
    "                                R3_HIBUT_COA: 1,})\n",
    "\n",
    "#adding the reactions to the model\n",
    "mcl_PHA_model.add_reactions([epimerase_3hadpcoa_c])\n",
    "#mcl_PHA_model.add_reactions([epimerase_3hbcoa_c])\n",
    "mcl_PHA_model.add_reactions([epimerase_3hibutcoa_c])"
   ]
  },
  {
   "cell_type": "code",
   "execution_count": 33,
   "id": "e8f89771-f406-48f8-a689-f55cd537edd2",
   "metadata": {},
   "outputs": [],
   "source": [
    "#add PHA production from newly created R-Hydroxyacyl-CoAs as well to model"
   ]
  },
  {
   "cell_type": "code",
   "execution_count": 34,
   "id": "57ebaaab-030f-4d80-a0d7-bfb702c583be",
   "metadata": {},
   "outputs": [],
   "source": [
    "#creating new reaction to model to produce medium-chain-length PHA from (3R)-R-Hydroxyadipyl-CoA\n",
    "phaC_PHHx_r3hadpcoa_c = Reaction('mcl-Polyhydroxyalkanoate-synthase_for_PHHx_from_(3R)-R-Hydroxyadipyl-CoA')\n",
    "phaC_PHH_r3hadpcoa_c = Reaction('mcl-Polyhydroxyalkanoate-synthase_for_PHH_from_(3R)-R-Hydroxyadipyl-CoA')\n",
    "phaC_PHHO_r3hadpcoa_c = Reaction('mcl-Polyhydroxyalkanoate-synthase_for_PHHO_from_(3R)-R-Hydroxyadipyl-CoA')\n",
    "phaC_PHN_r3hadpcoa_c = Reaction('mcl-Polyhydroxyalkanoate-synthase_for_PHN_from_(3R)-R-Hydroxyadipyl-CoA')\n",
    "phaC_PHD_r3hadpcoa_c = Reaction('mcl-Polyhydroxyalkanoate-synthase_for_PHD_from_(3R)-R-Hydroxyadipyl-CoA')\n",
    "\n",
    "#creating new reactions to model the production of (3R)-R-Hydroxyadipyl-CoA from medium-chain-length PHA \n",
    "phaC_r3hadpcoa_c_PHHx = Reaction('PHHx_breakdown_to_(3R)-R-Hydroxyadipyl-CoA')\n",
    "phaC_r3hadpcoa_c_PHH = Reaction('PHH_breakdown_to_(3R)-R-Hydroxyadipyl-CoA')\n",
    "phaC_r3hadpcoa_c_PHHO = Reaction('PHHO_breakdown_to_(3R)-R-Hydroxyadipyl-CoA')\n",
    "phaC_r3hadpcoa_c_PHN = Reaction('PHN_breakdown_to_(3R)-R-Hydroxyadipyl-CoA')\n",
    "phaC_r3hadpcoa_c_PHD = Reaction('PHD_breakdown_to_(3R)-R-Hydroxyadipyl-CoA')\n",
    "\n",
    "#adding stochiometric data and involved metabolites to new reactions to model the production of mcl-PHAs from (3R)-R-Hydroxyadipyl-CoA\n",
    "phaC_PHHx_r3hadpcoa_c.add_metabolites({R3_HADP_COA: -1,\n",
    "                                PHHx: 1, \n",
    "                                    mcl_PHA_model.metabolites.coa_c: 1,})\n",
    "phaC_PHH_r3hadpcoa_c.add_metabolites({R3_HADP_COA: -1,\n",
    "                                PHH: 1, \n",
    "                                   mcl_PHA_model.metabolites.coa_c: 1,})\n",
    "phaC_PHHO_r3hadpcoa_c.add_metabolites({R3_HADP_COA: -1,\n",
    "                                PHHO: 1, \n",
    "                                    mcl_PHA_model.metabolites.coa_c: 1,})\n",
    "phaC_PHN_r3hadpcoa_c.add_metabolites({R3_HADP_COA: -1,\n",
    "                                PHN: 1, \n",
    "                                   mcl_PHA_model.metabolites.coa_c: 1,})\n",
    "phaC_PHD_r3hadpcoa_c.add_metabolites({R3_HADP_COA: -1,\n",
    "                                PHD: 1, \n",
    "                                   mcl_PHA_model.metabolites.coa_c: 1,})\n",
    "\n",
    "#adding stochiometric data and involved metabolites to new reactions to model the break-down of medium-chain-length PHA to (3R)-R-Hydroxyadipyl-CoA\n",
    "phaC_r3hadpcoa_c_PHHx.add_metabolites({R3_HADP_COA: 1,\n",
    "                                PHHx: -1, \n",
    "                                    mcl_PHA_model.metabolites.coa_c: -1,})\n",
    "phaC_r3hadpcoa_c_PHH.add_metabolites({R3_HADP_COA: 1,\n",
    "                                PHH: -1, \n",
    "                                   mcl_PHA_model.metabolites.coa_c: -1,})\n",
    "phaC_r3hadpcoa_c_PHHO.add_metabolites({R3_HADP_COA: 1,\n",
    "                                PHHO: -1, \n",
    "                                    mcl_PHA_model.metabolites.coa_c: -1,})\n",
    "phaC_r3hadpcoa_c_PHN.add_metabolites({R3_HADP_COA: 1,\n",
    "                                PHN: -1, \n",
    "                                   mcl_PHA_model.metabolites.coa_c: -1,})\n",
    "phaC_r3hadpcoa_c_PHD.add_metabolites({R3_HADP_COA: 1,\n",
    "                                PHD: -1, \n",
    "                                   mcl_PHA_model.metabolites.coa_c: -1,})\n",
    "\n",
    "#adding the reactions to the model\n",
    "mcl_PHA_model.add_reactions([phaC_PHHx_r3hadpcoa_c])\n",
    "mcl_PHA_model.add_reactions([phaC_PHH_r3hadpcoa_c])\n",
    "mcl_PHA_model.add_reactions([phaC_PHHO_r3hadpcoa_c])\n",
    "mcl_PHA_model.add_reactions([phaC_PHN_r3hadpcoa_c])\n",
    "mcl_PHA_model.add_reactions([phaC_PHD_r3hadpcoa_c])\n",
    "\n",
    "mcl_PHA_model.add_reactions([phaC_r3hadpcoa_c_PHHx])\n",
    "mcl_PHA_model.add_reactions([phaC_r3hadpcoa_c_PHH])\n",
    "mcl_PHA_model.add_reactions([phaC_r3hadpcoa_c_PHHO])\n",
    "mcl_PHA_model.add_reactions([phaC_r3hadpcoa_c_PHN])\n",
    "mcl_PHA_model.add_reactions([phaC_r3hadpcoa_c_PHD])"
   ]
  },
  {
   "cell_type": "code",
   "execution_count": 35,
   "id": "f4061547-c188-4f0d-9daa-0c4f458c5c6b",
   "metadata": {},
   "outputs": [],
   "source": [
    "#creating new reaction to model to produce medium-chain-length PHA from (R)-3-Hydroxybutanoyl-CoA\n",
    "#phaC_PHHx_r3hbcoa_c = Reaction('mcl-Polyhydroxyalkanoate-synthase_for_PHHx_from_(R)-3-Hydroxybutanoyl-CoA')\n",
    "#phaC_PHH_r3hbcoa_c = Reaction('mcl-Polyhydroxyalkanoate-synthase_for_PHH_from_(R)-3-Hydroxybutanoyl-CoA')\n",
    "#phaC_PHHO_r3hbcoa_c = Reaction('mcl-Polyhydroxyalkanoate-synthase_for_PHHO_from_(R)-3-Hydroxybutanoyl-CoA')\n",
    "#phaC_PHN_r3hbcoa_c = Reaction('mcl-Polyhydroxyalkanoate-synthase_for_PHN_from_(R)-3-Hydroxybutanoyl-CoA')\n",
    "#phaC_PHD_r3hbcoa_c = Reaction('mcl-Polyhydroxyalkanoate-synthase_for_PHD_from_(R)-3-Hydroxybutanoyl-CoA')\n",
    "\n",
    "#creating new reactions to model the production of (R)-3-Hydroxybutanoyl-CoA from medium-chain-length PHA \n",
    "#phaC_r3hbcoa_c_PHHx = Reaction('PHHx_breakdown_to_(R)-3-Hydroxybutanoyl-CoA')\n",
    "#phaC_r3hbcoa_c_PHH = Reaction('PHH_breakdown_to_(R)-3-Hydroxybutanoyl-CoA')\n",
    "#phaC_r3hbcoa_c_PHHO = Reaction('PHHO_breakdown_to_(R)-3-Hydroxybutanoyl-CoA')\n",
    "#phaC_r3hbcoa_c_PHN = Reaction('PHN_breakdown_to_(R)-3-Hydroxybutanoyl-CoA')\n",
    "#phaC_r3hbcoa_c_PHD = Reaction('PHD_breakdown_to_(R)-3-Hydroxybutanoyl-CoA')\n",
    "\n",
    "#adding stochiometric data and involved metabolites to new reactions to model the production of mcl-PHAs from (R)-3-Hydroxybutanoyl-CoA\n",
    "#phaC_PHHx_r3hbcoa_c.add_metabolites({R3_HB_COA: -1,\n",
    "#                                PHHx: 1, \n",
    "#                                    mcl_PHA_model.metabolites.coa_c: 1,})\n",
    "#phaC_PHH_r3hbcoa_c.add_metabolites({R3_HB_COA: -1,\n",
    "#                                PHH: 1, \n",
    "#                                   mcl_PHA_model.metabolites.coa_c: 1,})\n",
    "#phaC_PHHO_r3hbcoa_c.add_metabolites({R3_HB_COA: -1,\n",
    "#                                PHHO: 1, \n",
    "#                                    mcl_PHA_model.metabolites.coa_c: 1,})\n",
    "#phaC_PHN_r3hbcoa_c.add_metabolites({R3_HB_COA: -1,\n",
    "#                                PHN: 1, \n",
    "#                                   mcl_PHA_model.metabolites.coa_c: 1,})\n",
    "#phaC_PHD_r3hbcoa_c.add_metabolites({R3_HB_COA: -1,\n",
    "#                                PHD: 1, \n",
    "#                                   mcl_PHA_model.metabolites.coa_c: 1,})\n",
    "\n",
    "#adding stochiometric data and involved metabolites to new reactions to model the break-down of medium-chain-length PHA to (R)-3-Hydroxybutanoyl-CoA\n",
    "#phaC_r3hbcoa_c_PHHx.add_metabolites({R3_HB_COA: 1,\n",
    "#                                PHHx: -1, \n",
    "#                                    mcl_PHA_model.metabolites.coa_c: -1,})\n",
    "#phaC_r3hbcoa_c_PHH.add_metabolites({R3_HB_COA: 1,\n",
    "#                                PHH: -1, \n",
    "#                                   mcl_PHA_model.metabolites.coa_c: -1,})\n",
    "#phaC_r3hbcoa_c_PHHO.add_metabolites({R3_HB_COA: 1,\n",
    "#                                PHHO: -1, \n",
    "#                                    mcl_PHA_model.metabolites.coa_c: -1,})\n",
    "#phaC_r3hbcoa_c_PHN.add_metabolites({R3_HB_COA: 1,\n",
    "#                                PHN: -1, \n",
    "#                                   mcl_PHA_model.metabolites.coa_c: -1,})\n",
    "#phaC_r3hbcoa_c_PHD.add_metabolites({R3_HB_COA: 1,\n",
    "#                                PHD: -1, \n",
    "#                                   mcl_PHA_model.metabolites.coa_c: -1,})\n",
    "#\n",
    "#adding the reactions to the model\n",
    "#mcl_PHA_model.add_reactions([phaC_PHHx_r3hbcoa_c])\n",
    "#mcl_PHA_model.add_reactions([phaC_PHH_r3hbcoa_c])\n",
    "#mcl_PHA_model.add_reactions([phaC_PHHO_r3hbcoa_c])\n",
    "#mcl_PHA_model.add_reactions([phaC_PHN_r3hbcoa_c])\n",
    "#mcl_PHA_model.add_reactions([phaC_PHD_r3hbcoa_c])\n",
    "#\n",
    "#mcl_PHA_model.add_reactions([phaC_r3hbcoa_c_PHHx])\n",
    "#mcl_PHA_model.add_reactions([phaC_r3hbcoa_c_PHH])\n",
    "#mcl_PHA_model.add_reactions([phaC_r3hbcoa_c_PHHO])\n",
    "#mcl_PHA_model.add_reactions([phaC_r3hbcoa_c_PHN])\n",
    "#mcl_PHA_model.add_reactions([phaC_r3hbcoa_c_PHD])"
   ]
  },
  {
   "cell_type": "code",
   "execution_count": 36,
   "id": "07bc2c9c-9bcb-4f30-99bb-b98e80017e39",
   "metadata": {},
   "outputs": [],
   "source": [
    "#creating new reaction to model to produce medium-chain-length PHA from (R)-3-Hydroxyisobutyryl-CoA\n",
    "phaC_PHHx_r3hibutcoa_c_c = Reaction('mcl-Polyhydroxyalkanoate-synthase_for_PHHx_from_(R)-3-Hydroxyisobutyryl-CoA')\n",
    "phaC_PHH_r3hibutcoa_c_c = Reaction('mcl-Polyhydroxyalkanoate-synthase_for_PHH_from_(R)-3-Hydroxyisobutyryl-CoA')\n",
    "phaC_PHHO_r3hibutcoa_c_c = Reaction('mcl-Polyhydroxyalkanoate-synthase_for_PHHO_from_(R)-3-Hydroxyisobutyryl-CoA')\n",
    "phaC_PHN_r3hibutcoa_c_c = Reaction('mcl-Polyhydroxyalkanoate-synthase_for_PHN_from_(R)-3-Hydroxyisobutyryl-CoA')\n",
    "phaC_PHD_r3hibutcoa_c_c = Reaction('mcl-Polyhydroxyalkanoate-synthase_for_PHD_from_(R)-3-Hydroxyisobutyryl-CoA')\n",
    "\n",
    "#creating new reactions to model the production of (R)-3-Hydroxyisobutyryl-CoA from medium-chain-length PHA \n",
    "phaC_r3hibutcoa_c_c_PHHx = Reaction('PHHx_breakdown_to_(R)-3-Hydroxyisobutyryl-CoA')\n",
    "phaC_r3hibutcoa_c_c_PHH = Reaction('PHH_breakdown_to_(R)-3-Hydroxyisobutyryl-CoA')\n",
    "phaC_r3hibutcoa_c_c_PHHO = Reaction('PHHO_breakdown_to_(R)-3-Hydroxyisobutyryl-CoA')\n",
    "phaC_r3hibutcoa_c_c_PHN = Reaction('PHN_breakdown_to_(R)-3-Hydroxyisobutyryl-CoA')\n",
    "phaC_r3hibutcoa_c_c_PHD = Reaction('PHD_breakdown_to_(R)-3-Hydroxyisobutyryl-CoA')\n",
    "\n",
    "#adding stochiometric data and involved metabolites to new reactions to model the production of mcl-PHAs from (R)-3-Hydroxyisobutyryl-CoA\n",
    "phaC_PHHx_r3hibutcoa_c_c.add_metabolites({R3_HIBUT_COA: -1,\n",
    "                                PHHx: 1, \n",
    "                                    mcl_PHA_model.metabolites.coa_c: 1,})\n",
    "phaC_PHH_r3hibutcoa_c_c.add_metabolites({R3_HIBUT_COA: -1,\n",
    "                                PHH: 1, \n",
    "                                   mcl_PHA_model.metabolites.coa_c: 1,})\n",
    "phaC_PHHO_r3hibutcoa_c_c.add_metabolites({R3_HIBUT_COA: -1,\n",
    "                                PHHO: 1, \n",
    "                                    mcl_PHA_model.metabolites.coa_c: 1,})\n",
    "phaC_PHN_r3hibutcoa_c_c.add_metabolites({R3_HIBUT_COA: -1,\n",
    "                                PHN: 1, \n",
    "                                   mcl_PHA_model.metabolites.coa_c: 1,})\n",
    "phaC_PHD_r3hibutcoa_c_c.add_metabolites({R3_HIBUT_COA: -1,\n",
    "                                PHD: 1, \n",
    "                                   mcl_PHA_model.metabolites.coa_c: 1,})\n",
    "\n",
    "#adding stochiometric data and involved metabolites to new reactions to model the break-down of medium-chain-length PHA to (R)-3-Hydroxyisobutyryl-CoA\n",
    "phaC_r3hibutcoa_c_c_PHHx.add_metabolites({R3_HIBUT_COA: 1,\n",
    "                                PHHx: -1, \n",
    "                                    mcl_PHA_model.metabolites.coa_c: -1,})\n",
    "phaC_r3hibutcoa_c_c_PHH.add_metabolites({R3_HIBUT_COA: 1,\n",
    "                                PHH: -1, \n",
    "                                   mcl_PHA_model.metabolites.coa_c: -1,})\n",
    "phaC_r3hibutcoa_c_c_PHHO.add_metabolites({R3_HIBUT_COA: 1,\n",
    "                                PHHO: -1, \n",
    "                                    mcl_PHA_model.metabolites.coa_c: -1,})\n",
    "phaC_r3hibutcoa_c_c_PHN.add_metabolites({R3_HIBUT_COA: 1,\n",
    "                                PHN: -1, \n",
    "                                   mcl_PHA_model.metabolites.coa_c: -1,})\n",
    "phaC_r3hibutcoa_c_c_PHD.add_metabolites({R3_HIBUT_COA: 1,\n",
    "                                PHD: -1, \n",
    "                                   mcl_PHA_model.metabolites.coa_c: -1,})\n",
    "\n",
    "#adding the reactions to the model\n",
    "mcl_PHA_model.add_reactions([phaC_PHHx_r3hibutcoa_c_c])\n",
    "mcl_PHA_model.add_reactions([phaC_PHH_r3hibutcoa_c_c])\n",
    "mcl_PHA_model.add_reactions([phaC_PHHO_r3hibutcoa_c_c])\n",
    "mcl_PHA_model.add_reactions([phaC_PHN_r3hibutcoa_c_c])\n",
    "mcl_PHA_model.add_reactions([phaC_PHD_r3hibutcoa_c_c])\n",
    "\n",
    "mcl_PHA_model.add_reactions([phaC_r3hibutcoa_c_c_PHHx])\n",
    "mcl_PHA_model.add_reactions([phaC_r3hibutcoa_c_c_PHH])\n",
    "mcl_PHA_model.add_reactions([phaC_r3hibutcoa_c_c_PHHO])\n",
    "mcl_PHA_model.add_reactions([phaC_r3hibutcoa_c_c_PHN])\n",
    "mcl_PHA_model.add_reactions([phaC_r3hibutcoa_c_c_PHD])"
   ]
  },
  {
   "cell_type": "code",
   "execution_count": 37,
   "id": "f21a6002-8d2a-4809-9943-63bacbd720ee",
   "metadata": {},
   "outputs": [],
   "source": [
    "S = create_stoichiometric_matrix(model)"
   ]
  },
  {
   "cell_type": "code",
   "execution_count": 38,
   "id": "18744f8a-0188-400b-a7c8-09a77674f227",
   "metadata": {},
   "outputs": [
    {
     "data": {
      "image/png": "[encoded data removed]",
      "text/plain": [
       "<Figure size 720x720 with 1 Axes>"
      ]
     },
     "metadata": {
      "needs_background": "light"
     },
     "output_type": "display_data"
    }
   ],
   "source": [
    "import matplotlib.pyplot as plt\n",
    "\n",
    "plt.figure(figsize=(10,10))\n",
    "plt.spy(S, precision=0.01, markersize=0.2)\n",
    "plt.xlabel('Reactions')\n",
    "plt.ylabel('Metabolites')\n",
    "plt.show()"
   ]
  },
  {
   "cell_type": "code",
   "execution_count": 39,
   "id": "6dc9c376-c2e4-4724-8005-6c92ba58353b",
   "metadata": {},
   "outputs": [],
   "source": [
    "S_bin = np.where(S!=0., 1., 0.)"
   ]
  },
  {
   "cell_type": "code",
   "execution_count": 40,
   "id": "71fe0f40-b722-48b1-b7c0-52988b8a580b",
   "metadata": {},
   "outputs": [],
   "source": [
    "A_x = S_bin.dot(S_bin.T)"
   ]
  },
  {
   "cell_type": "code",
   "execution_count": 41,
   "id": "ed714f96-995a-4ff1-a5cb-5b4384d1f645",
   "metadata": {},
   "outputs": [],
   "source": [
    "connectivities = A_x.diagonal()"
   ]
  },
  {
   "cell_type": "code",
   "execution_count": 42,
   "id": "663eb582-84f7-4e48-87e4-9727886788e7",
   "metadata": {},
   "outputs": [
    {
     "data": {
      "image/png": "[encoded data removed]",
      "text/plain": [
       "<Figure size 432x288 with 1 Axes>"
      ]
     },
     "metadata": {
      "needs_background": "light"
     },
     "output_type": "display_data"
    }
   ],
   "source": [
    "plt.loglog(sorted(connectivities, reverse=True), 'o')\n",
    "plt.xlabel('Metabolite number')\n",
    "plt.ylabel('Number of reactions')\n",
    "plt.show()"
   ]
  },
  {
   "cell_type": "code",
   "execution_count": 43,
   "id": "de89066a-7ee9-4c5d-8252-88bccb37d3a9",
   "metadata": {},
   "outputs": [
    {
     "data": {
      "text/plain": [
       "[(<Metabolite h_c at 0x1ccac9caee0>, 834.0),\n",
       " (<Metabolite h2o_c at 0x1ccac9ca7f0>, 508.0),\n",
       " (<Metabolite atp_c at 0x1ccac9b64c0>, 215.0),\n",
       " (<Metabolite nad_c at 0x1ccad24e040>, 179.0),\n",
       " (<Metabolite nadh_c at 0x1ccac970cd0>, 174.0),\n",
       " (<Metabolite pi_c at 0x1ccad26c190>, 173.0),\n",
       " (<Metabolite o2_c at 0x1ccac9acdc0>, 148.0),\n",
       " (<Metabolite adp_c at 0x1ccac9c0490>, 148.0),\n",
       " (<Metabolite h_e at 0x1ccac9caf10>, 140.0),\n",
       " (<Metabolite coa_c at 0x1ccac9b6880>, 127.0)]"
      ]
     },
     "execution_count": 43,
     "metadata": {},
     "output_type": "execute_result"
    }
   ],
   "source": [
    "connectivity = sorted(zip(model.metabolites, A_x.diagonal()), key=lambda item: item[1], reverse=True)\n",
    "connectivity[0:10]"
   ]
  },
  {
   "cell_type": "code",
   "execution_count": 44,
   "id": "4b4f0482",
   "metadata": {},
   "outputs": [
    {
     "name": "stdout",
     "output_type": "stream",
     "text": [
      "Index(['H2Ot', 'EX_o2_e', 'ACACT1r', 'EX_pi_e', 'SUCOAS', 'GL3PD', 'CO2t',\n",
      "       'EX_nh4_e', 'EX_h_e', 'EX_fru_e'],\n",
      "      dtype='object')\n"
     ]
    }
   ],
   "source": [
    "solution = model.optimize()\n",
    "fluxes = solution.fluxes\n",
    "order = fluxes.sort_values()\n",
    "print(order.index[0:10])"
   ]
  }
 ],
 "metadata": {
  "kernelspec": {
   "display_name": "Python 3",
   "language": "python",
   "name": "python3"
  },
  "language_info": {
   "codemirror_mode": {
    "name": "ipython",
    "version": 3
   },
   "file_extension": ".py",
   "mimetype": "text/x-python",
   "name": "python",
   "nbconvert_exporter": "python",
   "pygments_lexer": "ipython3",
   "version": "3.8.8"
  }
 },
 "nbformat": 4,
 "nbformat_minor": 5
}
