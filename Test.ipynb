{
 "cells": [
  {
   "cell_type": "code",
   "execution_count": 1,
   "id": "db680545",
   "metadata": {},
   "outputs": [],
   "source": [
    "import cobra.test\n",
    "import os\n",
    "from os.path import join\n",
    "from cobra.io import read_sbml_model\n",
    "from cobra import Reaction, Metabolite\n",
    "from cobra.util import create_stoichiometric_matrix\n",
    "import numpy as np\n",
    "model = cobra.io.load_json_model(join(\"RehMBEL1391_sbml_L3V1.json\"))"
   ]
  },
  {
   "cell_type": "code",
   "execution_count": 2,
   "id": "8d4a8aec-39bf-4154-b659-713b1e43ce83",
   "metadata": {},
   "outputs": [
    {
     "data": {
      "text/plain": [
       "1538"
      ]
     },
     "execution_count": 2,
     "metadata": {},
     "output_type": "execute_result"
    }
   ],
   "source": [
    "#\n",
    "len(model.reactions)"
   ]
  },
  {
   "cell_type": "code",
   "execution_count": 3,
   "id": "01aa489b-3b71-4273-96ff-233bb6669f4f",
   "metadata": {},
   "outputs": [
    {
     "data": {
      "text/plain": [
       "1348"
      ]
     },
     "execution_count": 3,
     "metadata": {},
     "output_type": "execute_result"
    }
   ],
   "source": [
    "len(model.metabolites)"
   ]
  },
  {
   "cell_type": "code",
   "execution_count": 4,
   "id": "726d7e76-fae0-41a2-a38b-b7d4dc1ba038",
   "metadata": {},
   "outputs": [
    {
     "data": {
      "text/plain": [
       "1350"
      ]
     },
     "execution_count": 4,
     "metadata": {},
     "output_type": "execute_result"
    }
   ],
   "source": [
    "len(model.genes)"
   ]
  },
  {
   "cell_type": "code",
   "execution_count": 5,
   "id": "ed2cd36f-1477-4a5b-b6e6-4cae57aeaa9d",
   "metadata": {},
   "outputs": [
    {
     "data": {
      "text/plain": [
       "{'EX_fe2_e': 10.0,\n",
       " 'EX_mg2_e': 10.0,\n",
       " 'EX_pi_e': 100.0,\n",
       " 'EX_cobalt2_e': 10.0,\n",
       " 'EX_cl_e': 10.0,\n",
       " 'EX_k_e': 10.0,\n",
       " 'EX_fe3_e': 10.0,\n",
       " 'EX_so4_e': 10.0,\n",
       " 'EX_fru_e': 3.0,\n",
       " 'EX_nh4_e': 10.0,\n",
       " 'EX_na_e': 10.0,\n",
       " 'EX_o2_e': 18.5,\n",
       " 'EX_mobd_e': 10.0,\n",
       " 'EX_h2o_e': 1000.0,\n",
       " 'EX_h_e': 100.0}"
      ]
     },
     "execution_count": 5,
     "metadata": {},
     "output_type": "execute_result"
    }
   ],
   "source": [
    "model.medium"
   ]
  },
  {
   "cell_type": "code",
   "execution_count": 6,
   "id": "ae72bcfc",
   "metadata": {},
   "outputs": [
    {
     "data": {
      "text/html": [
       "\n",
       "        <table>\n",
       "            <tr>\n",
       "                <td><strong>Name</strong></td>\n",
       "                <td>RehMBEL1391</td>\n",
       "            </tr><tr>\n",
       "                <td><strong>Memory address</strong></td>\n",
       "                <td>0x0228c347a3d0</td>\n",
       "            </tr><tr>\n",
       "                <td><strong>Number of metabolites</strong></td>\n",
       "                <td>1348</td>\n",
       "            </tr><tr>\n",
       "                <td><strong>Number of reactions</strong></td>\n",
       "                <td>1538</td>\n",
       "            </tr><tr>\n",
       "                <td><strong>Number of groups</strong></td>\n",
       "                <td>0</td>\n",
       "            </tr><tr>\n",
       "                <td><strong>Objective expression</strong></td>\n",
       "                <td>1.0*Biomass - 1.0*Biomass_reverse_57a34</td>\n",
       "            </tr><tr>\n",
       "                <td><strong>Compartments</strong></td>\n",
       "                <td>c, e</td>\n",
       "            </tr>\n",
       "          </table>"
      ],
      "text/plain": [
       "<Model RehMBEL1391 at 0x228c347a3d0>"
      ]
     },
     "execution_count": 6,
     "metadata": {},
     "output_type": "execute_result"
    }
   ],
   "source": [
    "model"
   ]
  },
  {
   "cell_type": "code",
   "execution_count": 7,
   "id": "3d911ccb",
   "metadata": {},
   "outputs": [
    {
     "data": {
      "text/plain": [
       "[<Metabolite zoe_c at 0x228c3444f10>,\n",
       " <Metabolite 3hbz_c at 0x228c3450310>,\n",
       " <Metabolite hco3_c at 0x228c3450550>,\n",
       " <Metabolite actp_c at 0x228c34502e0>,\n",
       " <Metabolite glytrna_c at 0x228c34502b0>,\n",
       " <Metabolite phaccoa_c at 0x228c3450280>,\n",
       " <Metabolite 2h3mbzpyr_c at 0x228c3450250>,\n",
       " <Metabolite mettrna_c at 0x228c3450220>,\n",
       " <Metabolite ugmd_c at 0x228c34501f0>,\n",
       " <Metabolite adprib_c at 0x228c34501c0>]"
      ]
     },
     "execution_count": 7,
     "metadata": {},
     "output_type": "execute_result"
    }
   ],
   "source": [
    "model.metabolites[0:10]"
   ]
  },
  {
   "cell_type": "code",
   "execution_count": 8,
   "id": "3ebf2882",
   "metadata": {},
   "outputs": [
    {
     "name": "stdout",
     "output_type": "stream",
     "text": [
      "PHAS: r3hbcoa_c <=> coa_c + phb_c Polyhydroxyalkanoate synthase\n",
      "PHBD: h2o_c + phb_c <=> h_c + r3hbn2_c + r3rhbb_c Poly(3-hydroxybutyrate) depolymerase\n",
      "PHBt: h_c + phb_c --> h_e + phb_e Poly-beta-hydroxybutyrate transport\n",
      "EX_pbhb_e: phb_e -->  EX_pbhb_e\n",
      "PHBt: h_c + phb_c --> h_e + phb_e Poly-beta-hydroxybutyrate transport\n"
     ]
    }
   ],
   "source": [
    "#figuring out the PHA-production-pathway that is included in the provided model \n",
    "for reactions in model.metabolites.get_by_id(\"phb_c\").reactions: \n",
    "    print(reactions, reactions.name)  \n",
    "\n",
    "for reactions in model.metabolites.get_by_id(\"phb_e\").reactions: \n",
    "    print(reactions, reactions.name)"
   ]
  },
  {
   "cell_type": "code",
   "execution_count": 9,
   "id": "36424f39-dd9e-499f-8157-8d144648f8fe",
   "metadata": {},
   "outputs": [
    {
     "name": "stdout",
     "output_type": "stream",
     "text": [
      "PHAS: r3hbcoa_c <=> coa_c + phb_c Polyhydroxyalkanoate synthase\n",
      "3HBCD: r3hbcoa_c <=> b2coa_c + h2o_c 3-hydroxybutyryl-CoA dehydratase\n",
      "AACOAR: nadp_c + r3hbcoa_c <=> aacoa_c + h_c + nadph_c Acetoacetyl-CoA reductase\n"
     ]
    }
   ],
   "source": [
    "for reactions in model.metabolites.get_by_id(\"r3hbcoa_c\").reactions: \n",
    "    print(reactions, reactions.name)"
   ]
  },
  {
   "cell_type": "code",
   "execution_count": 10,
   "id": "2c683e83-2e66-4c21-a7de-1f6c9cf02716",
   "metadata": {},
   "outputs": [
    {
     "name": "stdout",
     "output_type": "stream",
     "text": [
      "PHBD: h2o_c + phb_c <=> h_c + r3hbn2_c + r3rhbb_c Poly(3-hydroxybutyrate) depolymerase\n"
     ]
    }
   ],
   "source": [
    "for reactions in model.metabolites.get_by_id(\"r3hbn2_c\").reactions: \n",
    "    print(reactions, reactions.name)\n",
    "#found a dead-end"
   ]
  },
  {
   "cell_type": "code",
   "execution_count": 11,
   "id": "3e98a6b5-dc17-456c-8944-ad75ee553ab5",
   "metadata": {},
   "outputs": [
    {
     "name": "stdout",
     "output_type": "stream",
     "text": [
      "HBDH: h2o_c + r3rhbb_c <=> 2.0 bhb_c + h_c\n",
      "PHBD: h2o_c + phb_c <=> h_c + r3hbn2_c + r3rhbb_c\n"
     ]
    }
   ],
   "source": [
    "for reactions in model.metabolites.get_by_id(\"r3rhbb_c\").reactions:\n",
    "    print(reactions)"
   ]
  },
  {
   "cell_type": "code",
   "execution_count": 12,
   "id": "be8fd073-9464-4e6f-b22d-4ea8dd501275",
   "metadata": {},
   "outputs": [
    {
     "name": "stdout",
     "output_type": "stream",
     "text": [
      "ACOADH1: btcoa_c + fad_c + h_c <=> b2coa_c + fadh2_c Acyl-CoA dehydrogenase butanoyl-CoA)\n",
      "3HBCD: r3hbcoa_c <=> b2coa_c + h2o_c 3-hydroxybutyryl-CoA dehydratase\n",
      "GLUCD1: gcoa_c + nad_c --> b2coa_c + co2_c + nadh_c Glutaryl-CoA dehydrogenase\n",
      "ENCOAH1: 3hbcoa_c <=> b2coa_c + h2o_c Enoyl-CoA hydratase\n"
     ]
    }
   ],
   "source": [
    "for reactions in model.metabolites.get_by_id(\"b2coa_c\").reactions: \n",
    "    print(reactions, reactions.name)"
   ]
  },
  {
   "cell_type": "code",
   "execution_count": 13,
   "id": "b2653189-4ea5-4434-bfc5-f70709fc2ec0",
   "metadata": {},
   "outputs": [
    {
     "name": "stdout",
     "output_type": "stream",
     "text": [
      "HACD1: 3hbcoa_c + nad_c --> aacoa_c + h_c + nadh_c 3-hydroxyacyl-CoA dehydrogenase (acetoacetyl-CoA)\n",
      "AACOAS: acac_c + atp_c + coa_c --> aacoa_c + amp_c + h_c + ppi_c Acetoacetyl-CoA synthetase\n",
      "ACACT1r: 2.0 accoa_c <=> aacoa_c + coa_c Acetyl-CoA C-acetyltransferase\n",
      "AACOAR: nadp_c + r3hbcoa_c <=> aacoa_c + h_c + nadph_c Acetoacetyl-CoA reductase\n",
      "3HBCDH: 3hbcoa_c + nadp_c --> aacoa_c + h_c + nadph_c 3-hydroxybutyryl-CoA dehydrogenase\n",
      "OCOAT1m: acac_c + succoa_c <=> aacoa_c + succ_c 3-oxoacid CoA-transferase\n"
     ]
    }
   ],
   "source": [
    "for reactions in model.metabolites.get_by_id(\"aacoa_c\").reactions: \n",
    "    print(reactions, reactions.name)"
   ]
  },
  {
   "cell_type": "code",
   "execution_count": 14,
   "id": "b7f29957-44c9-450f-b9c5-54d28a8d946b",
   "metadata": {},
   "outputs": [
    {
     "name": "stdout",
     "output_type": "stream",
     "text": [
      "aacoa_c  =  Acetoacetyl-CoA\n",
      "acac_c  =  Acetoacetate\n",
      "succoa_c  =  Succinyl-CoA\n",
      "gcoa_c  =  Glutaryl-CoA\n",
      "oaa_c  =  Oxaloacetate\n",
      "accoa_c  =  Acetyl-CoA\n",
      "btcoa_c  =  Butanoyl-CoA\n",
      "b2coa_c  =  Crotonoyl-CoA\n",
      "r3rhbb_c  =  (R)-3-((R)-3-Hydroxybutanoyloxy)butanoate\n",
      "r3hbn2_c  =  ((R)-3-Hydroxybutanoyl)(n-2)\n",
      "bhb_c  =  (R)-3-Hydroxybutanoate\n"
     ]
    }
   ],
   "source": [
    "#to figure out the names of the IDs we printed them\n",
    "print(model.metabolites.aacoa_c, ' = ', model.metabolites.aacoa_c.name)\n",
    "print(model.metabolites.acac_c, ' = ', model.metabolites.acac_c.name)\n",
    "print(model.metabolites.succoa_c, ' = ', model.metabolites.succoa_c.name)\n",
    "print(model.metabolites.gcoa_c, ' = ',model.metabolites.gcoa_c.name)\n",
    "print(model.metabolites.oaa_c, ' = ',model.metabolites.oaa_c.name)\n",
    "print(model.metabolites.accoa_c, ' = ',model.metabolites.accoa_c.name)\n",
    "print(model.metabolites.btcoa_c, ' = ',model.metabolites.btcoa_c.name)\n",
    "print(model.metabolites.b2coa_c, ' = ',model.metabolites.b2coa_c.name)\n",
    "print(model.metabolites.r3rhbb_c, ' = ',model.metabolites.r3rhbb_c.name)\n",
    "print(model.metabolites.r3hbn2_c, ' = ',model.metabolites.r3hbn2_c.name)\n",
    "print(model.metabolites.bhb_c, ' = ',model.metabolites.bhb_c.name)"
   ]
  },
  {
   "cell_type": "code",
   "execution_count": 15,
   "id": "a6854799-caa4-4742-a0a6-458a20640041",
   "metadata": {},
   "outputs": [
    {
     "name": "stdout",
     "output_type": "stream",
     "text": [
      "(3S)-3-Hydroxyadipyl-CoA molecular formula is C27H44N7O20P3S\n"
     ]
    }
   ],
   "source": [
    "#whenever we found a metabolite without an assigned molecular formula we added it in accordance with data found on pubchem\n",
    "model.metabolites.get_by_id(\"3hadpcoa_c\")\n",
    "#change molecluar formula of 3hadpcoa_c in accordance with data found on pubchem(https://pubchem.ncbi.nlm.nih.gov/compound/3S_-3-Hydroxyadipyl-CoA) \n",
    "model.metabolites.get_by_id(\"3hadpcoa_c\").elements = {\"C\": 27, \"H\": 44, \"N\": 7, \"O\": 20, \"P\":3, \"S\":1}\n",
    "\n",
    "#confirm that the molecular formula was updated\n",
    "print(model.metabolites.get_by_id(\"3hadpcoa_c\").name, 'molecular formula is', model.metabolites.get_by_id(\"3hadpcoa_c\").formula)"
   ]
  },
  {
   "cell_type": "code",
   "execution_count": 16,
   "id": "26e9315e-5427-459f-a0a3-bb7dd5268b30",
   "metadata": {},
   "outputs": [
    {
     "name": "stdout",
     "output_type": "stream",
     "text": [
      "Phenylacetyl-CoA = phaccoa_c\n",
      "2-Methylbut-2-enoyl-CoATiglyl-CoA = 2m2ecoa_c\n",
      "Anthranilyl-CoA = anthcoa_c\n",
      "crotonobetainyl-CoA = ctbtcoa_c\n",
      "Crotonoyl-CoA = b2coa_c\n",
      "Propanoyl-CoA = ppcoa_c\n",
      "2-Amino-5-oxocyclohex-1-enecarbonyl-CoA = 2amoeccoa_c\n",
      "3-Hydroxypropionyl-CoA = 3hpcoa_c\n",
      "2-Methylprop-2-enoyl-CoA = 2mp2coa_c\n",
      "O-Succinylbenzoyl-CoA = sbzcoa_c\n",
      "Pimeloyl-CoA = pmcoa_c\n",
      "Succinyl-CoA = succoa_c\n",
      "Glutaryl-CoA = gcoa_c\n",
      "5-Methyl-3-oxo-4-hexenoyl-CoA = 5m3o4hcoa_c\n",
      "(2E)-5-Methylhexa-2,4-dienoyl-CoA = 2e5mhdcoa_c\n",
      "Cyclohexane-1-carboxyl-CoA = cchccoa_c\n",
      "Malonyl-CoA = malcoa_c\n",
      "3-Oxopropionyl-CoA = 3oppcoa_c\n",
      "Adipyl-CoA = adipcoa_c\n",
      "2-Ketocyclohexane-1-carboxyl-CoA = 2kchccoa_c\n",
      "Naphthyl-2-methyl-succinyl-CoA = napmsccoa_c\n",
      "2-Hydroxycyclohexane-1-carboxyl-CoA = hcchccoa_c\n",
      "3-Methylcrotonyl-CoA = 3mccoa_c\n",
      "(S)-Methylmalonyl-CoA = mmcoa__S_c\n",
      "5-Methylhex-4-enoyl-CoA = 5mh4ecoa_c\n",
      "3-Hydroxypimeloyl-CoA = hpimcoa_c\n",
      "Naphthyl-2-oxomethyl-succinyl-CoA = napomsuccoa_c\n",
      "6-Hydroxycyclohex-1-enecarbonyl-CoA = 6hcecoa_c\n",
      "4-Hydroxyphenylacetyl-CoA = 4hpheacoa_c\n",
      "3-Oxoadipyl-CoA = oxadpcoa_c\n",
      "Cyclopropanecarboxyl-CoA = ccppccoa_c\n",
      "Acetyl-CoA = accoa_c\n",
      "Benzoyl-CoA = benzcoa_c\n",
      "3-Hydroxy-5-oxohexanoyl-CoA = 3h5ohcoa_c\n",
      "Citronellyl-CoA = citnlcoa_c\n",
      "(S)-3-Hydroxybutanoyl-CoA = 3hbcoa_c\n",
      "7-Methyl-3-oxo-6-octenoyl-CoA = 7m3o6ocoa_c\n",
      "2-Naphthoyl-CoA = 2naptcoa_c\n",
      "5-Carboxy-2-pentenoyl-CoA = carpcoa_c\n",
      "2-Methylpropanoyl-CoA = 2mppacoa_c\n",
      "2-Hydroxyglutaryl-CoA = hgcoa_c\n",
      "(S)-3-Hydroxy-2-methylbutyryl-CoA = 3hmbcoa_c\n",
      "3-Hydroxyisovaleryl-CoA = hivcoa_c\n",
      "2-Methylacetoacetyl-CoA = 2maaccoa_c\n",
      "(3S)-3-Hydroxyadipyl-CoA = 3hadpcoa_c\n",
      "Benzoyl acetyl-CoA = bzaccoa_c\n",
      "4-Hydroxybenzoyl-CoA = 4hbzcoa_c\n",
      "(S)-3-Hydroxyisobutyryl-CoA = 3hibutcoa_c\n",
      "(S)-2-Methylbutanoyl-CoA = 2mbcoa_c\n",
      "gamma-butyrobetainyl-CoA = bbtcoa_c\n",
      "3-Oxopimeloyl-CoA = 3opimcoa_c\n",
      "Lactoyl-CoA = laccoa_c\n",
      "(S)-3-Hydroxy-3-methylglutaryl-CoA = 3h3mgcoa_c\n",
      "Propenoyl-CoA = prpncoa_c\n",
      "Itaconyl-CoA = itcncoa_c\n",
      "3-Methylbutanoyl-CoA = 3mbcoa_c\n",
      "trans-Geranyl-CoA = tgercoa_c\n",
      "3-Hydroxy-5-methylhex-4-enoyl-CoA = 3h5m4ecoa_c\n",
      "3-Butenoyl-CoA = 3btecoa_c\n",
      "Naphthyl-2-methylene-succinyl-CoA = nap2msuccoa_c\n",
      "6-Carboxyhex-2-enoyl-CoA = 6checoa_c\n",
      "(R)-Methylmalonyl-CoA = mmcoa__R_c\n",
      "Acetoacetyl-CoA = aacoa_c\n",
      "2,6-Dihydroxycyclohexane-1-carboxyl-CoA = 26dhccoa_c\n",
      "Butanoyl-CoA = btcoa_c\n",
      "(R)-3-Hydroxybutanoyl-CoA = r3hbcoa_c\n",
      "L-Carnitinyl-CoA = crncoa_c\n"
     ]
    }
   ],
   "source": [
    "#finding the names of hydroxyacyl-CoA included in the model to later create an reaction where they react to PHA \n",
    "for metabolite in model.metabolites.query('yl-CoA', 'name'):\n",
    "    print(metabolite.name, '=', metabolite.id)"
   ]
  },
  {
   "cell_type": "code",
   "execution_count": 17,
   "id": "3f9b3d61-447e-4e8c-8711-f2b695a20b5e",
   "metadata": {},
   "outputs": [
    {
     "name": "stdout",
     "output_type": "stream",
     "text": [
      "3hadpcoa_c  =  (3S)-3-Hydroxyadipyl-CoA\n",
      "hpimcoa_c  =  3-Hydroxypimeloyl-CoA\n",
      "3hpcoa_c  =  3-Hydroxypropionyl-CoA\n",
      "r3hbcoa_c  =  (R)-3-Hydroxybutanoyl-CoA\n",
      "3hbcoa_c  =  (S)-3-Hydroxybutanoyl-CoA\n",
      "3hibutcoa_c  =  (S)-3-Hydroxyisobutyryl-CoA\n"
     ]
    }
   ],
   "source": [
    "#results for R-3-hydroxyacyl-CoAs from generated list \n",
    "#A total of 6 3-hydroxyacyl-CoAs has been found, but only 1 is available as an (R)-isomer\n",
    "#potential to include epimerisation reaction, where S-epimers are converted into R-epimers\n",
    "print(model.metabolites.get_by_id(\"3hadpcoa_c\"), ' = ', model.metabolites.get_by_id(\"3hadpcoa_c\").name)\n",
    "print(model.metabolites.get_by_id(\"hpimcoa_c\"), ' = ', model.metabolites.get_by_id(\"hpimcoa_c\").name)\n",
    "print(model.metabolites.get_by_id(\"3hpcoa_c\"), ' = ', model.metabolites.get_by_id(\"3hpcoa_c\").name)\n",
    "print(model.metabolites.get_by_id(\"r3hbcoa_c\"), ' = ', model.metabolites.get_by_id(\"r3hbcoa_c\").name)\n",
    "print(model.metabolites.get_by_id(\"3hbcoa_c\"), ' = ', model.metabolites.get_by_id(\"3hbcoa_c\").name)\n",
    "print(model.metabolites.get_by_id(\"3hibutcoa_c\"), ' = ', model.metabolites.get_by_id(\"3hibutcoa_c\").name)"
   ]
  },
  {
   "cell_type": "markdown",
   "id": "df6cf134-ec0f-401c-81d4-7c88d72938f7",
   "metadata": {},
   "source": [
    "**result:**\n",
    "\n",
    "*S-epimers:*\n",
    "- 3hadpcoa_c  =  (3S)-3-Hydroxyadipyl-CoA\n",
    "- 3hbcoa_c  =  (S)-3-Hydroxybutanoyl-CoA\n",
    "- 3hibutcoa_c  =  (S)-3-Hydroxyisobutyryl-CoA\n",
    "\n",
    "*R-epimers:*\n",
    "- hpimcoa_c  =  3-Hydroxypimeloyl-CoA\n",
    "- 3hpcoa_c  =  3-Hydroxypropionyl-CoA\n",
    "- r3hbcoa_c  =  (R)-3-Hydroxybutanoyl-CoA"
   ]
  },
  {
   "cell_type": "code",
   "execution_count": 18,
   "id": "a51818c4-b47f-43b9-80d1-dcc7db357352",
   "metadata": {},
   "outputs": [
    {
     "name": "stdout",
     "output_type": "stream",
     "text": [
      "{}\n",
      "3-Hydroxypimeloyl-CoA molecular formula is C28H46N7O20P3S\n"
     ]
    }
   ],
   "source": [
    "print(model.metabolites.hpimcoa_c.elements)\n",
    "#add missing molecular formula with data found on PubChem (\"https://pubchem.ncbi.nlm.nih.gov/compound/9543022\")\n",
    "model.metabolites.get_by_id(\"hpimcoa_c\").elements = {\"C\": 28, \"H\": 46, \"N\": 7, \"O\": 20, \"P\":3, \"S\":1}\n",
    "#check\n",
    "print(model.metabolites.get_by_id(\"hpimcoa_c\").name, 'molecular formula is', model.metabolites.get_by_id(\"hpimcoa_c\").formula)"
   ]
  },
  {
   "cell_type": "code",
   "execution_count": 19,
   "id": "ba3b7ff4-e6ab-4b2a-b9e2-588ca2166d0e",
   "metadata": {},
   "outputs": [
    {
     "name": "stdout",
     "output_type": "stream",
     "text": [
      "{}\n",
      "The molecular formula of (R)-3-Hydroxybutanoyl-CoA is C25H42N7O18P3S\n",
      "The molecular formula of (R)-3-((R)-3-Hydroxybutanoyloxy)butanoate is C8H13O5\n",
      "The molecular formula of ((R)-3-Hydroxybutanoyl)(n-2) is C4H6O2\n"
     ]
    }
   ],
   "source": [
    "print(model.metabolites.r3hbcoa_c.elements)\n",
    "#add missing molecular formula for r3hbcoa_3\n",
    "model.metabolites.r3hbcoa_c.elements = {\"C\": 25,\"H\": 42,\"N\": 7,\"O\": 18,\"P\": 3,\"S\": 1}\n",
    "print('The molecular formula of', model.metabolites.get_by_id(\"r3hbcoa_c\").name, 'is', model.metabolites.get_by_id(\"r3hbcoa_c\").formula)\n",
    "\n",
    "#add molecular formula for r3rhbb_c and r3hbn2_c\n",
    "model.metabolites.r3rhbb_c.elements = {\"C\": 8, \"H\": 13, \"O\": 5}\n",
    "model.metabolites.r3hbn2_c.elements = {\"C\": 4, \"H\": 6, \"O\": 2}\n",
    "#print to check whether it was successful\n",
    "print('The molecular formula of', model.metabolites.get_by_id(\"r3rhbb_c\").name, 'is', model.metabolites.get_by_id(\"r3rhbb_c\").formula)\n",
    "print('The molecular formula of', model.metabolites.get_by_id(\"r3hbn2_c\").name, 'is', model.metabolites.get_by_id(\"r3hbn2_c\").formula)"
   ]
  },
  {
   "cell_type": "code",
   "execution_count": 20,
   "id": "8c1680d4-4bf1-459f-b40c-e5d3c5bce800",
   "metadata": {},
   "outputs": [
    {
     "data": {
      "text/plain": [
       "{}"
      ]
     },
     "execution_count": 20,
     "metadata": {},
     "output_type": "execute_result"
    }
   ],
   "source": [
    "#there is no molecular formula for phb\n",
    "model.metabolites.get_by_id(\"phb_e\").elements"
   ]
  },
  {
   "cell_type": "markdown",
   "id": "ec2a09ee-6055-42c8-b1c8-fb0d70cb6969",
   "metadata": {},
   "source": [
    "In addition to the short-chain-length PHA, PHB, production already present in the model, we added pathways for 5 medium-chain-length PHAs, namely Polyhydroxyhexanoate (PHHx), Polyhydroxyheptanoate (PHH), Polyhydroxyoctanoate (PHHO), Polyhydroxynonaoate (PHN) and Polyhydroxydecanoate (PHD)."
   ]
  },
  {
   "cell_type": "code",
   "execution_count": 21,
   "id": "766ef18a-b531-424b-b5f7-e681a813d253",
   "metadata": {},
   "outputs": [],
   "source": [
    "#check which metabolite-ids are already taken that could resemble PHA-names\n",
    "for metabolite in model.metabolites.query('phhx_c', 'name'):\n",
    "    print(metabolite)\n",
    "for metabolite in model.metabolites.query('phh_c', 'name'):\n",
    "    print(metabolite)\n",
    "for metabolite in model.metabolites.query('phho_c', 'name'):\n",
    "    print(metabolite)\n",
    "for metabolite in model.metabolites.query('phn_c', 'name'):\n",
    "    print(metabolite)\n",
    "for metabolite in model.metabolites.query('phd_c', 'name'):\n",
    "    print(metabolite)\n",
    "#nothing got printed meaning none of the names have been used before in the model."
   ]
  },
  {
   "cell_type": "code",
   "execution_count": 22,
   "id": "62af15b4-2a5d-4034-845a-5a32728b4ccc",
   "metadata": {},
   "outputs": [],
   "source": [
    "#creating metabolites, giving them a unique ID according to the abbreviation of their full name\n",
    "PHHx = Metabolite(id=\"phhx_c\", compartment =\"c\", name =\"Polyhydroxyhexanoate\")\n",
    "PHH = Metabolite(id=\"phh_c\", compartment = \"c\", name =\"Polyhydroxyheptanoate\")\n",
    "PHHO = Metabolite(id=\"phho_c\", compartment =\"c\", name =\"Polyhydroxyoctanoate\")\n",
    "PHN = Metabolite(id=\"phn_c\", compartment = \"c\", name =\"Polyhydroxynonaoate\")\n",
    "PHD = Metabolite(id=\"phd_c\", compartment = \"c\", name =\"Polyhydroxydecanoate\")\n",
    "\n",
    "PHHx_E = Metabolite(id=\"phhx_e\", compartment =\"e\", name =\"Polyhydroxyhexanoate\")\n",
    "PHH_E = Metabolite(id=\"phh_e\", compartment = \"e\", name =\"Polyhydroxyheptanoate\")\n",
    "PHHO_E = Metabolite(id=\"phho_e\", compartment =\"e\", name =\"Polyhydroxyoctanoate\")\n",
    "PHN_E = Metabolite(id=\"phn_e\", compartment = \"e\", name =\"Polyhydroxynonaoate\")\n",
    "PHD_E = Metabolite(id=\"phd_e\", compartment = \"e\", name =\"Polyhydroxydecanoate\")"
   ]
  },
  {
   "cell_type": "markdown",
   "id": "1dae0c2c-4ba5-40bb-ac6b-a61dbb1fe322",
   "metadata": {},
   "source": [
    "Reaction for PHA transport: \n",
    "\n",
    "(generally, PHA gets accumulated intracellularly as granules, but for the sake of improvement of flux we assume that the PHA gets excreted)\n",
    "\n",
    "**PHA(c) + H+(c) --> PHA(e) + H+(e)**\n",
    "\n",
    "in accordance with the transport already included in the model:\n",
    "h_c + phb_c --> h_e + phb_e Poly-beta-hydroxybutyrate transport"
   ]
  },
  {
   "cell_type": "code",
   "execution_count": 23,
   "id": "cadf766a-2687-4ecb-98f8-c217704be81c",
   "metadata": {},
   "outputs": [
    {
     "name": "stdout",
     "output_type": "stream",
     "text": [
      "PHAS: r3hbcoa_c <=> coa_c + phb_c Polyhydroxyalkanoate synthase\n",
      "PHBD: h2o_c + phb_c <=> h_c + r3hbn2_c + r3rhbb_c Poly(3-hydroxybutyrate) depolymerase\n",
      "PHBt: h_c + phb_c --> h_e + phb_e Poly-beta-hydroxybutyrate transport\n"
     ]
    }
   ],
   "source": [
    "for reactions in model.metabolites.get_by_id('phb_c').reactions: \n",
    "    print(reactions, reactions.name)"
   ]
  },
  {
   "cell_type": "code",
   "execution_count": 24,
   "id": "2c8708fe-5acd-4ae1-9597-cdff38b2c73f",
   "metadata": {},
   "outputs": [],
   "source": [
    "#creating new reactions to model the production of medium-chain-length PHAs from (R)-3-Hydroxybutanoyl-CoA\n",
    "mcl_PHA_model = model.copy()\n",
    "phaC_PHHx_r3hbcoa_c = Reaction(\"phaC_PHHx_r3hbcoa_c\")\n",
    "phaC_PHHx_r3hbcoa_c.name = 'mcl_Polyhydroxyalkanoate_synthase_for_PHHx_from_r3hbcoa_c'\n",
    "phaC_PHHx_r3hbcoa_c.lower_bound = -1000\n",
    "phaC_PHH_r3hbcoa_c = Reaction('phaC_PHH_r3hbcoa_c')\n",
    "phaC_PHH_r3hbcoa_c.name = 'mcl_Polyhydroxyalkanoate_synthase_for_PHH_from_r3hbcoa_c'\n",
    "phaC_PHH_r3hbcoa_c.lower_bound = -1000\n",
    "phaC_PHHO_r3hbcoa_c = Reaction('phaC_PHHO_r3hbcoa_c')\n",
    "phaC_PHHO_r3hbcoa_c.name = \"mcl_Polyhydroxyalkanoate_synthase_for_PHHO_from_r3hbcoa_c\"\n",
    "phaC_PHHO_r3hbcoa_c.lower_bound = -1000\n",
    "phaC_PHN_r3hbcoa_c = Reaction('phaC_PHN_r3hbcoa_c')\n",
    "phaC_PHN_r3hbcoa_c.name = 'mcl-Polyhydroxyalkanoate-synthase_for_PHN_from_r3hbcoa_c'\n",
    "phaC_PHN_r3hbcoa_c.lower_bound = -1000\n",
    "phaC_PHD_r3hbcoa_c = Reaction('phaC_PHD_r3hbcoa_c')\n",
    "phaC_PHD_r3hbcoa_c.name = \"mcl-Polyhydroxyalkanoate-synthase_for_PHD_from_r3hbcoa_c\"\n",
    "phaC_PHD_r3hbcoa_c.lower_bound = -1000"
   ]
  },
  {
   "cell_type": "markdown",
   "id": "bb830b86-7840-45ec-ba49-179cd4172abf",
   "metadata": {},
   "source": [
    "From KEGG ENZYME:2.3.1.304 (https://www.genome.jp/entry/2.3.1.304) \n",
    "\n",
    "reaction equation:\n",
    "(3R)-3-hydroxyacyl-CoA + poly[(R)-3-hydroxyalkanoate]n = CoA + poly[(R)-3-hydroxyalkanoate]n+1\n",
    "\n",
    "for easier handling in this model we assume:\n",
    "\n",
    "**hydroxyacyl-CoA = CoA + polyhydroxyalkanoate**"
   ]
  },
  {
   "cell_type": "code",
   "execution_count": 25,
   "id": "48cc5786-2ba8-4b82-b8dc-f2df7d3fe678",
   "metadata": {},
   "outputs": [],
   "source": [
    "#adding stochiometric data and involved metabolites to new reactions to model to produce medium-chain-length PHA from (R)-3-Hydroxybutanoyl-CoA\n",
    "phaC_PHHx_r3hbcoa_c.add_metabolites({mcl_PHA_model.metabolites.r3hbcoa_c: -1,\n",
    "                                PHHx: 1,\n",
    "                                   mcl_PHA_model.metabolites.coa_c: 1})\n",
    "phaC_PHH_r3hbcoa_c.add_metabolites({mcl_PHA_model.metabolites.r3hbcoa_c: -1,\n",
    "                                PHH: 1, \n",
    "                                   mcl_PHA_model.metabolites.coa_c: 1, })\n",
    "phaC_PHHO_r3hbcoa_c.add_metabolites({mcl_PHA_model.metabolites.r3hbcoa_c: -1,\n",
    "                                PHHO: 1,\n",
    "                                   mcl_PHA_model.metabolites.coa_c: 1, })\n",
    "phaC_PHN_r3hbcoa_c.add_metabolites({mcl_PHA_model.metabolites.r3hbcoa_c: -1,\n",
    "                                PHN: 1, \n",
    "                                   mcl_PHA_model.metabolites.coa_c: 1,})\n",
    "phaC_PHD_r3hbcoa_c.add_metabolites({mcl_PHA_model.metabolites.r3hbcoa_c: -1,\n",
    "                                PHD: 1,\n",
    "                                   mcl_PHA_model.metabolites.coa_c: 1,})"
   ]
  },
  {
   "cell_type": "code",
   "execution_count": 26,
   "id": "67840a41-dd70-407a-b978-387e0b9fa8f7",
   "metadata": {},
   "outputs": [],
   "source": [
    "#adding the reactions to the model\n",
    "mcl_PHA_model.add_reactions([phaC_PHHx_r3hbcoa_c])\n",
    "mcl_PHA_model.add_reactions([phaC_PHH_r3hbcoa_c])\n",
    "mcl_PHA_model.add_reactions([phaC_PHHO_r3hbcoa_c])\n",
    "mcl_PHA_model.add_reactions([phaC_PHN_r3hbcoa_c])\n",
    "mcl_PHA_model.add_reactions([phaC_PHD_r3hbcoa_c])"
   ]
  },
  {
   "cell_type": "code",
   "execution_count": 27,
   "id": "84049e12-ad10-4a08-8724-7fb197763b98",
   "metadata": {},
   "outputs": [
    {
     "data": {
      "text/html": [
       "\n",
       "        <table>\n",
       "            <tr>\n",
       "                <td><strong>Reaction identifier</strong></td><td>phaC_PHHx_r3hbcoa_c</td>\n",
       "            </tr><tr>\n",
       "                <td><strong>Name</strong></td><td>mcl_Polyhydroxyalkanoate_synthase_for_PHHx_from_r3hbcoa_c</td>\n",
       "            </tr><tr>\n",
       "                <td><strong>Memory address</strong></td>\n",
       "                <td>0x0228c44d22e0</td>\n",
       "            </tr><tr>\n",
       "                <td><strong>Stoichiometry</strong></td>\n",
       "                <td>\n",
       "                    <p style='text-align:right'>r3hbcoa_c <=> coa_c + phhx_c</p>\n",
       "                    <p style='text-align:right'>(R)-3-Hydroxybutanoyl-CoA <=> Coenzyme A + Polyhydroxyhexanoate</p>\n",
       "                </td>\n",
       "            </tr><tr>\n",
       "                <td><strong>GPR</strong></td><td></td>\n",
       "            </tr><tr>\n",
       "                <td><strong>Lower bound</strong></td><td>-1000</td>\n",
       "            </tr><tr>\n",
       "                <td><strong>Upper bound</strong></td><td>1000.0</td>\n",
       "            </tr>\n",
       "        </table>\n",
       "        "
      ],
      "text/plain": [
       "<Reaction phaC_PHHx_r3hbcoa_c at 0x228c44d22e0>"
      ]
     },
     "execution_count": 27,
     "metadata": {},
     "output_type": "execute_result"
    }
   ],
   "source": [
    "mcl_PHA_model.reactions.get_by_id(\"phaC_PHHx_r3hbcoa_c\")"
   ]
  },
  {
   "cell_type": "code",
   "execution_count": 28,
   "id": "b628cd4e-a167-4cd6-9b02-df461019ea13",
   "metadata": {},
   "outputs": [],
   "source": [
    "#it works \n",
    "#doing the same for the other 3-Hydroxyacetyl-CoAs\n",
    "\n",
    "#creating new reaction to model to produce medium-chain-length PHA from 3-Hydroxypimeloyl-CoA\n",
    "phaC_PHHx_hpimcoa_c = Reaction('phaC_PHHx_hpimcoa_c')\n",
    "phaC_PHHx_hpimcoa_c.name = 'mcl_Polyhydroxyalkanoate_synthase for PHHx from hpimcoa_c'\n",
    "phaC_PHHx_hpimcoa_c.lower_bound = -1000\n",
    "phaC_PHH_hpimcoa_c = Reaction('phaC_PHH_hpimcoa_c')\n",
    "phaC_PHH_hpimcoa_c.name = 'mcl_Polyhydroxyalkanoate_synthase for PHH from hpimcoa_c'\n",
    "phaC_PHH_hpimcoa_c.lower_bound = -1000\n",
    "phaC_PHHO_hpimcoa_c = Reaction('phaC_PHHO_hpimcoa_c')\n",
    "phaC_PHHO_hpimcoa_c.name = 'mcl_Polyhydroxyalkanoate_synthase for PHHO from hpimcoa_c'\n",
    "phaC_PHHO_hpimcoa_c.lower_bound = -1000\n",
    "phaC_PHN_hpimcoa_c = Reaction('phaC_PHN_hpimcoa_c')\n",
    "phaC_PHN_hpimcoa_c.name = 'mcl_Polyhydroxyalkanoate_synthase for PHN from hpimcoa_c'\n",
    "phaC_PHN_hpimcoa_c.lower_bound = -1000\n",
    "phaC_PHD_hpimcoa_c = Reaction('phaC_PHD_hpimcoa_c')\n",
    "phaC_PHD_hpimcoa_c.name = \"mcl_Polyhydroxyalkanoate_synthase for PHD from hpimcoa_c\"\n",
    "phaC_PHD_hpimcoa_c.lower_bound = -1000\n",
    "\n",
    "#adding stochiometric data and involved metabolites to new reactions to model the production of medium-chain-length PHA from 3-Hydroxypimeloyl-CoA\n",
    "phaC_PHHx_hpimcoa_c.add_metabolites({mcl_PHA_model.metabolites.hpimcoa_c: -1,\n",
    "                                PHHx: 1, \n",
    "                                    mcl_PHA_model.metabolites.coa_c: 1,})\n",
    "phaC_PHH_hpimcoa_c.add_metabolites({mcl_PHA_model.metabolites.hpimcoa_c: -1,\n",
    "                                PHH: 1, \n",
    "                                   mcl_PHA_model.metabolites.coa_c: 1,})\n",
    "phaC_PHHO_hpimcoa_c.add_metabolites({mcl_PHA_model.metabolites.hpimcoa_c: -1,\n",
    "                                PHHO: 1, \n",
    "                                    mcl_PHA_model.metabolites.coa_c: 1,})\n",
    "phaC_PHN_hpimcoa_c.add_metabolites({mcl_PHA_model.metabolites.hpimcoa_c: -1,\n",
    "                                PHN: 1, \n",
    "                                   mcl_PHA_model.metabolites.coa_c: 1,})\n",
    "phaC_PHD_hpimcoa_c.add_metabolites({mcl_PHA_model.metabolites.hpimcoa_c: -1,\n",
    "                                PHD: 1, \n",
    "                                   mcl_PHA_model.metabolites.coa_c: 1,})\n",
    "\n",
    "#adding the reactions to the model\n",
    "mcl_PHA_model.add_reactions([phaC_PHHx_hpimcoa_c])\n",
    "mcl_PHA_model.add_reactions([phaC_PHH_hpimcoa_c])\n",
    "mcl_PHA_model.add_reactions([phaC_PHHO_hpimcoa_c])\n",
    "mcl_PHA_model.add_reactions([phaC_PHN_hpimcoa_c])\n",
    "mcl_PHA_model.add_reactions([phaC_PHD_hpimcoa_c])"
   ]
  },
  {
   "cell_type": "code",
   "execution_count": 29,
   "id": "d9c2f2f5-763f-4c83-9b49-198007cec9d7",
   "metadata": {},
   "outputs": [],
   "source": [
    "#it works \n",
    "#doing the same for 3-Hydroxypropionyl\n",
    "\n",
    "#creating new reaction to model to produce medium-chain-length PHA from 3-Hydroxypropionyl-CoA\n",
    "phaC_PHHx_3hpcoa_c = Reaction('phaC_PHHx_3hpcoa_c')\n",
    "phaC_PHHx_3hpcoa_c.name = 'mcl_Polyhydroxyalkanoate_synthase_for_PHHx_from_3hpcoa_c'\n",
    "phaC_PHHx_3hpcoa_c.lower_bound = -1000\n",
    "phaC_PHH_3hpcoa_c = Reaction('phaC_PHH_3hpcoa_c')\n",
    "phaC_PHH_3hpcoa_c.name = 'mcl_Polyhydroxyalkanoate_synthase_for_PHH_from_3hpcoa_c'\n",
    "phaC_PHH_3hpcoa_c.lower_bound = -1000\n",
    "phaC_PHHO_3hpcoa_c = Reaction('phaC_PHHO_3hpcoa_c')\n",
    "phaC_PHHO_3hpcoa_c.name = 'mcl_Polyhydroxyalkanoate_synthase_for_PHHO_from_3hpcoa_c'\n",
    "phaC_PHHO_3hpcoa_c.lower_bound = -1000\n",
    "phaC_PHN_3hpcoa_c = Reaction('phaC_PHN_3hpcoa_c')\n",
    "phaC_PHN_3hpcoa_c.name = 'mcl_Polyhydroxyalkanoate_synthase_for_PHN_from_3hpcoa_c'\n",
    "phaC_PHN_3hpcoa_c.lower_bound = -1000\n",
    "phaC_PHD_3hpcoa_c = Reaction('phaC_PHD_3hpcoa_c')\n",
    "phaC_PHD_3hpcoa_c.name = 'mcl_Polyhydroxyalkanoate_synthase_for_PHD_from_3hpcoa_c'\n",
    "phaC_PHD_3hpcoa_c.lower_bound = -1000\n",
    "\n",
    "#adding stochiometric data and involved metabolites to new reactions to model the production of mcl-PHAs from 3-Hydroxypropionyl-CoA\n",
    "phaC_PHHx_3hpcoa_c.add_metabolites({mcl_PHA_model.metabolites.get_by_id(\"3hpcoa_c\"): -1,\n",
    "                                PHHx: 1, \n",
    "                                    mcl_PHA_model.metabolites.coa_c: 1,})\n",
    "phaC_PHH_3hpcoa_c.add_metabolites({mcl_PHA_model.metabolites.get_by_id(\"3hpcoa_c\"): -1,\n",
    "                                PHH: 1, \n",
    "                                   mcl_PHA_model.metabolites.coa_c: 1,})\n",
    "phaC_PHHO_3hpcoa_c.add_metabolites({mcl_PHA_model.metabolites.get_by_id(\"3hpcoa_c\"): -1,\n",
    "                                PHHO: 1, \n",
    "                                    mcl_PHA_model.metabolites.coa_c: 1,})\n",
    "phaC_PHN_3hpcoa_c.add_metabolites({mcl_PHA_model.metabolites.get_by_id(\"3hpcoa_c\"): -1,\n",
    "                                PHN: 1, \n",
    "                                   mcl_PHA_model.metabolites.coa_c: 1,})\n",
    "phaC_PHD_3hpcoa_c.add_metabolites({mcl_PHA_model.metabolites.get_by_id(\"3hpcoa_c\"): -1,\n",
    "                                PHD: 1, \n",
    "                                   mcl_PHA_model.metabolites.coa_c: 1,})\n",
    "\n",
    "#adding the reactions to the model\n",
    "mcl_PHA_model.add_reactions([phaC_PHHx_3hpcoa_c])\n",
    "mcl_PHA_model.add_reactions([phaC_PHH_3hpcoa_c])\n",
    "mcl_PHA_model.add_reactions([phaC_PHHO_3hpcoa_c])\n",
    "mcl_PHA_model.add_reactions([phaC_PHN_3hpcoa_c])\n",
    "mcl_PHA_model.add_reactions([phaC_PHD_3hpcoa_c])"
   ]
  },
  {
   "cell_type": "code",
   "execution_count": 30,
   "id": "119f02b9-f582-44bb-bf20-0f8bc2b25c38",
   "metadata": {},
   "outputs": [
    {
     "name": "stdout",
     "output_type": "stream",
     "text": [
      "phaC_PHHx_3hpcoa_c: 3hpcoa_c <=> coa_c + phhx_c mcl_Polyhydroxyalkanoate_synthase_for_PHHx_from_3hpcoa_c\n",
      "phaC_PHHx_hpimcoa_c: hpimcoa_c <=> coa_c + phhx_c mcl_Polyhydroxyalkanoate_synthase for PHHx from hpimcoa_c\n",
      "phaC_PHHx_r3hbcoa_c: r3hbcoa_c <=> coa_c + phhx_c mcl_Polyhydroxyalkanoate_synthase_for_PHHx_from_r3hbcoa_c\n"
     ]
    }
   ],
   "source": [
    "#check whether addition was successful\n",
    "for reactions in mcl_PHA_model.metabolites.get_by_id(\"phhx_c\").reactions:\n",
    "    print(reactions, reactions.name)"
   ]
  },
  {
   "cell_type": "code",
   "execution_count": 31,
   "id": "f0c0a03d-8e2a-4857-9400-b5898d11038a",
   "metadata": {},
   "outputs": [
    {
     "name": "stdout",
     "output_type": "stream",
     "text": [
      "ACDH6: 6checoa_c + h2o_c --> hpimcoa_c Acyl dehydratase\n"
     ]
    }
   ],
   "source": [
    "for reactions in model.metabolites.get_by_id(\"hpimcoa_c\").reactions:\n",
    "    print(reactions, reactions.name)"
   ]
  },
  {
   "cell_type": "code",
   "execution_count": 32,
   "id": "91ee0849-0147-4219-ba67-5a9b888e980d",
   "metadata": {},
   "outputs": [
    {
     "data": {
      "text/plain": [
       "frozenset({<Reaction 3HBCD at 0x228c48d1520>,\n",
       "           <Reaction AACOAR at 0x228c4df46a0>,\n",
       "           <Reaction PHAS at 0x228c4ac5b20>,\n",
       "           <Reaction phaC_PHD_r3hbcoa_c at 0x228c44d2310>,\n",
       "           <Reaction phaC_PHHO_r3hbcoa_c at 0x228c44d24c0>,\n",
       "           <Reaction phaC_PHH_r3hbcoa_c at 0x228c4e22d00>,\n",
       "           <Reaction phaC_PHHx_r3hbcoa_c at 0x228c44d22e0>,\n",
       "           <Reaction phaC_PHN_r3hbcoa_c at 0x228c44d2520>})"
      ]
     },
     "execution_count": 32,
     "metadata": {},
     "output_type": "execute_result"
    }
   ],
   "source": [
    "#model.reactions.get_by_id(\"phaC_PHHx_r3hbcoa_c\")\n",
    "mcl_PHA_model.metabolites.r3hbcoa_c.reactions"
   ]
  },
  {
   "cell_type": "code",
   "execution_count": 33,
   "id": "7bdc4639-0ce2-4b3e-9029-354fba2ca306",
   "metadata": {},
   "outputs": [
    {
     "name": "stdout",
     "output_type": "stream",
     "text": [
      "PHAS: r3hbcoa_c <=> coa_c + phb_c Polyhydroxyalkanoate synthase\n",
      "3HBCD: r3hbcoa_c <=> b2coa_c + h2o_c 3-hydroxybutyryl-CoA dehydratase\n",
      "AACOAR: nadp_c + r3hbcoa_c <=> aacoa_c + h_c + nadph_c Acetoacetyl-CoA reductase\n"
     ]
    }
   ],
   "source": [
    "for reactions in model.metabolites.r3hbcoa_c.reactions: \n",
    "    print(reactions, reactions.name)"
   ]
  },
  {
   "cell_type": "code",
   "execution_count": 34,
   "id": "c19b4161-4eed-407f-8030-d2c7a992988d",
   "metadata": {},
   "outputs": [
    {
     "name": "stdout",
     "output_type": "stream",
     "text": [
      "phaC_PHHx_3hpcoa_c: 3hpcoa_c <=> coa_c + phhx_c mcl_Polyhydroxyalkanoate_synthase_for_PHHx_from_3hpcoa_c\n",
      "phaC_PHHx_hpimcoa_c: hpimcoa_c <=> coa_c + phhx_c mcl_Polyhydroxyalkanoate_synthase for PHHx from hpimcoa_c\n",
      "phaC_PHHx_r3hbcoa_c: r3hbcoa_c <=> coa_c + phhx_c mcl_Polyhydroxyalkanoate_synthase_for_PHHx_from_r3hbcoa_c\n"
     ]
    }
   ],
   "source": [
    "for reactions in mcl_PHA_model.metabolites.phhx_c.reactions: \n",
    "    print(reactions, reactions.name)"
   ]
  },
  {
   "cell_type": "code",
   "execution_count": 35,
   "id": "e640d051-4d47-402c-857e-2118637f0680",
   "metadata": {},
   "outputs": [],
   "source": [
    "#creation of R-epimers of S-hydroxybutanoyl-CoA, S-3-Hydroxybutyryl-CoA and (3S)-3-Hydroxyadipyl-CoA\n",
    "#ID is similar to S-epimer with addition of r\n",
    "#this time we also know molecular formula (addition of elements as dict does not work, but copy-pasting of formula from model.metabolites.ID-data does)\n",
    "R3_HADP_COA = Metabolite(id=\"r3hadpcoa_c\", compartment =\"c\", name =\"(3R)-R-Hydroxyadipyl-CoA\", formula = 'C27H44N7O20P3S')\n",
    "#R-epimer of butanoyl-CoA is already existing, does not need to be created and epimerisation reaction as well\n",
    "#R3_HB_COA = Metabolite(id=\"r3hbcoa_c\", compartment = \"c\", name =\"(R)-3-Hydroxybutanoyl-CoA\", formula = 'C25H38N7O18P3S')\n",
    "R3_HIBUT_COA = Metabolite(id=\"r3hibutcoa_c\", compartment =\"c\", name =\"(R)-3-Hydroxyisobutyryl-CoA\", formula = 'C25H38N7O18P3S')\n",
    "\n",
    "epimerase_3hadpcoa_c = Reaction('Epimerisation_of_S-Hydroxyadipyl-CoA')\n",
    "epimerase_3hadpcoa_c.name = \"Epimerisation of S-Hydroxyadipyl-CoA\"\n",
    "#epimerase_3hbcoa_c = Reaction('Epimerisation_of_S-Hydroxybutanoyl-CoA')\n",
    "epimerase_3hibutcoa_c = Reaction('Epimerisation_of_S-Hydroxyisobutyryl-CoA')\n",
    "epimerase_3hibutcoa_c.name = 'Epimerisation of S-Hydroxyisobutyryl-CoA'\n",
    "\n",
    "#adding stochiometric data and involved metabolites to new reactions to model the epimerisation\n",
    "epimerase_3hadpcoa_c.add_metabolites({mcl_PHA_model.metabolites.get_by_id(\"3hadpcoa_c\"): -1,\n",
    "                                mcl_PHA_model.metabolites.r3hbcoa_c: 1,})\n",
    "#epimerase_3hbcoa_c.add_metabolites({mcl_PHA_model.metabolites.get_by_id(\"3hbcoa_c\"): -1,\n",
    "#                                R3_HB_COA: 1,})\n",
    "epimerase_3hibutcoa_c.add_metabolites({mcl_PHA_model.metabolites.get_by_id(\"3hibutcoa_c\"): -1,\n",
    "                                R3_HIBUT_COA: 1,})\n",
    "\n",
    "#adding the reactions to the model\n",
    "mcl_PHA_model.add_reactions([epimerase_3hadpcoa_c])\n",
    "#mcl_PHA_model.add_reactions([epimerase_3hbcoa_c])\n",
    "mcl_PHA_model.add_reactions([epimerase_3hibutcoa_c])"
   ]
  },
  {
   "cell_type": "code",
   "execution_count": 36,
   "id": "e8f89771-f406-48f8-a689-f55cd537edd2",
   "metadata": {},
   "outputs": [],
   "source": [
    "#add PHA production from newly created R-Hydroxyacyl-CoAs as well to model"
   ]
  },
  {
   "cell_type": "code",
   "execution_count": 37,
   "id": "57ebaaab-030f-4d80-a0d7-bfb702c583be",
   "metadata": {},
   "outputs": [],
   "source": [
    "#creating new reaction to model to produce medium-chain-length PHA from (3R)-R-Hydroxyadipyl-CoA\n",
    "phaC_PHHx_r3hadpcoa_c = Reaction('phaC_PHHx_r3hadpcoa_c')\n",
    "phaC_PHHx_r3hadpcoa_c.name = 'mcl-Polyhydroxyalkanoate-synthase_for_PHHx_from_(3R)-R-Hydroxyadipyl-CoA'\n",
    "phaC_PHHx_r3hadpcoa_c.lower_bound = -1000\n",
    "phaC_PHH_r3hadpcoa_c = Reaction('phaC_PHH_r3hadpcoa_c')\n",
    "phaC_PHH_r3hadpcoa_c.name = 'mcl-Polyhydroxyalkanoate-synthase_for_PHH_from_(3R)-R-Hydroxyadipyl-CoA'\n",
    "phaC_PHH_r3hadpcoa_c.lower_bound = -1000\n",
    "phaC_PHHO_r3hadpcoa_c = Reaction('phaC_PHHO_r3hadpcoa_c')\n",
    "phaC_PHHO_r3hadpcoa_c.name = 'mcl-Polyhydroxyalkanoate-synthase_for_PHHO_from_(3R)-R-Hydroxyadipyl-CoA'\n",
    "phaC_PHHO_r3hadpcoa_c.lower_bound = -1000\n",
    "phaC_PHN_r3hadpcoa_c = Reaction('phaC_PHN_r3hadpcoa_c')\n",
    "phaC_PHN_r3hadpcoa_c.name = 'mcl-Polyhydroxyalkanoate-synthase_for_PHN_from_(3R)-R-Hydroxyadipyl-CoA'\n",
    "phaC_PHN_r3hadpcoa_c.lower_bound = -1000\n",
    "phaC_PHD_r3hadpcoa_c = Reaction('phaC_PHD_r3hadpcoa_c')\n",
    "phaC_PHD_r3hadpcoa_c.name = 'mcl-Polyhydroxyalkanoate-synthase_for_PHD_from_(3R)-R-Hydroxyadipyl-CoA'\n",
    "phaC_PHD_r3hadpcoa_c.lower_bound = -1000\n",
    "\n",
    "#adding stochiometric data and involved metabolites to new reactions to model the production of mcl-PHAs from (3R)-R-Hydroxyadipyl-CoA\n",
    "phaC_PHHx_r3hadpcoa_c.add_metabolites({R3_HADP_COA: -1,\n",
    "                                PHHx: 1, \n",
    "                                    mcl_PHA_model.metabolites.coa_c: 1,})\n",
    "phaC_PHH_r3hadpcoa_c.add_metabolites({R3_HADP_COA: -1,\n",
    "                                PHH: 1, \n",
    "                                   mcl_PHA_model.metabolites.coa_c: 1,})\n",
    "phaC_PHHO_r3hadpcoa_c.add_metabolites({R3_HADP_COA: -1,\n",
    "                                PHHO: 1, \n",
    "                                    mcl_PHA_model.metabolites.coa_c: 1,})\n",
    "phaC_PHN_r3hadpcoa_c.add_metabolites({R3_HADP_COA: -1,\n",
    "                                PHN: 1, \n",
    "                                   mcl_PHA_model.metabolites.coa_c: 1,})\n",
    "phaC_PHD_r3hadpcoa_c.add_metabolites({R3_HADP_COA: -1,\n",
    "                                PHD: 1, \n",
    "                                   mcl_PHA_model.metabolites.coa_c: 1,})\n",
    "\n",
    "\n",
    "#adding the reactions to the model\n",
    "mcl_PHA_model.add_reactions([phaC_PHHx_r3hadpcoa_c])\n",
    "mcl_PHA_model.add_reactions([phaC_PHH_r3hadpcoa_c])\n",
    "mcl_PHA_model.add_reactions([phaC_PHHO_r3hadpcoa_c])\n",
    "mcl_PHA_model.add_reactions([phaC_PHN_r3hadpcoa_c])\n",
    "mcl_PHA_model.add_reactions([phaC_PHD_r3hadpcoa_c])"
   ]
  },
  {
   "cell_type": "code",
   "execution_count": 38,
   "id": "07bc2c9c-9bcb-4f30-99bb-b98e80017e39",
   "metadata": {},
   "outputs": [],
   "source": [
    "#creating new reaction to model to produce medium-chain-length PHA from (R)-3-Hydroxyisobutyryl-CoA\n",
    "phaC_PHHx_r3hibutcoa_c = Reaction('phaC_PHHx_r3hibutcoa_c')\n",
    "phaC_PHHx_r3hibutcoa_c.name = 'mcl_Polyhydroxyalkanoate_synthase for PHHx from (R)_3_Hydroxyisobutyryl_CoA'\n",
    "phaC_PHHx_r3hibutcoa_c.lower_bound = -1000\n",
    "phaC_PHH_r3hibutcoa_c = Reaction('phaC_PHH_r3hibutcoa_c')\n",
    "phaC_PHH_r3hibutcoa_c.name = 'mcl-Polyhydroxyalkanoate-synthase_for_PHH_from_(R)-3-Hydroxyisobutyryl-CoA'\n",
    "phaC_PHH_r3hibutcoa_c.lower_bound = -1000\n",
    "phaC_PHHO_r3hibutcoa_c = Reaction('phaC_PHHO_r3hibutcoa_c')\n",
    "phaC_PHHO_r3hibutcoa_c.name = 'mcl-Polyhydroxyalkanoate-synthase_for_PHHO_from_(R)-3-Hydroxyisobutyryl-CoA'\n",
    "phaC_PHHO_r3hibutcoa_c.lower_bound = -1000\n",
    "phaC_PHN_r3hibutcoa_c = Reaction('phaC_PHN_r3hibutcoa_c')\n",
    "phaC_PHN_r3hibutcoa_c.name = 'mcl-Polyhydroxyalkanoate-synthase_for_PHN_from_(R)-3-Hydroxyisobutyryl-CoA'\n",
    "phaC_PHN_r3hibutcoa_c.lower_bound = -1000\n",
    "phaC_PHD_r3hibutcoa_c = Reaction('phaC_PHD_r3hibutcoa_c')\n",
    "phaC_PHD_r3hibutcoa_c.name = 'mcl-Polyhydroxyalkanoate-synthase_for_PHD_from_(R)-3-Hydroxyisobutyryl-CoA'\n",
    "phaC_PHD_r3hibutcoa_c.lower_bound = -1000\n",
    "\n",
    "#adding stochiometric data and involved metabolites to new reactions to model the production of mcl-PHAs from (R)-3-Hydroxyisobutyryl-CoA\n",
    "phaC_PHHx_r3hibutcoa_c.add_metabolites({R3_HIBUT_COA: -1,\n",
    "                                PHHx: 1, \n",
    "                                    mcl_PHA_model.metabolites.coa_c: 1,})\n",
    "phaC_PHH_r3hibutcoa_c.add_metabolites({R3_HIBUT_COA: -1,\n",
    "                                PHH: 1, \n",
    "                                   mcl_PHA_model.metabolites.coa_c: 1,})\n",
    "phaC_PHHO_r3hibutcoa_c.add_metabolites({R3_HIBUT_COA: -1,\n",
    "                                PHHO: 1, \n",
    "                                    mcl_PHA_model.metabolites.coa_c: 1,})\n",
    "phaC_PHN_r3hibutcoa_c.add_metabolites({R3_HIBUT_COA: -1,\n",
    "                                PHN: 1, \n",
    "                                   mcl_PHA_model.metabolites.coa_c: 1,})\n",
    "phaC_PHD_r3hibutcoa_c.add_metabolites({R3_HIBUT_COA: -1,\n",
    "                                PHD: 1, \n",
    "                                   mcl_PHA_model.metabolites.coa_c: 1,})\n",
    "\n",
    "#adding the reactions to the model\n",
    "mcl_PHA_model.add_reactions([phaC_PHHx_r3hibutcoa_c])\n",
    "mcl_PHA_model.add_reactions([phaC_PHH_r3hibutcoa_c])\n",
    "mcl_PHA_model.add_reactions([phaC_PHHO_r3hibutcoa_c])\n",
    "mcl_PHA_model.add_reactions([phaC_PHN_r3hibutcoa_c])\n",
    "mcl_PHA_model.add_reactions([phaC_PHD_r3hibutcoa_c])"
   ]
  },
  {
   "cell_type": "code",
   "execution_count": 39,
   "id": "ac9dad6b-4b3a-4f8e-bac2-6e706d744aaa",
   "metadata": {},
   "outputs": [
    {
     "data": {
      "text/html": [
       "\n",
       "        <table>\n",
       "            <tr>\n",
       "                <td><strong>Name</strong></td>\n",
       "                <td>RehMBEL1391</td>\n",
       "            </tr><tr>\n",
       "                <td><strong>Memory address</strong></td>\n",
       "                <td>0x0228c44d2100</td>\n",
       "            </tr><tr>\n",
       "                <td><strong>Number of metabolites</strong></td>\n",
       "                <td>1355</td>\n",
       "            </tr><tr>\n",
       "                <td><strong>Number of reactions</strong></td>\n",
       "                <td>1565</td>\n",
       "            </tr><tr>\n",
       "                <td><strong>Number of groups</strong></td>\n",
       "                <td>0</td>\n",
       "            </tr><tr>\n",
       "                <td><strong>Objective expression</strong></td>\n",
       "                <td>1.0*Biomass - 1.0*Biomass_reverse_57a34</td>\n",
       "            </tr><tr>\n",
       "                <td><strong>Compartments</strong></td>\n",
       "                <td>c, e</td>\n",
       "            </tr>\n",
       "          </table>"
      ],
      "text/plain": [
       "<Model RehMBEL1391 at 0x228c44d2100>"
      ]
     },
     "execution_count": 39,
     "metadata": {},
     "output_type": "execute_result"
    }
   ],
   "source": [
    "mcl_PHA_model"
   ]
  },
  {
   "cell_type": "code",
   "execution_count": 40,
   "id": "1bc02bdf-d7a5-4d11-8edd-0e78642f217a",
   "metadata": {},
   "outputs": [
    {
     "data": {
      "text/html": [
       "\n",
       "        <table>\n",
       "            <tr>\n",
       "                <td><strong>Name</strong></td>\n",
       "                <td>RehMBEL1391</td>\n",
       "            </tr><tr>\n",
       "                <td><strong>Memory address</strong></td>\n",
       "                <td>0x0228c347a3d0</td>\n",
       "            </tr><tr>\n",
       "                <td><strong>Number of metabolites</strong></td>\n",
       "                <td>1348</td>\n",
       "            </tr><tr>\n",
       "                <td><strong>Number of reactions</strong></td>\n",
       "                <td>1538</td>\n",
       "            </tr><tr>\n",
       "                <td><strong>Number of groups</strong></td>\n",
       "                <td>0</td>\n",
       "            </tr><tr>\n",
       "                <td><strong>Objective expression</strong></td>\n",
       "                <td>1.0*Biomass - 1.0*Biomass_reverse_57a34</td>\n",
       "            </tr><tr>\n",
       "                <td><strong>Compartments</strong></td>\n",
       "                <td>c, e</td>\n",
       "            </tr>\n",
       "          </table>"
      ],
      "text/plain": [
       "<Model RehMBEL1391 at 0x228c347a3d0>"
      ]
     },
     "execution_count": 40,
     "metadata": {},
     "output_type": "execute_result"
    }
   ],
   "source": [
    "#why did the reactions also get added to the original model?\n",
    "model"
   ]
  },
  {
   "cell_type": "code",
   "execution_count": 41,
   "id": "461ed06c-cf27-485a-b780-33ebf3cf0526",
   "metadata": {},
   "outputs": [],
   "source": [
    "#adding the exchange reaction to move the PHA outside of the cytosol\n",
    "\n",
    "#exchange for polyhydroxyhexanoate (phhx)\n",
    "phhx_exchange = Reaction(\"phhx_exchange\")\n",
    "phhx_exchange.lower_bound = -1000\n",
    "\n",
    "#exchange for polyhydroxyheptanoate (phh)\n",
    "phh_exchange = Reaction(\"phh_exchange\")\n",
    "phh_exchange.lower_bound = -1000\n",
    "\n",
    "#exchange for polyhydroxyoctanoate (phho)\n",
    "phho_exchange = Reaction(\"phho_exchange\")\n",
    "phho_exchange.lower_bound = -1000\n",
    "\n",
    "#exchange for polyhydroxynonanoate (phn)\n",
    "phn_exchange = Reaction(\"phn_exchange\")\n",
    "phn_exchange.lower_bound = -1000\n",
    "\n",
    "#exchange for polyhydroxydecanoate (phd)\n",
    "phd_exchange = Reaction(\"phd_exchange\")\n",
    "phd_exchange.lower_bound = -1000\n",
    "\n",
    "#adding stochiometric data and involved metabolites to move PHA from the inside of the cell to the outside (Polyhydroxyalkanoate transport)\n",
    "phhx_exchange.add_metabolites({mcl_PHA_model.metabolites.h_c: -1,\n",
    "                                PHHx: -1,\n",
    "                                   mcl_PHA_model.metabolites.h_e: 1,\n",
    "                                    PHHx_E: 1,})\n",
    "\n",
    "phh_exchange.add_metabolites({mcl_PHA_model.metabolites.h_c: -1,\n",
    "                                PHH: -1,\n",
    "                                   mcl_PHA_model.metabolites.h_e: 1,\n",
    "                                    PHH_E: 1,})\n",
    "\n",
    "phho_exchange.add_metabolites({mcl_PHA_model.metabolites.h_c: -1,\n",
    "                                PHHO: -1,\n",
    "                                   mcl_PHA_model.metabolites.h_e: 1,\n",
    "                                    PHHO_E: 1,})\n",
    "\n",
    "phn_exchange.add_metabolites({mcl_PHA_model.metabolites.h_c: -1,\n",
    "                                PHN: -1,\n",
    "                                   mcl_PHA_model.metabolites.h_e: 1,\n",
    "                                    PHN_E: 1,})\n",
    "\n",
    "phd_exchange.add_metabolites({mcl_PHA_model.metabolites.h_c: -1,\n",
    "                                PHD: -1,\n",
    "                                   mcl_PHA_model.metabolites.h_e: 1,\n",
    "                                    PHD_E: 1,})\n",
    "\n",
    "#adding the reactions to the model\n",
    "mcl_PHA_model.add_reactions([phhx_exchange])\n",
    "mcl_PHA_model.add_reactions([phh_exchange])\n",
    "mcl_PHA_model.add_reactions([phho_exchange])\n",
    "mcl_PHA_model.add_reactions([phn_exchange])\n",
    "mcl_PHA_model.add_reactions([phd_exchange])"
   ]
  },
  {
   "cell_type": "code",
   "execution_count": 42,
   "id": "9571c7af-a7ba-49f5-89d2-828cc87aec67",
   "metadata": {},
   "outputs": [
    {
     "data": {
      "text/html": [
       "\n",
       "        <table>\n",
       "            <tr>\n",
       "                <td><strong>Reaction identifier</strong></td><td>EX_phn_e</td>\n",
       "            </tr><tr>\n",
       "                <td><strong>Name</strong></td><td>Polyhydroxynonaoate exchange</td>\n",
       "            </tr><tr>\n",
       "                <td><strong>Memory address</strong></td>\n",
       "                <td>0x0228c4301670</td>\n",
       "            </tr><tr>\n",
       "                <td><strong>Stoichiometry</strong></td>\n",
       "                <td>\n",
       "                    <p style='text-align:right'>phn_e <=></p>\n",
       "                    <p style='text-align:right'>Polyhydroxynonaoate <=></p>\n",
       "                </td>\n",
       "            </tr><tr>\n",
       "                <td><strong>GPR</strong></td><td></td>\n",
       "            </tr><tr>\n",
       "                <td><strong>Lower bound</strong></td><td>-1000.0</td>\n",
       "            </tr><tr>\n",
       "                <td><strong>Upper bound</strong></td><td>1000.0</td>\n",
       "            </tr>\n",
       "        </table>\n",
       "        "
      ],
      "text/plain": [
       "<Reaction EX_phn_e at 0x228c4301670>"
      ]
     },
     "execution_count": 42,
     "metadata": {},
     "output_type": "execute_result"
    }
   ],
   "source": [
    "#create exchange reactions\n",
    "mcl_PHA_model.add_boundary(mcl_PHA_model.metabolites.get_by_id('phhx_e'), type=\"exchange\")\n",
    "mcl_PHA_model.add_boundary(mcl_PHA_model.metabolites.get_by_id('phh_e'), type=\"exchange\")\n",
    "mcl_PHA_model.add_boundary(mcl_PHA_model.metabolites.get_by_id('phho_e'), type=\"exchange\")\n",
    "mcl_PHA_model.add_boundary(mcl_PHA_model.metabolites.get_by_id('phd_e'), type=\"exchange\")\n",
    "mcl_PHA_model.add_boundary(mcl_PHA_model.metabolites.get_by_id('phn_e'), type=\"exchange\")"
   ]
  },
  {
   "cell_type": "code",
   "execution_count": null,
   "id": "465a0473-a447-4d0a-ac51-addbaf7086a4",
   "metadata": {},
   "outputs": [],
   "source": []
  },
  {
   "cell_type": "code",
   "execution_count": 43,
   "id": "68e433b5-5910-4248-8bc6-41685be97445",
   "metadata": {},
   "outputs": [
    {
     "name": "stdout",
     "output_type": "stream",
     "text": [
      "{'EX_fe2_e': 10.0, 'EX_mg2_e': 10.0, 'EX_pi_e': 100.0, 'EX_cobalt2_e': 10.0, 'EX_cl_e': 10.0, 'EX_k_e': 10.0, 'EX_fe3_e': 10.0, 'EX_so4_e': 10.0, 'EX_fru_e': 10, 'EX_nh4_e': 10.0, 'EX_na_e': 10.0, 'EX_o2_e': 18.5, 'EX_mobd_e': 10.0, 'EX_h2o_e': 1000.0, 'EX_h_e': 100.0}\n"
     ]
    },
    {
     "ename": "TypeError",
     "evalue": "item in iterable cannot be '<class 'cobra.core.reaction.Reaction'>'",
     "output_type": "error",
     "traceback": [
      "\u001b[1;31m---------------------------------------------------------------------------\u001b[0m",
      "\u001b[1;31mTypeError\u001b[0m                                 Traceback (most recent call last)",
      "\u001b[1;32m<ipython-input-43-62657a0ad63c>\u001b[0m in \u001b[0;36m<module>\u001b[1;34m\u001b[0m\n\u001b[0;32m      5\u001b[0m \u001b[0mprint\u001b[0m\u001b[1;33m(\u001b[0m\u001b[0mmedium\u001b[0m\u001b[1;33m)\u001b[0m\u001b[1;33m\u001b[0m\u001b[1;33m\u001b[0m\u001b[0m\n\u001b[0;32m      6\u001b[0m \u001b[1;33m\u001b[0m\u001b[0m\n\u001b[1;32m----> 7\u001b[1;33m \u001b[0mmodel\u001b[0m\u001b[1;33m.\u001b[0m\u001b[0mobjective\u001b[0m \u001b[1;33m=\u001b[0m \u001b[0mmcl_PHA_model\u001b[0m\u001b[1;33m.\u001b[0m\u001b[0mreactions\u001b[0m\u001b[1;33m.\u001b[0m\u001b[0mEX_phhx_e\u001b[0m\u001b[1;33m\u001b[0m\u001b[1;33m\u001b[0m\u001b[0m\n\u001b[0m\u001b[0;32m      8\u001b[0m \u001b[0mphb_production_fru\u001b[0m \u001b[1;33m=\u001b[0m \u001b[0mmcl_PHA_model\u001b[0m\u001b[1;33m.\u001b[0m\u001b[0moptimize\u001b[0m\u001b[1;33m(\u001b[0m\u001b[1;33m)\u001b[0m\u001b[1;33m.\u001b[0m\u001b[0mobjective_value\u001b[0m\u001b[1;33m\u001b[0m\u001b[1;33m\u001b[0m\u001b[0m\n\u001b[0;32m      9\u001b[0m \u001b[0mprint\u001b[0m\u001b[1;33m(\u001b[0m\u001b[1;34m\"Max. phb production [mmol gDW^-1 h^-1]:\"\u001b[0m\u001b[1;33m,\u001b[0m \u001b[0mphb_production_fru\u001b[0m\u001b[1;33m)\u001b[0m\u001b[1;33m\u001b[0m\u001b[1;33m\u001b[0m\u001b[0m\n",
      "\u001b[1;32m~\\anaconda3\\lib\\site-packages\\cobra\\core\\model.py\u001b[0m in \u001b[0;36mobjective\u001b[1;34m(self, value)\u001b[0m\n\u001b[0;32m   1153\u001b[0m         \u001b[1;32mif\u001b[0m \u001b[1;32mnot\u001b[0m \u001b[0misinstance\u001b[0m\u001b[1;33m(\u001b[0m\u001b[0mvalue\u001b[0m\u001b[1;33m,\u001b[0m \u001b[1;33m(\u001b[0m\u001b[0mdict\u001b[0m\u001b[1;33m,\u001b[0m \u001b[0moptlang\u001b[0m\u001b[1;33m.\u001b[0m\u001b[0minterface\u001b[0m\u001b[1;33m.\u001b[0m\u001b[0mObjective\u001b[0m\u001b[1;33m)\u001b[0m\u001b[1;33m)\u001b[0m\u001b[1;33m:\u001b[0m\u001b[1;33m\u001b[0m\u001b[1;33m\u001b[0m\u001b[0m\n\u001b[0;32m   1154\u001b[0m             \u001b[1;32mtry\u001b[0m\u001b[1;33m:\u001b[0m\u001b[1;33m\u001b[0m\u001b[1;33m\u001b[0m\u001b[0m\n\u001b[1;32m-> 1155\u001b[1;33m                 \u001b[0mreactions\u001b[0m \u001b[1;33m=\u001b[0m \u001b[0mself\u001b[0m\u001b[1;33m.\u001b[0m\u001b[0mreactions\u001b[0m\u001b[1;33m.\u001b[0m\u001b[0mget_by_any\u001b[0m\u001b[1;33m(\u001b[0m\u001b[0mvalue\u001b[0m\u001b[1;33m)\u001b[0m\u001b[1;33m\u001b[0m\u001b[1;33m\u001b[0m\u001b[0m\n\u001b[0m\u001b[0;32m   1156\u001b[0m             \u001b[1;32mexcept\u001b[0m \u001b[0mKeyError\u001b[0m\u001b[1;33m:\u001b[0m\u001b[1;33m\u001b[0m\u001b[1;33m\u001b[0m\u001b[0m\n\u001b[0;32m   1157\u001b[0m                 \u001b[1;32mraise\u001b[0m \u001b[0mValueError\u001b[0m\u001b[1;33m(\u001b[0m\u001b[1;34m\"invalid objective\"\u001b[0m\u001b[1;33m)\u001b[0m\u001b[1;33m\u001b[0m\u001b[1;33m\u001b[0m\u001b[0m\n",
      "\u001b[1;32m~\\anaconda3\\lib\\site-packages\\cobra\\core\\dictlist.py\u001b[0m in \u001b[0;36mget_by_any\u001b[1;34m(self, iterable)\u001b[0m\n\u001b[0;32m     90\u001b[0m         \u001b[1;32mif\u001b[0m \u001b[1;32mnot\u001b[0m \u001b[0misinstance\u001b[0m\u001b[1;33m(\u001b[0m\u001b[0miterable\u001b[0m\u001b[1;33m,\u001b[0m \u001b[0mlist\u001b[0m\u001b[1;33m)\u001b[0m\u001b[1;33m:\u001b[0m\u001b[1;33m\u001b[0m\u001b[1;33m\u001b[0m\u001b[0m\n\u001b[0;32m     91\u001b[0m             \u001b[0miterable\u001b[0m \u001b[1;33m=\u001b[0m \u001b[1;33m[\u001b[0m\u001b[0miterable\u001b[0m\u001b[1;33m]\u001b[0m\u001b[1;33m\u001b[0m\u001b[1;33m\u001b[0m\u001b[0m\n\u001b[1;32m---> 92\u001b[1;33m         \u001b[1;32mreturn\u001b[0m \u001b[1;33m[\u001b[0m\u001b[0mget_item\u001b[0m\u001b[1;33m(\u001b[0m\u001b[0mitem\u001b[0m\u001b[1;33m)\u001b[0m \u001b[1;32mfor\u001b[0m \u001b[0mitem\u001b[0m \u001b[1;32min\u001b[0m \u001b[0miterable\u001b[0m\u001b[1;33m]\u001b[0m\u001b[1;33m\u001b[0m\u001b[1;33m\u001b[0m\u001b[0m\n\u001b[0m\u001b[0;32m     93\u001b[0m \u001b[1;33m\u001b[0m\u001b[0m\n\u001b[0;32m     94\u001b[0m     \u001b[1;32mdef\u001b[0m \u001b[0mquery\u001b[0m\u001b[1;33m(\u001b[0m\u001b[0mself\u001b[0m\u001b[1;33m,\u001b[0m \u001b[0msearch_function\u001b[0m\u001b[1;33m,\u001b[0m \u001b[0mattribute\u001b[0m\u001b[1;33m=\u001b[0m\u001b[1;32mNone\u001b[0m\u001b[1;33m)\u001b[0m\u001b[1;33m:\u001b[0m\u001b[1;33m\u001b[0m\u001b[1;33m\u001b[0m\u001b[0m\n",
      "\u001b[1;32m~\\anaconda3\\lib\\site-packages\\cobra\\core\\dictlist.py\u001b[0m in \u001b[0;36m<listcomp>\u001b[1;34m(.0)\u001b[0m\n\u001b[0;32m     90\u001b[0m         \u001b[1;32mif\u001b[0m \u001b[1;32mnot\u001b[0m \u001b[0misinstance\u001b[0m\u001b[1;33m(\u001b[0m\u001b[0miterable\u001b[0m\u001b[1;33m,\u001b[0m \u001b[0mlist\u001b[0m\u001b[1;33m)\u001b[0m\u001b[1;33m:\u001b[0m\u001b[1;33m\u001b[0m\u001b[1;33m\u001b[0m\u001b[0m\n\u001b[0;32m     91\u001b[0m             \u001b[0miterable\u001b[0m \u001b[1;33m=\u001b[0m \u001b[1;33m[\u001b[0m\u001b[0miterable\u001b[0m\u001b[1;33m]\u001b[0m\u001b[1;33m\u001b[0m\u001b[1;33m\u001b[0m\u001b[0m\n\u001b[1;32m---> 92\u001b[1;33m         \u001b[1;32mreturn\u001b[0m \u001b[1;33m[\u001b[0m\u001b[0mget_item\u001b[0m\u001b[1;33m(\u001b[0m\u001b[0mitem\u001b[0m\u001b[1;33m)\u001b[0m \u001b[1;32mfor\u001b[0m \u001b[0mitem\u001b[0m \u001b[1;32min\u001b[0m \u001b[0miterable\u001b[0m\u001b[1;33m]\u001b[0m\u001b[1;33m\u001b[0m\u001b[1;33m\u001b[0m\u001b[0m\n\u001b[0m\u001b[0;32m     93\u001b[0m \u001b[1;33m\u001b[0m\u001b[0m\n\u001b[0;32m     94\u001b[0m     \u001b[1;32mdef\u001b[0m \u001b[0mquery\u001b[0m\u001b[1;33m(\u001b[0m\u001b[0mself\u001b[0m\u001b[1;33m,\u001b[0m \u001b[0msearch_function\u001b[0m\u001b[1;33m,\u001b[0m \u001b[0mattribute\u001b[0m\u001b[1;33m=\u001b[0m\u001b[1;32mNone\u001b[0m\u001b[1;33m)\u001b[0m\u001b[1;33m:\u001b[0m\u001b[1;33m\u001b[0m\u001b[1;33m\u001b[0m\u001b[0m\n",
      "\u001b[1;32m~\\anaconda3\\lib\\site-packages\\cobra\\core\\dictlist.py\u001b[0m in \u001b[0;36mget_item\u001b[1;34m(item)\u001b[0m\n\u001b[0;32m     86\u001b[0m                 \u001b[1;32mreturn\u001b[0m \u001b[0mitem\u001b[0m\u001b[1;33m\u001b[0m\u001b[1;33m\u001b[0m\u001b[0m\n\u001b[0;32m     87\u001b[0m             \u001b[1;32melse\u001b[0m\u001b[1;33m:\u001b[0m\u001b[1;33m\u001b[0m\u001b[1;33m\u001b[0m\u001b[0m\n\u001b[1;32m---> 88\u001b[1;33m                 \u001b[1;32mraise\u001b[0m \u001b[0mTypeError\u001b[0m\u001b[1;33m(\u001b[0m\u001b[1;34m\"item in iterable cannot be '%s'\"\u001b[0m \u001b[1;33m%\u001b[0m \u001b[0mtype\u001b[0m\u001b[1;33m(\u001b[0m\u001b[0mitem\u001b[0m\u001b[1;33m)\u001b[0m\u001b[1;33m)\u001b[0m\u001b[1;33m\u001b[0m\u001b[1;33m\u001b[0m\u001b[0m\n\u001b[0m\u001b[0;32m     89\u001b[0m \u001b[1;33m\u001b[0m\u001b[0m\n\u001b[0;32m     90\u001b[0m         \u001b[1;32mif\u001b[0m \u001b[1;32mnot\u001b[0m \u001b[0misinstance\u001b[0m\u001b[1;33m(\u001b[0m\u001b[0miterable\u001b[0m\u001b[1;33m,\u001b[0m \u001b[0mlist\u001b[0m\u001b[1;33m)\u001b[0m\u001b[1;33m:\u001b[0m\u001b[1;33m\u001b[0m\u001b[1;33m\u001b[0m\u001b[0m\n",
      "\u001b[1;31mTypeError\u001b[0m: item in iterable cannot be '<class 'cobra.core.reaction.Reaction'>'"
     ]
    }
   ],
   "source": [
    "#### with only fructose as C-source\n",
    "medium = model.medium\n",
    "medium ['EX_fru_e'] = 10\n",
    "model.medium = medium\n",
    "print(medium)\n",
    "\n",
    "model.objective = mcl_PHA_model.reactions.EX_phhx_e\n",
    "phb_production_fru = mcl_PHA_model.optimize().objective_value\n",
    "print(\"Max. phb production [mmol gDW^-1 h^-1]:\", phb_production_fru)\n",
    "print(\"Theoretical max. yield [mmol-phb / mmol-fru]:\", phb_production_fru / (-1*mcl_PHA_model.reactions.EX_fru_e.flux))"
   ]
  },
  {
   "cell_type": "code",
   "execution_count": null,
   "id": "f21a6002-8d2a-4809-9943-63bacbd720ee",
   "metadata": {},
   "outputs": [],
   "source": [
    "S = create_stoichiometric_matrix(model)"
   ]
  },
  {
   "cell_type": "code",
   "execution_count": null,
   "id": "18744f8a-0188-400b-a7c8-09a77674f227",
   "metadata": {},
   "outputs": [],
   "source": [
    "import matplotlib.pyplot as plt\n",
    "\n",
    "plt.figure(figsize=(10,10))\n",
    "plt.spy(S, precision=0.01, markersize=0.2)\n",
    "plt.xlabel('Reactions')\n",
    "plt.ylabel('Metabolites')\n",
    "plt.show()"
   ]
  },
  {
   "cell_type": "code",
   "execution_count": null,
   "id": "6dc9c376-c2e4-4724-8005-6c92ba58353b",
   "metadata": {},
   "outputs": [],
   "source": [
    "S_bin = np.where(S!=0., 1., 0.)"
   ]
  },
  {
   "cell_type": "code",
   "execution_count": null,
   "id": "71fe0f40-b722-48b1-b7c0-52988b8a580b",
   "metadata": {},
   "outputs": [],
   "source": [
    "A_x = S_bin.dot(S_bin.T)"
   ]
  },
  {
   "cell_type": "code",
   "execution_count": null,
   "id": "ed714f96-995a-4ff1-a5cb-5b4384d1f645",
   "metadata": {},
   "outputs": [],
   "source": [
    "connectivities = A_x.diagonal()"
   ]
  },
  {
   "cell_type": "code",
   "execution_count": null,
   "id": "663eb582-84f7-4e48-87e4-9727886788e7",
   "metadata": {},
   "outputs": [],
   "source": [
    "plt.loglog(sorted(connectivities, reverse=True), 'o')\n",
    "plt.xlabel('Metabolite number')\n",
    "plt.ylabel('Number of reactions')\n",
    "plt.show()"
   ]
  },
  {
   "cell_type": "code",
   "execution_count": null,
   "id": "de89066a-7ee9-4c5d-8252-88bccb37d3a9",
   "metadata": {},
   "outputs": [],
   "source": [
    "connectivity = sorted(zip(model.metabolites, A_x.diagonal()), key=lambda item: item[1], reverse=True)\n",
    "connectivity[0:10]"
   ]
  },
  {
   "cell_type": "code",
   "execution_count": null,
   "id": "4b4f0482",
   "metadata": {},
   "outputs": [],
   "source": [
    "solution = model.optimize()\n",
    "fluxes = solution.fluxes\n",
    "order = fluxes.sort_values()\n",
    "print(order.index[0:10])"
   ]
  },
  {
   "cell_type": "code",
   "execution_count": null,
   "id": "f4061547-c188-4f0d-9daa-0c4f458c5c6b",
   "metadata": {},
   "outputs": [],
   "source": [
    "#creating new reaction to model to produce medium-chain-length PHA from (R)-3-Hydroxybutanoyl-CoA\n",
    "#phaC_PHHx_r3hbcoa_c = Reaction('mcl-Polyhydroxyalkanoate-synthase_for_PHHx_from_(R)-3-Hydroxybutanoyl-CoA')\n",
    "#phaC_PHH_r3hbcoa_c = Reaction('mcl-Polyhydroxyalkanoate-synthase_for_PHH_from_(R)-3-Hydroxybutanoyl-CoA')\n",
    "#phaC_PHHO_r3hbcoa_c = Reaction('mcl-Polyhydroxyalkanoate-synthase_for_PHHO_from_(R)-3-Hydroxybutanoyl-CoA')\n",
    "#phaC_PHN_r3hbcoa_c = Reaction('mcl-Polyhydroxyalkanoate-synthase_for_PHN_from_(R)-3-Hydroxybutanoyl-CoA')\n",
    "#phaC_PHD_r3hbcoa_c = Reaction('mcl-Polyhydroxyalkanoate-synthase_for_PHD_from_(R)-3-Hydroxybutanoyl-CoA')\n",
    "\n",
    "#creating new reactions to model the production of (R)-3-Hydroxybutanoyl-CoA from medium-chain-length PHA \n",
    "#phaC_r3hbcoa_c_PHHx = Reaction('PHHx_breakdown_to_(R)-3-Hydroxybutanoyl-CoA')\n",
    "#phaC_r3hbcoa_c_PHH = Reaction('PHH_breakdown_to_(R)-3-Hydroxybutanoyl-CoA')\n",
    "#phaC_r3hbcoa_c_PHHO = Reaction('PHHO_breakdown_to_(R)-3-Hydroxybutanoyl-CoA')\n",
    "#phaC_r3hbcoa_c_PHN = Reaction('PHN_breakdown_to_(R)-3-Hydroxybutanoyl-CoA')\n",
    "#phaC_r3hbcoa_c_PHD = Reaction('PHD_breakdown_to_(R)-3-Hydroxybutanoyl-CoA')\n",
    "\n",
    "#adding stochiometric data and involved metabolites to new reactions to model the production of mcl-PHAs from (R)-3-Hydroxybutanoyl-CoA\n",
    "#phaC_PHHx_r3hbcoa_c.add_metabolites({R3_HB_COA: -1,\n",
    "#                                PHHx: 1, \n",
    "#                                    mcl_PHA_model.metabolites.coa_c: 1,})\n",
    "#phaC_PHH_r3hbcoa_c.add_metabolites({R3_HB_COA: -1,\n",
    "#                                PHH: 1, \n",
    "#                                   mcl_PHA_model.metabolites.coa_c: 1,})\n",
    "#phaC_PHHO_r3hbcoa_c.add_metabolites({R3_HB_COA: -1,\n",
    "#                                PHHO: 1, \n",
    "#                                    mcl_PHA_model.metabolites.coa_c: 1,})\n",
    "#phaC_PHN_r3hbcoa_c.add_metabolites({R3_HB_COA: -1,\n",
    "#                                PHN: 1, \n",
    "#                                   mcl_PHA_model.metabolites.coa_c: 1,})\n",
    "#phaC_PHD_r3hbcoa_c.add_metabolites({R3_HB_COA: -1,\n",
    "#                                PHD: 1, \n",
    "#                                   mcl_PHA_model.metabolites.coa_c: 1,})\n",
    "\n",
    "#adding stochiometric data and involved metabolites to new reactions to model the break-down of medium-chain-length PHA to (R)-3-Hydroxybutanoyl-CoA\n",
    "#phaC_r3hbcoa_c_PHHx.add_metabolites({R3_HB_COA: 1,\n",
    "#                                PHHx: -1, \n",
    "#                                    mcl_PHA_model.metabolites.coa_c: -1,})\n",
    "#phaC_r3hbcoa_c_PHH.add_metabolites({R3_HB_COA: 1,\n",
    "#                                PHH: -1, \n",
    "#                                   mcl_PHA_model.metabolites.coa_c: -1,})\n",
    "#phaC_r3hbcoa_c_PHHO.add_metabolites({R3_HB_COA: 1,\n",
    "#                                PHHO: -1, \n",
    "#                                    mcl_PHA_model.metabolites.coa_c: -1,})\n",
    "#phaC_r3hbcoa_c_PHN.add_metabolites({R3_HB_COA: 1,\n",
    "#                                PHN: -1, \n",
    "#                                   mcl_PHA_model.metabolites.coa_c: -1,})\n",
    "#phaC_r3hbcoa_c_PHD.add_metabolites({R3_HB_COA: 1,\n",
    "#                                PHD: -1, \n",
    "#                                   mcl_PHA_model.metabolites.coa_c: -1,})\n",
    "#\n",
    "#adding the reactions to the model\n",
    "#mcl_PHA_model.add_reactions([phaC_PHHx_r3hbcoa_c])\n",
    "#mcl_PHA_model.add_reactions([phaC_PHH_r3hbcoa_c])\n",
    "#mcl_PHA_model.add_reactions([phaC_PHHO_r3hbcoa_c])\n",
    "#mcl_PHA_model.add_reactions([phaC_PHN_r3hbcoa_c])\n",
    "#mcl_PHA_model.add_reactions([phaC_PHD_r3hbcoa_c])\n",
    "#\n",
    "#mcl_PHA_model.add_reactions([phaC_r3hbcoa_c_PHHx])\n",
    "#mcl_PHA_model.add_reactions([phaC_r3hbcoa_c_PHH])\n",
    "#mcl_PHA_model.add_reactions([phaC_r3hbcoa_c_PHHO])\n",
    "#mcl_PHA_model.add_reactions([phaC_r3hbcoa_c_PHN])\n",
    "#mcl_PHA_model.add_reactions([phaC_r3hbcoa_c_PHD])"
   ]
  },
  {
   "cell_type": "code",
   "execution_count": null,
   "id": "3a8cabf4-1cac-4567-aeb2-8feca5c230d5",
   "metadata": {},
   "outputs": [],
   "source": [
    "#############################################################################################################\n",
    "######################## OBSOLETE CODE ######################################################################\n",
    "#\n",
    "#creating new reactions to model the production of (R)-3-Hydroxybutanoyl-CoA from medium-chain-length PHA \n",
    "#phaC_r3hbcoa_c_PHHx = Reaction('PHHx_breakdown_to_(R)-3-Hydroxybutanoyl-CoA')\n",
    "#phaC_r3hbcoa_c_PHH = Reaction('PHH_breakdown_to_(R)-3-Hydroxybutanoyl-CoA')\n",
    "#phaC_r3hbcoa_c_PHHO = Reaction('PHHO_breakdown_to_(R)-3-Hydroxybutanoyl-CoA')\n",
    "#phaC_r3hbcoa_c_PHN = Reaction('PHN_breakdown_to_(R)-3-Hydroxybutanoyl-CoA')\n",
    "#phaC_r3hbcoa_c_PHD = Reaction('PHD_breakdown_to_(R)-3-Hydroxybutanoyl-CoA')\n",
    "#\n",
    "#adding other direction of reactions as well\n",
    "#phaC_r3hbcoa_c_PHHx.add_metabolites({mcl_PHA_model.metabolites.r3hbcoa_c: 1,\n",
    "#                                PHHx: -1,\n",
    "#                                   mcl_PHA_model.metabolites.coa_c: -1})\n",
    "#phaC_r3hbcoa_c_PHH.add_metabolites({mcl_PHA_model.metabolites.r3hbcoa_c: 1,\n",
    "#                                PHH: -1, \n",
    "#                                   mcl_PHA_model.metabolites.coa_c: -1, })\n",
    "#phaC_r3hbcoa_c_PHHO.add_metabolites({mcl_PHA_model.metabolites.r3hbcoa_c: 1,\n",
    "#                                PHHO: -1,\n",
    "#                                   mcl_PHA_model.metabolites.coa_c: -1, })\n",
    "#phaC_r3hbcoa_c_PHN.add_metabolites({mcl_PHA_model.metabolites.r3hbcoa_c: 1,\n",
    "#                                PHN: -1, \n",
    "#                                   mcl_PHA_model.metabolites.coa_c: -1,})\n",
    "#phaC_r3hbcoa_c_PHD.add_metabolites({mcl_PHA_model.metabolites.r3hbcoa_c: 1,\n",
    "#                                PHD: -1,\n",
    "#                                   mcl_PHA_model.metabolites.coa_c: -1,})\n",
    "#\n",
    "#mcl_PHA_model.add_reactions([phaC_r3hbcoa_c_PHHx])\n",
    "#mcl_PHA_model.add_reactions([phaC_r3hbcoa_c_PHH])\n",
    "#mcl_PHA_model.add_reactions([phaC_r3hbcoa_c_PHHO])\n",
    "#mcl_PHA_model.add_reactions([phaC_r3hbcoa_c_PHN])\n",
    "#mcl_PHA_model.add_reactions([phaC_r3hbcoa_c_PHD])\n",
    "\n",
    "#never forget to set boundaries for newly added reactions\n",
    "#somehow never added for the other reactions? \n",
    "#mcl_PHA_model.add_boundary(mcl_PHA_model.metabolites.phhx_c, type=\"demand\")\n",
    "#mcl_PHA_model.add_boundary(mcl_PHA_model.metabolites.phh_c, type=\"demand\")\n",
    "#mcl_PHA_model.add_boundary(mcl_PHA_model.metabolites.phho_c, type=\"demand\")\n",
    "#mcl_PHA_model.add_boundary(mcl_PHA_model.metabolites.phn_c, type=\"demand\")\n",
    "#mcl_PHA_model.add_boundary(mcl_PHA_model.metabolites.phd_c, type=\"demand\")\n",
    "\n",
    "\n",
    "\n",
    "#creating new reactions to model the production of 3-Hydroxypimeloyl-CoA from medium-chain-length PHA \n",
    "#phaC_hpimcoa_c_PHHx = Reaction('PHHx_breakdown_to_3-Hydroxypimeloyl-CoA')\n",
    "#phaC_hpimcoa_c_PHH = Reaction('PHH_breakdown_to_3-Hydroxypimeloyl-CoA')\n",
    "#phaC_hpimcoa_c_PHHO = Reaction('PHHO_breakdown_to_3-Hydroxypimeloyl-CoA')\n",
    "#phaC_hpimcoa_c_PHN = Reaction('PHN_breakdown_to_3-Hydroxypimeloyl-CoA')\n",
    "#phaC_hpimcoa_c_PHD = Reaction('PHD_breakdown_to_3-Hydroxypimeloyl-CoA')\n",
    "\n",
    "#adding stochiometric data and involved metabolites to new reactions to model the break-down of medium-chain-length PHA to 3-Hydroxypimeloyl-CoA\n",
    "#phaC_hpimcoa_c_PHHx.add_metabolites({mcl_PHA_model.metabolites.hpimcoa_c: 1,\n",
    "#                                PHHx: -1, \n",
    "#                                    mcl_PHA_model.metabolites.coa_c: -1,})\n",
    "#phaC_hpimcoa_c_PHH.add_metabolites({mcl_PHA_model.metabolites.hpimcoa_c: 1,\n",
    "#                                PHH: -1, \n",
    "#                                   mcl_PHA_model.metabolites.coa_c: -1,})\n",
    "#phaC_hpimcoa_c_PHHO.add_metabolites({mcl_PHA_model.metabolites.hpimcoa_c: 1,\n",
    "#                                PHHO: -1, \n",
    "#                                    mcl_PHA_model.metabolites.coa_c: -1,})\n",
    "#phaC_hpimcoa_c_PHN.add_metabolites({mcl_PHA_model.metabolites.hpimcoa_c: 1,\n",
    "#                                PHN: -1, \n",
    "#                                   mcl_PHA_model.metabolites.coa_c: -1,})\n",
    "#phaC_hpimcoa_c_PHD.add_metabolites({mcl_PHA_model.metabolites.hpimcoa_c: 1,\n",
    "#                               PHD: -1, \n",
    "#                                   mcl_PHA_model.metabolites.coa_c: -1,})\n",
    "\n",
    "\n",
    "#mcl_PHA_model.add_reactions([phaC_hpimcoa_c_PHHx])\n",
    "#mcl_PHA_model.add_reactions([phaC_hpimcoa_c_PHH])\n",
    "#mcl_PHA_model.add_reactions([phaC_hpimcoa_c_PHHO])\n",
    "#mcl_PHA_model.add_reactions([phaC_hpimcoa_c_PHN])\n",
    "#mcl_PHA_model.add_reactions([phaC_hpimcoa_c_PHD])\n",
    "\n",
    "#mcl_PHA_model.add_reactions([phaC_r3hadpcoa_c_PHHx])\n",
    "#mcl_PHA_model.add_reactions([phaC_r3hadpcoa_c_PHH])\n",
    "#mcl_PHA_model.add_reactions([phaC_r3hadpcoa_c_PHHO])\n",
    "#mcl_PHA_model.add_reactions([phaC_r3hadpcoa_c_PHN])\n",
    "#mcl_PHA_model.add_reactions([phaC_r3hadpcoa_c_PHD])\n",
    "\n",
    "\n",
    "\n",
    "#creating new reactions to model the production of 3-Hydroxypropionyl-CoA from medium-chain-length PHA \n",
    "#phaC_3hpcoa_c_PHHx = Reaction('PHHx_breakdown_to_3-Hydroxypropionyl-CoA')\n",
    "#phaC_3hpcoa_c_PHH = Reaction('PHH_breakdown_to_3-Hydroxypropionyl-CoA')\n",
    "#phaC_3hpcoa_c_PHHO = Reaction('PHHO_breakdown_to_3-Hydroxypropionyl-CoA')\n",
    "#phaC_3hpcoa_c_PHN = Reaction('PHN_breakdown_to_3-Hydroxypropionyl-CoA')\n",
    "#phaC_3hpcoa_c_PHD = Reaction('PHD_breakdown_to_3-Hydroxypropionyl-CoA')\n",
    "\n",
    "#adding stochiometric data and involved metabolites to new reactions to model the break-down of medium-chain-length PHA to 3-Hydroxypropionyl-CoA\n",
    "#phaC_3hpcoa_c_PHHx.add_metabolites({mcl_PHA_model.metabolites.get_by_id(\"3hpcoa_c\"): 1,\n",
    "#                                PHHx: -1, \n",
    "#                                    mcl_PHA_model.metabolites.coa_c: -1,})\n",
    "#phaC_3hpcoa_c_PHH.add_metabolites({mcl_PHA_model.metabolites.get_by_id(\"3hpcoa_c\"): 1,\n",
    "#                                PHH: -1, \n",
    "#                                   mcl_PHA_model.metabolites.coa_c: -1,})\n",
    "#phaC_3hpcoa_c_PHHO.add_metabolites({mcl_PHA_model.metabolites.get_by_id(\"3hpcoa_c\"): 1,\n",
    "#                                PHHO: -1, \n",
    "#                                    mcl_PHA_model.metabolites.coa_c: -1,})\n",
    "#phaC_3hpcoa_c_PHN.add_metabolites({mcl_PHA_model.metabolites.get_by_id(\"3hpcoa_c\"): 1,\n",
    "#                                PHN: -1, \n",
    "#                                   mcl_PHA_model.metabolites.coa_c: -1,})\n",
    "#phaC_3hpcoa_c_PHD.add_metabolites({mcl_PHA_model.metabolites.get_by_id(\"3hpcoa_c\"): 1,\n",
    "#                                PHD: -1, \n",
    "#                                   mcl_PHA_model.metabolites.coa_c: -1,})\n",
    "\n",
    "#mcl_PHA_model.add_reactions([phaC_3hpcoa_c_PHHx])\n",
    "#mcl_PHA_model.add_reactions([phaC_3hpcoa_c_PHH])\n",
    "#mcl_PHA_model.add_reactions([phaC_3hpcoa_c_PHHO])\n",
    "#mcl_PHA_model.add_reactions([phaC_3hpcoa_c_PHN])\n",
    "#mcl_PHA_model.add_reactions([phaC_3hpcoa_c_PHD])\n",
    "\n",
    "\n",
    "#creating new reactions to model the production of (3R)-R-Hydroxyadipyl-CoA from medium-chain-length PHA \n",
    "#phaC_r3hadpcoa_c_PHHx = Reaction('PHHx_breakdown_to_(3R)-R-Hydroxyadipyl-CoA')\n",
    "#phaC_r3hadpcoa_c_PHH = Reaction('PHH_breakdown_to_(3R)-R-Hydroxyadipyl-CoA')\n",
    "#phaC_r3hadpcoa_c_PHHO = Reaction('PHHO_breakdown_to_(3R)-R-Hydroxyadipyl-CoA')\n",
    "#phaC_r3hadpcoa_c_PHN = Reaction('PHN_breakdown_to_(3R)-R-Hydroxyadipyl-CoA')\n",
    "#phaC_r3hadpcoa_c_PHD = Reaction('PHD_breakdown_to_(3R)-R-Hydroxyadipyl-CoA')\n",
    "\n",
    "#adding stochiometric data and involved metabolites to new reactions to model the break-down of medium-chain-length PHA to (3R)-R-Hydroxyadipyl-CoA\n",
    "#phaC_r3hadpcoa_c_PHHx.add_metabolites({R3_HADP_COA: 1,\n",
    "#                                PHHx: -1, \n",
    "#                                    mcl_PHA_model.metabolites.coa_c: -1,})\n",
    "#phaC_r3hadpcoa_c_PHH.add_metabolites({R3_HADP_COA: 1,\n",
    "#                                PHH: -1, \n",
    "#                                   mcl_PHA_model.metabolites.coa_c: -1,})\n",
    "#phaC_r3hadpcoa_c_PHHO.add_metabolites({R3_HADP_COA: 1,\n",
    "#                                PHHO: -1, \n",
    "#                                    mcl_PHA_model.metabolites.coa_c: -1,})\n",
    "#phaC_r3hadpcoa_c_PHN.add_metabolites({R3_HADP_COA: 1,\n",
    "#                                PHN: -1, \n",
    "#                                  mcl_PHA_model.metabolites.coa_c: -1,})\n",
    "#phaC_r3hadpcoa_c_PHD.add_metabolites({R3_HADP_COA: 1,\n",
    "#                                PHD: -1, \n",
    "#                                   mcl_PHA_model.metabolites.coa_c: -1,})"
   ]
  },
  {
   "cell_type": "code",
   "execution_count": null,
   "id": "4d20a838-0b14-4e66-a759-015f985f28f2",
   "metadata": {},
   "outputs": [],
   "source": [
    "#creating new reactions to model the production of (R)-3-Hydroxyisobutyryl-CoA from medium-chain-length PHA \n",
    "#phaC_r3hibutcoa_c_c_PHHx = Reaction('PHHx_breakdown_to_(R)-3-Hydroxyisobutyryl-CoA')\n",
    "#phaC_r3hibutcoa_c_c_PHH = Reaction('PHH_breakdown_to_(R)-3-Hydroxyisobutyryl-CoA')\n",
    "#phaC_r3hibutcoa_c_c_PHHO = Reaction('PHHO_breakdown_to_(R)-3-Hydroxyisobutyryl-CoA')\n",
    "#phaC_r3hibutcoa_c_c_PHN = Reaction('PHN_breakdown_to_(R)-3-Hydroxyisobutyryl-CoA')\n",
    "#phaC_r3hibutcoa_c_c_PHD = Reaction('PHD_breakdown_to_(R)-3-Hydroxyisobutyryl-CoA')\n",
    "\n",
    "#adding stochiometric data and involved metabolites to new reactions to model the break-down of medium-chain-length PHA to (R)-3-Hydroxyisobutyryl-CoA\n",
    "#phaC_r3hibutcoa_c_c_PHHx.add_metabolites({R3_HIBUT_COA: 1,\n",
    "#                                PHHx: -1, \n",
    "#                                    mcl_PHA_model.metabolites.coa_c: -1,})\n",
    "#phaC_r3hibutcoa_c_c_PHH.add_metabolites({R3_HIBUT_COA: 1,\n",
    "#                                PHH: -1, \n",
    "#                                   mcl_PHA_model.metabolites.coa_c: -1,})\n",
    "#phaC_r3hibutcoa_c_c_PHHO.add_metabolites({R3_HIBUT_COA: 1,\n",
    "#                               PHHO: -1, \n",
    "#                                    mcl_PHA_model.metabolites.coa_c: -1,})\n",
    "#phaC_r3hibutcoa_c_c_PHN.add_metabolites({R3_HIBUT_COA: 1,\n",
    "#                                PHN: -1, \n",
    "#                                   mcl_PHA_model.metabolites.coa_c: -1,})\n",
    "#phaC_r3hibutcoa_c_c_PHD.add_metabolites({R3_HIBUT_COA: 1,\n",
    "#                                PHD: -1, \n",
    "#                                   mcl_PHA_model.metabolites.coa_c: -1,})\n",
    "\n",
    "#mcl_PHA_model.add_reactions([phaC_r3hibutcoa_c_c_PHHx])\n",
    "#mcl_PHA_model.add_reactions([phaC_r3hibutcoa_c_c_PHH])\n",
    "#mcl_PHA_model.add_reactions([phaC_r3hibutcoa_c_c_PHHO])\n",
    "#mcl_PHA_model.add_reactions([phaC_r3hibutcoa_c_c_PHN])\n",
    "#mcl_PHA_model.add_reactions([phaC_r3hibutcoa_c_c_PHD])"
   ]
  }
 ],
 "metadata": {
  "kernelspec": {
   "display_name": "Python 3",
   "language": "python",
   "name": "python3"
  },
  "language_info": {
   "codemirror_mode": {
    "name": "ipython",
    "version": 3
   },
   "file_extension": ".py",
   "mimetype": "text/x-python",
   "name": "python",
   "nbconvert_exporter": "python",
   "pygments_lexer": "ipython3",
   "version": "3.8.8"
  }
 },
 "nbformat": 4,
 "nbformat_minor": 5
}
