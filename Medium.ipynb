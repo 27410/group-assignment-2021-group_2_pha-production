{
 "cells": [
  {
   "cell_type": "code",
   "execution_count": 2,
   "metadata": {},
   "outputs": [],
   "source": [
    "import cobra.test\n",
    "import os\n",
    "from os.path import join\n",
    "from cobra.io import read_sbml_model\n",
    "model = cobra.io.load_json_model(join(\"RehMBEL1391_sbml_L3V1.json\"))\n",
    "from cobra import Model, Reaction, Metabolite"
   ]
  },
  {
   "cell_type": "markdown",
   "metadata": {},
   "source": [
    "# Adding D-glucose to the medium"
   ]
  },
  {
   "cell_type": "markdown",
   "metadata": {},
   "source": [
    "The model we are using has D-fructorse as carbon source."
   ]
  },
  {
   "cell_type": "markdown",
   "metadata": {},
   "source": [
    "## Standard medium content of the model"
   ]
  },
  {
   "cell_type": "code",
   "execution_count": 5,
   "metadata": {},
   "outputs": [
    {
     "data": {
      "text/plain": [
       "{'EX_fe2_e': 10.0,\n",
       " 'EX_mg2_e': 10.0,\n",
       " 'EX_pi_e': 100.0,\n",
       " 'EX_cobalt2_e': 10.0,\n",
       " 'EX_cl_e': 10.0,\n",
       " 'EX_k_e': 10.0,\n",
       " 'EX_fe3_e': 10.0,\n",
       " 'EX_so4_e': 10.0,\n",
       " 'EX_fru_e': 3.0,\n",
       " 'EX_nh4_e': 10.0,\n",
       " 'EX_na_e': 10.0,\n",
       " 'EX_o2_e': 18.5,\n",
       " 'EX_mobd_e': 10.0,\n",
       " 'EX_h2o_e': 1000.0,\n",
       " 'EX_h_e': 100.0}"
      ]
     },
     "execution_count": 5,
     "metadata": {},
     "output_type": "execute_result"
    }
   ],
   "source": [
    "model.medium   #EX_fru_e is D-frucose"
   ]
  },
  {
   "cell_type": "code",
   "execution_count": 18,
   "metadata": {},
   "outputs": [
    {
     "name": "stdout",
     "output_type": "stream",
     "text": [
      "{'EX_fe2_e': 10.0, 'EX_mg2_e': 10.0, 'EX_pi_e': 100.0, 'EX_cobalt2_e': 10.0, 'EX_cl_e': 10.0, 'EX_k_e': 10.0, 'EX_fe3_e': 10.0, 'EX_so4_e': 10.0, 'EX_fru_e': 0, 'EX_nh4_e': 10.0, 'EX_na_e': 10.0, 'EX_o2_e': 18.5, 'EX_mobd_e': 10.0, 'EX_h2o_e': 1000.0, 'EX_h_e': 100.0}\n",
      "The current theoretical maximum biomass productivity: 0.0 h\n",
      "----------------\n",
      "The current maximum theoretical productivity for making PHB: 0.0 mmol/gDW*h\n",
      "----------------\n"
     ]
    }
   ],
   "source": [
    "with model:\n",
    "    medium = model.medium\n",
    "    medium['EX_fru_e'] = 0\n",
    "    print(medium)\n",
    "    model.medium = medium\n",
    "    solution= model.optimize()\n",
    "    print('The current theoretical maximum biomass productivity:', solution.fluxes['EX_BIOMASS_c'], 'h')\n",
    "    print('----------------')\n",
    "    \n",
    "    model.objective = model.reactions.EX_pbhb_e\n",
    "    phb_production=model.optimize().objective_value\n",
    "    print('The current maximum theoretical productivity for making PHB:', phb_production , 'mmol/gDW*h')\n",
    "    print('----------------')\n",
    "    \n",
    "    #maximum_yield = phb_production / (-1*(model.reactions.EX_fru_e.flux))\n",
    "    #print('Maximum theoretical yield =', maximum_yield, 'mmol phb/mmol Fructose')\n",
    "    \n",
    "    medium = model.medium\n",
    "    #medium['EX_fru_e'] = 3\n",
    "    #print(medium)\n",
    "    model.medium=medium"
   ]
  },
  {
   "cell_type": "code",
   "execution_count": 7,
   "metadata": {},
   "outputs": [],
   "source": [
    "#model.reactions.query('pyr', 'name')"
   ]
  },
  {
   "cell_type": "markdown",
   "metadata": {},
   "source": [
    "We will be trying to include D-glucose in the medium and look at the bimass and production of PHB."
   ]
  },
  {
   "cell_type": "markdown",
   "metadata": {},
   "source": [
    "With the current medium the biomass and yeald of phb"
   ]
  },
  {
   "cell_type": "code",
   "execution_count": 8,
   "metadata": {},
   "outputs": [
    {
     "name": "stdout",
     "output_type": "stream",
     "text": [
      "The current theoretical maximum biomass productivity: 0.2852858664276797 h\n",
      "----------------\n",
      "The current maximum theoretical productivity for making PHB: 3.7627118644067865 mmol/gDW*h\n",
      "----------------\n",
      "Maximum theoretical yield = 1.2542372881355954 mmol phb/mmol fructose\n"
     ]
    }
   ],
   "source": [
    "with model:\n",
    "    solution= model.optimize()\n",
    "    print('The current theoretical maximum biomass productivity:', solution.fluxes['EX_BIOMASS_c'], 'h')\n",
    "    print('----------------')\n",
    "    model.objective = model.reactions.EX_pbhb_e\n",
    "    phb_production=model.optimize().objective_value\n",
    "    print('The current maximum theoretical productivity for making PHB:', phb_production , 'mmol/gDW*h')\n",
    "    print('----------------')\n",
    "    maximum_yield = phb_production / (-1*(model.reactions.EX_fru_e.flux))\n",
    "    print('Maximum theoretical yield =', maximum_yield, 'mmol phb/mmol fructose') "
   ]
  },
  {
   "cell_type": "markdown",
   "metadata": {},
   "source": [
    "### To add D-glucose to the medium we need new reactions to make R.eutropha take up and use D-glucose as a carbon source. "
   ]
  },
  {
   "cell_type": "code",
   "execution_count": 68,
   "metadata": {},
   "outputs": [
    {
     "name": "stdout",
     "output_type": "stream",
     "text": [
      "FRUabc: atp_c + fru_e + h2o_c --> adp_c + fru_c + h_c + pi_c\n",
      "EX_fru_e: fru_e <=> \n",
      "FRUpts2: fru_e + pep_c --> f6p_c + h_c + pyr_c\n",
      "FRUpts: fru_e + pep_c --> f1p_c + h_c + pyr_c\n"
     ]
    }
   ],
   "source": [
    "for reactions in model.metabolites.get_by_id('fru_e').reactions:\n",
    "    print(reactions)"
   ]
  },
  {
   "cell_type": "code",
   "execution_count": 11,
   "metadata": {},
   "outputs": [],
   "source": [
    "#EX_glc_D_e = Metabolite(\n",
    "#    'EX_glc_D_e',\n",
    "#    formula='C6H12O6',\n",
    "#    name='D-glucose',\n",
    "#    compartment='e')"
   ]
  },
  {
   "cell_type": "code",
   "execution_count": 26,
   "metadata": {},
   "outputs": [],
   "source": [
    "model.add_metabolites([\n",
    "    Metabolite(\n",
    "    'glc_e',\n",
    "    name='D-glucose',\n",
    "    compartment='e'\n",
    "    )])"
   ]
  },
  {
   "cell_type": "code",
   "execution_count": 27,
   "metadata": {},
   "outputs": [
    {
     "data": {
      "text/html": [
       "\n",
       "        <table>\n",
       "            <tr>\n",
       "                <td><strong>Reaction identifier</strong></td><td>EX_glc_e</td>\n",
       "            </tr><tr>\n",
       "                <td><strong>Name</strong></td><td>D-glucose exchange</td>\n",
       "            </tr><tr>\n",
       "                <td><strong>Memory address</strong></td>\n",
       "                <td>0x01d1ea68dc10</td>\n",
       "            </tr><tr>\n",
       "                <td><strong>Stoichiometry</strong></td>\n",
       "                <td>\n",
       "                    <p style='text-align:right'>glc_e <=></p>\n",
       "                    <p style='text-align:right'>D-glucose <=></p>\n",
       "                </td>\n",
       "            </tr><tr>\n",
       "                <td><strong>GPR</strong></td><td></td>\n",
       "            </tr><tr>\n",
       "                <td><strong>Lower bound</strong></td><td>-1000.0</td>\n",
       "            </tr><tr>\n",
       "                <td><strong>Upper bound</strong></td><td>1000.0</td>\n",
       "            </tr>\n",
       "        </table>\n",
       "        "
      ],
      "text/plain": [
       "<Reaction EX_glc_e at 0x1d1ea68dc10>"
      ]
     },
     "execution_count": 27,
     "metadata": {},
     "output_type": "execute_result"
    }
   ],
   "source": [
    "model.add_boundary(model.metabolites.get_by_id(\"glc_e\"), type=\"exchange\")"
   ]
  },
  {
   "cell_type": "code",
   "execution_count": 12,
   "metadata": {},
   "outputs": [],
   "source": [
    "reaction = Reaction('PEP')"
   ]
  },
  {
   "cell_type": "code",
   "execution_count": 65,
   "metadata": {},
   "outputs": [
    {
     "name": "stdout",
     "output_type": "stream",
     "text": [
      "glc_e + pep_c --> g6p_c + pyr_c\n"
     ]
    }
   ],
   "source": [
    "reaction.add_metabolites({\n",
    "    #model.metabolites.glc_e: -1.0,\n",
    "    #model.metabolites.pep_c: -1.0,\n",
    "    #model.metabolites.pyr_c: 1.0,\n",
    "    #model.metabolites.g6p_c: 1.0\n",
    "                            })\n",
    "print(reaction.build_reaction_string())"
   ]
  },
  {
   "cell_type": "code",
   "execution_count": 69,
   "metadata": {},
   "outputs": [
    {
     "name": "stdout",
     "output_type": "stream",
     "text": [
      "{'EX_fe2_e': 10.0, 'EX_mg2_e': 10.0, 'EX_pi_e': 100.0, 'EX_cobalt2_e': 10.0, 'EX_cl_e': 10.0, 'EX_k_e': 10.0, 'EX_fe3_e': 10.0, 'EX_so4_e': 10.0, 'EX_fru_e': 0, 'EX_nh4_e': 10.0, 'EX_na_e': 10.0, 'EX_o2_e': 18.5, 'EX_mobd_e': 10.0, 'EX_h2o_e': 1000.0, 'EX_h_e': 100.0, 'EX_glc_e': 3}\n",
      "The current theoretical maximum biomass productivity: 0.28528586642732084 h\n",
      "----------------\n",
      "The current maximum theoretical productivity for making PHB: 3.762711864406776 mmol/gDW*h\n",
      "----------------\n",
      "Maximum theoretical yield = 1.2542372881355919 mmol phb/mmol Fructose\n",
      "{'EX_fe2_e': 10.0, 'EX_mg2_e': 10.0, 'EX_pi_e': 100.0, 'EX_cobalt2_e': 10.0, 'EX_cl_e': 10.0, 'EX_k_e': 10.0, 'EX_fe3_e': 10.0, 'EX_so4_e': 10.0, 'EX_fru_e': 3, 'EX_nh4_e': 10.0, 'EX_na_e': 10.0, 'EX_o2_e': 18.5, 'EX_mobd_e': 10.0, 'EX_h2o_e': 1000.0, 'EX_h_e': 100.0, 'EX_glc_e': 0}\n"
     ]
    }
   ],
   "source": [
    "with model:\n",
    "    medium = model.medium\n",
    "    medium['EX_glc_e'] = 3\n",
    "    medium['EX_fru_e'] = 0\n",
    "    print(medium)\n",
    "    #model.medium = medium\n",
    "    solution= model.optimize()\n",
    "    print('The current theoretical maximum biomass productivity:', solution.fluxes['EX_BIOMASS_c'], 'h')\n",
    "    print('----------------')\n",
    "    \n",
    "    model.objective = model.reactions.EX_pbhb_e\n",
    "    phb_production=model.optimize().objective_value\n",
    "    print('The current maximum theoretical productivity for making PHB:', phb_production , 'mmol/gDW*h')\n",
    "    print('----------------')\n",
    "    \n",
    "    maximum_yield = phb_production / (-1*(model.reactions.EX_fru_e.flux))\n",
    "    print('Maximum theoretical yield =', maximum_yield, 'mmol phb/mmol Fructose')\n",
    "    \n",
    "    medium = model.medium\n",
    "    medium['EX_glc_e'] = 0\n",
    "    medium['EX_fru_e'] = 3\n",
    "    print(medium)\n",
    "    model.medium=medium"
   ]
  },
  {
   "cell_type": "code",
   "execution_count": 145,
   "metadata": {},
   "outputs": [
    {
     "name": "stdout",
     "output_type": "stream",
     "text": [
      "{'EX_fe2_e': 10.0, 'EX_mg2_e': 10.0, 'EX_pi_e': 100.0, 'EX_cobalt2_e': 10.0, 'EX_cl_e': 10.0, 'EX_k_e': 10.0, 'EX_fe3_e': 10.0, 'EX_so4_e': 10.0, 'EX_fru_e': 0, 'EX_nh4_e': 10.0, 'EX_na_e': 10.0, 'EX_o2_e': 18.5, 'EX_mobd_e': 10.0, 'EX_h2o_e': 1000.0, 'EX_h_e': 100.0, 'EX_succ_e': 10}\n",
      "The current theoretical maximum biomass productivity: 0.5343325098873305 h\n",
      "----------------\n",
      "The current maximum theoretical productivity for making PHB: 6.4545454545454515 mmol/gDW*h\n",
      "----------------\n",
      "Maximum theoretical yield = 0.6454545454545452 mmol phb/mmol Succinate\n",
      "{'EX_fe2_e': 10.0, 'EX_mg2_e': 10.0, 'EX_pi_e': 100.0, 'EX_cobalt2_e': 10.0, 'EX_cl_e': 10.0, 'EX_k_e': 10.0, 'EX_fe3_e': 10.0, 'EX_succ_e': 0, 'EX_so4_e': 10.0, 'EX_nh4_e': 10.0, 'EX_na_e': 10.0, 'EX_o2_e': 18.5, 'EX_mobd_e': 10.0, 'EX_h2o_e': 1000.0, 'EX_h_e': 100.0, 'EX_fru_e': 3}\n"
     ]
    }
   ],
   "source": [
    "with model:\n",
    "    medium = model.medium\n",
    "    medium['EX_fru_e'] = 0\n",
    "    medium['EX_succ_e'] = 10\n",
    "    print(medium)\n",
    "    model.medium=medium\n",
    "    \n",
    "    solution= model.optimize()\n",
    "    print('The current theoretical maximum biomass productivity:', solution.fluxes['EX_BIOMASS_c'], 'h')\n",
    "    print('----------------')\n",
    "    \n",
    "    model.objective = model.reactions.EX_pbhb_e\n",
    "    phb_production=model.optimize().objective_value\n",
    "    print('The current maximum theoretical productivity for making PHB:', phb_production , 'mmol/gDW*h')\n",
    "    print('----------------')\n",
    "    \n",
    "    maximum_yield = phb_production / (-1*(model.reactions.EX_succ_e.flux))\n",
    "    print('Maximum theoretical yield =', maximum_yield, 'mmol phb/mmol Succinate')\n",
    "    \n",
    "    medium = model.medium\n",
    "    medium['EX_fru_e'] = 3\n",
    "    medium['EX_succ_e'] = 0\n",
    "    print(medium)\n",
    "    model.medium=medium "
   ]
  },
  {
   "cell_type": "code",
   "execution_count": 157,
   "metadata": {},
   "outputs": [
    {
     "data": {
      "text/html": [
       "\n",
       "        <table>\n",
       "            <tr>\n",
       "                <td><strong>Reaction identifier</strong></td><td>EX_succ_e</td>\n",
       "            </tr><tr>\n",
       "                <td><strong>Name</strong></td><td>EX_succ_e</td>\n",
       "            </tr><tr>\n",
       "                <td><strong>Memory address</strong></td>\n",
       "                <td>0x02ade1b42c40</td>\n",
       "            </tr><tr>\n",
       "                <td><strong>Stoichiometry</strong></td>\n",
       "                <td>\n",
       "                    <p style='text-align:right'>succ_e --></p>\n",
       "                    <p style='text-align:right'>Succinate --></p>\n",
       "                </td>\n",
       "            </tr><tr>\n",
       "                <td><strong>GPR</strong></td><td></td>\n",
       "            </tr><tr>\n",
       "                <td><strong>Lower bound</strong></td><td>0.0</td>\n",
       "            </tr><tr>\n",
       "                <td><strong>Upper bound</strong></td><td>1000.0</td>\n",
       "            </tr>\n",
       "        </table>\n",
       "        "
      ],
      "text/plain": [
       "<Reaction EX_succ_e at 0x2ade1b42c40>"
      ]
     },
     "execution_count": 157,
     "metadata": {},
     "output_type": "execute_result"
    }
   ],
   "source": [
    "model.reactions.get_by_id('EX_succ_e')"
   ]
  },
  {
   "cell_type": "code",
   "execution_count": 158,
   "metadata": {},
   "outputs": [
    {
     "name": "stdout",
     "output_type": "stream",
     "text": [
      "Naphthyl-2-methyl-succinic acid\n",
      "Naphthyl-2-methyl-succinyl-CoA\n",
      "Naphthyl-2-oxomethyl-succinyl-CoA\n",
      "1-(5'-Phosphoribosyl)-5-amino-4-(N-succinocarboxamide)-imidazole\n",
      "Naphthyl-2-hydroxymethyl-succinyl CoA\n",
      "Naphthyl-2-methylene-succinyl-CoA\n",
      "N-(L-Arginino)succinate\n"
     ]
    }
   ],
   "source": [
    "for metabolites in model.metabolites.query('succ','name'):\n",
    "    print(metabolites.name)"
   ]
  },
  {
   "cell_type": "code",
   "execution_count": 166,
   "metadata": {},
   "outputs": [
    {
     "name": "stdout",
     "output_type": "stream",
     "text": [
      "EX_succ_e: succ_e --> \n",
      "Succinate\n"
     ]
    }
   ],
   "source": [
    "print(model.reactions.get_by_id('EX_succ_e'))\n",
    "print(model.metabolites.get_by_id('succ_e').name)"
   ]
  },
  {
   "cell_type": "code",
   "execution_count": 15,
   "metadata": {},
   "outputs": [
    {
     "name": "stdout",
     "output_type": "stream",
     "text": [
      "{'EX_fe2_e': 10.0, 'EX_mg2_e': 10.0, 'EX_pi_e': 100.0, 'EX_cobalt2_e': 10.0, 'EX_cl_e': 10.0, 'EX_k_e': 10.0, 'EX_fe3_e': 10.0, 'EX_so4_e': 10.0, 'EX_fru_e': 3.0, 'EX_nh4_e': 10.0, 'EX_na_e': 10.0, 'EX_o2_e': 0, 'EX_mobd_e': 10.0, 'EX_h2o_e': 1000.0, 'EX_h_e': 100.0}\n",
      "The current theoretical maximum biomass productivity: 0.0 h\n",
      "----------------\n",
      "The current maximum theoretical productivity for making PHB: 1.6363636363636362 mmol/gDW*h\n",
      "----------------\n",
      "Maximum theoretical yield = 0.5454545454545454 mmol phb/mmol Fructose\n",
      "{'EX_fe2_e': 10.0, 'EX_mg2_e': 10.0, 'EX_pi_e': 100.0, 'EX_cobalt2_e': 10.0, 'EX_cl_e': 10.0, 'EX_k_e': 10.0, 'EX_fe3_e': 10.0, 'EX_so4_e': 10.0, 'EX_fru_e': 3.0, 'EX_nh4_e': 10.0, 'EX_na_e': 10.0, 'EX_mobd_e': 10.0, 'EX_h2o_e': 1000.0, 'EX_h_e': 100.0, 'EX_o2_e': 10}\n"
     ]
    }
   ],
   "source": [
    "with model:\n",
    "    medium = model.medium\n",
    "    medium['EX_o2_e'] = 0\n",
    "    print(medium)\n",
    "    model.medium=medium\n",
    "    solution= model.optimize()\n",
    "    print('The current theoretical maximum biomass productivity:', solution.fluxes['EX_BIOMASS_c'], 'h')\n",
    "    print('----------------')\n",
    "    \n",
    "    model.objective = model.reactions.EX_pbhb_e\n",
    "    phb_production=model.optimize().objective_value\n",
    "    print('The current maximum theoretical productivity for making PHB:', phb_production , 'mmol/gDW*h')\n",
    "    print('----------------')\n",
    "    \n",
    "    maximum_yield = phb_production / (-1*(model.reactions.EX_fru_e.flux))\n",
    "    print('Maximum theoretical yield =', maximum_yield, 'mmol phb/mmol Fructose')\n",
    "    \n",
    "    medium = model.medium\n",
    "    medium['EX_o2_e'] = 10\n",
    "    print(medium)\n",
    "    model.medium=medium "
   ]
  },
  {
   "cell_type": "code",
   "execution_count": 171,
   "metadata": {},
   "outputs": [
    {
     "data": {
      "text/html": [
       "\n",
       "        <table>\n",
       "            <tr>\n",
       "                <td><strong>Metabolite identifier</strong></td><td>phb_e</td>\n",
       "            </tr><tr>\n",
       "                <td><strong>Name</strong></td><td>Poly-beta-hydroxybutyrate</td>\n",
       "            </tr><tr>\n",
       "                <td><strong>Memory address</strong></td>\n",
       "                <td>0x02ade17f1790</td>\n",
       "            </tr><tr>\n",
       "                <td><strong>Formula</strong></td><td>None</td>\n",
       "            </tr><tr>\n",
       "                <td><strong>Compartment</strong></td><td>e</td>\n",
       "            </tr><tr>\n",
       "                <td><strong>In 2 reaction(s)</strong></td><td>\n",
       "                    EX_pbhb_e, PHBt</td>\n",
       "            </tr>\n",
       "        </table>"
      ],
      "text/plain": [
       "<Metabolite phb_e at 0x2ade17f1790>"
      ]
     },
     "execution_count": 171,
     "metadata": {},
     "output_type": "execute_result"
    }
   ],
   "source": [
    "model.metabolites.get_by_id('phb_e')"
   ]
  },
  {
   "cell_type": "code",
   "execution_count": null,
   "metadata": {},
   "outputs": [],
   "source": [
    "medium['EX_succ_e']\n",
    "medium['EX_fum_e']\n",
    "medium['EX_pyr_e']"
   ]
  },
  {
   "cell_type": "code",
   "execution_count": null,
   "metadata": {},
   "outputs": [],
   "source": []
  }
 ],
 "metadata": {
  "kernelspec": {
   "display_name": "Python 3",
   "language": "python",
   "name": "python3"
  },
  "language_info": {
   "codemirror_mode": {
    "name": "ipython",
    "version": 3
   },
   "file_extension": ".py",
   "mimetype": "text/x-python",
   "name": "python",
   "nbconvert_exporter": "python",
   "pygments_lexer": "ipython3",
   "version": "3.8.3"
  }
 },
 "nbformat": 4,
 "nbformat_minor": 4
}
