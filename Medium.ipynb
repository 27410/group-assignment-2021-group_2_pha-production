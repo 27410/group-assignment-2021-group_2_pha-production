{
 "cells": [
  {
   "cell_type": "code",
   "execution_count": 31,
   "metadata": {},
   "outputs": [],
   "source": [
    "import cobra.test\n",
    "import os\n",
    "from os.path import join\n",
    "from cobra.io import read_sbml_model\n",
    "model = cobra.io.load_json_model(join(\"RehMBEL1391_sbml_L3V1.json\"))\n",
    "from cobra import Model, Reaction, Metabolite"
   ]
  },
  {
   "cell_type": "markdown",
   "metadata": {},
   "source": [
    "# Adding D-glucose to the medium and cheching out other C-sources"
   ]
  },
  {
   "cell_type": "markdown",
   "metadata": {},
   "source": [
    "The model we are using has D-fructorse as carbon source."
   ]
  },
  {
   "cell_type": "markdown",
   "metadata": {},
   "source": [
    "## Standard medium content of the model"
   ]
  },
  {
   "cell_type": "code",
   "execution_count": 32,
   "metadata": {},
   "outputs": [
    {
     "data": {
      "text/plain": [
       "{'EX_fe2_e': 10.0,\n",
       " 'EX_mg2_e': 10.0,\n",
       " 'EX_pi_e': 100.0,\n",
       " 'EX_cobalt2_e': 10.0,\n",
       " 'EX_cl_e': 10.0,\n",
       " 'EX_k_e': 10.0,\n",
       " 'EX_fe3_e': 10.0,\n",
       " 'EX_so4_e': 10.0,\n",
       " 'EX_fru_e': 3.0,\n",
       " 'EX_nh4_e': 10.0,\n",
       " 'EX_na_e': 10.0,\n",
       " 'EX_o2_e': 18.5,\n",
       " 'EX_mobd_e': 10.0,\n",
       " 'EX_h2o_e': 1000.0,\n",
       " 'EX_h_e': 100.0}"
      ]
     },
     "execution_count": 32,
     "metadata": {},
     "output_type": "execute_result"
    }
   ],
   "source": [
    "model.medium"
   ]
  },
  {
   "cell_type": "markdown",
   "metadata": {},
   "source": [
    "Taking a look at the fluxes"
   ]
  },
  {
   "cell_type": "code",
   "execution_count": 33,
   "metadata": {},
   "outputs": [
    {
     "data": {
      "text/html": [
       "<h3>Objective</h3><p>1.0 Biomass = 0.2852858664276789</p><h4>Uptake</h4><table border=\"1\" class=\"dataframe\">\n",
       "  <thead>\n",
       "    <tr style=\"text-align: right;\">\n",
       "      <th>Metabolite</th>\n",
       "      <th>Reaction</th>\n",
       "      <th>Flux</th>\n",
       "      <th>C-Number</th>\n",
       "      <th>C-Flux</th>\n",
       "    </tr>\n",
       "  </thead>\n",
       "  <tbody>\n",
       "    <tr>\n",
       "      <td>fe2_e</td>\n",
       "      <td>EX_fe2_e</td>\n",
       "      <td>6.333E-05</td>\n",
       "      <td>0</td>\n",
       "      <td>0.00%</td>\n",
       "    </tr>\n",
       "    <tr>\n",
       "      <td>fru_e</td>\n",
       "      <td>EX_fru_e</td>\n",
       "      <td>3</td>\n",
       "      <td>6</td>\n",
       "      <td>100.00%</td>\n",
       "    </tr>\n",
       "    <tr>\n",
       "      <td>h_e</td>\n",
       "      <td>EX_h_e</td>\n",
       "      <td>10.72</td>\n",
       "      <td>0</td>\n",
       "      <td>0.00%</td>\n",
       "    </tr>\n",
       "    <tr>\n",
       "      <td>nh4_e</td>\n",
       "      <td>EX_nh4_e</td>\n",
       "      <td>3.038</td>\n",
       "      <td>0</td>\n",
       "      <td>0.00%</td>\n",
       "    </tr>\n",
       "    <tr>\n",
       "      <td>o2_e</td>\n",
       "      <td>EX_o2_e</td>\n",
       "      <td>5.734</td>\n",
       "      <td>0</td>\n",
       "      <td>0.00%</td>\n",
       "    </tr>\n",
       "    <tr>\n",
       "      <td>pi_e</td>\n",
       "      <td>EX_pi_e</td>\n",
       "      <td>7.987</td>\n",
       "      <td>0</td>\n",
       "      <td>0.00%</td>\n",
       "    </tr>\n",
       "    <tr>\n",
       "      <td>so4_e</td>\n",
       "      <td>EX_so4_e</td>\n",
       "      <td>0.05797</td>\n",
       "      <td>0</td>\n",
       "      <td>0.00%</td>\n",
       "    </tr>\n",
       "  </tbody>\n",
       "</table><h4>Secretion</h4><table border=\"1\" class=\"dataframe\">\n",
       "  <thead>\n",
       "    <tr style=\"text-align: right;\">\n",
       "      <th>Metabolite</th>\n",
       "      <th>Reaction</th>\n",
       "      <th>Flux</th>\n",
       "      <th>C-Number</th>\n",
       "      <th>C-Flux</th>\n",
       "    </tr>\n",
       "  </thead>\n",
       "  <tbody>\n",
       "    <tr>\n",
       "      <td>BIOMASS_c</td>\n",
       "      <td>EX_BIOMASS_c</td>\n",
       "      <td>-0.2853</td>\n",
       "      <td>0</td>\n",
       "      <td>0.00%</td>\n",
       "    </tr>\n",
       "    <tr>\n",
       "      <td>co2_e</td>\n",
       "      <td>EX_co2_e</td>\n",
       "      <td>-6.151</td>\n",
       "      <td>1</td>\n",
       "      <td>100.00%</td>\n",
       "    </tr>\n",
       "    <tr>\n",
       "      <td>h2o_e</td>\n",
       "      <td>EX_h2o_e</td>\n",
       "      <td>-23.87</td>\n",
       "      <td>0</td>\n",
       "      <td>0.00%</td>\n",
       "    </tr>\n",
       "  </tbody>\n",
       "</table>"
      ],
      "text/plain": [
       "<cobra.summary.model_summary.ModelSummary at 0x17650d2b940>"
      ]
     },
     "execution_count": 33,
     "metadata": {},
     "output_type": "execute_result"
    }
   ],
   "source": [
    "model.summary()"
   ]
  },
  {
   "cell_type": "markdown",
   "metadata": {},
   "source": [
    "The fluxes when we change the objective:"
   ]
  },
  {
   "cell_type": "code",
   "execution_count": 34,
   "metadata": {},
   "outputs": [
    {
     "data": {
      "text/plain": [
       "<bound method Model.summary of <Model RehMBEL1391 at 0x1764e61c8e0>>"
      ]
     },
     "execution_count": 34,
     "metadata": {},
     "output_type": "execute_result"
    }
   ],
   "source": [
    "model.objective = model.reactions.EX_pbhb_e\n",
    "model.summary"
   ]
  },
  {
   "cell_type": "markdown",
   "metadata": {},
   "source": [
    "#### We will be trying to include D-glucose in the medium and look at the bimass and production of PHB."
   ]
  },
  {
   "cell_type": "markdown",
   "metadata": {},
   "source": [
    "With the current medium with fructose, the biomass, productivity and yeald of phb:"
   ]
  },
  {
   "cell_type": "code",
   "execution_count": 56,
   "metadata": {},
   "outputs": [
    {
     "name": "stdout",
     "output_type": "stream",
     "text": [
      "{'EX_fe2_e': 10.0, 'EX_mg2_e': 10.0, 'EX_pi_e': 100.0, 'EX_cobalt2_e': 10.0, 'EX_cl_e': 10.0, 'EX_k_e': 10.0, 'EX_fe3_e': 10.0, 'EX_so4_e': 10.0, 'EX_fru_e': 3, 'EX_nh4_e': 10.0, 'EX_na_e': 10.0, 'EX_o2_e': 18.5, 'EX_mobd_e': 10.0, 'EX_h2o_e': 1000.0, 'EX_h_e': 100.0, 'EX_glc_e': 1000.0}\n",
      "Objective\n",
      "=========\n",
      "1.0 EX_pbhb_e = 3.7627118644067785\n",
      "\n",
      "Uptake\n",
      "------\n",
      "Metabolite  Reaction  Flux  C-Number   C-Flux\n",
      "     fru_e  EX_fru_e     3         6  100.00%\n",
      "      o2_e   EX_o2_e 1.068         0    0.00%\n",
      "\n",
      "Secretion\n",
      "---------\n",
      "Metabolite   Reaction   Flux  C-Number   C-Flux\n",
      "     co2_e   EX_co2_e -2.949         1  100.00%\n",
      "     h2o_e   EX_h2o_e -6.712         0    0.00%\n",
      "     phb_e  EX_pbhb_e -3.763         0    0.00%\n",
      "\n",
      "The current theoretical maximum biomass productivity: 0.0 h\n",
      "----------------\n",
      "The current maximum theoretical productivity for making PHB: 3.7627118644067785 mmol/gDW*h\n",
      "----------------\n",
      "Maximum theoretical yield = 1.2542372881355928 mmol phb/mmol fructose\n"
     ]
    }
   ],
   "source": [
    "with model:\n",
    "    medium = model.medium\n",
    "    medium['EX_fru_e'] = 3\n",
    "    print(medium)\n",
    "    model.medium = medium\n",
    "    \n",
    "    print(model.summary())\n",
    "    \n",
    "    model.objective = model.reactions.EX_pbhb_e\n",
    "    phb_production=model.optimize().objective_value\n",
    "    solution= model.optimize()\n",
    "    \n",
    "    print('The current theoretical maximum biomass productivity:', solution.fluxes['EX_BIOMASS_c'], 'h')\n",
    "    print('----------------')\n",
    "\n",
    "    print('The current maximum theoretical productivity for making PHB:', phb_production , 'mmol/gDW*h')\n",
    "    print('----------------')\n",
    "    maximum_yield = phb_production / (-1*(model.reactions.EX_fru_e.flux))\n",
    "    print('Maximum theoretical yield =', maximum_yield, 'mmol phb/mmol fructose') "
   ]
  },
  {
   "cell_type": "markdown",
   "metadata": {},
   "source": [
    "### To add D-glucose to the medium we need new reactions to make R.eutropha take up and use D-glucose as a carbon source. "
   ]
  },
  {
   "cell_type": "code",
   "execution_count": 62,
   "metadata": {},
   "outputs": [],
   "source": [
    "model.add_metabolites([\n",
    "    Metabolite(\n",
    "    'glc_e',\n",
    "    name='D-glucose',\n",
    "    compartment='e'\n",
    "    )])"
   ]
  },
  {
   "cell_type": "code",
   "execution_count": 63,
   "metadata": {},
   "outputs": [
    {
     "ename": "ValueError",
     "evalue": "Boundary reaction 'EX_glc_e' already exists.",
     "output_type": "error",
     "traceback": [
      "\u001b[1;31m---------------------------------------------------------------------------\u001b[0m",
      "\u001b[1;31mValueError\u001b[0m                                Traceback (most recent call last)",
      "\u001b[1;32m<ipython-input-63-99c83d867b58>\u001b[0m in \u001b[0;36m<module>\u001b[1;34m\u001b[0m\n\u001b[1;32m----> 1\u001b[1;33m \u001b[0mmodel\u001b[0m\u001b[1;33m.\u001b[0m\u001b[0madd_boundary\u001b[0m\u001b[1;33m(\u001b[0m\u001b[0mmodel\u001b[0m\u001b[1;33m.\u001b[0m\u001b[0mmetabolites\u001b[0m\u001b[1;33m.\u001b[0m\u001b[0mget_by_id\u001b[0m\u001b[1;33m(\u001b[0m\u001b[1;34m\"glc_e\"\u001b[0m\u001b[1;33m)\u001b[0m\u001b[1;33m,\u001b[0m \u001b[0mtype\u001b[0m\u001b[1;33m=\u001b[0m\u001b[1;34m\"exchange\"\u001b[0m\u001b[1;33m)\u001b[0m\u001b[1;33m\u001b[0m\u001b[1;33m\u001b[0m\u001b[0m\n\u001b[0m",
      "\u001b[1;32m~\\anaconda3\\lib\\site-packages\\cobra\\core\\model.py\u001b[0m in \u001b[0;36madd_boundary\u001b[1;34m(self, metabolite, type, reaction_id, lb, ub, sbo_term)\u001b[0m\n\u001b[0;32m    627\u001b[0m             )\n\u001b[0;32m    628\u001b[0m         \u001b[1;32mif\u001b[0m \u001b[0mreaction_id\u001b[0m \u001b[1;32min\u001b[0m \u001b[0mself\u001b[0m\u001b[1;33m.\u001b[0m\u001b[0mreactions\u001b[0m\u001b[1;33m:\u001b[0m\u001b[1;33m\u001b[0m\u001b[1;33m\u001b[0m\u001b[0m\n\u001b[1;32m--> 629\u001b[1;33m             raise ValueError(\n\u001b[0m\u001b[0;32m    630\u001b[0m                 \u001b[1;34m\"Boundary reaction '{}' already exists.\"\u001b[0m\u001b[1;33m.\u001b[0m\u001b[0mformat\u001b[0m\u001b[1;33m(\u001b[0m\u001b[0mreaction_id\u001b[0m\u001b[1;33m)\u001b[0m\u001b[1;33m\u001b[0m\u001b[1;33m\u001b[0m\u001b[0m\n\u001b[0;32m    631\u001b[0m             )\n",
      "\u001b[1;31mValueError\u001b[0m: Boundary reaction 'EX_glc_e' already exists."
     ]
    }
   ],
   "source": [
    "model.add_boundary(model.metabolites.get_by_id(\"glc_e\"), type=\"exchange\")"
   ]
  },
  {
   "cell_type": "code",
   "execution_count": 64,
   "metadata": {},
   "outputs": [],
   "source": [
    "model.add_metabolites([\n",
    "    Metabolite(\n",
    "    'glc_c',\n",
    "    name='D-glucose',\n",
    "    compartment='c'\n",
    "    )])"
   ]
  },
  {
   "cell_type": "code",
   "execution_count": 65,
   "metadata": {},
   "outputs": [
    {
     "ename": "ValueError",
     "evalue": "Boundary reaction 'SK_glc_c' already exists.",
     "output_type": "error",
     "traceback": [
      "\u001b[1;31m---------------------------------------------------------------------------\u001b[0m",
      "\u001b[1;31mValueError\u001b[0m                                Traceback (most recent call last)",
      "\u001b[1;32m<ipython-input-65-8c53f209f5c5>\u001b[0m in \u001b[0;36m<module>\u001b[1;34m\u001b[0m\n\u001b[1;32m----> 1\u001b[1;33m \u001b[0mmodel\u001b[0m\u001b[1;33m.\u001b[0m\u001b[0madd_boundary\u001b[0m\u001b[1;33m(\u001b[0m\u001b[0mmodel\u001b[0m\u001b[1;33m.\u001b[0m\u001b[0mmetabolites\u001b[0m\u001b[1;33m.\u001b[0m\u001b[0mget_by_id\u001b[0m\u001b[1;33m(\u001b[0m\u001b[1;34m\"glc_c\"\u001b[0m\u001b[1;33m)\u001b[0m\u001b[1;33m,\u001b[0m \u001b[0mtype\u001b[0m\u001b[1;33m=\u001b[0m\u001b[1;34m\"sink\"\u001b[0m\u001b[1;33m)\u001b[0m\u001b[1;33m\u001b[0m\u001b[1;33m\u001b[0m\u001b[0m\n\u001b[0m",
      "\u001b[1;32m~\\anaconda3\\lib\\site-packages\\cobra\\core\\model.py\u001b[0m in \u001b[0;36madd_boundary\u001b[1;34m(self, metabolite, type, reaction_id, lb, ub, sbo_term)\u001b[0m\n\u001b[0;32m    627\u001b[0m             )\n\u001b[0;32m    628\u001b[0m         \u001b[1;32mif\u001b[0m \u001b[0mreaction_id\u001b[0m \u001b[1;32min\u001b[0m \u001b[0mself\u001b[0m\u001b[1;33m.\u001b[0m\u001b[0mreactions\u001b[0m\u001b[1;33m:\u001b[0m\u001b[1;33m\u001b[0m\u001b[1;33m\u001b[0m\u001b[0m\n\u001b[1;32m--> 629\u001b[1;33m             raise ValueError(\n\u001b[0m\u001b[0;32m    630\u001b[0m                 \u001b[1;34m\"Boundary reaction '{}' already exists.\"\u001b[0m\u001b[1;33m.\u001b[0m\u001b[0mformat\u001b[0m\u001b[1;33m(\u001b[0m\u001b[0mreaction_id\u001b[0m\u001b[1;33m)\u001b[0m\u001b[1;33m\u001b[0m\u001b[1;33m\u001b[0m\u001b[0m\n\u001b[0;32m    631\u001b[0m             )\n",
      "\u001b[1;31mValueError\u001b[0m: Boundary reaction 'SK_glc_c' already exists."
     ]
    }
   ],
   "source": [
    "model.add_boundary(model.metabolites.get_by_id(\"glc_c\"), type=\"sink\")"
   ]
  },
  {
   "cell_type": "code",
   "execution_count": 39,
   "metadata": {},
   "outputs": [],
   "source": [
    "#reaction1 = Reaction('Exchange_glc')"
   ]
  },
  {
   "cell_type": "code",
   "execution_count": 40,
   "metadata": {},
   "outputs": [
    {
     "ename": "NameError",
     "evalue": "name 'reaction' is not defined",
     "output_type": "error",
     "traceback": [
      "\u001b[1;31m---------------------------------------------------------------------------\u001b[0m",
      "\u001b[1;31mNameError\u001b[0m                                 Traceback (most recent call last)",
      "\u001b[1;32m<ipython-input-40-731e6a7a2ea9>\u001b[0m in \u001b[0;36m<module>\u001b[1;34m\u001b[0m\n\u001b[0;32m      3\u001b[0m     \u001b[0mmodel\u001b[0m\u001b[1;33m.\u001b[0m\u001b[0mmetabolites\u001b[0m\u001b[1;33m.\u001b[0m\u001b[0mglc_c\u001b[0m\u001b[1;33m:\u001b[0m \u001b[1;36m1.0\u001b[0m\u001b[1;33m,\u001b[0m\u001b[1;33m\u001b[0m\u001b[1;33m\u001b[0m\u001b[0m\n\u001b[0;32m      4\u001b[0m                             })\n\u001b[1;32m----> 5\u001b[1;33m \u001b[0mprint\u001b[0m\u001b[1;33m(\u001b[0m\u001b[0mreaction\u001b[0m\u001b[1;33m.\u001b[0m\u001b[0mbuild_reaction_string\u001b[0m\u001b[1;33m(\u001b[0m\u001b[1;33m)\u001b[0m\u001b[1;33m)\u001b[0m\u001b[1;33m\u001b[0m\u001b[1;33m\u001b[0m\u001b[0m\n\u001b[0m",
      "\u001b[1;31mNameError\u001b[0m: name 'reaction' is not defined"
     ]
    }
   ],
   "source": [
    "#reaction1.add_metabolites({\n",
    "#    model.metabolites.glc_e: -1.0,\n",
    "#    model.metabolites.glc_c: 1.0,\n",
    "                            })\n",
    "#print(reaction.build_reaction_string())"
   ]
  },
  {
   "cell_type": "code",
   "execution_count": 60,
   "metadata": {},
   "outputs": [],
   "source": [
    "reaction = Reaction('PEP')"
   ]
  },
  {
   "cell_type": "code",
   "execution_count": 61,
   "metadata": {},
   "outputs": [
    {
     "name": "stdout",
     "output_type": "stream",
     "text": [
      "glc_c + pep_c --> g6p_c + pyr_c\n"
     ]
    }
   ],
   "source": [
    "reaction.add_metabolites({\n",
    "    model.metabolites.glc_c: -1.0,\n",
    "    model.metabolites.pep_c: -1.0,\n",
    "    model.metabolites.pyr_c: 1.0,\n",
    "    model.metabolites.g6p_c: 1.0\n",
    "                            })\n",
    "print(reaction.build_reaction_string())"
   ]
  },
  {
   "cell_type": "markdown",
   "metadata": {},
   "source": [
    "### Adding glucose in the media and removing fructose:"
   ]
  },
  {
   "cell_type": "code",
   "execution_count": 66,
   "metadata": {},
   "outputs": [
    {
     "name": "stdout",
     "output_type": "stream",
     "text": [
      "{'EX_fe2_e': 10.0, 'EX_mg2_e': 10.0, 'EX_pi_e': 100.0, 'EX_cobalt2_e': 10.0, 'EX_cl_e': 10.0, 'EX_k_e': 10.0, 'EX_fe3_e': 10.0, 'EX_so4_e': 10.0, 'EX_fru_e': 0, 'EX_nh4_e': 10.0, 'EX_na_e': 10.0, 'EX_o2_e': 18.5, 'EX_mobd_e': 10.0, 'EX_h2o_e': 1000.0, 'EX_h_e': 100.0, 'EX_glc_e': 3}\n",
      "The current theoretical maximum biomass productivity: 0.0 h\n",
      "----------------\n",
      "The current maximum theoretical productivity for making PHB: 0.0 mmol/gDW*h\n",
      "----------------\n",
      "{'EX_fe2_e': 10.0, 'EX_mg2_e': 10.0, 'EX_pi_e': 100.0, 'EX_cobalt2_e': 10.0, 'EX_cl_e': 10.0, 'EX_k_e': 10.0, 'EX_fe3_e': 10.0, 'EX_so4_e': 10.0, 'EX_nh4_e': 10.0, 'EX_na_e': 10.0, 'EX_o2_e': 18.5, 'EX_mobd_e': 10.0, 'EX_h2o_e': 1000.0, 'EX_h_e': 100.0, 'EX_glc_e': 3}\n",
      "Objective\n",
      "=========\n",
      "1.0 EX_pbhb_e = 0.0\n",
      "\n",
      "Uptake\n",
      "------\n",
      "Empty DataFrame\n",
      "Columns: [Metabolite, Reaction, Flux, C-Number, C-Flux]\n",
      "Index: []\n",
      "\n",
      "Secretion\n",
      "---------\n",
      "Empty DataFrame\n",
      "Columns: [Metabolite, Reaction, Flux, C-Number, C-Flux]\n",
      "Index: []\n",
      "\n",
      "0.0\n"
     ]
    }
   ],
   "source": [
    "with model:\n",
    "    medium = model.medium\n",
    "    medium['EX_glc_e'] = 3\n",
    "    medium['EX_fru_e'] = 0\n",
    "    print(medium)\n",
    "    model.medium = medium\n",
    "    solution= model.optimize()\n",
    "    \n",
    "    print('The current theoretical maximum biomass productivity:', solution.fluxes['EX_BIOMASS_c'], 'h')\n",
    "    print('----------------')\n",
    "    \n",
    "    model.objective = model.reactions.EX_pbhb_e\n",
    "    phb_production=model.optimize().objective_value\n",
    "    print('The current maximum theoretical productivity for making PHB:', phb_production , 'mmol/gDW*h')\n",
    "    print('----------------')\n",
    "    print(model.medium)\n",
    "    print(model.summary())\n",
    "    #maximum_yield = phb_production / (-1*(model.reactions.EX_glc_e.flux))\n",
    "    print(model.reactions.EX_glc_e.flux)\n",
    "    #print('Maximum theoretical yield =', maximum_yield, 'mmol phb/mmol glucose')"
   ]
  },
  {
   "cell_type": "markdown",
   "metadata": {},
   "source": [
    "### From the ilittereature we know R.eutropha can grow anarobically. But it seems like our model can not:"
   ]
  },
  {
   "cell_type": "code",
   "execution_count": 41,
   "metadata": {},
   "outputs": [
    {
     "name": "stdout",
     "output_type": "stream",
     "text": [
      "{'EX_fe2_e': 10.0, 'EX_mg2_e': 10.0, 'EX_pi_e': 100.0, 'EX_cobalt2_e': 10.0, 'EX_cl_e': 10.0, 'EX_k_e': 10.0, 'EX_fe3_e': 10.0, 'EX_so4_e': 10.0, 'EX_fru_e': 3.0, 'EX_nh4_e': 10.0, 'EX_na_e': 10.0, 'EX_o2_e': 0, 'EX_mobd_e': 10.0, 'EX_h2o_e': 1000.0, 'EX_h_e': 100.0, 'EX_glc_e': 1000.0}\n",
      "The current theoretical maximum biomass productivity: 0.0 h\n",
      "----------------\n",
      "The current maximum theoretical productivity for making PHB: 1.6363636363636358 mmol/gDW*h\n",
      "----------------\n",
      "Maximum theoretical yield = 0.5454545454545453 mmol phb/mmol Fructose\n",
      "Objective\n",
      "=========\n",
      "1.0 EX_pbhb_e = 1.6363636363636382\n",
      "\n",
      "Uptake\n",
      "------\n",
      "Metabolite  Reaction   Flux  C-Number   C-Flux\n",
      "     fru_e  EX_fru_e      3         6  100.00%\n",
      "     h2o_e  EX_h2o_e 0.5455         0    0.00%\n",
      "\n",
      "Secretion\n",
      "---------\n",
      "Metabolite      Reaction    Flux  C-Number  C-Flux\n",
      "      ac_e       EX_ac_e -0.5455         2   9.52%\n",
      "    etoh_e      EX_eth_e  -2.182         2  38.10%\n",
      "     for_e  EX_formate_e      -6         1  52.38%\n",
      "       h_e        EX_h_e  -6.545         0   0.00%\n",
      "     phb_e     EX_pbhb_e  -1.636         0   0.00%\n",
      "\n"
     ]
    }
   ],
   "source": [
    "with model:\n",
    "    medium = model.medium\n",
    "    medium['EX_o2_e'] = 0\n",
    "    print(medium)\n",
    "    model.medium=medium\n",
    "    solution= model.optimize()\n",
    "    \n",
    "    print('The current theoretical maximum biomass productivity:', solution.fluxes['EX_BIOMASS_c'], 'h')\n",
    "    print('----------------')\n",
    "    \n",
    "    model.objective = model.reactions.EX_pbhb_e\n",
    "    phb_production=model.optimize().objective_value\n",
    "    print('The current maximum theoretical productivity for making PHB:', phb_production , 'mmol/gDW*h')\n",
    "    print('----------------')\n",
    "    \n",
    "    maximum_yield = phb_production / (-1*(model.reactions.EX_fru_e.flux))\n",
    "    print('Maximum theoretical yield =', maximum_yield, 'mmol phb/mmol Fructose')\n",
    "    print(model.summary())"
   ]
  },
  {
   "cell_type": "code",
   "execution_count": 42,
   "metadata": {},
   "outputs": [
    {
     "data": {
      "text/html": [
       "\n",
       "        <table>\n",
       "            <tr>\n",
       "                <td><strong>Reaction identifier</strong></td><td>EX_eth_e</td>\n",
       "            </tr><tr>\n",
       "                <td><strong>Name</strong></td><td>EX_eth_e</td>\n",
       "            </tr><tr>\n",
       "                <td><strong>Memory address</strong></td>\n",
       "                <td>0x0176511e9e20</td>\n",
       "            </tr><tr>\n",
       "                <td><strong>Stoichiometry</strong></td>\n",
       "                <td>\n",
       "                    <p style='text-align:right'>etoh_e --></p>\n",
       "                    <p style='text-align:right'>Ethanol --></p>\n",
       "                </td>\n",
       "            </tr><tr>\n",
       "                <td><strong>GPR</strong></td><td></td>\n",
       "            </tr><tr>\n",
       "                <td><strong>Lower bound</strong></td><td>0.0</td>\n",
       "            </tr><tr>\n",
       "                <td><strong>Upper bound</strong></td><td>1000.0</td>\n",
       "            </tr>\n",
       "        </table>\n",
       "        "
      ],
      "text/plain": [
       "<Reaction EX_eth_e at 0x176511e9e20>"
      ]
     },
     "execution_count": 42,
     "metadata": {},
     "output_type": "execute_result"
    }
   ],
   "source": [
    "model.reactions.get_by_id('EX_eth_e')"
   ]
  },
  {
   "cell_type": "markdown",
   "metadata": {},
   "source": [
    "### Our model contains also exchangereactions for succinate, fumarate and pyruvate. We are checking out the yealds for growing on these C-sourses. \n"
   ]
  },
  {
   "cell_type": "code",
   "execution_count": 43,
   "metadata": {},
   "outputs": [
    {
     "name": "stdout",
     "output_type": "stream",
     "text": [
      "{'EX_fe2_e': 10.0, 'EX_mg2_e': 10.0, 'EX_pi_e': 100.0, 'EX_cobalt2_e': 10.0, 'EX_cl_e': 10.0, 'EX_k_e': 10.0, 'EX_fe3_e': 10.0, 'EX_so4_e': 10.0, 'EX_fru_e': 0, 'EX_nh4_e': 10.0, 'EX_na_e': 10.0, 'EX_o2_e': 18.5, 'EX_mobd_e': 10.0, 'EX_h2o_e': 1000.0, 'EX_h_e': 100.0, 'EX_glc_e': 1000.0, 'EX_succ_e': 3}\n",
      "The current theoretical maximum biomass productivity: 0.0 h\n",
      "----------------\n",
      "The current maximum theoretical productivity for making PHB: 1.9363636363636239 mmol/gDW*h\n",
      "----------------\n",
      "Maximum theoretical yield = 0.6454545454545413 mmol phb/mmol Succinate\n",
      "Objective\n",
      "=========\n",
      "1.0 EX_pbhb_e = 1.9363636363636239\n",
      "\n",
      "Uptake\n",
      "------\n",
      "Metabolite   Reaction  Flux  C-Number   C-Flux\n",
      "       h_e     EX_h_e     6         0    0.00%\n",
      "      o2_e    EX_o2_e 1.786         0    0.00%\n",
      "    succ_e  EX_succ_e     3         4  100.00%\n",
      "\n",
      "Secretion\n",
      "---------\n",
      "Metabolite   Reaction   Flux  C-Number   C-Flux\n",
      "     co2_e   EX_co2_e -4.255         1  100.00%\n",
      "     h2o_e   EX_h2o_e -3.191         0    0.00%\n",
      "     phb_e  EX_pbhb_e -1.936         0    0.00%\n",
      "\n"
     ]
    }
   ],
   "source": [
    "with model:\n",
    "    medium = model.medium\n",
    "    medium['EX_fru_e'] = 0\n",
    "    medium['EX_succ_e'] = 3\n",
    "    print(medium)\n",
    "    model.medium=medium\n",
    "    \n",
    "    solution= model.optimize()\n",
    "    print('The current theoretical maximum biomass productivity:', solution.fluxes['EX_BIOMASS_c'], 'h')\n",
    "    print('----------------')\n",
    "    a=  solution.fluxes['EX_BIOMASS_c']\n",
    "    \n",
    "    model.objective = model.reactions.EX_pbhb_e\n",
    "    phb_production=model.optimize().objective_value\n",
    "    print('The current maximum theoretical productivity for making PHB:', phb_production , 'mmol/gDW*h')\n",
    "    print('----------------')\n",
    "    \n",
    "    maximum_yield = phb_production / (-1*(model.reactions.EX_succ_e.flux))\n",
    "    print('Maximum theoretical yield =', maximum_yield, 'mmol phb/mmol Succinate')\n",
    "    print(model.summary())"
   ]
  },
  {
   "cell_type": "code",
   "execution_count": null,
   "metadata": {},
   "outputs": [],
   "source": []
  },
  {
   "cell_type": "code",
   "execution_count": 44,
   "metadata": {},
   "outputs": [
    {
     "data": {
      "text/html": [
       "\n",
       "        <table>\n",
       "            <tr>\n",
       "                <td><strong>Reaction identifier</strong></td><td>EX_succ_e</td>\n",
       "            </tr><tr>\n",
       "                <td><strong>Name</strong></td><td>EX_succ_e</td>\n",
       "            </tr><tr>\n",
       "                <td><strong>Memory address</strong></td>\n",
       "                <td>0x0176511c2790</td>\n",
       "            </tr><tr>\n",
       "                <td><strong>Stoichiometry</strong></td>\n",
       "                <td>\n",
       "                    <p style='text-align:right'>succ_e --></p>\n",
       "                    <p style='text-align:right'>Succinate --></p>\n",
       "                </td>\n",
       "            </tr><tr>\n",
       "                <td><strong>GPR</strong></td><td></td>\n",
       "            </tr><tr>\n",
       "                <td><strong>Lower bound</strong></td><td>0.0</td>\n",
       "            </tr><tr>\n",
       "                <td><strong>Upper bound</strong></td><td>1000.0</td>\n",
       "            </tr>\n",
       "        </table>\n",
       "        "
      ],
      "text/plain": [
       "<Reaction EX_succ_e at 0x176511c2790>"
      ]
     },
     "execution_count": 44,
     "metadata": {},
     "output_type": "execute_result"
    }
   ],
   "source": [
    "model.reactions.get_by_id('EX_succ_e')"
   ]
  },
  {
   "cell_type": "markdown",
   "metadata": {},
   "source": [
    "The results form growing on fumarate:"
   ]
  },
  {
   "cell_type": "code",
   "execution_count": 45,
   "metadata": {},
   "outputs": [
    {
     "name": "stdout",
     "output_type": "stream",
     "text": [
      "{'EX_fe2_e': 10.0, 'EX_mg2_e': 10.0, 'EX_pi_e': 100.0, 'EX_cobalt2_e': 10.0, 'EX_cl_e': 10.0, 'EX_k_e': 10.0, 'EX_fe3_e': 10.0, 'EX_so4_e': 10.0, 'EX_fru_e': 0, 'EX_nh4_e': 10.0, 'EX_na_e': 10.0, 'EX_o2_e': 18.5, 'EX_mobd_e': 10.0, 'EX_h2o_e': 1000.0, 'EX_h_e': 100.0, 'EX_glc_e': 1000.0, 'EX_fum_e': 3}\n",
      "The current theoretical maximum biomass productivity: 0.0 h\n",
      "----------------\n",
      "The current maximum theoretical productivity for making PHB: 1.827272727272728 mmol/gDW*h\n",
      "----------------\n",
      "Maximum theoretical yield = 0.6090909090909093 mmol phb/mmol Fumarate\n"
     ]
    }
   ],
   "source": [
    "with model:\n",
    "    medium = model.medium\n",
    "    medium['EX_fru_e'] = 0\n",
    "    medium['EX_fum_e'] = 3\n",
    "    print(medium)\n",
    "    model.medium=medium\n",
    "    \n",
    "    solution= model.optimize()\n",
    "    print('The current theoretical maximum biomass productivity:', solution.fluxes['EX_BIOMASS_c'], 'h')\n",
    "    print('----------------')\n",
    "    \n",
    "    model.objective = model.reactions.EX_pbhb_e\n",
    "    phb_production=model.optimize().objective_value\n",
    "    print('The current maximum theoretical productivity for making PHB:', phb_production , 'mmol/gDW*h')\n",
    "    print('----------------')\n",
    "    \n",
    "    maximum_yield = phb_production / (-1*(model.reactions.EX_fum_e.flux))\n",
    "    print('Maximum theoretical yield =', maximum_yield, 'mmol phb/mmol Fumarate')\n"
   ]
  },
  {
   "cell_type": "markdown",
   "metadata": {},
   "source": [
    "The results form growing on pyruvate:"
   ]
  },
  {
   "cell_type": "code",
   "execution_count": 76,
   "metadata": {},
   "outputs": [
    {
     "name": "stdout",
     "output_type": "stream",
     "text": [
      "{'EX_fe2_e': 10.0, 'EX_mg2_e': 10.0, 'EX_pi_e': 100.0, 'EX_cobalt2_e': 10.0, 'EX_cl_e': 10.0, 'EX_k_e': 10.0, 'EX_fe3_e': 10.0, 'EX_so4_e': 10.0, 'EX_fru_e': 0, 'EX_nh4_e': 10.0, 'EX_na_e': 10.0, 'EX_o2_e': 18.5, 'EX_mobd_e': 10.0, 'EX_h2o_e': 1000.0, 'EX_h_e': 100.0, 'EX_glc_e': 1000.0, 'EX_pyr_e': 3}\n",
      "The current theoretical maximum biomass productivity: 0.11617084064312147 h\n",
      "----------------\n",
      "The current maximum theoretical productivity for making PHB: 1.6016949152542397 mmol/gDW*h\n",
      "----------------\n",
      "Maximum theoretical yield = 0.5338983050847466 mmol phb/mmol Succinate\n",
      "{'EX_fe2_e': 10.0, 'EX_mg2_e': 10.0, 'EX_pi_e': 100.0, 'EX_cobalt2_e': 10.0, 'EX_pyr_e': 0, 'EX_cl_e': 10.0, 'EX_k_e': 10.0, 'EX_fe3_e': 10.0, 'EX_so4_e': 10.0, 'EX_nh4_e': 10.0, 'EX_na_e': 10.0, 'EX_o2_e': 18.5, 'EX_mobd_e': 10.0, 'EX_h2o_e': 1000.0, 'EX_h_e': 100.0, 'EX_glc_e': 1000.0, 'EX_fru_e': 3}\n"
     ]
    }
   ],
   "source": [
    "with model:\n",
    "    medium = model.medium\n",
    "    medium['EX_fru_e'] = 0\n",
    "    medium['EX_pyr_e'] = 3\n",
    "    print(medium)\n",
    "    model.medium=medium\n",
    "    \n",
    "    solution= model.optimize()\n",
    "    print('The current theoretical maximum biomass productivity:', solution.fluxes['EX_BIOMASS_c'], 'h')\n",
    "    print('----------------')\n",
    "    \n",
    "    model.objective = model.reactions.EX_pbhb_e\n",
    "    phb_production=model.optimize().objective_value\n",
    "    print('The current maximum theoretical productivity for making PHB:', phb_production , 'mmol/gDW*h')\n",
    "    print('----------------')\n",
    "    \n",
    "    maximum_yield = phb_production / (-1*(model.reactions.EX_pyr_e.flux))\n",
    "    print('Maximum theoretical yield =', maximum_yield, 'mmol phb/mmol Pyruvate')"
   ]
  },
  {
   "cell_type": "markdown",
   "metadata": {},
   "source": [
    "### With the data constructed in this file. Here is a table combinding the data:"
   ]
  }
 ],
 "metadata": {
  "kernelspec": {
   "display_name": "Python 3",
   "language": "python",
   "name": "python3"
  },
  "language_info": {
   "codemirror_mode": {
    "name": "ipython",
    "version": 3
   },
   "file_extension": ".py",
   "mimetype": "text/x-python",
   "name": "python",
   "nbconvert_exporter": "python",
   "pygments_lexer": "ipython3",
   "version": "3.8.3"
  }
 },
 "nbformat": 4,
 "nbformat_minor": 4
}
