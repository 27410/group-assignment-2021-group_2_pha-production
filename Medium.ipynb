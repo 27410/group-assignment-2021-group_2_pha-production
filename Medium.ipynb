{
 "cells": [
  {
   "cell_type": "code",
   "execution_count": 130,
   "metadata": {},
   "outputs": [],
   "source": [
    "import cobra.test\n",
    "import os\n",
    "from os.path import join\n",
    "from cobra.io import read_sbml_model\n",
    "model = cobra.io.load_json_model(join(\"RehMBEL1391_sbml_L3V1.json\"))\n",
    "from cobra import Model, Reaction, Metabolite"
   ]
  },
  {
   "cell_type": "markdown",
   "metadata": {},
   "source": [
    "# Adding D-glucose to the medium"
   ]
  },
  {
   "cell_type": "markdown",
   "metadata": {},
   "source": [
    "The model we are using has D-fructorse as carbon source."
   ]
  },
  {
   "cell_type": "markdown",
   "metadata": {},
   "source": [
    "## Standard medium content of the model"
   ]
  },
  {
   "cell_type": "code",
   "execution_count": 131,
   "metadata": {},
   "outputs": [
    {
     "data": {
      "text/plain": [
       "{'EX_fe2_e': 10.0,\n",
       " 'EX_mg2_e': 10.0,\n",
       " 'EX_pi_e': 100.0,\n",
       " 'EX_cobalt2_e': 10.0,\n",
       " 'EX_cl_e': 10.0,\n",
       " 'EX_k_e': 10.0,\n",
       " 'EX_fe3_e': 10.0,\n",
       " 'EX_so4_e': 10.0,\n",
       " 'EX_fru_e': 3.0,\n",
       " 'EX_nh4_e': 10.0,\n",
       " 'EX_na_e': 10.0,\n",
       " 'EX_o2_e': 18.5,\n",
       " 'EX_mobd_e': 10.0,\n",
       " 'EX_h2o_e': 1000.0,\n",
       " 'EX_h_e': 100.0}"
      ]
     },
     "execution_count": 131,
     "metadata": {},
     "output_type": "execute_result"
    }
   ],
   "source": [
    "model.medium   #EX_fru_e is D-frucose"
   ]
  },
  {
   "cell_type": "markdown",
   "metadata": {},
   "source": [
    "We will be trying to include D-glucose in the medium and look at the bimass and production of PHB."
   ]
  },
  {
   "cell_type": "markdown",
   "metadata": {},
   "source": [
    "With the current medium the biomass and yeald of phb"
   ]
  },
  {
   "cell_type": "code",
   "execution_count": 133,
   "metadata": {},
   "outputs": [
    {
     "name": "stdout",
     "output_type": "stream",
     "text": [
      "0.0\n",
      "The current theoretical maximum biomass productivity: <Solution 3.763 at 0x2ade154f8e0> h\n",
      "----------------\n",
      "The current maximum theoretical productivity for making PHB: 3.76271186440678 mmol/gDW*h\n",
      "----------------\n",
      "Maximum theoretical yield = 1.2542372881355932 mmol phb/mmol fructose\n"
     ]
    }
   ],
   "source": [
    "with model:\n",
    "    model.objective = model.reactions.EX_pbhb_e\n",
    "    solution= model.optimize()\n",
    "    print('The current theoretical maximum biomass productivity:', solution.fluxes['EX_BIOMASS_c'], 'h')\n",
    "    print('----------------')\n",
    "    phb_production=model.slim_optimize()\n",
    "    print('The current maximum theoretical productivity for making PHB:', phb_production , 'mmol/gDW*h')\n",
    "    print('----------------')\n",
    "    maximum_yield = phb_production / (-1*(model.reactions.EX_fru_e.flux))\n",
    "    print('Maximum theoretical yield =', maximum_yield, 'mmol phb/mmol fructose') "
   ]
  },
  {
   "cell_type": "markdown",
   "metadata": {},
   "source": [
    "### To add D-glucose to the medium we need new reactions to make R.eutropha take up and use D-glucose as a carbon source. "
   ]
  },
  {
   "cell_type": "code",
   "execution_count": 30,
   "metadata": {},
   "outputs": [],
   "source": [
    "reaction = Reaction('D-GLC')\n",
    "reaction.name = 'D-glucose transport via PEP:Pyr PTS'\n",
    "reaction.subsystem = 'Cell Envelope Biosynthesis'\n",
    "reaction.lower_bound = 0.  # This is the default\n",
    "reaction.upper_bound = 1000.  # This is the default"
   ]
  },
  {
   "cell_type": "code",
   "execution_count": 31,
   "metadata": {},
   "outputs": [],
   "source": [
    "EX_glc_D_e = Metabolite(\n",
    "    'EX_glc_D_e',\n",
    "    formula='C6H12O6',\n",
    "    name='D-glucose',\n",
    "    compartment='c')"
   ]
  },
  {
   "cell_type": "code",
   "execution_count": 32,
   "metadata": {},
   "outputs": [
    {
     "data": {
      "text/plain": [
       "'EX_glc_D_e + pep_c --> g6p_c + pyr_c'"
      ]
     },
     "execution_count": 32,
     "metadata": {},
     "output_type": "execute_result"
    }
   ],
   "source": [
    "reaction.add_metabolites({\n",
    "    EX_glc_D_e: -1.0,\n",
    "    model.metabolites.pep_c: -1.0,\n",
    "    model.metabolites.pyr_c: 1.0,\n",
    "    model.metabolites.g6p_c: 1.0\n",
    "})\n",
    "reaction.reaction  # This gives a string representation of the reaction"
   ]
  },
  {
   "cell_type": "code",
   "execution_count": 84,
   "metadata": {},
   "outputs": [
    {
     "name": "stdout",
     "output_type": "stream",
     "text": [
      "{'EX_fe2_e': 10.0, 'EX_mg2_e': 10.0, 'EX_pi_e': 100.0, 'EX_cobalt2_e': 10.0, 'EX_cl_e': 10.0, 'EX_k_e': 10.0, 'EX_fe3_e': 10.0, 'EX_so4_e': 10.0, 'EX_fru_e': 0, 'EX_nh4_e': 10.0, 'EX_na_e': 10.0, 'EX_o2_e': 18.5, 'EX_mobd_e': 10.0, 'EX_h2o_e': 1000.0, 'EX_h_e': 100.0, 'EX_succ_e': 10}\n",
      "6.454545454545457\n"
     ]
    }
   ],
   "source": [
    "with model:\n",
    "    medium = model.medium\n",
    "    medium['EX_fru_e'] = 0\n",
    "    medium['EX_succ_e'] = 10\n",
    "    print(medium)\n",
    "    model.medium=medium\n",
    "    model.objective = model.reactions.EX_pbhb_e\n",
    "    print(model.slim_optimize())\n",
    "    "
   ]
  },
  {
   "cell_type": "code",
   "execution_count": 108,
   "metadata": {},
   "outputs": [],
   "source": [
    "#model.reactions.get_by_id('EX_succ_e')"
   ]
  },
  {
   "cell_type": "code",
   "execution_count": 106,
   "metadata": {},
   "outputs": [],
   "source": [
    "#for metabolites in model.metabolites.query('succ','name'):\n",
    "#    print(metabolites.name)"
   ]
  },
  {
   "cell_type": "code",
   "execution_count": 107,
   "metadata": {},
   "outputs": [],
   "source": [
    "#model.reactions.query('succ','name')"
   ]
  },
  {
   "cell_type": "code",
   "execution_count": 85,
   "metadata": {},
   "outputs": [
    {
     "name": "stdout",
     "output_type": "stream",
     "text": [
      "{'EX_fe2_e': 10.0, 'EX_mg2_e': 10.0, 'EX_pi_e': 100.0, 'EX_cobalt2_e': 10.0, 'EX_cl_e': 10.0, 'EX_k_e': 10.0, 'EX_fe3_e': 10.0, 'EX_so4_e': 10.0, 'EX_fru_e': 0, 'EX_nh4_e': 10.0, 'EX_na_e': 10.0, 'EX_o2_e': 18.5, 'EX_mobd_e': 10.0, 'EX_h2o_e': 1000.0, 'EX_h_e': 100.0, 'EX_succ_e': 0}\n",
      "0.0\n"
     ]
    }
   ],
   "source": [
    "with model:\n",
    "    medium = model.medium\n",
    "    medium['EX_fru_e'] = 0\n",
    "    #medium['EX_glc_D_e'] = 0\n",
    "    medium['EX_succ_e'] = 0\n",
    "    model.medium =medium\n",
    "    print(medium)\n",
    "    print(model.slim_optimize())"
   ]
  },
  {
   "cell_type": "code",
   "execution_count": null,
   "metadata": {},
   "outputs": [],
   "source": []
  },
  {
   "cell_type": "code",
   "execution_count": 101,
   "metadata": {},
   "outputs": [
    {
     "name": "stdout",
     "output_type": "stream",
     "text": [
      "5.454545454545443 Maximize\n",
      "1.0*EX_pbhb_e - 1.0*EX_pbhb_e_reverse_f6e04\n"
     ]
    }
   ],
   "source": [
    "with model:\n",
    "    medium = model.medium\n",
    "    medium['EX_fru_e'] = 10\n",
    "    medium['EX_o2_e']=0\n",
    "    model.medium=medium\n",
    "    print(model.slim_optimize(), model.objective)"
   ]
  },
  {
   "cell_type": "code",
   "execution_count": 105,
   "metadata": {},
   "outputs": [
    {
     "name": "stdout",
     "output_type": "stream",
     "text": [
      "Maximize\n",
      "1.0*EX_pbhb_e - 1.0*EX_pbhb_e_reverse_f6e04\n",
      "The current theoretical maximum biomass productivity: 0.0 h\n",
      "----------------\n",
      "Maximize\n",
      "1.0*EX_pbhb_e - 1.0*EX_pbhb_e_reverse_f6e04\n",
      "The current maximum theoretical productivity for making PHB: 12.542372881355949 mmol/gDW*h\n",
      "----------------\n",
      "Maximum theoretical yield = 1.2542372881355948 mmol phb/mmol fructose\n",
      "12.542372881355949\n"
     ]
    }
   ],
   "source": [
    "with model:\n",
    "    medium = model.medium\n",
    "    medium['EX_fru_e'] = 10\n",
    "    medium['EX_o2_e'] =100\n",
    "    model.medium=medium\n",
    "    \n",
    "    \n",
    "    Objective=model.objective\n",
    "    solution=model.optimize()\n",
    "    print(Objective)\n",
    "    print('The current theoretical maximum biomass productivity:', solution.fluxes['Biomass'], 'h')\n",
    "    print('----------------')\n",
    "    \n",
    "    model.objective = model.reactions.EX_pbhb_e\n",
    "    print(model.objective)\n",
    "    phb_production=model.slim_optimize()\n",
    "    print('The current maximum theoretical productivity for making PHB:', phb_production , 'mmol/gDW*h')\n",
    "    print('----------------')\n",
    "    \n",
    "    maximum_yield = phb_production / (-1*(model.reactions.EX_fru_e.flux))\n",
    "    print('Maximum theoretical yield =', maximum_yield, 'mmol phb/mmol fructose')\n",
    "    model.objective = model.reactions.EX_pbhb_e\n",
    "    phb_production=model.slim_optimize()\n",
    "    print(phb_production)"
   ]
  },
  {
   "cell_type": "code",
   "execution_count": 96,
   "metadata": {},
   "outputs": [
    {
     "name": "stdout",
     "output_type": "stream",
     "text": [
      "Maximize\n",
      "1.0*EX_pbhb_e - 1.0*EX_pbhb_e_reverse_f6e04\n",
      "The current maximum theoretical productivity for making PHB: 3.762711864406772 mmol/gDW*h {'EX_fe2_e': 10.0, 'EX_mg2_e': 10.0, 'EX_pi_e': 100.0, 'EX_cobalt2_e': 10.0, 'EX_cl_e': 10.0, 'EX_k_e': 10.0, 'EX_fe3_e': 10.0, 'EX_so4_e': 10.0, 'EX_fru_e': 10, 'EX_nh4_e': 10.0, 'EX_na_e': 10.0, 'EX_o2_e': 0, 'EX_mobd_e': 10.0, 'EX_h2o_e': 1000.0, 'EX_h_e': 100.0}\n"
     ]
    }
   ],
   "source": [
    "    model.objective = model.reactions.EX_pbhb_e\n",
    "    print(model.objective)\n",
    "    phb_production=model.slim_optimize()\n",
    "    print('The current maximum theoretical productivity for making PHB:', phb_production , 'mmol/gDW*h')"
   ]
  },
  {
   "cell_type": "code",
   "execution_count": 95,
   "metadata": {},
   "outputs": [
    {
     "name": "stdout",
     "output_type": "stream",
     "text": [
      "3.762711864406772\n"
     ]
    }
   ],
   "source": [
    "    model.objective = model.reactions.EX_pbhb_e\n",
    "    phb_production=model.slim_optimize()\n",
    "    print(phb_production)"
   ]
  },
  {
   "cell_type": "code",
   "execution_count": null,
   "metadata": {},
   "outputs": [],
   "source": [
    "with model:\n",
    "    medium = model.medium\n",
    "    #medium['EX_fru_e'] = 10\n",
    "    medium['EX_o2_e'] =0\n",
    "    print(medium)\n",
    "    model.medium=medium\n",
    "    model.objective = model.reactions.EX_pbhb_e\n",
    "    solution=model.optimize()\n",
    "    print(solution.fluxes[solution.fluxes != 0.])\n",
    "    print(solution)"
   ]
  },
  {
   "cell_type": "code",
   "execution_count": 67,
   "metadata": {},
   "outputs": [
    {
     "name": "stdout",
     "output_type": "stream",
     "text": [
      "PHAS: r3hbcoa_c <=> coa_c + phb_c\n",
      "PHBt: h_c + phb_c --> h_e + phb_e\n",
      "PHBD: h2o_c + phb_c <=> h_c + r3hbn2_c + r3rhbb_c\n"
     ]
    }
   ],
   "source": [
    "for reactions in model.metabolites.get_by_id('phb_c').reactions:\n",
    "    print(reactions)"
   ]
  },
  {
   "cell_type": "code",
   "execution_count": null,
   "metadata": {},
   "outputs": [],
   "source": [
    "###########See if it makes more of phb"
   ]
  },
  {
   "cell_type": "code",
   "execution_count": null,
   "metadata": {},
   "outputs": [],
   "source": []
  },
  {
   "cell_type": "code",
   "execution_count": null,
   "metadata": {},
   "outputs": [],
   "source": []
  }
 ],
 "metadata": {
  "kernelspec": {
   "display_name": "Python 3",
   "language": "python",
   "name": "python3"
  },
  "language_info": {
   "codemirror_mode": {
    "name": "ipython",
    "version": 3
   },
   "file_extension": ".py",
   "mimetype": "text/x-python",
   "name": "python",
   "nbconvert_exporter": "python",
   "pygments_lexer": "ipython3",
   "version": "3.8.3"
  }
 },
 "nbformat": 4,
 "nbformat_minor": 4
}
