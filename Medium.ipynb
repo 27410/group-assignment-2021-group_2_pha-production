{
 "cells": [
  {
   "cell_type": "code",
   "execution_count": 2,
   "metadata": {},
   "outputs": [],
   "source": [
    "import cobra.test\n",
    "import os\n",
    "from os.path import join\n",
    "from cobra.io import read_sbml_model\n",
    "model = cobra.io.load_json_model(join(\"RehMBEL1391_sbml_L3V1.json\"))\n",
    "from cobra import Model, Reaction, Metabolite"
   ]
  },
  {
   "cell_type": "markdown",
   "metadata": {},
   "source": [
    "# Adding D-glucose to the medium"
   ]
  },
  {
   "cell_type": "markdown",
   "metadata": {},
   "source": [
    "The model we are using has D-fructorse as carbon source."
   ]
  },
  {
   "cell_type": "markdown",
   "metadata": {},
   "source": [
    "## Standard medium content of the model"
   ]
  },
  {
   "cell_type": "code",
   "execution_count": 3,
   "metadata": {},
   "outputs": [
    {
     "data": {
      "text/plain": [
       "{'EX_fe2_e': 10.0,\n",
       " 'EX_mg2_e': 10.0,\n",
       " 'EX_pi_e': 100.0,\n",
       " 'EX_cobalt2_e': 10.0,\n",
       " 'EX_cl_e': 10.0,\n",
       " 'EX_k_e': 10.0,\n",
       " 'EX_fe3_e': 10.0,\n",
       " 'EX_so4_e': 10.0,\n",
       " 'EX_fru_e': 3.0,\n",
       " 'EX_nh4_e': 10.0,\n",
       " 'EX_na_e': 10.0,\n",
       " 'EX_o2_e': 18.5,\n",
       " 'EX_mobd_e': 10.0,\n",
       " 'EX_h2o_e': 1000.0,\n",
       " 'EX_h_e': 100.0}"
      ]
     },
     "execution_count": 3,
     "metadata": {},
     "output_type": "execute_result"
    }
   ],
   "source": [
    "model.medium   #EX_fru_e is D-frucose"
   ]
  },
  {
   "cell_type": "markdown",
   "metadata": {},
   "source": [
    "We will be trying to include D-glucose in the medium and look at the bimass and production of PHB."
   ]
  },
  {
   "cell_type": "code",
   "execution_count": null,
   "metadata": {},
   "outputs": [],
   "source": [
    "With the current medium the biomass, yeald of phb and "
   ]
  },
  {
   "cell_type": "code",
   "execution_count": 62,
   "metadata": {},
   "outputs": [
    {
     "name": "stdout",
     "output_type": "stream",
     "text": [
      "Maximize\n",
      "1.0*Biomass - 1.0*Biomass_reverse_57a34\n",
      "The models maximum productivity: 0.2852858664276785 mmol/gDW*h\n"
     ]
    }
   ],
   "source": [
    "Objective=model.objective\n",
    "solution=model.optimize().objective_value\n",
    "print(Objective)\n",
    "print('The models maximum biomass productivity:', solution, '/h')"
   ]
  },
  {
   "cell_type": "code",
   "execution_count": null,
   "metadata": {},
   "outputs": [],
   "source": [
    "with model:\n",
    "    model.objective = model.reactions.EX_pbhb_e\n",
    "    print(model.slim_optimize())"
   ]
  },
  {
   "cell_type": "code",
   "execution_count": 25,
   "metadata": {},
   "outputs": [
    {
     "name": "stdout",
     "output_type": "stream",
     "text": [
      "Maximize\n",
      "1.0*Biomass - 1.0*Biomass_reverse_57a34 <bound method Model.optimize of <Model RehMBEL1391 at 0x2add8e1c2e0>>\n",
      "0.0\n",
      "{'EX_fe2_e': 10.0, 'EX_mg2_e': 10.0, 'EX_pi_e': 100.0, 'EX_cobalt2_e': 10.0, 'EX_cl_e': 10.0, 'EX_k_e': 10.0, 'EX_fe3_e': 10.0, 'EX_so4_e': 10.0, 'EX_fru_e': 0, 'EX_nh4_e': 10.0, 'EX_na_e': 10.0, 'EX_o2_e': 18.5, 'EX_mobd_e': 10.0, 'EX_h2o_e': 1000.0, 'EX_h_e': 100.0}\n",
      "0.0\n"
     ]
    }
   ],
   "source": [
    "with model:\n",
    "    medium = model.medium\n",
    "    medium['EX_fru_e'] = 0\n",
    "    medium\n",
    "    model.medium=medium\n",
    "    print(model.objective, model.optimize)\n",
    "    model.objective = model.reactions.EX_pbhb_e\n",
    "    print(model.slim_optimize())\n",
    "    model.medium = medium\n",
    "    print(medium)\n",
    "    print(model.slim_optimize())"
   ]
  },
  {
   "cell_type": "markdown",
   "metadata": {},
   "source": [
    "Then we need to add a new reaction and the D-glucose at matobilite "
   ]
  },
  {
   "cell_type": "code",
   "execution_count": 30,
   "metadata": {},
   "outputs": [],
   "source": [
    "reaction = Reaction('D-GLC')\n",
    "reaction.name = 'D-glucose transport via PEP:Pyr PTS'\n",
    "reaction.subsystem = 'Cell Envelope Biosynthesis'\n",
    "reaction.lower_bound = 0.  # This is the default\n",
    "reaction.upper_bound = 1000.  # This is the default"
   ]
  },
  {
   "cell_type": "code",
   "execution_count": 31,
   "metadata": {},
   "outputs": [],
   "source": [
    "EX_glc_D_e = Metabolite(\n",
    "    'EX_glc_D_e',\n",
    "    formula='C6H12O6',\n",
    "    name='D-glucose',\n",
    "    compartment='c')"
   ]
  },
  {
   "cell_type": "code",
   "execution_count": 32,
   "metadata": {},
   "outputs": [
    {
     "data": {
      "text/plain": [
       "'EX_glc_D_e + pep_c --> g6p_c + pyr_c'"
      ]
     },
     "execution_count": 32,
     "metadata": {},
     "output_type": "execute_result"
    }
   ],
   "source": [
    "reaction.add_metabolites({\n",
    "    EX_glc_D_e: -1.0,\n",
    "    model.metabolites.pep_c: -1.0,\n",
    "    model.metabolites.pyr_c: 1.0,\n",
    "    model.metabolites.g6p_c: 1.0\n",
    "})\n",
    "reaction.reaction  # This gives a string representation of the reaction"
   ]
  },
  {
   "cell_type": "code",
   "execution_count": 33,
   "metadata": {},
   "outputs": [
    {
     "name": "stdout",
     "output_type": "stream",
     "text": [
      "{'EX_fe2_e': 10.0, 'EX_mg2_e': 10.0, 'EX_pi_e': 100.0, 'EX_cobalt2_e': 10.0, 'EX_cl_e': 10.0, 'EX_k_e': 10.0, 'EX_fe3_e': 10.0, 'EX_so4_e': 10.0, 'EX_fru_e': 0, 'EX_nh4_e': 10.0, 'EX_na_e': 10.0, 'EX_o2_e': 18.5, 'EX_mobd_e': 10.0, 'EX_h2o_e': 1000.0, 'EX_h_e': 100.0, 'EX_succ_e': 10}\n",
      "6.45454545454547\n"
     ]
    }
   ],
   "source": [
    "with model:\n",
    "    medium = model.medium\n",
    "    medium['EX_fru_e'] = 0\n",
    "    medium['EX_succ_e'] = 10\n",
    "    print(medium)\n",
    "    model.medium=medium\n",
    "    model.objective = model.reactions.EX_pbhb_e\n",
    "    print(model.slim_optimize())\n",
    "    model.medium = medium\n",
    "    #print(medium)\n",
    "    #print(model.slim_optimize())\n",
    "    "
   ]
  },
  {
   "cell_type": "code",
   "execution_count": 46,
   "metadata": {},
   "outputs": [
    {
     "data": {
      "text/html": [
       "\n",
       "        <table>\n",
       "            <tr>\n",
       "                <td><strong>Reaction identifier</strong></td><td>EX_succ_e</td>\n",
       "            </tr><tr>\n",
       "                <td><strong>Name</strong></td><td>EX_succ_e</td>\n",
       "            </tr><tr>\n",
       "                <td><strong>Memory address</strong></td>\n",
       "                <td>0x02adddfb4d60</td>\n",
       "            </tr><tr>\n",
       "                <td><strong>Stoichiometry</strong></td>\n",
       "                <td>\n",
       "                    <p style='text-align:right'>succ_e --></p>\n",
       "                    <p style='text-align:right'>Succinate --></p>\n",
       "                </td>\n",
       "            </tr><tr>\n",
       "                <td><strong>GPR</strong></td><td></td>\n",
       "            </tr><tr>\n",
       "                <td><strong>Lower bound</strong></td><td>0.0</td>\n",
       "            </tr><tr>\n",
       "                <td><strong>Upper bound</strong></td><td>1000.0</td>\n",
       "            </tr>\n",
       "        </table>\n",
       "        "
      ],
      "text/plain": [
       "<Reaction EX_succ_e at 0x2adddfb4d60>"
      ]
     },
     "execution_count": 46,
     "metadata": {},
     "output_type": "execute_result"
    }
   ],
   "source": [
    "model.reactions.get_by_id('EX_succ_e')"
   ]
  },
  {
   "cell_type": "code",
   "execution_count": 55,
   "metadata": {},
   "outputs": [
    {
     "name": "stdout",
     "output_type": "stream",
     "text": [
      "Naphthyl-2-methyl-succinic acid\n",
      "Naphthyl-2-methyl-succinyl-CoA\n",
      "Naphthyl-2-oxomethyl-succinyl-CoA\n",
      "1-(5'-Phosphoribosyl)-5-amino-4-(N-succinocarboxamide)-imidazole\n",
      "Naphthyl-2-hydroxymethyl-succinyl CoA\n",
      "Naphthyl-2-methylene-succinyl-CoA\n",
      "N-(L-Arginino)succinate\n"
     ]
    }
   ],
   "source": [
    "for metabolites in model.metabolites.query('succ','name'):\n",
    "    print(metabolites.name)"
   ]
  },
  {
   "cell_type": "code",
   "execution_count": 53,
   "metadata": {},
   "outputs": [
    {
     "data": {
      "text/plain": [
       "[<Reaction EX_succ_e at 0x2adddfb4d60>,\n",
       " <Reaction TARTRt7 at 0x2adde6fcf40>,\n",
       " <Reaction HYDRTS at 0x2adde82f610>,\n",
       " <Reaction NAPMSCD at 0x2adde974a30>,\n",
       " <Reaction SDPDS at 0x2addea22610>,\n",
       " <Reaction THDPS at 0x2addea54af0>,\n",
       " <Reaction ARGSL at 0x2addec03f40>,\n",
       " <Reaction CITt7 at 0x2addec19df0>,\n",
       " <Reaction SCCNAPS at 0x2addec67d30>,\n",
       " <Reaction ARGSS at 0x2adde7aecd0>,\n",
       " <Reaction PRASUCS at 0x2addef5dfd0>,\n",
       " <Reaction ADSL1r at 0x2addf0f1c70>,\n",
       " <Reaction ADSUCL1 at 0x2addf0f12e0>,\n",
       " <Reaction OGDH2 at 0x2addf233e20>,\n",
       " <Reaction ADSS at 0x2addf312be0>]"
      ]
     },
     "execution_count": 53,
     "metadata": {},
     "output_type": "execute_result"
    }
   ],
   "source": [
    "model.reactions.query('succ','name')"
   ]
  },
  {
   "cell_type": "code",
   "execution_count": 52,
   "metadata": {},
   "outputs": [
    {
     "name": "stdout",
     "output_type": "stream",
     "text": [
      "{'EX_fe2_e': 10.0, 'EX_mg2_e': 10.0, 'EX_pi_e': 100.0, 'EX_cobalt2_e': 10.0, 'EX_cl_e': 10.0, 'EX_k_e': 10.0, 'EX_fe3_e': 10.0, 'EX_so4_e': 10.0, 'EX_fru_e': 0, 'EX_nh4_e': 10.0, 'EX_na_e': 10.0, 'EX_o2_e': 18.5, 'EX_mobd_e': 10.0, 'EX_h2o_e': 1000.0, 'EX_h_e': 100.0, 'EX_succ_e': 0}\n",
      "0.0\n"
     ]
    }
   ],
   "source": [
    "with model:\n",
    "    medium = model.medium\n",
    "    medium['EX_fru_e'] = 0\n",
    "    #medium['EX_glc_D_e'] = 0\n",
    "    medium['EX_succ_e'] = 0\n",
    "    model.medium =medium\n",
    "    print(medium)\n",
    "    print(model.slim_optimize())\n",
    "    #model.medium = medium\n",
    "    #print(medium)\n",
    "    #print(model.slim_optimize())"
   ]
  },
  {
   "cell_type": "code",
   "execution_count": null,
   "metadata": {},
   "outputs": [],
   "source": []
  },
  {
   "cell_type": "code",
   "execution_count": null,
   "metadata": {},
   "outputs": [],
   "source": [
    "with model:\n",
    "    medium = model.medium\n",
    "    medium['EX_fru_e'] = 10\n",
    "    print(medium)\n",
    "    model.medium=medium\n",
    "    model.objective = model.reactions.EX_pbhb_e\n",
    "    print(model.slim_optimize())"
   ]
  },
  {
   "cell_type": "code",
   "execution_count": null,
   "metadata": {},
   "outputs": [],
   "source": [
    "with model:\n",
    "    medium = model.medium\n",
    "    medium['EX_fru_e'] = 10\n",
    "    medium['EX_o2_e'] =0\n",
    "    print(medium)\n",
    "    model.medium=medium\n",
    "    model.objective = model.reactions.EX_pbhb_e\n",
    "    solution=model.optimize()\n",
    "    print(solution)"
   ]
  },
  {
   "cell_type": "code",
   "execution_count": null,
   "metadata": {},
   "outputs": [],
   "source": [
    "with model:\n",
    "    medium = model.medium\n",
    "    #medium['EX_fru_e'] = 10\n",
    "    medium['EX_o2_e'] =0\n",
    "    print(medium)\n",
    "    model.medium=medium\n",
    "    model.objective = model.reactions.EX_pbhb_e\n",
    "    solution=model.optimize()\n",
    "    print(solution.fluxes[solution.fluxes != 0.])\n",
    "    print(solution)"
   ]
  },
  {
   "cell_type": "code",
   "execution_count": 67,
   "metadata": {},
   "outputs": [
    {
     "name": "stdout",
     "output_type": "stream",
     "text": [
      "PHAS: r3hbcoa_c <=> coa_c + phb_c\n",
      "PHBt: h_c + phb_c --> h_e + phb_e\n",
      "PHBD: h2o_c + phb_c <=> h_c + r3hbn2_c + r3rhbb_c\n"
     ]
    }
   ],
   "source": [
    "for reactions in model.metabolites.get_by_id('phb_c').reactions:\n",
    "    print(reactions)"
   ]
  },
  {
   "cell_type": "code",
   "execution_count": null,
   "metadata": {},
   "outputs": [],
   "source": [
    "###########See if it makes more of phb"
   ]
  },
  {
   "cell_type": "code",
   "execution_count": 27,
   "metadata": {},
   "outputs": [
    {
     "name": "stdout",
     "output_type": "stream",
     "text": [
      "Maximize\n",
      "1.0*EX_pbhb_e - 1.0*EX_pbhb_e_reverse_f6e04\n"
     ]
    }
   ],
   "source": [
    "model.objective = model.reactions.EX_pbhb_e\n",
    "print(model.objective)"
   ]
  },
  {
   "cell_type": "code",
   "execution_count": 28,
   "metadata": {},
   "outputs": [
    {
     "name": "stdout",
     "output_type": "stream",
     "text": [
      "<Solution 3.763 at 0x1fed6b9a0a0>\n"
     ]
    },
    {
     "data": {
      "text/plain": [
       "EX_gln__L_e       0.0\n",
       "EX_galctn__D_e    0.0\n",
       "EX_c140_e         0.0\n",
       "EX_15dap_e        0.0\n",
       "EX_3hbenzot_e     0.0\n",
       "                 ... \n",
       "THZPSN            0.0\n",
       "MTHF3ES_c         0.0\n",
       "HYDS              0.0\n",
       "EX_h2_e           0.0\n",
       "H2td              0.0\n",
       "Name: fluxes, Length: 1538, dtype: float64"
      ]
     },
     "execution_count": 28,
     "metadata": {},
     "output_type": "execute_result"
    }
   ],
   "source": [
    "solution = model.optimize()\n",
    "print(solution)\n",
    "solution.fluxes"
   ]
  },
  {
   "cell_type": "code",
   "execution_count": null,
   "metadata": {},
   "outputs": [],
   "source": [
    "with model:\n",
    "    medium = model.medium\n",
    "    medium['EX_fru_e'] = 0\n",
    "    medium['EX__e'] = 10\n",
    "    print(medium)\n",
    "    print(model.slim_optimize())\n",
    "    #model.medium = medium\n",
    "    #print(medium)\n",
    "    #print(model.slim_optimize())"
   ]
  },
  {
   "cell_type": "code",
   "execution_count": 84,
   "metadata": {},
   "outputs": [
    {
     "name": "stdout",
     "output_type": "stream",
     "text": [
      "0.9304279805448478\n"
     ]
    }
   ],
   "source": [
    "medium = model.medium\n",
    "with model:\n",
    "    medium['EX_fru_e'] = 10\n",
    "    medium['EX_succ_e'] = 0\n",
    "    model.medium = medium\n",
    "    solution = model.optimize()\n",
    "    print(solution.fluxes['EX_BIOMASS_c'])"
   ]
  },
  {
   "cell_type": "code",
   "execution_count": 39,
   "metadata": {},
   "outputs": [
    {
     "name": "stdout",
     "output_type": "stream",
     "text": [
      "0.5343325098873601\n"
     ]
    }
   ],
   "source": [
    "medium = model.medium\n",
    "with model:\n",
    "    medium['EX_fru_e'] = 0\n",
    "    medium['EX_succ_e'] = 10\n",
    "    model.medium = medium\n",
    "    solution = model.optimize()\n",
    "    print(solution.fluxes['EX_BIOMASS_c'])"
   ]
  },
  {
   "cell_type": "code",
   "execution_count": null,
   "metadata": {},
   "outputs": [],
   "source": []
  },
  {
   "cell_type": "code",
   "execution_count": null,
   "metadata": {},
   "outputs": [],
   "source": []
  }
 ],
 "metadata": {
  "kernelspec": {
   "display_name": "Python 3",
   "language": "python",
   "name": "python3"
  },
  "language_info": {
   "codemirror_mode": {
    "name": "ipython",
    "version": 3
   },
   "file_extension": ".py",
   "mimetype": "text/x-python",
   "name": "python",
   "nbconvert_exporter": "python",
   "pygments_lexer": "ipython3",
   "version": "3.8.3"
  }
 },
 "nbformat": 4,
 "nbformat_minor": 4
}
