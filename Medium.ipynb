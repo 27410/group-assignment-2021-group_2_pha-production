{
 "cells": [
  {
   "cell_type": "code",
   "execution_count": 46,
   "metadata": {},
   "outputs": [],
   "source": [
    "import cobra.test\n",
    "import os\n",
    "from os.path import join\n",
    "from cobra.io import read_sbml_model\n",
    "model = cobra.io.load_json_model(join(\"RehMBEL1391_sbml_L3V1.json\"))\n",
    "from cobra import Model, Reaction, Metabolite"
   ]
  },
  {
   "cell_type": "code",
   "execution_count": 4,
   "metadata": {},
   "outputs": [
    {
     "data": {
      "text/plain": [
       "{'EX_fe2_e': 10.0,\n",
       " 'EX_mg2_e': 10.0,\n",
       " 'EX_pi_e': 100.0,\n",
       " 'EX_cobalt2_e': 10.0,\n",
       " 'EX_cl_e': 10.0,\n",
       " 'EX_k_e': 10.0,\n",
       " 'EX_fe3_e': 10.0,\n",
       " 'EX_so4_e': 10.0,\n",
       " 'EX_fru_e': 3.0,\n",
       " 'EX_nh4_e': 10.0,\n",
       " 'EX_na_e': 10.0,\n",
       " 'EX_o2_e': 18.5,\n",
       " 'EX_mobd_e': 10.0,\n",
       " 'EX_h2o_e': 1000.0,\n",
       " 'EX_h_e': 100.0}"
      ]
     },
     "execution_count": 4,
     "metadata": {},
     "output_type": "execute_result"
    }
   ],
   "source": [
    "model.medium   #EX_fru_e is D-frucose"
   ]
  },
  {
   "cell_type": "code",
   "execution_count": 5,
   "metadata": {},
   "outputs": [
    {
     "data": {
      "text/plain": [
       "dict_keys(['EX_fe2_e', 'EX_mg2_e', 'EX_pi_e', 'EX_cobalt2_e', 'EX_cl_e', 'EX_k_e', 'EX_fe3_e', 'EX_so4_e', 'EX_fru_e', 'EX_nh4_e', 'EX_na_e', 'EX_o2_e', 'EX_mobd_e', 'EX_h2o_e', 'EX_h_e'])"
      ]
     },
     "execution_count": 5,
     "metadata": {},
     "output_type": "execute_result"
    }
   ],
   "source": [
    "medium = model.medium\n",
    "medium.keys()"
   ]
  },
  {
   "cell_type": "code",
   "execution_count": 31,
   "metadata": {},
   "outputs": [
    {
     "name": "stdout",
     "output_type": "stream",
     "text": [
      "phb_e\n",
      "phb_c\n"
     ]
    }
   ],
   "source": [
    "for metabolite in model.metabolites.query('Poly', 'name'):\n",
    "    print(metabolite)"
   ]
  },
  {
   "cell_type": "code",
   "execution_count": 32,
   "metadata": {},
   "outputs": [],
   "source": [
    "for metabolite in model.metabolites.query('trehalose', 'name'):\n",
    "    print(metabolite)"
   ]
  },
  {
   "cell_type": "code",
   "execution_count": 12,
   "metadata": {},
   "outputs": [
    {
     "name": "stdout",
     "output_type": "stream",
     "text": [
      "Maximize\n",
      "1.0*Biomass - 1.0*Biomass_reverse_57a34\n"
     ]
    }
   ],
   "source": [
    "solution=model.objective\n",
    "print(solution)"
   ]
  },
  {
   "cell_type": "code",
   "execution_count": 22,
   "metadata": {},
   "outputs": [],
   "source": [
    "#model.reactions"
   ]
  },
  {
   "cell_type": "code",
   "execution_count": 39,
   "metadata": {},
   "outputs": [
    {
     "name": "stdout",
     "output_type": "stream",
     "text": [
      "0.5343325098873601\n"
     ]
    }
   ],
   "source": [
    "medium = model.medium\n",
    "with model:\n",
    "    medium['EX_fru_e'] = 0\n",
    "    medium['EX_succ_e'] = 10\n",
    "    model.medium = medium\n",
    "    solution = model.optimize()\n",
    "    print(solution.fluxes['EX_BIOMASS_c'])"
   ]
  },
  {
   "cell_type": "code",
   "execution_count": 84,
   "metadata": {},
   "outputs": [
    {
     "name": "stdout",
     "output_type": "stream",
     "text": [
      "0.9304279805448478\n"
     ]
    }
   ],
   "source": [
    "medium = model.medium\n",
    "with model:\n",
    "    medium['EX_fru_e'] = 10\n",
    "    medium['EX_succ_e'] = 0\n",
    "    model.medium = medium\n",
    "    solution = model.optimize()\n",
    "    print(solution.fluxes['EX_BIOMASS_c'])"
   ]
  },
  {
   "cell_type": "code",
   "execution_count": 57,
   "metadata": {},
   "outputs": [],
   "source": [
    "reaction = Reaction('GLCpts')\n",
    "reaction.name = 'D-glucose transport via PEP:Pyr PTS'\n",
    "reaction.subsystem = 'Cell Envelope Biosynthesis'\n",
    "reaction.lower_bound = 0.  # This is the default\n",
    "reaction.upper_bound = 1000.  # This is the default"
   ]
  },
  {
   "cell_type": "code",
   "execution_count": 69,
   "metadata": {},
   "outputs": [],
   "source": [
    "EX_glc_D_e = Metabolite(\n",
    "    'EX_glc_D_e',\n",
    "    formula='C6H12O6',\n",
    "    name='D-glucose',\n",
    "    compartment='c')"
   ]
  },
  {
   "cell_type": "code",
   "execution_count": 73,
   "metadata": {},
   "outputs": [
    {
     "data": {
      "text/plain": [
       "'EX_glc_D_e + pep_c + pyr_c --> g6p_c'"
      ]
     },
     "execution_count": 73,
     "metadata": {},
     "output_type": "execute_result"
    }
   ],
   "source": [
    "reaction.add_metabolites({\n",
    "    EX_glc_D_e: -1.0,\n",
    "    model.metabolites.pep_c: -1.0,\n",
    "    model.metabolites.pyr_c: -1.0,\n",
    "    model.metabolites.g6p_c: 1.0\n",
    "})\n",
    "reaction.reaction  # This gives a string representation of the reaction"
   ]
  },
  {
   "cell_type": "code",
   "execution_count": 85,
   "metadata": {},
   "outputs": [
    {
     "name": "stdout",
     "output_type": "stream",
     "text": [
      "{'EX_fe2_e': 10.0, 'EX_mg2_e': 10.0, 'EX_pi_e': 100.0, 'EX_cobalt2_e': 10.0, 'EX_cl_e': 10.0, 'EX_k_e': 10.0, 'EX_fe3_e': 10.0, 'EX_so4_e': 10.0, 'EX_fru_e': 0, 'EX_nh4_e': 10.0, 'EX_na_e': 10.0, 'EX_o2_e': 18.5, 'EX_mobd_e': 10.0, 'EX_h2o_e': 1000.0, 'EX_h_e': 100.0, 'EX_glc_D_e': 10}\n",
      "0.285285866427678\n"
     ]
    },
    {
     "ename": "KeyError",
     "evalue": "'EX_glc_D_e'",
     "output_type": "error",
     "traceback": [
      "\u001b[1;31m---------------------------------------------------------------------------\u001b[0m",
      "\u001b[1;31mKeyError\u001b[0m                                  Traceback (most recent call last)",
      "\u001b[1;32m<ipython-input-85-22cf524cc5be>\u001b[0m in \u001b[0;36m<module>\u001b[1;34m\u001b[0m\n\u001b[0;32m      5\u001b[0m     \u001b[0mprint\u001b[0m\u001b[1;33m(\u001b[0m\u001b[0mmedium\u001b[0m\u001b[1;33m)\u001b[0m\u001b[1;33m\u001b[0m\u001b[1;33m\u001b[0m\u001b[0m\n\u001b[0;32m      6\u001b[0m     \u001b[0mprint\u001b[0m\u001b[1;33m(\u001b[0m\u001b[0mmodel\u001b[0m\u001b[1;33m.\u001b[0m\u001b[0mslim_optimize\u001b[0m\u001b[1;33m(\u001b[0m\u001b[1;33m)\u001b[0m\u001b[1;33m)\u001b[0m\u001b[1;33m\u001b[0m\u001b[1;33m\u001b[0m\u001b[0m\n\u001b[1;32m----> 7\u001b[1;33m     \u001b[0mmodel\u001b[0m\u001b[1;33m.\u001b[0m\u001b[0mmedium\u001b[0m \u001b[1;33m=\u001b[0m \u001b[0mmedium\u001b[0m\u001b[1;33m\u001b[0m\u001b[1;33m\u001b[0m\u001b[0m\n\u001b[0m\u001b[0;32m      8\u001b[0m     \u001b[0mprint\u001b[0m\u001b[1;33m(\u001b[0m\u001b[0mmedium\u001b[0m\u001b[1;33m)\u001b[0m\u001b[1;33m\u001b[0m\u001b[1;33m\u001b[0m\u001b[0m\n\u001b[0;32m      9\u001b[0m     \u001b[0mprint\u001b[0m\u001b[1;33m(\u001b[0m\u001b[0mmodel\u001b[0m\u001b[1;33m.\u001b[0m\u001b[0mslim_optimize\u001b[0m\u001b[1;33m(\u001b[0m\u001b[1;33m)\u001b[0m\u001b[1;33m)\u001b[0m\u001b[1;33m\u001b[0m\u001b[1;33m\u001b[0m\u001b[0m\n",
      "\u001b[1;32m~\\anaconda3\\lib\\site-packages\\cobra\\core\\model.py\u001b[0m in \u001b[0;36mmedium\u001b[1;34m(self, medium)\u001b[0m\n\u001b[0;32m    277\u001b[0m         \u001b[0mexchange_rxns\u001b[0m \u001b[1;33m=\u001b[0m \u001b[0mfrozenset\u001b[0m\u001b[1;33m(\u001b[0m\u001b[0mself\u001b[0m\u001b[1;33m.\u001b[0m\u001b[0mexchanges\u001b[0m\u001b[1;33m)\u001b[0m\u001b[1;33m\u001b[0m\u001b[1;33m\u001b[0m\u001b[0m\n\u001b[0;32m    278\u001b[0m         \u001b[1;32mfor\u001b[0m \u001b[0mrxn_id\u001b[0m\u001b[1;33m,\u001b[0m \u001b[0mbound\u001b[0m \u001b[1;32min\u001b[0m \u001b[0mmedium\u001b[0m\u001b[1;33m.\u001b[0m\u001b[0mitems\u001b[0m\u001b[1;33m(\u001b[0m\u001b[1;33m)\u001b[0m\u001b[1;33m:\u001b[0m\u001b[1;33m\u001b[0m\u001b[1;33m\u001b[0m\u001b[0m\n\u001b[1;32m--> 279\u001b[1;33m             \u001b[0mrxn\u001b[0m \u001b[1;33m=\u001b[0m \u001b[0mself\u001b[0m\u001b[1;33m.\u001b[0m\u001b[0mreactions\u001b[0m\u001b[1;33m.\u001b[0m\u001b[0mget_by_id\u001b[0m\u001b[1;33m(\u001b[0m\u001b[0mrxn_id\u001b[0m\u001b[1;33m)\u001b[0m\u001b[1;33m\u001b[0m\u001b[1;33m\u001b[0m\u001b[0m\n\u001b[0m\u001b[0;32m    280\u001b[0m             \u001b[1;32mif\u001b[0m \u001b[0mrxn\u001b[0m \u001b[1;32mnot\u001b[0m \u001b[1;32min\u001b[0m \u001b[0mexchange_rxns\u001b[0m\u001b[1;33m:\u001b[0m\u001b[1;33m\u001b[0m\u001b[1;33m\u001b[0m\u001b[0m\n\u001b[0;32m    281\u001b[0m                 logger.warn(\n",
      "\u001b[1;32m~\\anaconda3\\lib\\site-packages\\cobra\\core\\dictlist.py\u001b[0m in \u001b[0;36mget_by_id\u001b[1;34m(self, id)\u001b[0m\n\u001b[0;32m     55\u001b[0m     \u001b[1;32mdef\u001b[0m \u001b[0mget_by_id\u001b[0m\u001b[1;33m(\u001b[0m\u001b[0mself\u001b[0m\u001b[1;33m,\u001b[0m \u001b[0mid\u001b[0m\u001b[1;33m)\u001b[0m\u001b[1;33m:\u001b[0m\u001b[1;33m\u001b[0m\u001b[1;33m\u001b[0m\u001b[0m\n\u001b[0;32m     56\u001b[0m         \u001b[1;34m\"\"\"return the element with a matching id\"\"\"\u001b[0m\u001b[1;33m\u001b[0m\u001b[1;33m\u001b[0m\u001b[0m\n\u001b[1;32m---> 57\u001b[1;33m         \u001b[1;32mreturn\u001b[0m \u001b[0mlist\u001b[0m\u001b[1;33m.\u001b[0m\u001b[0m__getitem__\u001b[0m\u001b[1;33m(\u001b[0m\u001b[0mself\u001b[0m\u001b[1;33m,\u001b[0m \u001b[0mself\u001b[0m\u001b[1;33m.\u001b[0m\u001b[0m_dict\u001b[0m\u001b[1;33m[\u001b[0m\u001b[0mid\u001b[0m\u001b[1;33m]\u001b[0m\u001b[1;33m)\u001b[0m\u001b[1;33m\u001b[0m\u001b[1;33m\u001b[0m\u001b[0m\n\u001b[0m\u001b[0;32m     58\u001b[0m \u001b[1;33m\u001b[0m\u001b[0m\n\u001b[0;32m     59\u001b[0m     \u001b[1;32mdef\u001b[0m \u001b[0mlist_attr\u001b[0m\u001b[1;33m(\u001b[0m\u001b[0mself\u001b[0m\u001b[1;33m,\u001b[0m \u001b[0mattribute\u001b[0m\u001b[1;33m)\u001b[0m\u001b[1;33m:\u001b[0m\u001b[1;33m\u001b[0m\u001b[1;33m\u001b[0m\u001b[0m\n",
      "\u001b[1;31mKeyError\u001b[0m: 'EX_glc_D_e'"
     ]
    }
   ],
   "source": [
    "with model:\n",
    "    medium = model.medium\n",
    "    medium['EX_fru_e'] = 0\n",
    "    medium['EX_glc_D_e'] = 10\n",
    "    print(medium)\n",
    "    print(model.slim_optimize())\n",
    "    #model.medium = medium\n",
    "    #print(medium)\n",
    "    #print(model.slim_optimize())\n",
    "    "
   ]
  },
  {
   "cell_type": "code",
   "execution_count": null,
   "metadata": {},
   "outputs": [],
   "source": []
  },
  {
   "cell_type": "code",
   "execution_count": 67,
   "metadata": {},
   "outputs": [
    {
     "name": "stdout",
     "output_type": "stream",
     "text": [
      "PHAS: r3hbcoa_c <=> coa_c + phb_c\n",
      "PHBt: h_c + phb_c --> h_e + phb_e\n",
      "PHBD: h2o_c + phb_c <=> h_c + r3hbn2_c + r3rhbb_c\n"
     ]
    }
   ],
   "source": [
    "for reactions in model.metabolites.get_by_id('phb_c').reactions:\n",
    "    print(reactions)"
   ]
  },
  {
   "cell_type": "code",
   "execution_count": null,
   "metadata": {},
   "outputs": [],
   "source": [
    "###########See if it makes more of phb"
   ]
  },
  {
   "cell_type": "code",
   "execution_count": 27,
   "metadata": {},
   "outputs": [
    {
     "name": "stdout",
     "output_type": "stream",
     "text": [
      "Maximize\n",
      "1.0*EX_pbhb_e - 1.0*EX_pbhb_e_reverse_f6e04\n"
     ]
    }
   ],
   "source": [
    "model.objective = model.reactions.EX_pbhb_e\n",
    "print(model.objective)"
   ]
  },
  {
   "cell_type": "code",
   "execution_count": 28,
   "metadata": {},
   "outputs": [
    {
     "name": "stdout",
     "output_type": "stream",
     "text": [
      "<Solution 3.763 at 0x1fed6b9a0a0>\n"
     ]
    },
    {
     "data": {
      "text/plain": [
       "EX_gln__L_e       0.0\n",
       "EX_galctn__D_e    0.0\n",
       "EX_c140_e         0.0\n",
       "EX_15dap_e        0.0\n",
       "EX_3hbenzot_e     0.0\n",
       "                 ... \n",
       "THZPSN            0.0\n",
       "MTHF3ES_c         0.0\n",
       "HYDS              0.0\n",
       "EX_h2_e           0.0\n",
       "H2td              0.0\n",
       "Name: fluxes, Length: 1538, dtype: float64"
      ]
     },
     "execution_count": 28,
     "metadata": {},
     "output_type": "execute_result"
    }
   ],
   "source": [
    "solution = model.optimize()\n",
    "print(solution)\n",
    "solution.fluxes"
   ]
  },
  {
   "cell_type": "code",
   "execution_count": null,
   "metadata": {},
   "outputs": [],
   "source": [
    "with model:\n",
    "    medium = model.medium\n",
    "    medium['EX_fru_e'] = 0\n",
    "    medium['EX__e'] = 10\n",
    "    print(medium)\n",
    "    print(model.slim_optimize())\n",
    "    #model.medium = medium\n",
    "    #print(medium)\n",
    "    #print(model.slim_optimize())"
   ]
  },
  {
   "cell_type": "code",
   "execution_count": null,
   "metadata": {},
   "outputs": [],
   "source": []
  },
  {
   "cell_type": "code",
   "execution_count": null,
   "metadata": {},
   "outputs": [],
   "source": []
  }
 ],
 "metadata": {
  "kernelspec": {
   "display_name": "Python 3",
   "language": "python",
   "name": "python3"
  },
  "language_info": {
   "codemirror_mode": {
    "name": "ipython",
    "version": 3
   },
   "file_extension": ".py",
   "mimetype": "text/x-python",
   "name": "python",
   "nbconvert_exporter": "python",
   "pygments_lexer": "ipython3",
   "version": "3.8.8"
  }
 },
 "nbformat": 4,
 "nbformat_minor": 4
}
