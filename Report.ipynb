{
 "cells": [
  {
   "cell_type": "markdown",
   "metadata": {},
   "source": [
    "# Improving PHA production with _Ralstonia eutropha_ (Category II project)"
   ]
  },
  {
   "cell_type": "markdown",
   "metadata": {},
   "source": [
    "## 1. Introduction"
   ]
  },
  {
   "cell_type": "markdown",
   "metadata": {},
   "source": [
    "### 1.1 Literature review of the compound \n",
    "Since July 2021, most single use plastics are banned in the European Union (EU), as the EU deemed the impact of plastic waste on the environment and health global and drastic (Commission, 2019). \n",
    "In 2010, the global plastic waste accounted for 275 million tons, 5 million tons more than the global plastic production of that year. It is estimated that 8 million tons of plastic end up in the ocean annually, and 31.9 million tons are in open or mismanaged landfills (Ritchie 2018),  where they take up to 500 years to decompose (Rajmohan et al., 2019).\n",
    "There is an undeniable need for a material replacing crude-oil based plastic with biobased, biodegradable alternatives. \n",
    "\n",
    "Polyhydroxyalkanoates (PHAs) are biobased bioplastics that are insoluble in water. They are biodegradable in most active biologically environments (Somleva et al., 2013). Generally, PHAs are differently sized hydroxyacyl-polymers aggregated in granules. They are used by microorganisms as carbon storage in the absence of sufficient nutrients for growth (Somleva et al., 2013). It can be produced by many microorganisms such as _Ralstonia eutropha_ (_R. eutropha_) (Somleva et al., 2013) and _Pseudomonas_ spp. (Możejko-Ciesielska & Kiewisz, 2016). PHAs can be produced from different carbon sources such as atmospheric CO$_2$, sugars, proteins and fats. It can also be produced by microorganisms grown on waste products like cheese whey, molasses and waste frying oil (Favaro et al., 2019), alleviating the _food vs commodity_ controversy.\n",
    "\n",
    "<img src=\"http://localhost:8888/files/OneDrive/Dokumente/DTU/Fall%20'21/27410%20-%20Computer-aided%20cell%20factory%20design/group-assignment-2021-group_2_pha-production/TEM-images-of-intracellular-PHA-granules-in-Mch-bheemlicum-and-Rdv.png?_xsrf=2%7C4efea019%7C48d6113fbdab81251ec05496bef3fc07%7C1635757596\" width=600 height=400 />\n",
    "\n",
    "**Figure 1 | Granules of PHA within cells (ADD SOURCE)**\n",
    "\n",
    "PHAs would be a great substitution for these types of single use plastics. The reason PHAs are not yet substituted for crude oil plastics is because of the cost. The price for PHAs ranges from 2 to 16 USD per kg (Price, 2020), and for high-density polyethylene the price has varied from 0.9 to 1.2 USD per kg (Statista, 2022). Therefore, using or finding a new cheap carbon source and finding new pathways to optimize the yield are part of making PHAs more attractive for widespread use and application.  \n",
    "\n",
    "In this project are we using a model of _R. eutropha_ to produce Polyhydroxybutyrate (PHB), a type of PHA. There are two different pathways for PHB production by the organism. The first pathway is through the acetyl-CoA and fatty acid synthesis pathway (Riedel et al., 2014). The second one is through β-oxidation cycle (Chen et al., 2015).\n",
    "\n",
    "![PHA](https://upload.wikimedia.org/wikipedia/commons/8/8d/Poly-%28R%29-3-hydroxybutyrat.svg)\n",
    "\n",
    "**Figure 2 | Poly-3-hydroxybutyrate (Wikipedia)**"
   ]
  },
  {
   "cell_type": "markdown",
   "metadata": {},
   "source": [
    "### 1.2 Literature review of the cell factory \n",
    "A perfect host strain for PHA production has a high final PHA content per cell as well as a high PHA space-time-yield. The Gram-negative betaproteobacterium _R. eutropha_, the so-called “Knallgas-bacteria”, is a model organism for PHA production due to its ability to accumulate PHA at\n",
    "high levels (>80 wt%), grow to high cell density and susceptibility to genetic alterations (Brigham & Riedel, 2019). It has been reclassified more than once, names given include _Wautersia eutropha_, _Cupriavidus necator_, _Alcaligenes eutrophus_ and _Hydrogenomonas eutropha_. Optimal cultivation conditions include 30°C and pH 6.8. In the presence of fatty acids R. eutropha expresses an extracellular lipase to cleave the fatty acids from the glycerol backbone (Lu et al., 2013) and subsequently transport the FFA inside the cell for catabolism through the β-oxidation pathway.\n",
    "Instead of adding expensive precursors into the medium for the production of hetero-polymers, respectively constructed metabolic pathways have been inserted into numerous strains (S. Y. Choi et al., 2020).\n",
    "\n",
    "<img src=\"http://localhost:8888/files/OneDrive/Dokumente/DTU/Fall%20'21/27410%20-%20Computer-aided%20cell%20factory%20design/group-assignment-2021-group_2_pha-production/PHA_production_pathways.jpg?_xsrf=2%7C4efea019%7C48d6113fbdab81251ec05496bef3fc07%7C1635757596\" width=800 height=600 />\n",
    "\n",
    "**Figure 3 | PHA production pathways (TO DO: add source)**"
   ]
  },
  {
   "cell_type": "markdown",
   "metadata": {},
   "source": [
    "## 2. Problem definition \n",
    "PHA could eﬀectively replace the conventional petrochemical plastics with their material properties. However, due to the high production cost, their production at high scale is still limited. Depending on polymer composition, the PHA price is at least three times higher than the major petrochemical based polymer (see Chapter 1.1).\n",
    "To reduce production costs, the following approaches were considered:\n",
    "\n",
    "##### Cheaper substrates\n",
    "Although the common carbon source fructose leads to a relatively high PHA yield in _R. eutropha_ (Khanna & Srivastava, 2005), it is expensive to purchase. The substrate cost accounts for 30-50 % of the total PHA production cost (Andler et al., 2019). Therefore, the use of cheaper substrates has a significant impact on the final PHA price. To minimize the impact of raw material procurement, the consumption of waste streams is preferable. Waste streams such as crude glycerol, soybean oil, animal fat, etc. have been considered as alternative substrates (Sabapathy et al., 2020)\n",
    "Also, oils contain a higher carbon content per weight than sugars, increasing the theoretical yield in comparison to sugar at least twofold (Akiyama et al., 2003; Kahar et al., 2004). \n",
    "\n",
    "##### Higher PHA yields through nutritional limitation\n",
    "PHAs are produced in the presence of an excess source of carbon and limitation of a nutritional element such as nitrogen, phosphorus, magnesium, potassium, oxygen or sulphur [Lee, Choi 1999]. To achieve higher PHA yields and thus reduce production costs, a possible strategy is to limit the above-mentioned nutrients. \n",
    "\n",
    "##### Higher selling price through improved material properties\n",
    "Furthermore, the most prominently featured PHA, polyhydroxybutyrate (PHB), based on the short chain length (_scl_) monomer hydroxybutyrate, is difficult to process. To improve PHA properties, and therefore increase potential selling price, pathways for the production of medium chain length (_mcl_) or mixed _scl_-co-_mcl_ polymers could be added to the model. \n"
   ]
  },
  {
   "cell_type": "markdown",
   "metadata": {},
   "source": [
    "## 3. Selection and assessment of existing GSM (<500 words)\n"
   ]
  },
  {
   "cell_type": "markdown",
   "metadata": {},
   "source": [
    "Looking for the genome-scale metabolic model of _R. eutropha_ we found a publicly available model on github (https://github.com/m-jahn/genome-scale-models) under the GNU General Public License v3.0 from a postdoctoral researcher at the Science for Life Lab in Stockholm, Sweden. The last activity in the github repository had been two months ago, and the researcher responded to our enquiries within a day, making it an attractive model to go forward with.\n",
    "\n",
    "M. Jahn improved the original RehMBEL1391 L2V1 model published in 2011 (Park et al., 2011) not only through addition of annotation, but also through correction of errors and addition of new reactions. We are working with this improved GSM which is abbreviated as RehMBEL1391 L3V1. It includes annotation of 900 metabolites, 824 reactions, and 1275 genes more than the original model, while missing 31 reactions that were duplicates.\n",
    "Visualizing the model in escher we visually confirmed that important metabolic pathways are covered in the model.\n",
    "\n",
    "<img src=\"http://localhost:8888/files/OneDrive/Dokumente/DTU/Fall%20'21/27410%20-%20Computer-aided%20cell%20factory%20design/group-assignment-2021-group_2_pha-production/map.png?_xsrf=2%7C4efea019%7C48d6113fbdab81251ec05496bef3fc07%7C1635757596\" width=1200 height=800 />\n",
    "\n",
    "**Figure 4 | Escher map highlighting genes that model RehMBEL1391 contains.**"
   ]
  },
  {
   "cell_type": "code",
   "execution_count": 6,
   "metadata": {},
   "outputs": [
    {
     "data": {
      "text/html": [
       "\n",
       "        <table>\n",
       "            <tr>\n",
       "                <td><strong>Name</strong></td>\n",
       "                <td>RehMBEL1391</td>\n",
       "            </tr><tr>\n",
       "                <td><strong>Memory address</strong></td>\n",
       "                <td>0x01ff087511c0</td>\n",
       "            </tr><tr>\n",
       "                <td><strong>Number of metabolites</strong></td>\n",
       "                <td>1348</td>\n",
       "            </tr><tr>\n",
       "                <td><strong>Number of reactions</strong></td>\n",
       "                <td>1538</td>\n",
       "            </tr><tr>\n",
       "                <td><strong>Number of groups</strong></td>\n",
       "                <td>0</td>\n",
       "            </tr><tr>\n",
       "                <td><strong>Objective expression</strong></td>\n",
       "                <td>1.0*Biomass - 1.0*Biomass_reverse_57a34</td>\n",
       "            </tr><tr>\n",
       "                <td><strong>Compartments</strong></td>\n",
       "                <td>c, e</td>\n",
       "            </tr>\n",
       "          </table>"
      ],
      "text/plain": [
       "<Model RehMBEL1391 at 0x1ff087511c0>"
      ]
     },
     "execution_count": 6,
     "metadata": {},
     "output_type": "execute_result"
    }
   ],
   "source": [
    "import cobra.test\n",
    "import os\n",
    "from os.path import join\n",
    "from cobra.io import read_sbml_model\n",
    "model = cobra.io.load_json_model(join(\"RehMBEL1391_sbml_L3V1.json\"))\n",
    "model"
   ]
  },
  {
   "cell_type": "markdown",
   "metadata": {},
   "source": [
    "The model consists of a total number of 1,538 reactions, 1,348 metabolites and 1,350 genes. As _R. eutropha_ is a bacterium, a total of 2 compartments (cytosol, “c” and excretion, “e”) are defined. All (100%) metabolites are annotated, and the same is applying to the present reactions and genes. \n",
    "The total memote score is 63 %, with consistency ranking worst with 37.25 % and annotation ranking best receiving a score of 81.81 %. The full memote report is supplemented in the repository as Memote Full Report.\n",
    "\n",
    "<img src=\"http://localhost:8888/files/OneDrive/Dokumente/DTU/Fall%20'21/27410%20-%20Computer-aided%20cell%20factory%20design/group-assignment-2021-group_2_pha-production/Memote_Scores.jpg?_xsrf=2%7C4efea019%7C48d6113fbdab81251ec05496bef3fc07%7C1635757596\" width=600 height=600 />\n",
    "\n",
    "**Figure 5 | Memote scores of model RehMBEL1391 L3V1 obtained from Michael Jahn.**"
   ]
  },
  {
   "cell_type": "markdown",
   "metadata": {},
   "source": [
    "## 4. Computer-Aided Cell Factory Engineering\n",
    "#### 4.1 Overview"
   ]
  },
  {
   "cell_type": "code",
   "execution_count": null,
   "metadata": {},
   "outputs": [],
   "source": [
    "import cobra.test\n",
    "import os\n",
    "from os.path import join\n",
    "from cobra.io import read_sbml_model\n",
    "from cobra import Reaction, Metabolite\n",
    "from cobra.util import create_stoichiometric_matrix\n",
    "import numpy as np\n",
    "model = cobra.io.load_json_model(join(\"RehMBEL1391_sbml_L3V1.json\"))"
   ]
  },
  {
   "cell_type": "markdown",
   "metadata": {},
   "source": [
    "As substrate accounts for 30-50 % of the total product cost, multiple options for different substrate uptakes were added to the model. \n",
    "In addition to glucose, glycerol and CO$_2$, different alkanoic acids were added as well to model _mcl_-PHA production. \n",
    "\n",
    "Glucose, Glycerol and CO$_2$ were used to produce PHB. The general idea was to substitute the carbon source that is included in the media with the new, cheaper one, to reduce production costs."
   ]
  },
  {
   "cell_type": "markdown",
   "metadata": {},
   "source": [
    "#### 4.1 Addition of D-6-Glucose to medium"
   ]
  },
  {
   "cell_type": "markdown",
   "metadata": {},
   "source": [
    "#### 4.2 Addition of Glycerol to medium"
   ]
  },
  {
   "cell_type": "markdown",
   "metadata": {},
   "source": [
    "#### 4.3 Addition of CO$_2$ to medium"
   ]
  },
  {
   "cell_type": "markdown",
   "metadata": {},
   "source": [
    "#### 4.4 Production of _mcl_-PHA\n",
    "\n",
    "##### 4.4.1 Deciphering PHB production pathway\n",
    "By looking at the metabolites included in the reactions including PHB it was deciphered how PHB production is linked to the rest of the reactions in the model. \n",
    "After establishing this link, it was attempted to introduce heterologous pathways, amongst others according to the enzyme phaC.\n",
    "\n",
    "Therefore, pathways for 5 medium-chain-length PHAs were added, namely\n",
    "\n",
    "* Polyhydroxyhexanoate (PHHx),\n",
    "* Polyhydroxyheptanoate (PHH),\n",
    "* Polyhydroxyoctanoate (PHHO),\n",
    "* Polyhydroxynonaoate (PHN),\n",
    "* Polyhydroxydecanoate (PHD).\n",
    "\n",
    "##### 4.4.2 Finding and creating suitable hydroxyacyl-CoAs in RehMBEL1391 L3V1\n",
    "\n",
    "Typically, the PHA is composed of monomers that are 2n (n ≥ 0) carbons shorter than the substrates added to the media. For example, growth of _P. oleovorans_ on octanoate ($C\\scriptstyle 8$) generates a PHA copolymer containing $C\\scriptstyle 8$ and $C\\scriptstyle 6$ monomers, whereas growth on dodecanoate ($C\\scriptstyle 12$) generates a PHA containing $C\\scriptstyle 12$, $C\\scriptstyle 10$, $C\\scriptstyle 8$, and $C\\scriptstyle 6$ monomers (Lageveen et al., 1995). Alkanoic acids present in the media are transported into the cell where they are first converted to CoA esters before being directed to the β-oxidation pathway where a number of 3-hydroxyacyl-CoA intermediates can be generated. \n",
    "\n",
    "https://biocyclopedia.com/index/plant_pathways/mediumchainlength_polyhydroxyalkanaote.php\n",
    "\n",
    "mcl-PHAs have **6-14 carbon atoms** in the side chain, so hydroxy-acids with a 6-14 carbon backbone are required.\n",
    "\n",
    "At first, the names of hydroxyacyl-CoA already included in the model were searched to later create an reaction where they react to PHA, in case they are fitting.\n",
    " \n",
    "* (3S)-3-Hydroxyadipyl-CoA has a hexanoic acid backbone (X) -> it can react to polyhydroxyhexanoate.\n",
    "* 3-Hydroxypimeloyl-CoA has a heptanoic acid backbone (X) -> it can react to polyhydroxyheptanoate.\n",
    "* 3-Hydroxypropionyl-CoA has a propanoic acid backbone () -> not suitable.\n",
    "* (R)-3-Hydroxybutanoyl-CoA and (S)-3-Hydroxybutanoyl-CoA have a butanoyl backbone () -> not suitable.\n",
    "* (S)-3-Hydroxyisobutyryl-CoA has a methylpropanoic acid backbone () -> not suitable.\n",
    "\n",
    "In the scope of this report, it is assumed that only one type of polyhydroxyalkanoate is produced from the present hydroxyacyls, and the possibility of further degradation of the hydroxyacyl (- 2n carbons) and subsequent incorporation into a polyhydroxyalkanoate is not implemented in the model. Instead, the present hydroxyacyl as well as the added saturated fatty acids are reacting to polyhydroxyalkanoate only in the present version.\n",
    "\n",
    "As only two suitable hydroxy-acyls were identified, it was decided to add further acids into the medium to enable the simulation of the production of different types of PHA.\n",
    "\n",
    "From KEGG ENZYME:2.3.1.304 (https://www.genome.jp/entry/2.3.1.304) we know the reaction equation:\n",
    "\n",
    "(3R)-3-hydroxyacyl-CoA + poly[(R)-3-hydroxyalkanoate]n = CoA + poly[(R)-3-hydroxyalkanoate]$\\scriptstyle n+1$\n",
    "\n",
    "for easier handling in this model we assume:\n",
    "\n",
    ">**hydroxyacyl-CoA -> CoA + polyhydroxyalkanoate**\n",
    "\n",
    "##### 4.4.3 Adding _mcl_-PHA production pathways\n",
    "\n",
    "Since the PHA synthase accepts only the R-isomer of 3-hydroxyacyl-CoA and the bacterial $\\beta$-oxidation of saturated fatty acids generates only the S-isomer of 3-hydroxyacyl-CoA, bacteria must have enzymes capable of generating R-3-hydroxyacyl-CoA. \n",
    "\n",
    "One potential enzyme is a 3-hydroxyacyl-CoA epimerase, mediating the reversible conversion of the S- and R-isomers of 3-hydroxyacyl-CoA. \n",
    "\n",
    "To turn (3S)-3-Hydroxyadipyl-CoA into its R-epimer this epimerase reaction was added to the model. In accordance with (3R)-3-hydroxyacyltransferase (2.3.1.304), the reaction of (3R)-R-Hydroxyadipyl-CoA to PHHx was added to the model.\n",
    "\n",
    "The saturated fatty acids added to the medium react with coenzyme A to acyl-CoA which is a precursor for PHA.\n",
    "\n",
    "> **Fatty acid + CoA + ATP <-> Acyl-CoA + ADP + Pi**\n",
    "\n",
    "Afterwards, the reaction of Acyl-CoA to PHA was added. As already mentioned above, it has been modelled according to \n",
    " > **hydroxyacyl-CoA -> CoA + polyhydroxyalkanoate**\n",
    " \n",
    "To enable the created flux analysis and calculate yields, the excretion of PHA was added, according to the following reaction: \n",
    "\n",
    "> **PHA$_c$  + H$^+$$_c$ --> PHA$_e$ + H$^+$$_e$**\n",
    "\n",
    "This reaction was added in accordance with the transport for PHB which was already included in the model: \n",
    "_h_c + phb_c --> h_e + phb_e Poly-beta-hydroxybutyrate transport_\n",
    "\n",
    "_generally, PHA gets accumulated intracellularly as granules, but for the sake of improvement of flux we assume that the PHA gets excreted_\n",
    "\n",
    "##### 4.4.4 Yields\n",
    "MISSING BECAUSE CODE IS NOT WORKING (YET)"
   ]
  },
  {
   "cell_type": "markdown",
   "metadata": {},
   "source": [
    "## 5. Discussion (<500 words)"
   ]
  },
  {
   "cell_type": "markdown",
   "metadata": {},
   "source": [
    "## 6. Conclusion (<200 words)"
   ]
  },
  {
   "cell_type": "markdown",
   "metadata": {},
   "source": [
    "## References\n",
    "\n",
    "1. Andler, R., Vivod, R., & Steinbüchel, A. (2019). Synthesis of polyhydroxyalkanoates through the biodegradation of poly(cis-1,4-isoprene) rubber. Journal of Bioscience and Bioengineering, 127(3), 360–365. https://doi.org/10.1016/J.JBIOSC.2018.08.015\n",
    "2. Chen, F., Zhai, X., Zhu, C., & Lu, Y. (2015). Effects of capsaicin on pharmacokinetics of pitavastatin in rats. Xenobiotica; the Fate of Foreign Compounds in Biological Systems, 45(2), 171–176. https://doi.org/10.3109/00498254.2014.956848\n",
    "3. Commission, E. (2019). Single-use plastics. https://ec.europa.eu/environment/topics/plastics/single-use-plastics_en\n",
    "4. Favaro, L., Basaglia, M., & Casella, S. (2019). Improving polyhydroxyalkanoate production from inexpensive carbon sources by genetic approaches: a review. Biofuels, Bioproducts and Biorefining, 13(1), 208–227. https://doi.org/10.1002/BBB.1944\n",
    "5. Khanna, S., & Srivastava, A. K. (2005). Statistical media optimization studies for growth and PHB production by Ralstonia eutropha. Process Biochemistry, 40(6), 2173–2182. https://doi.org/10.1016/J.PROCBIO.2004.08.011\n",
    "6. Możejko-Ciesielska, J., & Kiewisz, R. (2016). Bacterial polyhydroxyalkanoates: Still fabulous? Microbiological Research, 192, 271–282. https://doi.org/10.1016/J.MICRES.2016.07.010\n",
    "7. Panich, J., Fong, B., & Singer, S. W. (2021). Metabolic Engineering of Cupriavidus necator H16 for Sustainable Biofuels from CO2. Trends in Biotechnology, 39(4), 412–424. https://doi.org/10.1016/J.TIBTECH.2021.01.001\n",
    "8. Park, J. M., Kim, T. Y., & Lee, S. Y. (2011). Genome-scale reconstruction and in silico analysis of the Ralstonia eutropha H16 for polyhydroxyalkanoate synthesis, lithoautotrophic growth, and 2-methyl citric acid production. BMC Systems Biology 2011 5:1, 5(1), 1–11. https://doi.org/10.1186/1752-0509-5-101\n",
    "9. Rajmohan, K. V. S., Ramya, C., Raja Viswanathan, M., & Varjani, S. (2019). Plastic pollutants: effective waste management for pollution control and abatement. Current Opinion in Environmental Science & Health, 12, 72–84. https://doi.org/10.1016/J.COESH.2019.08.006\n",
    "10. Riedel, S. L., Bader, J., Brigham, C. J., Budde, C. F., Yusof, Z. A. M., Rha, C., & Sinskey, A. J. (2012). Production of poly(3-hydroxybutyrate-co-3-hydroxyhexanoate) by Ralstonia eutropha in high cell density palm oil fermentations. Biotechnology and Bioengineering, 109(1), 74–83. https://doi.org/10.1002/BIT.23283\n",
    "11. Riedel, S. L., Lu, J., Stahl, U., & Brigham, C. J. (2014). Lipid and fatty acid metabolism in Ralstonia eutropha: relevance for the biotechnological production of value-added products. Applied Microbiology and Biotechnology, 98(4), 1469–1483. https://doi.org/10.1007/S00253-013-5430-8\n",
    "12. Sabapathy, P. C., Devaraj, S., Meixner, K., Anburajan, P., Kathirvel, P., Ravikumar, Y., Zabed, H. M., & Qi, X. (2020). Recent developments in Polyhydroxyalkanoates (PHAs) production – A review. Bioresource Technology, 306, 123132. https://doi.org/10.1016/J.BIORTECH.2020.123132\n",
    "13. Somleva, M. N., Peoples, O. P., & Snell, K. D. (2013). PHA Bioplastics, Biochemicals, and Energy from Crops. Plant Biotechnology Journal, 11(2), 233–252. https://doi.org/10.1111/PBI.12039\n",
    "14. Statista. (2022). • Global HDPE prices 2022 | Statista. https://www.statista.com/statistics/1171074/price-high-density-polyethylene-forecast-globally/"
   ]
  },
  {
   "cell_type": "code",
   "execution_count": null,
   "metadata": {},
   "outputs": [],
   "source": []
  }
 ],
 "metadata": {
  "kernelspec": {
   "display_name": "Python 3",
   "language": "python",
   "name": "python3"
  },
  "language_info": {
   "codemirror_mode": {
    "name": "ipython",
    "version": 3
   },
   "file_extension": ".py",
   "mimetype": "text/x-python",
   "name": "python",
   "nbconvert_exporter": "python",
   "pygments_lexer": "ipython3",
   "version": "3.8.8"
  }
 },
 "nbformat": 4,
 "nbformat_minor": 4
}
