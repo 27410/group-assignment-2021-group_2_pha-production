{
 "cells": [
  {
   "cell_type": "code",
   "execution_count": 1,
   "id": "2889ebe8-d598-45f7-9ab8-c882d4869a88",
   "metadata": {},
   "outputs": [],
   "source": [
    "import cobra.test\n",
    "import os\n",
    "from os.path import join\n",
    "from cobra.io import read_sbml_model\n",
    "from cobra import Reaction, Metabolite\n",
    "from cobra.util import create_stoichiometric_matrix\n",
    "import numpy as np\n",
    "model = cobra.io.load_json_model(join(\"RehMBEL1391_sbml_L3V1.json\"))"
   ]
  },
  {
   "cell_type": "code",
   "execution_count": 2,
   "id": "3e13bb06-38ae-4a25-9c46-5e672b4bf7bb",
   "metadata": {},
   "outputs": [
    {
     "data": {
      "text/html": [
       "\n",
       "        <table>\n",
       "            <tr>\n",
       "                <td><strong>Name</strong></td>\n",
       "                <td>RehMBEL1391</td>\n",
       "            </tr><tr>\n",
       "                <td><strong>Memory address</strong></td>\n",
       "                <td>0x02780a0a8760</td>\n",
       "            </tr><tr>\n",
       "                <td><strong>Number of metabolites</strong></td>\n",
       "                <td>1348</td>\n",
       "            </tr><tr>\n",
       "                <td><strong>Number of reactions</strong></td>\n",
       "                <td>1538</td>\n",
       "            </tr><tr>\n",
       "                <td><strong>Number of groups</strong></td>\n",
       "                <td>0</td>\n",
       "            </tr><tr>\n",
       "                <td><strong>Objective expression</strong></td>\n",
       "                <td>1.0*Biomass - 1.0*Biomass_reverse_57a34</td>\n",
       "            </tr><tr>\n",
       "                <td><strong>Compartments</strong></td>\n",
       "                <td>c, e</td>\n",
       "            </tr>\n",
       "          </table>"
      ],
      "text/plain": [
       "<Model RehMBEL1391 at 0x2780a0a8760>"
      ]
     },
     "execution_count": 2,
     "metadata": {},
     "output_type": "execute_result"
    }
   ],
   "source": [
    "model"
   ]
  },
  {
   "cell_type": "code",
   "execution_count": 3,
   "id": "86c0cb80-b5a0-42be-8e90-4604a4d1fcd7",
   "metadata": {},
   "outputs": [
    {
     "name": "stdout",
     "output_type": "stream",
     "text": [
      "PHBt: h_c + phb_c --> h_e + phb_e Poly-beta-hydroxybutyrate transport\n",
      "PHAS: r3hbcoa_c <=> coa_c + phb_c Polyhydroxyalkanoate synthase\n",
      "PHBD: h2o_c + phb_c <=> h_c + r3hbn2_c + r3rhbb_c Poly(3-hydroxybutyrate) depolymerase\n",
      "PHBt: h_c + phb_c --> h_e + phb_e Poly-beta-hydroxybutyrate transport\n",
      "EX_pbhb_e: phb_e -->  EX_pbhb_e\n"
     ]
    }
   ],
   "source": [
    "#figuring out the PHA-production-pathway that is included in the provided model \n",
    "for reactions in model.metabolites.get_by_id(\"phb_c\").reactions: \n",
    "    print(reactions, reactions.name)  \n",
    "\n",
    "for reactions in model.metabolites.get_by_id(\"phb_e\").reactions: \n",
    "    print(reactions, reactions.name)"
   ]
  },
  {
   "cell_type": "code",
   "execution_count": 4,
   "id": "391349c4-cc94-4883-a2f8-5319cfe224b5",
   "metadata": {},
   "outputs": [
    {
     "name": "stdout",
     "output_type": "stream",
     "text": [
      "AACOAR: nadp_c + r3hbcoa_c <=> aacoa_c + h_c + nadph_c Acetoacetyl-CoA reductase\n",
      "3HBCD: r3hbcoa_c <=> b2coa_c + h2o_c 3-hydroxybutyryl-CoA dehydratase\n",
      "PHAS: r3hbcoa_c <=> coa_c + phb_c Polyhydroxyalkanoate synthase\n"
     ]
    }
   ],
   "source": [
    "#figuring out the pathways that lead to r3hbcoa_c to figure out how phb production is connected to the rest of the metabolism\n",
    "for reactions in model.metabolites.get_by_id(\"r3hbcoa_c\").reactions: \n",
    "    print(reactions, reactions.name)"
   ]
  },
  {
   "cell_type": "code",
   "execution_count": 5,
   "id": "9ee8f355-78d1-4e6f-aee3-01a00e46f196",
   "metadata": {},
   "outputs": [
    {
     "name": "stdout",
     "output_type": "stream",
     "text": [
      "PHBD: h2o_c + phb_c <=> h_c + r3hbn2_c + r3rhbb_c Poly(3-hydroxybutyrate) depolymerase\n"
     ]
    }
   ],
   "source": [
    "#looking at the pathway leading to r3hbn2_c\n",
    "for reactions in model.metabolites.get_by_id(\"r3hbn2_c\").reactions: \n",
    "    print(reactions, reactions.name)\n",
    "#found a dead-end"
   ]
  },
  {
   "cell_type": "code",
   "execution_count": 6,
   "id": "7ef4ebdc-21f1-4d96-aa03-94506b050b56",
   "metadata": {},
   "outputs": [
    {
     "name": "stdout",
     "output_type": "stream",
     "text": [
      "HBDH: h2o_c + r3rhbb_c <=> 2.0 bhb_c + h_c\n",
      "PHBD: h2o_c + phb_c <=> h_c + r3hbn2_c + r3rhbb_c\n"
     ]
    }
   ],
   "source": [
    "#looking at the pathway leading to r3hbb_c\n",
    "for reactions in model.metabolites.get_by_id(\"r3rhbb_c\").reactions:\n",
    "    print(reactions)"
   ]
  },
  {
   "cell_type": "code",
   "execution_count": 7,
   "id": "248feef7-5643-478a-b959-9a5b3b290bf4",
   "metadata": {},
   "outputs": [
    {
     "name": "stdout",
     "output_type": "stream",
     "text": [
      "ACOADH1: btcoa_c + fad_c + h_c <=> b2coa_c + fadh2_c Acyl-CoA dehydrogenase butanoyl-CoA)\n",
      "3HBCD: r3hbcoa_c <=> b2coa_c + h2o_c 3-hydroxybutyryl-CoA dehydratase\n",
      "ENCOAH1: 3hbcoa_c <=> b2coa_c + h2o_c Enoyl-CoA hydratase\n",
      "GLUCD1: gcoa_c + nad_c --> b2coa_c + co2_c + nadh_c Glutaryl-CoA dehydrogenase\n"
     ]
    }
   ],
   "source": [
    "#looking at the pathway leading to b2coa_c\n",
    "for reactions in model.metabolites.get_by_id(\"b2coa_c\").reactions: \n",
    "    print(reactions, reactions.name)"
   ]
  },
  {
   "cell_type": "code",
   "execution_count": 8,
   "id": "f670c218-b7e6-4cb7-878a-a9b382f69495",
   "metadata": {},
   "outputs": [
    {
     "name": "stdout",
     "output_type": "stream",
     "text": [
      "AACOAR: nadp_c + r3hbcoa_c <=> aacoa_c + h_c + nadph_c Acetoacetyl-CoA reductase\n",
      "ACACT1r: 2.0 accoa_c <=> aacoa_c + coa_c Acetyl-CoA C-acetyltransferase\n",
      "3HBCDH: 3hbcoa_c + nadp_c --> aacoa_c + h_c + nadph_c 3-hydroxybutyryl-CoA dehydrogenase\n",
      "HACD1: 3hbcoa_c + nad_c --> aacoa_c + h_c + nadh_c 3-hydroxyacyl-CoA dehydrogenase (acetoacetyl-CoA)\n",
      "AACOAS: acac_c + atp_c + coa_c --> aacoa_c + amp_c + h_c + ppi_c Acetoacetyl-CoA synthetase\n",
      "OCOAT1m: acac_c + succoa_c <=> aacoa_c + succ_c 3-oxoacid CoA-transferase\n"
     ]
    }
   ],
   "source": [
    "#looking at the pathway leading to aacoa_c (from r3hbcoa_c reactions)\n",
    "for reactions in model.metabolites.get_by_id(\"aacoa_c\").reactions: \n",
    "    print(reactions, reactions.name)"
   ]
  },
  {
   "cell_type": "code",
   "execution_count": 9,
   "id": "fa6f9fe8-8fbc-4511-930d-05b04a616130",
   "metadata": {},
   "outputs": [
    {
     "name": "stdout",
     "output_type": "stream",
     "text": [
      "aacoa_c  =  Acetoacetyl-CoA\n",
      "acac_c  =  Acetoacetate\n",
      "succoa_c  =  Succinyl-CoA\n",
      "gcoa_c  =  Glutaryl-CoA\n",
      "oaa_c  =  Oxaloacetate\n",
      "accoa_c  =  Acetyl-CoA\n",
      "btcoa_c  =  Butanoyl-CoA\n",
      "b2coa_c  =  Crotonoyl-CoA\n",
      "r3rhbb_c  =  (R)-3-((R)-3-Hydroxybutanoyloxy)butanoate\n",
      "r3hbn2_c  =  ((R)-3-Hydroxybutanoyl)(n-2)\n",
      "bhb_c  =  (R)-3-Hydroxybutanoate\n"
     ]
    }
   ],
   "source": [
    "#to figure out the names of the IDs we printed them\n",
    "print(model.metabolites.aacoa_c, ' = ', model.metabolites.aacoa_c.name)\n",
    "print(model.metabolites.acac_c, ' = ', model.metabolites.acac_c.name)\n",
    "print(model.metabolites.succoa_c, ' = ', model.metabolites.succoa_c.name)\n",
    "print(model.metabolites.gcoa_c, ' = ',model.metabolites.gcoa_c.name)\n",
    "print(model.metabolites.oaa_c, ' = ',model.metabolites.oaa_c.name)\n",
    "print(model.metabolites.accoa_c, ' = ',model.metabolites.accoa_c.name)\n",
    "print(model.metabolites.btcoa_c, ' = ',model.metabolites.btcoa_c.name)\n",
    "print(model.metabolites.b2coa_c, ' = ',model.metabolites.b2coa_c.name)\n",
    "print(model.metabolites.r3rhbb_c, ' = ',model.metabolites.r3rhbb_c.name)\n",
    "print(model.metabolites.r3hbn2_c, ' = ',model.metabolites.r3hbn2_c.name)\n",
    "print(model.metabolites.bhb_c, ' = ',model.metabolites.bhb_c.name)"
   ]
  },
  {
   "cell_type": "code",
   "execution_count": 10,
   "id": "3993bb19-adfd-411a-bbb7-face4bee0e51",
   "metadata": {},
   "outputs": [
    {
     "name": "stdout",
     "output_type": "stream",
     "text": [
      "{'C': 27, 'H': 39, 'N': 7, 'O': 20, 'P': 3, 'S': 1}\n",
      "(3S)-3-Hydroxyadipyl-CoA molecular formula is C27H44N7O20P3S\n",
      "{}\n",
      "3-Hydroxypimeloyl-CoA molecular formula is C28H46N7O20P3S\n",
      "{}\n",
      "The molecular formula of (R)-3-Hydroxybutanoyl-CoA is C25H42N7O18P3S\n",
      "{}\n",
      "{}\n",
      "The molecular formula of (R)-3-((R)-3-Hydroxybutanoyloxy)butanoate is C8H13O5\n",
      "The molecular formula of ((R)-3-Hydroxybutanoyl)(n-2) is C4H6O2\n"
     ]
    }
   ],
   "source": [
    "#whenever we found a metabolite without an assigned molecular formula we added it in accordance with data found on pubchem\n",
    "print(model.metabolites.hpimcoa_c.elements)\n",
    "#add missing molecular formula with data found on PubChem (\"https://pubchem.ncbi.nlm.nih.gov/compound/9543022\")\n",
    "model.metabolites.get_by_id(\"hpimcoa_c\").elements = {\"C\": 28, \"H\": 46, \"N\": 7, \"O\": 20, \"P\":3, \"S\":1}\n",
    "#confirm that the molecular formula was updated\n",
    "print(model.metabolites.get_by_id(\"hpimcoa_c\").name, 'molecular formula is', model.metabolites.get_by_id(\"hpimcoa_c\").formula) \n",
    "\n",
    "#the same was done for other metabolites with missing molecular formulas\n",
    "\n",
    "print(model.metabolites.r3hbcoa_c.elements)\n",
    "#add missing molecular formula for r3hbcoa_3\n",
    "model.metabolites.r3hbcoa_c.elements = {\"C\": 25,\"H\": 42,\"N\": 7,\"O\": 18,\"P\": 3,\"S\": 1}\n",
    "print('The molecular formula of', model.metabolites.get_by_id(\"r3hbcoa_c\").name, 'is', model.metabolites.get_by_id(\"r3hbcoa_c\").formula)\n",
    "\n",
    "print(model.metabolites.r3rhbb_c.elements)\n",
    "print(model.metabolites.r3hbn2_c.elements)\n",
    "#add molecular formula for r3rhbb_c and r3hbn2_c\n",
    "model.metabolites.r3rhbb_c.elements = {\"C\": 8, \"H\": 13, \"O\": 5}\n",
    "model.metabolites.r3hbn2_c.elements = {\"C\": 4, \"H\": 6, \"O\": 2}\n",
    "#print to check whether it was successful\n",
    "print('The molecular formula of', model.metabolites.get_by_id(\"r3rhbb_c\").name, 'is', model.metabolites.get_by_id(\"r3rhbb_c\").formula)\n",
    "print('The molecular formula of', model.metabolites.get_by_id(\"r3hbn2_c\").name, 'is', model.metabolites.get_by_id(\"r3hbn2_c\").formula)"
   ]
  },
  {
   "cell_type": "markdown",
   "id": "71c69bee-d180-453c-95a1-f380a66e099e",
   "metadata": {},
   "source": [
    "Now that we know where and how PHB gets produced in this model, we attempt to introduce our own pathways, according to the enzyme phaC in \"real life\".\n",
    "\n",
    "Therefore, pathways for 5 medium-chain-length PHAs were added, namely \n",
    "* Polyhydroxyhexanoate (PHHx), \n",
    "* Polyhydroxyheptanoate (PHH), \n",
    "* Polyhydroxyoctanoate (PHHO), \n",
    "* Polyhydroxynonaoate (PHN),\n",
    "* Polyhydroxydecanoate (PHD)."
   ]
  },
  {
   "cell_type": "code",
   "execution_count": null,
   "id": "456f52bc-4ce1-40cc-bfc5-1dc244617183",
   "metadata": {},
   "outputs": [],
   "source": [
    "#creating metabolites, giving them a unique ID according to the abbreviation of their full name\n",
    "PHHx = Metabolite(id=\"phhx_c\", compartment =\"c\", name =\"Polyhydroxyhexanoate\")\n",
    "PHH = Metabolite(id=\"phh_c\", compartment = \"c\", name =\"Polyhydroxyheptanoate\")\n",
    "PHHO = Metabolite(id=\"phho_c\", compartment =\"c\", name =\"Polyhydroxyoctanoate\")\n",
    "PHN = Metabolite(id=\"phn_c\", compartment = \"c\", name =\"Polyhydroxynonaoate\")\n",
    "PHD = Metabolite(id=\"phd_c\", compartment = \"c\", name =\"Polyhydroxydecanoate\")\n",
    "\n",
    "PHHx_E = Metabolite(id=\"phhx_e\", compartment =\"e\", name =\"Polyhydroxyhexanoate\")\n",
    "PHH_E = Metabolite(id=\"phh_e\", compartment = \"e\", name =\"Polyhydroxyheptanoate\")\n",
    "PHHO_E = Metabolite(id=\"phho_e\", compartment =\"e\", name =\"Polyhydroxyoctanoate\")\n",
    "PHN_E = Metabolite(id=\"phn_e\", compartment = \"e\", name =\"Polyhydroxynonaoate\")\n",
    "PHD_E = Metabolite(id=\"phd_e\", compartment = \"e\", name =\"Polyhydroxydecanoate\")"
   ]
  },
  {
   "cell_type": "markdown",
   "id": "67c4d080-2708-4665-a3a7-261f61158b1c",
   "metadata": {},
   "source": [
    "At first, we find the names of hydroxyacyl-CoA that are already included in the model to later create an reaction where they react to PHA, in case they are fitting."
   ]
  },
  {
   "cell_type": "code",
   "execution_count": 11,
   "id": "eaf6519d-1608-480b-979e-eed21953f8b6",
   "metadata": {},
   "outputs": [
    {
     "name": "stdout",
     "output_type": "stream",
     "text": [
      "Phenylacetyl-CoA = phaccoa_c\n",
      "2-Methylbut-2-enoyl-CoATiglyl-CoA = 2m2ecoa_c\n",
      "Anthranilyl-CoA = anthcoa_c\n",
      "crotonobetainyl-CoA = ctbtcoa_c\n",
      "Crotonoyl-CoA = b2coa_c\n",
      "Propanoyl-CoA = ppcoa_c\n",
      "2-Amino-5-oxocyclohex-1-enecarbonyl-CoA = 2amoeccoa_c\n",
      "3-Hydroxypropionyl-CoA = 3hpcoa_c\n",
      "2-Methylprop-2-enoyl-CoA = 2mp2coa_c\n",
      "O-Succinylbenzoyl-CoA = sbzcoa_c\n",
      "Pimeloyl-CoA = pmcoa_c\n",
      "Succinyl-CoA = succoa_c\n",
      "Glutaryl-CoA = gcoa_c\n",
      "5-Methyl-3-oxo-4-hexenoyl-CoA = 5m3o4hcoa_c\n",
      "(2E)-5-Methylhexa-2,4-dienoyl-CoA = 2e5mhdcoa_c\n",
      "Cyclohexane-1-carboxyl-CoA = cchccoa_c\n",
      "Malonyl-CoA = malcoa_c\n",
      "3-Oxopropionyl-CoA = 3oppcoa_c\n",
      "Adipyl-CoA = adipcoa_c\n",
      "2-Ketocyclohexane-1-carboxyl-CoA = 2kchccoa_c\n",
      "Naphthyl-2-methyl-succinyl-CoA = napmsccoa_c\n",
      "2-Hydroxycyclohexane-1-carboxyl-CoA = hcchccoa_c\n",
      "3-Methylcrotonyl-CoA = 3mccoa_c\n",
      "(S)-Methylmalonyl-CoA = mmcoa__S_c\n",
      "5-Methylhex-4-enoyl-CoA = 5mh4ecoa_c\n",
      "3-Hydroxypimeloyl-CoA = hpimcoa_c\n",
      "Naphthyl-2-oxomethyl-succinyl-CoA = napomsuccoa_c\n",
      "6-Hydroxycyclohex-1-enecarbonyl-CoA = 6hcecoa_c\n",
      "4-Hydroxyphenylacetyl-CoA = 4hpheacoa_c\n",
      "3-Oxoadipyl-CoA = oxadpcoa_c\n",
      "Cyclopropanecarboxyl-CoA = ccppccoa_c\n",
      "Acetyl-CoA = accoa_c\n",
      "Benzoyl-CoA = benzcoa_c\n",
      "3-Hydroxy-5-oxohexanoyl-CoA = 3h5ohcoa_c\n",
      "Citronellyl-CoA = citnlcoa_c\n",
      "(S)-3-Hydroxybutanoyl-CoA = 3hbcoa_c\n",
      "7-Methyl-3-oxo-6-octenoyl-CoA = 7m3o6ocoa_c\n",
      "2-Naphthoyl-CoA = 2naptcoa_c\n",
      "5-Carboxy-2-pentenoyl-CoA = carpcoa_c\n",
      "2-Methylpropanoyl-CoA = 2mppacoa_c\n",
      "2-Hydroxyglutaryl-CoA = hgcoa_c\n",
      "(S)-3-Hydroxy-2-methylbutyryl-CoA = 3hmbcoa_c\n",
      "3-Hydroxyisovaleryl-CoA = hivcoa_c\n",
      "2-Methylacetoacetyl-CoA = 2maaccoa_c\n",
      "(3S)-3-Hydroxyadipyl-CoA = 3hadpcoa_c\n",
      "Benzoyl acetyl-CoA = bzaccoa_c\n",
      "4-Hydroxybenzoyl-CoA = 4hbzcoa_c\n",
      "(S)-3-Hydroxyisobutyryl-CoA = 3hibutcoa_c\n",
      "(S)-2-Methylbutanoyl-CoA = 2mbcoa_c\n",
      "gamma-butyrobetainyl-CoA = bbtcoa_c\n",
      "3-Oxopimeloyl-CoA = 3opimcoa_c\n",
      "Lactoyl-CoA = laccoa_c\n",
      "(S)-3-Hydroxy-3-methylglutaryl-CoA = 3h3mgcoa_c\n",
      "Propenoyl-CoA = prpncoa_c\n",
      "Itaconyl-CoA = itcncoa_c\n",
      "3-Methylbutanoyl-CoA = 3mbcoa_c\n",
      "trans-Geranyl-CoA = tgercoa_c\n",
      "3-Hydroxy-5-methylhex-4-enoyl-CoA = 3h5m4ecoa_c\n",
      "3-Butenoyl-CoA = 3btecoa_c\n",
      "Naphthyl-2-methylene-succinyl-CoA = nap2msuccoa_c\n",
      "6-Carboxyhex-2-enoyl-CoA = 6checoa_c\n",
      "(R)-Methylmalonyl-CoA = mmcoa__R_c\n",
      "Acetoacetyl-CoA = aacoa_c\n",
      "2,6-Dihydroxycyclohexane-1-carboxyl-CoA = 26dhccoa_c\n",
      "Butanoyl-CoA = btcoa_c\n",
      "(R)-3-Hydroxybutanoyl-CoA = r3hbcoa_c\n",
      "L-Carnitinyl-CoA = crncoa_c\n"
     ]
    }
   ],
   "source": [
    "for metabolite in model.metabolites.query('yl-CoA', 'name'):\n",
    "    print(metabolite.name, '=', metabolite.id)"
   ]
  },
  {
   "cell_type": "markdown",
   "id": "f0e02664-9b93-4fa5-bbbc-56f4c6938a30",
   "metadata": {},
   "source": [
    "Typically, the PHA is composed of monomers that are 2n (n ≥ 0) carbons shorter than the substrates added to the media. For example, growth of _P. oleovorans_ on octanoate ($C\\scriptstyle 8$) generates a PHA copolymer containing $C\\scriptstyle 8$ and $C\\scriptstyle 6$ monomers, whereas growth on dodecanoate ($C\\scriptstyle 12$) generates a PHA containing $C\\scriptstyle 12$, $C\\scriptstyle 10$, $C\\scriptstyle 8$, and $C\\scriptstyle 6$ monomers (Lageveen et al., 1995). Alkanoic acids present in the media are transported into the cell where they are first converted to CoA esters before being directed to the β-oxidation pathway where a number of 3-hydroxyacyl-CoA intermediates can be generated. \n",
    "\n",
    "Since the PHA synthase accepts only the R-isomer of 3-hydroxyacyl- CoA and the bacterial $\\beta$-oxidation of saturated fatty acids generates only the S-isomer of 3-hydroxyacyl-CoA, bacteria must have enzymes capable of generating R-3-hydroxyacyl-CoA. One potential enzyme is a 3-hydroxyacyl-CoA epimerase, mediating the reversible conversion of the S- and R-isomers of 3-hydroxyacyl-CoA. \n",
    "\n",
    "https://biocyclopedia.com/index/plant_pathways/mediumchainlength_polyhydroxyalkanaote.php\n",
    "\n",
    "mcl-PHAs have **6-14 carbon atoms** in the side chain, so hydroxy-acids with a 6-14 carbon backbone are required.\n",
    " \n",
    "* (3S)-3-Hydroxyadipyl-CoA has a hexanoic acid backbone (X) -> it can react to polyhydroxyhexanoate.\n",
    "* 3-Hydroxypimeloyl-CoA has a heptanoic acid backbone (X) -> it can react to polyhydroxyheptanoate.\n",
    "* 3-Hydroxypropionyl-CoA has a propanoic acid backbone -> not suitable.\n",
    "* (R)-3-Hydroxybutanoyl-CoA and (S)-3-Hydroxybutanoyl-CoA have a butanoyl backbone -> not suitable.\n",
    "* (S)-3-Hydroxyisobutyryl-CoA has a methylpropanoic acid backbone -> not suitable.\n",
    "\n",
    "In the scope of this report, it is assumed that only one type of polyhydroxyalkanoate is produced from the present hydroxyacyls, and the possibility of further degradation of the hydroxyacyl (- 2n carbons) and subsequent incorporation into a polyhydroxyalkanoate is not implemented in the model. Instead, the present hydroxyacyl as well as the added saturated fatty acids are reacting to polyhydroxyalkanoate only in the present version.\n",
    "\n",
    "As only two suitable hydroxy-acyls were identified, it was decided to add further acids into the medium to enable the simulation of the production of different types of PHA."
   ]
  },
  {
   "cell_type": "code",
   "execution_count": 13,
   "id": "a79ad407-2cb6-4603-bf17-d9439d375e07",
   "metadata": {},
   "outputs": [],
   "source": [
    "model.add_metabolites([Metabolite(id =\"hexac_e\", name=\"Hexanoic Acid\", compartment = \"e\", formula = \"C6H12O2\")])\n",
    "model.add_metabolites([Metabolite(id =\"heptac_e\", name=\"Heptanoic Acid\", compartment = \"e\", formula = \"C7H14O2\")])\n",
    "model.add_metabolites([Metabolite(id =\"octac_e\", name=\"Octanoic Acid\", compartment = \"e\", formula = \"C8H16O2\")])\n",
    "model.add_metabolites([Metabolite(id =\"nonac_e\", name=\"Nonanoic Acid\", compartment = \"e\", formula = \"C9H18O2\")])\n",
    "model.add_metabolites([Metabolite(id =\"decac_e\", name=\"Decanois Acid\", compartment = \"e\", formula = \"C10H20O2\")])"
   ]
  },
  {
   "cell_type": "code",
   "execution_count": 14,
   "id": "110d0c5b-daba-40c5-93b3-fb14eda4ea70",
   "metadata": {},
   "outputs": [
    {
     "ename": "NameError",
     "evalue": "name 'PHHx' is not defined",
     "output_type": "error",
     "traceback": [
      "\u001b[1;31m---------------------------------------------------------------------------\u001b[0m",
      "\u001b[1;31mNameError\u001b[0m                                 Traceback (most recent call last)",
      "\u001b[1;32m<ipython-input-14-f130c7e24c9d>\u001b[0m in \u001b[0;36m<module>\u001b[1;34m\u001b[0m\n\u001b[0;32m     19\u001b[0m \u001b[1;31m#adding stochiometric data and involved metabolites to new reactions to model the production of PHHx from (3R)-R-Hydroxyadipyl-CoA\u001b[0m\u001b[1;33m\u001b[0m\u001b[1;33m\u001b[0m\u001b[1;33m\u001b[0m\u001b[0m\n\u001b[0;32m     20\u001b[0m phaC_PHHx_r3hadpcoa_c.add_metabolites({R3_HADP_COA: -1,\n\u001b[1;32m---> 21\u001b[1;33m                                 \u001b[0mPHHx\u001b[0m\u001b[1;33m:\u001b[0m \u001b[1;36m1\u001b[0m\u001b[1;33m,\u001b[0m\u001b[1;33m\u001b[0m\u001b[1;33m\u001b[0m\u001b[0m\n\u001b[0m\u001b[0;32m     22\u001b[0m                                     model.metabolites.coa_c: 1,})\n\u001b[0;32m     23\u001b[0m \u001b[1;33m\u001b[0m\u001b[0m\n",
      "\u001b[1;31mNameError\u001b[0m: name 'PHHx' is not defined"
     ]
    }
   ],
   "source": [
    "#creation of R-epimers of (3S)-3-Hydroxyadipyl-CoA\n",
    "#ID is similar to S-epimer with addition of r\n",
    "#this time we also know molecular formula (addition of elements as dict does not work, but copy-pasting of formula from model.metabolites.ID-data does)\n",
    "R3_HADP_COA = Metabolite(id=\"r3hadpcoa_c\", compartment =\"c\", name =\"(3R)-R-Hydroxyadipyl-CoA\", formula = 'C27H44N7O20P3S')\n",
    "\n",
    "epimerase_3hadpcoa_c = Reaction('Epimerisation_of_S-Hydroxyadipyl-CoA')\n",
    "epimerase_3hadpcoa_c.name = \"Epimerisation of S-Hydroxyadipyl-CoA\"\n",
    "\n",
    "#adding stochiometric data and involved metabolites to new reaction to model the epimerisation\n",
    "epimerase_3hadpcoa_c.add_metabolites({model.metabolites.get_by_id(\"3hadpcoa_c\"): -1,\n",
    "                                model.metabolites.r3hbcoa_c: 1,})\n",
    "#adding the reaction to the model\n",
    "model.add_reactions([epimerase_3hadpcoa_c])\n",
    "\n",
    "#creating new reaction to model to produce medium-chain-length PHHx from (3R)-R-Hydroxyadipyl-CoA\n",
    "phaC_PHHx_r3hadpcoa_c = Reaction('phaC_PHHx_r3hadpcoa_c')\n",
    "phaC_PHHx_r3hadpcoa_c.name = 'mcl-Polyhydroxyalkanoate synthase for PHHx from (3R)-R-Hydroxyadipyl-CoA'\n",
    "\n",
    "#adding stochiometric data and involved metabolites to new reactions to model the production of PHHx from (3R)-R-Hydroxyadipyl-CoA\n",
    "phaC_PHHx_r3hadpcoa_c.add_metabolites({R3_HADP_COA: -1,\n",
    "                                PHHx: 1, \n",
    "                                    model.metabolites.coa_c: 1,})\n",
    "\n",
    "#adding the reaction to the model\n",
    "model.add_reactions([phaC_PHHx_r3hadpcoa_c])"
   ]
  },
  {
   "cell_type": "code",
   "execution_count": null,
   "id": "00a66a5c-8c05-413c-8252-6e26227ae2b9",
   "metadata": {},
   "outputs": [],
   "source": []
  }
 ],
 "metadata": {
  "kernelspec": {
   "display_name": "Python 3",
   "language": "python",
   "name": "python3"
  },
  "language_info": {
   "codemirror_mode": {
    "name": "ipython",
    "version": 3
   },
   "file_extension": ".py",
   "mimetype": "text/x-python",
   "name": "python",
   "nbconvert_exporter": "python",
   "pygments_lexer": "ipython3",
   "version": "3.8.8"
  }
 },
 "nbformat": 4,
 "nbformat_minor": 5
}
