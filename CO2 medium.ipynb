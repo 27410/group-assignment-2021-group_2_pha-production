{
 "cells": [
  {
   "cell_type": "code",
   "execution_count": 1,
   "id": "8b9ddb77-6b9b-4bcc-9e0a-dc786065d63d",
   "metadata": {},
   "outputs": [],
   "source": [
    "import cobra.test\n",
    "import os\n",
    "from os.path import join\n",
    "from cobra.io import read_sbml_model\n",
    "model = cobra.io.load_json_model(join(\"RehMBEL1391_sbml_L3V1.json\"))\n",
    "from cobra import Model, Reaction, Metabolite"
   ]
  },
  {
   "cell_type": "code",
   "execution_count": 2,
   "id": "123766a9-e1c2-4d15-8cf0-6b7184df8ea9",
   "metadata": {},
   "outputs": [
    {
     "data": {
      "text/plain": [
       "{'EX_fe2_e': 10.0,\n",
       " 'EX_mg2_e': 10.0,\n",
       " 'EX_pi_e': 100.0,\n",
       " 'EX_cobalt2_e': 10.0,\n",
       " 'EX_cl_e': 10.0,\n",
       " 'EX_k_e': 10.0,\n",
       " 'EX_fe3_e': 10.0,\n",
       " 'EX_so4_e': 10.0,\n",
       " 'EX_fru_e': 3.0,\n",
       " 'EX_nh4_e': 10.0,\n",
       " 'EX_na_e': 10.0,\n",
       " 'EX_o2_e': 18.5,\n",
       " 'EX_mobd_e': 10.0,\n",
       " 'EX_h2o_e': 1000.0,\n",
       " 'EX_h_e': 100.0}"
      ]
     },
     "execution_count": 2,
     "metadata": {},
     "output_type": "execute_result"
    }
   ],
   "source": [
    "model.medium"
   ]
  },
  {
   "cell_type": "code",
   "execution_count": 3,
   "id": "4999e161-9195-4c95-a647-d1018ac60be1",
   "metadata": {},
   "outputs": [
    {
     "data": {
      "text/html": [
       "<strong><em>Optimal</em> solution with objective value 0.285</strong><br><div>\n",
       "<style scoped>\n",
       "    .dataframe tbody tr th:only-of-type {\n",
       "        vertical-align: middle;\n",
       "    }\n",
       "\n",
       "    .dataframe tbody tr th {\n",
       "        vertical-align: top;\n",
       "    }\n",
       "\n",
       "    .dataframe thead th {\n",
       "        text-align: right;\n",
       "    }\n",
       "</style>\n",
       "<table border=\"1\" class=\"dataframe\">\n",
       "  <thead>\n",
       "    <tr style=\"text-align: right;\">\n",
       "      <th></th>\n",
       "      <th>fluxes</th>\n",
       "      <th>reduced_costs</th>\n",
       "    </tr>\n",
       "  </thead>\n",
       "  <tbody>\n",
       "    <tr>\n",
       "      <th>EX_gln__L_e</th>\n",
       "      <td>0.000000</td>\n",
       "      <td>-1.636524e-01</td>\n",
       "    </tr>\n",
       "    <tr>\n",
       "      <th>EX_galctn__D_e</th>\n",
       "      <td>0.000000</td>\n",
       "      <td>0.000000e+00</td>\n",
       "    </tr>\n",
       "    <tr>\n",
       "      <th>EX_c140_e</th>\n",
       "      <td>0.000000</td>\n",
       "      <td>-5.772063e-01</td>\n",
       "    </tr>\n",
       "    <tr>\n",
       "      <th>EX_15dap_e</th>\n",
       "      <td>0.000000</td>\n",
       "      <td>0.000000e+00</td>\n",
       "    </tr>\n",
       "    <tr>\n",
       "      <th>EX_3hbenzot_e</th>\n",
       "      <td>0.000000</td>\n",
       "      <td>-1.658639e-01</td>\n",
       "    </tr>\n",
       "    <tr>\n",
       "      <th>...</th>\n",
       "      <td>...</td>\n",
       "      <td>...</td>\n",
       "    </tr>\n",
       "    <tr>\n",
       "      <th>THZPSN</th>\n",
       "      <td>0.003577</td>\n",
       "      <td>-4.857226e-17</td>\n",
       "    </tr>\n",
       "    <tr>\n",
       "      <th>MTHF3ES_c</th>\n",
       "      <td>0.000000</td>\n",
       "      <td>-6.938894e-17</td>\n",
       "    </tr>\n",
       "    <tr>\n",
       "      <th>HYDS</th>\n",
       "      <td>0.000127</td>\n",
       "      <td>-2.081668e-17</td>\n",
       "    </tr>\n",
       "    <tr>\n",
       "      <th>EX_h2_e</th>\n",
       "      <td>0.000000</td>\n",
       "      <td>-1.548063e-02</td>\n",
       "    </tr>\n",
       "    <tr>\n",
       "      <th>H2td</th>\n",
       "      <td>0.000000</td>\n",
       "      <td>0.000000e+00</td>\n",
       "    </tr>\n",
       "  </tbody>\n",
       "</table>\n",
       "<p>1538 rows × 2 columns</p>\n",
       "</div>"
      ],
      "text/plain": [
       "<Solution 0.285 at 0x7fa2ac6f8f70>"
      ]
     },
     "execution_count": 3,
     "metadata": {},
     "output_type": "execute_result"
    }
   ],
   "source": [
    "model.optimize()"
   ]
  },
  {
   "cell_type": "code",
   "execution_count": null,
   "id": "31484680-1287-434b-bf96-9d5cf464133d",
   "metadata": {},
   "outputs": [],
   "source": []
  },
  {
   "cell_type": "code",
   "execution_count": 4,
   "id": "60f4f159-b765-4fc0-9dfd-d9bd27774abd",
   "metadata": {},
   "outputs": [],
   "source": [
    "rubisco = Reaction('r_rubisco')\n",
    "rubisco.name = 'CO2 assimilation by CBB cycle'\n",
    "rubisco.subsystem = 'CBB cycle'\n",
    "\n"
   ]
  },
  {
   "cell_type": "code",
   "execution_count": 5,
   "id": "82c9bf2a-23aa-4719-87c2-34d21ed8f796",
   "metadata": {},
   "outputs": [],
   "source": [
    "co2_e = Metabolite(\n",
    "    'co2_e',\n",
    "    formula= 'co2',\n",
    "    name= 'Carbon dioxide',\n",
    "    compartment= 'e')\n"
   ]
  },
  {
   "cell_type": "code",
   "execution_count": null,
   "id": "012aafea-e1ca-4a21-935e-7d0153427875",
   "metadata": {},
   "outputs": [],
   "source": []
  },
  {
   "cell_type": "code",
   "execution_count": 6,
   "id": "2ad1ae76-b3b3-460d-a73c-47b8ee23c699",
   "metadata": {
    "tags": []
   },
   "outputs": [
    {
     "data": {
      "text/plain": [
       "'co2_e + rb15bp_c --> 3pg_c'"
      ]
     },
     "execution_count": 6,
     "metadata": {},
     "output_type": "execute_result"
    }
   ],
   "source": [
    "rubisco.add_metabolites({\n",
    "    co2_e: -1.0,\n",
    "    model.metabolites.rb15bp_c: -1.0,\n",
    "    model.metabolites.get_by_id('3pg_c'): 1.0,\n",
    "})\n",
    "rubisco.reaction\n"
   ]
  },
  {
   "cell_type": "code",
   "execution_count": 7,
   "id": "ce8bc032-b7a8-4652-9ccf-58a48083cf77",
   "metadata": {
    "tags": []
   },
   "outputs": [],
   "source": [
    "model.add_reactions([rubisco])"
   ]
  },
  {
   "cell_type": "code",
   "execution_count": 8,
   "id": "d917075e-d388-41dd-8e18-a047a38be1e5",
   "metadata": {
    "tags": []
   },
   "outputs": [
    {
     "data": {
      "text/html": [
       "\n",
       "        <table>\n",
       "            <tr>\n",
       "                <td><strong>Reaction identifier</strong></td><td>r_rubisco</td>\n",
       "            </tr><tr>\n",
       "                <td><strong>Name</strong></td><td>CO2 assimilation by CBB cycle</td>\n",
       "            </tr><tr>\n",
       "                <td><strong>Memory address</strong></td>\n",
       "                <td>0x07fa2aca82250</td>\n",
       "            </tr><tr>\n",
       "                <td><strong>Stoichiometry</strong></td>\n",
       "                <td>\n",
       "                    <p style='text-align:right'>co2_e + rb15bp_c --> 3pg_c</p>\n",
       "                    <p style='text-align:right'>CO2 + Ribulose-1,5-bisphosphate --> 3-Phospho-D-glycerate</p>\n",
       "                </td>\n",
       "            </tr><tr>\n",
       "                <td><strong>GPR</strong></td><td></td>\n",
       "            </tr><tr>\n",
       "                <td><strong>Lower bound</strong></td><td>0.0</td>\n",
       "            </tr><tr>\n",
       "                <td><strong>Upper bound</strong></td><td>1000.0</td>\n",
       "            </tr>\n",
       "        </table>\n",
       "        "
      ],
      "text/plain": [
       "<Reaction r_rubisco at 0x7fa2aca82250>"
      ]
     },
     "execution_count": 8,
     "metadata": {},
     "output_type": "execute_result"
    }
   ],
   "source": [
    "model.reactions.get_by_id('r_rubisco')"
   ]
  },
  {
   "cell_type": "code",
   "execution_count": 9,
   "id": "afa14e47-cbfa-424e-8e84-76cf1445ea83",
   "metadata": {},
   "outputs": [
    {
     "data": {
      "text/html": [
       "\n",
       "        <table>\n",
       "            <tr>\n",
       "                <td><strong>Reaction identifier</strong></td><td>SK_3pg_c</td>\n",
       "            </tr><tr>\n",
       "                <td><strong>Name</strong></td><td>3-Phospho-D-glycerate sink</td>\n",
       "            </tr><tr>\n",
       "                <td><strong>Memory address</strong></td>\n",
       "                <td>0x07fa2aca82d90</td>\n",
       "            </tr><tr>\n",
       "                <td><strong>Stoichiometry</strong></td>\n",
       "                <td>\n",
       "                    <p style='text-align:right'>3pg_c <=></p>\n",
       "                    <p style='text-align:right'>3-Phospho-D-glycerate <=></p>\n",
       "                </td>\n",
       "            </tr><tr>\n",
       "                <td><strong>GPR</strong></td><td></td>\n",
       "            </tr><tr>\n",
       "                <td><strong>Lower bound</strong></td><td>-1000.0</td>\n",
       "            </tr><tr>\n",
       "                <td><strong>Upper bound</strong></td><td>1000.0</td>\n",
       "            </tr>\n",
       "        </table>\n",
       "        "
      ],
      "text/plain": [
       "<Reaction SK_3pg_c at 0x7fa2aca82d90>"
      ]
     },
     "execution_count": 9,
     "metadata": {},
     "output_type": "execute_result"
    }
   ],
   "source": [
    "model.add_boundary(model.metabolites.get_by_id(\"3pg_c\"), type=\"sink\")"
   ]
  },
  {
   "cell_type": "code",
   "execution_count": 10,
   "id": "9f8e3b36-fcbc-479e-8105-e9502d68f829",
   "metadata": {
    "tags": []
   },
   "outputs": [
    {
     "data": {
      "text/plain": [
       "{'EX_fe2_e': 10.0,\n",
       " 'EX_mg2_e': 10.0,\n",
       " 'EX_pi_e': 100.0,\n",
       " 'EX_cobalt2_e': 10.0,\n",
       " 'EX_cl_e': 10.0,\n",
       " 'EX_k_e': 10.0,\n",
       " 'EX_fe3_e': 10.0,\n",
       " 'EX_so4_e': 10.0,\n",
       " 'EX_fru_e': 3.0,\n",
       " 'EX_nh4_e': 10.0,\n",
       " 'EX_na_e': 10.0,\n",
       " 'EX_o2_e': 18.5,\n",
       " 'EX_mobd_e': 10.0,\n",
       " 'EX_h2o_e': 1000.0,\n",
       " 'EX_h_e': 100.0}"
      ]
     },
     "execution_count": 10,
     "metadata": {},
     "output_type": "execute_result"
    }
   ],
   "source": [
    "model.medium"
   ]
  },
  {
   "cell_type": "code",
   "execution_count": 11,
   "id": "8fdaae51-2d21-45bb-b3b2-6f9e82b72e23",
   "metadata": {},
   "outputs": [],
   "source": [
    "medium = model.medium\n",
    "medium['EX_co2_e'] = 20\n",
    "medium['EX_fru_e'] = 0\n",
    "model.medium = medium \n",
    "   "
   ]
  },
  {
   "cell_type": "code",
   "execution_count": 12,
   "id": "0c56a093-f7dd-43a4-92bd-4bd8f25d9740",
   "metadata": {},
   "outputs": [
    {
     "data": {
      "text/plain": [
       "{'EX_fe2_e': 10.0,\n",
       " 'EX_mg2_e': 10.0,\n",
       " 'EX_pi_e': 100.0,\n",
       " 'EX_cobalt2_e': 10.0,\n",
       " 'EX_cl_e': 10.0,\n",
       " 'EX_k_e': 10.0,\n",
       " 'EX_fe3_e': 10.0,\n",
       " 'EX_so4_e': 10.0,\n",
       " 'EX_nh4_e': 10.0,\n",
       " 'EX_co2_e': 20,\n",
       " 'EX_na_e': 10.0,\n",
       " 'EX_o2_e': 18.5,\n",
       " 'EX_mobd_e': 10.0,\n",
       " 'EX_h2o_e': 1000.0,\n",
       " 'EX_h_e': 100.0}"
      ]
     },
     "execution_count": 12,
     "metadata": {},
     "output_type": "execute_result"
    }
   ],
   "source": [
    "model.medium"
   ]
  },
  {
   "cell_type": "code",
   "execution_count": 13,
   "id": "4fbb4cdd-0a3f-4757-8c6e-75b6030d8f78",
   "metadata": {},
   "outputs": [
    {
     "name": "stdout",
     "output_type": "stream",
     "text": [
      "The current theoretical maximum biomass productivity: 0.9391338434301458 h\n"
     ]
    }
   ],
   "source": [
    "solution= model.optimize()\n",
    "print('The current theoretical maximum biomass productivity:', solution.fluxes['EX_BIOMASS_c'], 'h')"
   ]
  },
  {
   "cell_type": "code",
   "execution_count": 14,
   "id": "fcb916d5-5d60-4250-857a-8683a6502338",
   "metadata": {},
   "outputs": [
    {
     "name": "stdout",
     "output_type": "stream",
     "text": [
      "The current maximum theoretical productivity for making PHB: 424.24999999999443 mmol/gDW*h\n"
     ]
    }
   ],
   "source": [
    "model.objective = model.reactions.EX_pbhb_e\n",
    "phb_production=model.optimize().objective_value\n",
    "print('The current maximum theoretical productivity for making PHB:', phb_production , 'mmol/gDW*h')"
   ]
  },
  {
   "cell_type": "code",
   "execution_count": 16,
   "id": "69891c23-3500-4dc7-8f6d-51ca3d64df7f",
   "metadata": {},
   "outputs": [
    {
     "data": {
      "text/html": [
       "<h3>Objective</h3><p>1.0 EX_pbhb_e = 424.24999999999443</p><h4>Uptake</h4><table border=\"1\" class=\"dataframe\">\n",
       "  <thead>\n",
       "    <tr style=\"text-align: right;\">\n",
       "      <th>Metabolite</th>\n",
       "      <th>Reaction</th>\n",
       "      <th>Flux</th>\n",
       "      <th>C-Number</th>\n",
       "      <th>C-Flux</th>\n",
       "    </tr>\n",
       "  </thead>\n",
       "  <tbody>\n",
       "    <tr>\n",
       "      <td>h2o_e</td>\n",
       "      <td>EX_h2o_e</td>\n",
       "      <td>172.5</td>\n",
       "      <td>0</td>\n",
       "      <td>0.00%</td>\n",
       "    </tr>\n",
       "    <tr>\n",
       "      <td>h_e</td>\n",
       "      <td>EX_h_e</td>\n",
       "      <td>100</td>\n",
       "      <td>0</td>\n",
       "      <td>0.00%</td>\n",
       "    </tr>\n",
       "    <tr>\n",
       "      <td>nh4_e</td>\n",
       "      <td>EX_nh4_e</td>\n",
       "      <td>10</td>\n",
       "      <td>0</td>\n",
       "      <td>0.00%</td>\n",
       "    </tr>\n",
       "    <tr>\n",
       "      <td>o2_e</td>\n",
       "      <td>EX_o2_e</td>\n",
       "      <td>18.5</td>\n",
       "      <td>0</td>\n",
       "      <td>0.00%</td>\n",
       "    </tr>\n",
       "    <tr>\n",
       "      <td>3pg_c</td>\n",
       "      <td>SK_3pg_c</td>\n",
       "      <td>1000</td>\n",
       "      <td>3</td>\n",
       "      <td>100.00%</td>\n",
       "    </tr>\n",
       "  </tbody>\n",
       "</table><h4>Secretion</h4><table border=\"1\" class=\"dataframe\">\n",
       "  <thead>\n",
       "    <tr style=\"text-align: right;\">\n",
       "      <th>Metabolite</th>\n",
       "      <th>Reaction</th>\n",
       "      <th>Flux</th>\n",
       "      <th>C-Number</th>\n",
       "      <th>C-Flux</th>\n",
       "    </tr>\n",
       "  </thead>\n",
       "  <tbody>\n",
       "    <tr>\n",
       "      <td>co2_e</td>\n",
       "      <td>EX_co2_e</td>\n",
       "      <td>-326.5</td>\n",
       "      <td>1</td>\n",
       "      <td>25.06%</td>\n",
       "    </tr>\n",
       "    <tr>\n",
       "      <td>for_e</td>\n",
       "      <td>EX_formate_e</td>\n",
       "      <td>-739.5</td>\n",
       "      <td>1</td>\n",
       "      <td>56.75%</td>\n",
       "    </tr>\n",
       "    <tr>\n",
       "      <td>gua_e</td>\n",
       "      <td>EX_gn_e</td>\n",
       "      <td>-2</td>\n",
       "      <td>5</td>\n",
       "      <td>0.77%</td>\n",
       "    </tr>\n",
       "    <tr>\n",
       "      <td>phb_e</td>\n",
       "      <td>EX_pbhb_e</td>\n",
       "      <td>-424.2</td>\n",
       "      <td>0</td>\n",
       "      <td>0.00%</td>\n",
       "    </tr>\n",
       "    <tr>\n",
       "      <td>pi_e</td>\n",
       "      <td>EX_pi_e</td>\n",
       "      <td>-1000</td>\n",
       "      <td>0</td>\n",
       "      <td>0.00%</td>\n",
       "    </tr>\n",
       "    <tr>\n",
       "      <td>succ_e</td>\n",
       "      <td>EX_succ_e</td>\n",
       "      <td>-56.75</td>\n",
       "      <td>4</td>\n",
       "      <td>17.42%</td>\n",
       "    </tr>\n",
       "  </tbody>\n",
       "</table>"
      ],
      "text/plain": [
       "<cobra.summary.model_summary.ModelSummary at 0x7fa2aca82f10>"
      ]
     },
     "execution_count": 16,
     "metadata": {},
     "output_type": "execute_result"
    }
   ],
   "source": [
    "model.summary()"
   ]
  },
  {
   "cell_type": "code",
   "execution_count": null,
   "id": "9fa39c87-2cd2-4d91-ba73-a09e6fe9cc2f",
   "metadata": {},
   "outputs": [],
   "source": []
  },
  {
   "cell_type": "code",
   "execution_count": null,
   "id": "14b3bf84-0381-40a0-8c4b-485c3c26058e",
   "metadata": {},
   "outputs": [],
   "source": []
  }
 ],
 "metadata": {
  "kernelspec": {
   "display_name": "Python 3",
   "language": "python",
   "name": "python3"
  },
  "language_info": {
   "codemirror_mode": {
    "name": "ipython",
    "version": 3
   },
   "file_extension": ".py",
   "mimetype": "text/x-python",
   "name": "python",
   "nbconvert_exporter": "python",
   "pygments_lexer": "ipython3",
   "version": "3.8.8"
  }
 },
 "nbformat": 4,
 "nbformat_minor": 5
}
