{
 "cells": [
  {
   "cell_type": "code",
   "execution_count": 93,
   "metadata": {},
   "outputs": [],
   "source": [
    "import cobra.test\n",
    "import os\n",
    "from os.path import join\n",
    "from cobra.io import read_sbml_model\n",
    "model = cobra.io.load_json_model(join(\"RehMBEL1391_sbml_L3V1.json\"))\n",
    "from cobra import Model, Reaction, Metabolite"
   ]
  },
  {
   "cell_type": "markdown",
   "metadata": {},
   "source": [
    "# Adding D-glucose to the medium and cheching out other C-sources"
   ]
  },
  {
   "cell_type": "markdown",
   "metadata": {},
   "source": [
    "The model we are using has D-fructorse as carbon source."
   ]
  },
  {
   "cell_type": "markdown",
   "metadata": {},
   "source": [
    "## Standard medium content of the model"
   ]
  },
  {
   "cell_type": "code",
   "execution_count": 94,
   "metadata": {},
   "outputs": [
    {
     "data": {
      "text/plain": [
       "{'EX_fe2_e': 10.0,\n",
       " 'EX_mg2_e': 10.0,\n",
       " 'EX_pi_e': 100.0,\n",
       " 'EX_cobalt2_e': 10.0,\n",
       " 'EX_cl_e': 10.0,\n",
       " 'EX_k_e': 10.0,\n",
       " 'EX_fe3_e': 10.0,\n",
       " 'EX_so4_e': 10.0,\n",
       " 'EX_fru_e': 3.0,\n",
       " 'EX_nh4_e': 10.0,\n",
       " 'EX_na_e': 10.0,\n",
       " 'EX_o2_e': 18.5,\n",
       " 'EX_mobd_e': 10.0,\n",
       " 'EX_h2o_e': 1000.0,\n",
       " 'EX_h_e': 100.0}"
      ]
     },
     "execution_count": 94,
     "metadata": {},
     "output_type": "execute_result"
    }
   ],
   "source": [
    "model.medium"
   ]
  },
  {
   "cell_type": "markdown",
   "metadata": {},
   "source": [
    "Taking a look at the fluxes"
   ]
  },
  {
   "cell_type": "code",
   "execution_count": 95,
   "metadata": {},
   "outputs": [
    {
     "data": {
      "text/html": [
       "<h3>Objective</h3><p>1.0 Biomass = 0.2852858664276789</p><h4>Uptake</h4><table border=\"1\" class=\"dataframe\">\n",
       "  <thead>\n",
       "    <tr style=\"text-align: right;\">\n",
       "      <th>Metabolite</th>\n",
       "      <th>Reaction</th>\n",
       "      <th>Flux</th>\n",
       "      <th>C-Number</th>\n",
       "      <th>C-Flux</th>\n",
       "    </tr>\n",
       "  </thead>\n",
       "  <tbody>\n",
       "    <tr>\n",
       "      <td>fe2_e</td>\n",
       "      <td>EX_fe2_e</td>\n",
       "      <td>6.333E-05</td>\n",
       "      <td>0</td>\n",
       "      <td>0.00%</td>\n",
       "    </tr>\n",
       "    <tr>\n",
       "      <td>fru_e</td>\n",
       "      <td>EX_fru_e</td>\n",
       "      <td>3</td>\n",
       "      <td>6</td>\n",
       "      <td>100.00%</td>\n",
       "    </tr>\n",
       "    <tr>\n",
       "      <td>h_e</td>\n",
       "      <td>EX_h_e</td>\n",
       "      <td>10.72</td>\n",
       "      <td>0</td>\n",
       "      <td>0.00%</td>\n",
       "    </tr>\n",
       "    <tr>\n",
       "      <td>nh4_e</td>\n",
       "      <td>EX_nh4_e</td>\n",
       "      <td>3.038</td>\n",
       "      <td>0</td>\n",
       "      <td>0.00%</td>\n",
       "    </tr>\n",
       "    <tr>\n",
       "      <td>o2_e</td>\n",
       "      <td>EX_o2_e</td>\n",
       "      <td>5.734</td>\n",
       "      <td>0</td>\n",
       "      <td>0.00%</td>\n",
       "    </tr>\n",
       "    <tr>\n",
       "      <td>pi_e</td>\n",
       "      <td>EX_pi_e</td>\n",
       "      <td>7.987</td>\n",
       "      <td>0</td>\n",
       "      <td>0.00%</td>\n",
       "    </tr>\n",
       "    <tr>\n",
       "      <td>so4_e</td>\n",
       "      <td>EX_so4_e</td>\n",
       "      <td>0.05797</td>\n",
       "      <td>0</td>\n",
       "      <td>0.00%</td>\n",
       "    </tr>\n",
       "  </tbody>\n",
       "</table><h4>Secretion</h4><table border=\"1\" class=\"dataframe\">\n",
       "  <thead>\n",
       "    <tr style=\"text-align: right;\">\n",
       "      <th>Metabolite</th>\n",
       "      <th>Reaction</th>\n",
       "      <th>Flux</th>\n",
       "      <th>C-Number</th>\n",
       "      <th>C-Flux</th>\n",
       "    </tr>\n",
       "  </thead>\n",
       "  <tbody>\n",
       "    <tr>\n",
       "      <td>BIOMASS_c</td>\n",
       "      <td>EX_BIOMASS_c</td>\n",
       "      <td>-0.2853</td>\n",
       "      <td>0</td>\n",
       "      <td>0.00%</td>\n",
       "    </tr>\n",
       "    <tr>\n",
       "      <td>co2_e</td>\n",
       "      <td>EX_co2_e</td>\n",
       "      <td>-6.151</td>\n",
       "      <td>1</td>\n",
       "      <td>100.00%</td>\n",
       "    </tr>\n",
       "    <tr>\n",
       "      <td>h2o_e</td>\n",
       "      <td>EX_h2o_e</td>\n",
       "      <td>-23.87</td>\n",
       "      <td>0</td>\n",
       "      <td>0.00%</td>\n",
       "    </tr>\n",
       "  </tbody>\n",
       "</table>"
      ],
      "text/plain": [
       "<cobra.summary.model_summary.ModelSummary at 0x16ea5722be0>"
      ]
     },
     "execution_count": 95,
     "metadata": {},
     "output_type": "execute_result"
    }
   ],
   "source": [
    "model.summary()"
   ]
  },
  {
   "cell_type": "code",
   "execution_count": 96,
   "metadata": {},
   "outputs": [],
   "source": [
    "#model.objective = model.reactions.EX_BIOMASS_c #klipp ut snart\n",
    "#print(model.optimize().objective_value)"
   ]
  },
  {
   "cell_type": "markdown",
   "metadata": {},
   "source": [
    "The fluxes when we change the objective. We want to make bioplastic:"
   ]
  },
  {
   "cell_type": "code",
   "execution_count": 97,
   "metadata": {},
   "outputs": [],
   "source": [
    "model.objective = model.reactions.EX_pbhb_e"
   ]
  },
  {
   "cell_type": "code",
   "execution_count": 98,
   "metadata": {},
   "outputs": [
    {
     "data": {
      "text/html": [
       "<h3>Objective</h3><p>1.0 EX_pbhb_e = 3.762711864406771</p><h4>Uptake</h4><table border=\"1\" class=\"dataframe\">\n",
       "  <thead>\n",
       "    <tr style=\"text-align: right;\">\n",
       "      <th>Metabolite</th>\n",
       "      <th>Reaction</th>\n",
       "      <th>Flux</th>\n",
       "      <th>C-Number</th>\n",
       "      <th>C-Flux</th>\n",
       "    </tr>\n",
       "  </thead>\n",
       "  <tbody>\n",
       "    <tr>\n",
       "      <td>fru_e</td>\n",
       "      <td>EX_fru_e</td>\n",
       "      <td>3</td>\n",
       "      <td>6</td>\n",
       "      <td>100.00%</td>\n",
       "    </tr>\n",
       "    <tr>\n",
       "      <td>o2_e</td>\n",
       "      <td>EX_o2_e</td>\n",
       "      <td>1.068</td>\n",
       "      <td>0</td>\n",
       "      <td>0.00%</td>\n",
       "    </tr>\n",
       "  </tbody>\n",
       "</table><h4>Secretion</h4><table border=\"1\" class=\"dataframe\">\n",
       "  <thead>\n",
       "    <tr style=\"text-align: right;\">\n",
       "      <th>Metabolite</th>\n",
       "      <th>Reaction</th>\n",
       "      <th>Flux</th>\n",
       "      <th>C-Number</th>\n",
       "      <th>C-Flux</th>\n",
       "    </tr>\n",
       "  </thead>\n",
       "  <tbody>\n",
       "    <tr>\n",
       "      <td>co2_e</td>\n",
       "      <td>EX_co2_e</td>\n",
       "      <td>-2.949</td>\n",
       "      <td>1</td>\n",
       "      <td>100.00%</td>\n",
       "    </tr>\n",
       "    <tr>\n",
       "      <td>h2o_e</td>\n",
       "      <td>EX_h2o_e</td>\n",
       "      <td>-6.712</td>\n",
       "      <td>0</td>\n",
       "      <td>0.00%</td>\n",
       "    </tr>\n",
       "    <tr>\n",
       "      <td>phb_e</td>\n",
       "      <td>EX_pbhb_e</td>\n",
       "      <td>-3.763</td>\n",
       "      <td>0</td>\n",
       "      <td>0.00%</td>\n",
       "    </tr>\n",
       "  </tbody>\n",
       "</table>"
      ],
      "text/plain": [
       "<cobra.summary.model_summary.ModelSummary at 0x16ea4294610>"
      ]
     },
     "execution_count": 98,
     "metadata": {},
     "output_type": "execute_result"
    }
   ],
   "source": [
    "model.summary()"
   ]
  },
  {
   "cell_type": "markdown",
   "metadata": {},
   "source": [
    "#### Trying to include D-glucose in the medium and look at the bimass and production of PHB."
   ]
  },
  {
   "cell_type": "markdown",
   "metadata": {},
   "source": [
    "With the current medium with fructose, the biomass, productivity and yeald of phb:"
   ]
  },
  {
   "cell_type": "code",
   "execution_count": 117,
   "metadata": {},
   "outputs": [
    {
     "name": "stdout",
     "output_type": "stream",
     "text": [
      "Objective\n",
      "=========\n",
      "1.0 EX_BIOMASS_c = 0.28528586642770837\n",
      "\n",
      "Uptake\n",
      "------\n",
      "Metabolite  Reaction      Flux  C-Number   C-Flux\n",
      "     fe2_e  EX_fe2_e 6.333E-05         0    0.00%\n",
      "     fru_e  EX_fru_e         3         6  100.00%\n",
      "       h_e    EX_h_e     10.72         0    0.00%\n",
      "     nh4_e  EX_nh4_e     3.038         0    0.00%\n",
      "      o2_e   EX_o2_e     5.734         0    0.00%\n",
      "      pi_e   EX_pi_e     7.987         0    0.00%\n",
      "     so4_e  EX_so4_e   0.05797         0    0.00%\n",
      "\n",
      "Secretion\n",
      "---------\n",
      "Metabolite      Reaction    Flux  C-Number   C-Flux\n",
      " BIOMASS_c  EX_BIOMASS_c -0.2853         0    0.00%\n",
      "     co2_e      EX_co2_e  -6.151         1  100.00%\n",
      "     h2o_e      EX_h2o_e  -23.87         0    0.00%\n",
      "\n",
      "The current theoretical maximum biomass productivity: 0.28528586642770826 h\n",
      "----------------\n",
      "The maximum theoretical productivity for making PHB: 3.762711864406772 mmol/gDW*h\n",
      "----------------\n",
      "Maximum theoretical yield = 1.2542372881355905 mmol phb/mmol fructose\n"
     ]
    }
   ],
   "source": [
    "with model:\n",
    "    medium = model.medium\n",
    "    medium['EX_fru_e'] = 3\n",
    "    #print(medium)\n",
    "    model.medium = medium\n",
    "    \n",
    "    model.objective = model.reactions.EX_BIOMASS_c\n",
    "    solution=model.optimize()\n",
    "    print(model.summary())\n",
    "    print('The current theoretical maximum biomass productivity:', solution.fluxes['EX_BIOMASS_c'], 'h')\n",
    "    fruBM=solution.fluxes['EX_BIOMASS_c']\n",
    "    print('----------------')\n",
    "    model.objective = model.reactions.EX_pbhb_e\n",
    "    phb_production=model.optimize().objective_value\n",
    "    solution= model.optimize()\n",
    "    print('The maximum theoretical productivity for making PHB:', phb_production , 'mmol/gDW*h')\n",
    "    fruPHB=phb_production\n",
    "    print('----------------')\n",
    "    maximum_yield = phb_production / (-1*(model.reactions.EX_fru_e.flux))\n",
    "    print('Maximum theoretical yield =', maximum_yield, 'mmol phb/mmol fructose') \n",
    "    fruYLD=maximum_yield\n",
    "    fruData=[fruBM.round(3), round(fruPHB,3),round(fruYLD,3)]"
   ]
  },
  {
   "cell_type": "markdown",
   "metadata": {},
   "source": [
    "### From the ilittereature we know R.eutropha can grow anarobically. But it seems like our model can not:"
   ]
  },
  {
   "cell_type": "code",
   "execution_count": null,
   "metadata": {},
   "outputs": [],
   "source": [
    "with model:\n",
    "    medium = model.medium\n",
    "    medium['EX_o2_e'] = 0\n",
    "    print(medium)\n",
    "    model.medium=medium\n",
    "\n",
    "    model.objective = model.reactions.EX_BIOMASS_c\n",
    "    solution=model.optimize()\n",
    "    solution= model.optimize()\n",
    "    print(model.summary())\n",
    "    \n",
    "    print('The current theoretical maximum biomass productivity:', solution.fluxes['EX_BIOMASS_c'], 'h')\n",
    "    print('----------------')\n",
    "    \n",
    "    model.objective = model.reactions.EX_pbhb_e\n",
    "    phb_production=model.optimize().objective_value\n",
    "    print('The current maximum theoretical productivity for making PHB:', phb_production , 'mmol/gDW*h')\n",
    "    print('----------------')\n",
    "    \n",
    "    maximum_yield = phb_production / (-1*(model.reactions.EX_fru_e.flux))\n",
    "    print('Maximum theoretical yield =', maximum_yield, 'mmol phb/mmol Fructose')\n",
    "    print(model.summary())"
   ]
  },
  {
   "cell_type": "markdown",
   "metadata": {},
   "source": [
    "### Our model contains also exchangereactions for succinate, fumarate and pyruvate. We are checking out the yealds for growing on these C-sourses. \n"
   ]
  },
  {
   "cell_type": "code",
   "execution_count": 118,
   "metadata": {},
   "outputs": [
    {
     "name": "stdout",
     "output_type": "stream",
     "text": [
      "{'EX_fe2_e': 10.0, 'EX_mg2_e': 10.0, 'EX_pi_e': 100.0, 'EX_cobalt2_e': 10.0, 'EX_cl_e': 10.0, 'EX_k_e': 10.0, 'EX_fe3_e': 10.0, 'EX_so4_e': 10.0, 'EX_fru_e': 0, 'EX_nh4_e': 10.0, 'EX_na_e': 10.0, 'EX_o2_e': 18.5, 'EX_mobd_e': 10.0, 'EX_h2o_e': 1000.0, 'EX_h_e': 100.0, 'EX_succ_e': 3}\n",
      "Objective\n",
      "=========\n",
      "1.0 EX_BIOMASS_c = 0.16029975296619808\n",
      "\n",
      "Uptake\n",
      "------\n",
      "Metabolite   Reaction      Flux  C-Number   C-Flux\n",
      "     fe2_e   EX_fe2_e 3.559E-05         0    0.00%\n",
      "       h_e     EX_h_e     11.32         0    0.00%\n",
      "     nh4_e   EX_nh4_e     1.707         0    0.00%\n",
      "      o2_e    EX_o2_e     3.608         0    0.00%\n",
      "      pi_e    EX_pi_e     4.488         0    0.00%\n",
      "     so4_e   EX_so4_e   0.03257         0    0.00%\n",
      "    succ_e  EX_succ_e         3         4  100.00%\n",
      "\n",
      "Secretion\n",
      "---------\n",
      "Metabolite      Reaction    Flux  C-Number   C-Flux\n",
      " BIOMASS_c  EX_BIOMASS_c -0.1603         0    0.00%\n",
      "     co2_e      EX_co2_e  -5.342         1  100.00%\n",
      "     h2o_e      EX_h2o_e   -12.3         0    0.00%\n",
      "\n",
      "The theoretical maximum biomass productivity: 0.16029975296619817 h\n",
      "----------------\n",
      "The maximum theoretical productivity for making PHB: 1.9363636363636223 mmol/gDW*h\n",
      "----------------\n",
      "Maximum theoretical yield = 0.6454545454545407 mmol phb/mmol Succinate\n",
      "Objective\n",
      "=========\n",
      "1.0 EX_pbhb_e = 1.9363636363636223\n",
      "\n",
      "Uptake\n",
      "------\n",
      "Metabolite   Reaction  Flux  C-Number   C-Flux\n",
      "       h_e     EX_h_e     6         0    0.00%\n",
      "      o2_e    EX_o2_e 1.786         0    0.00%\n",
      "    succ_e  EX_succ_e     3         4  100.00%\n",
      "\n",
      "Secretion\n",
      "---------\n",
      "Metabolite   Reaction   Flux  C-Number   C-Flux\n",
      "     co2_e   EX_co2_e -4.255         1  100.00%\n",
      "     h2o_e   EX_h2o_e -3.191         0    0.00%\n",
      "     phb_e  EX_pbhb_e -1.936         0    0.00%\n",
      "\n"
     ]
    }
   ],
   "source": [
    "with model:\n",
    "    medium = model.medium\n",
    "    medium['EX_fru_e'] = 0\n",
    "    medium['EX_succ_e'] = 3\n",
    "    print(medium)\n",
    "    model.medium=medium\n",
    "    \n",
    "    model.objective = model.reactions.EX_BIOMASS_c\n",
    "    solution=model.optimize()\n",
    "    solution= model.optimize()\n",
    "    print(model.summary())\n",
    "    \n",
    "    print('The theoretical maximum biomass productivity:', solution.fluxes['EX_BIOMASS_c'], 'h')\n",
    "    print('----------------')\n",
    "    succBM=solution.fluxes['EX_BIOMASS_c']\n",
    "    \n",
    "    model.objective = model.reactions.EX_pbhb_e\n",
    "    phb_production=model.optimize().objective_value\n",
    "    print('The maximum theoretical productivity for making PHB:', phb_production , 'mmol/gDW*h')\n",
    "    print('----------------')\n",
    "    succPHB=phb_production\n",
    "    \n",
    "    maximum_yield = phb_production / (-1*(model.reactions.EX_succ_e.flux))\n",
    "    print('Maximum theoretical yield =', maximum_yield, 'mmol phb/mmol Succinate')\n",
    "    print(model.summary())\n",
    "    succYLD=maximum_yield\n",
    "    succData=[succBM.round(3),round(succPHB,3),round(succYLD,3)]"
   ]
  },
  {
   "cell_type": "markdown",
   "metadata": {},
   "source": [
    "### The results form growing on fumarate:"
   ]
  },
  {
   "cell_type": "code",
   "execution_count": 119,
   "metadata": {},
   "outputs": [
    {
     "name": "stdout",
     "output_type": "stream",
     "text": [
      "{'EX_fe2_e': 10.0, 'EX_mg2_e': 10.0, 'EX_pi_e': 100.0, 'EX_cobalt2_e': 10.0, 'EX_cl_e': 10.0, 'EX_k_e': 10.0, 'EX_fe3_e': 10.0, 'EX_so4_e': 10.0, 'EX_fru_e': 0, 'EX_nh4_e': 10.0, 'EX_na_e': 10.0, 'EX_o2_e': 18.5, 'EX_mobd_e': 10.0, 'EX_h2o_e': 1000.0, 'EX_h_e': 100.0, 'EX_fum_e': 3}\n",
      "Objective\n",
      "=========\n",
      "1.0 EX_BIOMASS_c = 0.14694144021900343\n",
      "\n",
      "Uptake\n",
      "------\n",
      "Metabolite  Reaction      Flux  C-Number   C-Flux\n",
      "     fe2_e  EX_fe2_e 3.262E-05         0    0.00%\n",
      "     fum_e  EX_fum_e         3         4  100.00%\n",
      "       h_e    EX_h_e     10.87         0    0.00%\n",
      "     nh4_e  EX_nh4_e     1.565         0    0.00%\n",
      "      o2_e   EX_o2_e     2.682         0    0.00%\n",
      "      pi_e   EX_pi_e     4.114         0    0.00%\n",
      "     so4_e  EX_so4_e   0.02986         0    0.00%\n",
      "\n",
      "Secretion\n",
      "---------\n",
      "Metabolite      Reaction    Flux  C-Number   C-Flux\n",
      " BIOMASS_c  EX_BIOMASS_c -0.1469         0    0.00%\n",
      "     co2_e      EX_co2_e  -5.897         1  100.00%\n",
      "     h2o_e      EX_h2o_e  -9.022         0    0.00%\n",
      "\n",
      "The current theoretical maximum biomass productivity: 0.1469414402190034 h\n",
      "----------------\n",
      "The current maximum theoretical productivity for making PHB: 1.8272727272727274 mmol/gDW*h\n",
      "----------------\n",
      "Maximum theoretical yield = 0.6090909090909091 mmol phb/mmol Fumarate\n"
     ]
    }
   ],
   "source": [
    "with model:\n",
    "    medium = model.medium\n",
    "    medium['EX_fru_e'] = 0\n",
    "    medium['EX_fum_e'] = 3\n",
    "    print(medium)\n",
    "    model.medium=medium\n",
    "    \n",
    "    model.objective = model.reactions.EX_BIOMASS_c\n",
    "    solution=model.optimize()\n",
    "    solution= model.optimize()\n",
    "    print(model.summary())\n",
    "    \n",
    "    print('The current theoretical maximum biomass productivity:', solution.fluxes['EX_BIOMASS_c'], 'h')\n",
    "    print('----------------')\n",
    "    fumBM=solution.fluxes['EX_BIOMASS_c']\n",
    "    \n",
    "    model.objective = model.reactions.EX_pbhb_e\n",
    "    phb_production=model.optimize().objective_value\n",
    "    print('The current maximum theoretical productivity for making PHB:', phb_production , 'mmol/gDW*h')\n",
    "    print('----------------')\n",
    "    fumPHB=phb_production\n",
    "    \n",
    "    maximum_yield = phb_production / (-1*(model.reactions.EX_fum_e.flux))\n",
    "    print('Maximum theoretical yield =', maximum_yield, 'mmol phb/mmol Fumarate')\n",
    "    fumYLD=maximum_yield\n",
    "    fumData=[fumBM.round(3),round(fumPHB,3),round(fumYLD,3)]"
   ]
  },
  {
   "cell_type": "markdown",
   "metadata": {},
   "source": [
    "### The results form growing on pyruvate:"
   ]
  },
  {
   "cell_type": "code",
   "execution_count": 120,
   "metadata": {},
   "outputs": [
    {
     "name": "stdout",
     "output_type": "stream",
     "text": [
      "{'EX_fe2_e': 10.0, 'EX_mg2_e': 10.0, 'EX_pi_e': 100.0, 'EX_cobalt2_e': 10.0, 'EX_cl_e': 10.0, 'EX_k_e': 10.0, 'EX_fe3_e': 10.0, 'EX_so4_e': 10.0, 'EX_fru_e': 0, 'EX_nh4_e': 10.0, 'EX_na_e': 10.0, 'EX_o2_e': 18.5, 'EX_mobd_e': 10.0, 'EX_h2o_e': 1000.0, 'EX_h_e': 100.0, 'EX_pyr_e': 3}\n",
      "Objective\n",
      "=========\n",
      "1.0 EX_BIOMASS_c = 0.11617084064313381\n",
      "\n",
      "Uptake\n",
      "------\n",
      "Metabolite  Reaction      Flux  C-Number   C-Flux\n",
      "     fe2_e  EX_fe2_e 2.579E-05         0    0.00%\n",
      "       h_e    EX_h_e     6.852         0    0.00%\n",
      "     nh4_e  EX_nh4_e     1.237         0    0.00%\n",
      "      o2_e   EX_o2_e     2.505         0    0.00%\n",
      "      pi_e   EX_pi_e     3.252         0    0.00%\n",
      "     pyr_e  EX_pyr_e         3         3  100.00%\n",
      "     so4_e  EX_so4_e   0.02361         0    0.00%\n",
      "\n",
      "Secretion\n",
      "---------\n",
      "Metabolite      Reaction    Flux  C-Number   C-Flux\n",
      " BIOMASS_c  EX_BIOMASS_c -0.1162         0    0.00%\n",
      "     co2_e      EX_co2_e  -4.175         1  100.00%\n",
      "     h2o_e      EX_h2o_e  -8.389         0    0.00%\n",
      "\n",
      "The current theoretical maximum biomass productivity: 0.11617084064313384 h\n",
      "----------------\n",
      "The current maximum theoretical productivity for making PHB: 1.6016949152542383 mmol/gDW*h\n",
      "----------------\n",
      "Maximum theoretical yield = 0.5338983050847461 mmol phb/mmol Pyruvate\n"
     ]
    }
   ],
   "source": [
    "with model:\n",
    "    medium = model.medium\n",
    "    medium['EX_fru_e'] = 0\n",
    "    medium['EX_pyr_e'] = 3\n",
    "    print(medium)\n",
    "    model.medium=medium\n",
    "    \n",
    "    model.objective = model.reactions.EX_BIOMASS_c\n",
    "    solution=model.optimize()\n",
    "    solution= model.optimize()\n",
    "    print(model.summary())\n",
    "    \n",
    "    print('The current theoretical maximum biomass productivity:', solution.fluxes['EX_BIOMASS_c'], 'h')\n",
    "    print('----------------')\n",
    "    pyrBM=solution.fluxes['EX_BIOMASS_c']\n",
    "    \n",
    "    model.objective = model.reactions.EX_pbhb_e\n",
    "    phb_production=model.optimize().objective_value\n",
    "    print('The current maximum theoretical productivity for making PHB:', phb_production , 'mmol/gDW*h')\n",
    "    print('----------------')\n",
    "    pyrPHB=phb_production\n",
    "    \n",
    "    maximum_yield = phb_production / (-1*(model.reactions.EX_pyr_e.flux))\n",
    "    print('Maximum theoretical yield =', maximum_yield, 'mmol phb/mmol Pyruvate')\n",
    "    pyrYLD=maximum_yield\n",
    "    pyrData=[pyrBM.round(3),round(pyrPHB,3),round(pyrYLD,3)]"
   ]
  },
  {
   "cell_type": "markdown",
   "metadata": {},
   "source": [
    "### Have not found in the litterature that it can grow on ethanol, but because the exchangereaction is in the model. I got curious"
   ]
  },
  {
   "cell_type": "code",
   "execution_count": 101,
   "metadata": {},
   "outputs": [
    {
     "data": {
      "text/html": [
       "\n",
       "        <table>\n",
       "            <tr>\n",
       "                <td><strong>Reaction identifier</strong></td><td>EX_eth_e</td>\n",
       "            </tr><tr>\n",
       "                <td><strong>Name</strong></td><td>EX_eth_e</td>\n",
       "            </tr><tr>\n",
       "                <td><strong>Memory address</strong></td>\n",
       "                <td>0x016ea5aeffd0</td>\n",
       "            </tr><tr>\n",
       "                <td><strong>Stoichiometry</strong></td>\n",
       "                <td>\n",
       "                    <p style='text-align:right'>etoh_e --></p>\n",
       "                    <p style='text-align:right'>Ethanol --></p>\n",
       "                </td>\n",
       "            </tr><tr>\n",
       "                <td><strong>GPR</strong></td><td></td>\n",
       "            </tr><tr>\n",
       "                <td><strong>Lower bound</strong></td><td>0.0</td>\n",
       "            </tr><tr>\n",
       "                <td><strong>Upper bound</strong></td><td>1000.0</td>\n",
       "            </tr>\n",
       "        </table>\n",
       "        "
      ],
      "text/plain": [
       "<Reaction EX_eth_e at 0x16ea5aeffd0>"
      ]
     },
     "execution_count": 101,
     "metadata": {},
     "output_type": "execute_result"
    }
   ],
   "source": [
    "model.reactions.EX_eth_e"
   ]
  },
  {
   "cell_type": "code",
   "execution_count": 102,
   "metadata": {},
   "outputs": [
    {
     "name": "stdout",
     "output_type": "stream",
     "text": [
      "{'EX_fe2_e': 10.0, 'EX_mg2_e': 10.0, 'EX_pi_e': 100.0, 'EX_cobalt2_e': 10.0, 'EX_cl_e': 10.0, 'EX_k_e': 10.0, 'EX_fe3_e': 10.0, 'EX_so4_e': 10.0, 'EX_fru_e': 0, 'EX_nh4_e': 10.0, 'EX_na_e': 10.0, 'EX_o2_e': 18.5, 'EX_mobd_e': 10.0, 'EX_h2o_e': 1000.0, 'EX_h_e': 100.0, 'EX_eth_e': 3}\n",
      "Objective\n",
      "=========\n",
      "1.0 EX_BIOMASS_c = 0.0\n",
      "\n",
      "Uptake\n",
      "------\n",
      "Empty DataFrame\n",
      "Columns: [Metabolite, Reaction, Flux, C-Number, C-Flux]\n",
      "Index: []\n",
      "\n",
      "Secretion\n",
      "---------\n",
      "Empty DataFrame\n",
      "Columns: [Metabolite, Reaction, Flux, C-Number, C-Flux]\n",
      "Index: []\n",
      "\n",
      "The current theoretical maximum biomass productivity: 0.0 h\n",
      "----------------\n",
      "The current maximum theoretical productivity for making PHB: 0.0 mmol/gDW*h\n"
     ]
    }
   ],
   "source": [
    "with model:\n",
    "    medium = model.medium\n",
    "    medium['EX_eth_e'] = 3\n",
    "    medium['EX_fru_e'] = 0\n",
    "    print(medium)\n",
    "    model.medium=medium\n",
    "    \n",
    "    model.objective = model.reactions.EX_BIOMASS_c\n",
    "    solution=model.optimize()\n",
    "    solution= model.optimize()\n",
    "    print(model.summary())\n",
    "    \n",
    "    print('The current theoretical maximum biomass productivity:', solution.fluxes['EX_BIOMASS_c'], 'h^-1')\n",
    "    print('----------------')\n",
    "    \n",
    "    model.objective = model.reactions.EX_pbhb_e\n",
    "    phb_production=model.optimize().objective_value\n",
    "    print('The current maximum theoretical productivity for making PHB:', phb_production , 'mmol/gDW*h')"
   ]
  },
  {
   "cell_type": "markdown",
   "metadata": {},
   "source": [
    "### So ethanol is not taken up as a C-source"
   ]
  },
  {
   "cell_type": "markdown",
   "metadata": {},
   "source": [
    "### To add D-glucose to the medium we need new reactions to make R.eutropha take up and use D-glucose as a carbon source. "
   ]
  },
  {
   "cell_type": "code",
   "execution_count": 34,
   "metadata": {},
   "outputs": [],
   "source": [
    "model.add_metabolites([\n",
    "    Metabolite(\n",
    "    'glc_e',\n",
    "    name='D-glucose',\n",
    "    compartment='e'\n",
    "    )])"
   ]
  },
  {
   "cell_type": "code",
   "execution_count": 35,
   "metadata": {},
   "outputs": [
    {
     "data": {
      "text/html": [
       "\n",
       "        <table>\n",
       "            <tr>\n",
       "                <td><strong>Reaction identifier</strong></td><td>EX_glc_e</td>\n",
       "            </tr><tr>\n",
       "                <td><strong>Name</strong></td><td>D-glucose exchange</td>\n",
       "            </tr><tr>\n",
       "                <td><strong>Memory address</strong></td>\n",
       "                <td>0x016ea3d86190</td>\n",
       "            </tr><tr>\n",
       "                <td><strong>Stoichiometry</strong></td>\n",
       "                <td>\n",
       "                    <p style='text-align:right'>glc_e <=></p>\n",
       "                    <p style='text-align:right'>D-glucose <=></p>\n",
       "                </td>\n",
       "            </tr><tr>\n",
       "                <td><strong>GPR</strong></td><td></td>\n",
       "            </tr><tr>\n",
       "                <td><strong>Lower bound</strong></td><td>-1000.0</td>\n",
       "            </tr><tr>\n",
       "                <td><strong>Upper bound</strong></td><td>1000.0</td>\n",
       "            </tr>\n",
       "        </table>\n",
       "        "
      ],
      "text/plain": [
       "<Reaction EX_glc_e at 0x16ea3d86190>"
      ]
     },
     "execution_count": 35,
     "metadata": {},
     "output_type": "execute_result"
    }
   ],
   "source": [
    "model.add_boundary(model.metabolites.get_by_id(\"glc_e\"), type=\"exchange\")"
   ]
  },
  {
   "cell_type": "code",
   "execution_count": 36,
   "metadata": {},
   "outputs": [],
   "source": [
    "model.add_metabolites([\n",
    "    Metabolite(\n",
    "    'glc_c',\n",
    "    name='D-glucose',\n",
    "    compartment='c'\n",
    "    )])"
   ]
  },
  {
   "cell_type": "code",
   "execution_count": 38,
   "metadata": {},
   "outputs": [],
   "source": [
    "#reaction1 = Reaction('Exchange_glc')"
   ]
  },
  {
   "cell_type": "code",
   "execution_count": 39,
   "metadata": {},
   "outputs": [
    {
     "ename": "IndentationError",
     "evalue": "unexpected indent (<ipython-input-39-dbc247b9e283>, line 4)",
     "output_type": "error",
     "traceback": [
      "\u001b[1;36m  File \u001b[1;32m\"<ipython-input-39-dbc247b9e283>\"\u001b[1;36m, line \u001b[1;32m4\u001b[0m\n\u001b[1;33m    })\u001b[0m\n\u001b[1;37m    ^\u001b[0m\n\u001b[1;31mIndentationError\u001b[0m\u001b[1;31m:\u001b[0m unexpected indent\n"
     ]
    }
   ],
   "source": [
    "#reaction1.add_metabolites({\n",
    "#    model.metabolites.glc_e: -1.0,\n",
    "#    model.metabolites.glc_c: 1.0,\n",
    "                            })\n",
    "#print(reaction.build_reaction_string())"
   ]
  },
  {
   "cell_type": "code",
   "execution_count": 40,
   "metadata": {},
   "outputs": [],
   "source": [
    "reaction = Reaction('PEP')"
   ]
  },
  {
   "cell_type": "code",
   "execution_count": 41,
   "metadata": {},
   "outputs": [
    {
     "name": "stdout",
     "output_type": "stream",
     "text": [
      "glc_c + pep_c --> g6p_c + pyr_c\n"
     ]
    }
   ],
   "source": [
    "reaction.add_metabolites({\n",
    "    model.metabolites.glc_c: -1.0,\n",
    "    model.metabolites.pep_c: -1.0,\n",
    "    model.metabolites.pyr_c: 1.0,\n",
    "    model.metabolites.g6p_c: 1.0\n",
    "                            })\n",
    "print(reaction.build_reaction_string())"
   ]
  },
  {
   "cell_type": "markdown",
   "metadata": {},
   "source": [
    "### Adding glucose in the media and removing fructose:"
   ]
  },
  {
   "cell_type": "code",
   "execution_count": 43,
   "metadata": {},
   "outputs": [
    {
     "name": "stdout",
     "output_type": "stream",
     "text": [
      "{'EX_fe2_e': 10.0, 'EX_mg2_e': 10.0, 'EX_pi_e': 100.0, 'EX_cobalt2_e': 10.0, 'EX_cl_e': 10.0, 'EX_k_e': 10.0, 'EX_fe3_e': 10.0, 'EX_so4_e': 10.0, 'EX_fru_e': 0, 'EX_nh4_e': 10.0, 'EX_na_e': 10.0, 'EX_o2_e': 18.5, 'EX_mobd_e': 10.0, 'EX_h2o_e': 1000.0, 'EX_h_e': 100.0, 'EX_glc_e': 3}\n",
      "Objective\n",
      "=========\n",
      "1.0 EX_BIOMASS_c = 0.0\n",
      "\n",
      "Uptake\n",
      "------\n",
      "Empty DataFrame\n",
      "Columns: [Metabolite, Reaction, Flux, C-Number, C-Flux]\n",
      "Index: []\n",
      "\n",
      "Secretion\n",
      "---------\n",
      "Empty DataFrame\n",
      "Columns: [Metabolite, Reaction, Flux, C-Number, C-Flux]\n",
      "Index: []\n",
      "\n",
      "The current theoretical maximum biomass productivity: 0.0 h\n",
      "----------------\n",
      "The maximum theoretical productivity for making PHB: 0.0 mmol/gDW*h\n",
      "----------------\n"
     ]
    },
    {
     "ename": "ZeroDivisionError",
     "evalue": "float division by zero",
     "output_type": "error",
     "traceback": [
      "\u001b[1;31m---------------------------------------------------------------------------\u001b[0m",
      "\u001b[1;31mZeroDivisionError\u001b[0m                         Traceback (most recent call last)",
      "\u001b[1;32m<ipython-input-43-f3e49b46974a>\u001b[0m in \u001b[0;36m<module>\u001b[1;34m\u001b[0m\n\u001b[0;32m     19\u001b[0m \u001b[1;33m\u001b[0m\u001b[0m\n\u001b[0;32m     20\u001b[0m     \u001b[0mprint\u001b[0m\u001b[1;33m(\u001b[0m\u001b[1;34m'----------------'\u001b[0m\u001b[1;33m)\u001b[0m\u001b[1;33m\u001b[0m\u001b[1;33m\u001b[0m\u001b[0m\n\u001b[1;32m---> 21\u001b[1;33m     \u001b[0mmaximum_yield\u001b[0m \u001b[1;33m=\u001b[0m \u001b[0mphb_production\u001b[0m \u001b[1;33m/\u001b[0m \u001b[1;33m(\u001b[0m\u001b[1;33m-\u001b[0m\u001b[1;36m1\u001b[0m\u001b[1;33m*\u001b[0m\u001b[1;33m(\u001b[0m\u001b[0mmodel\u001b[0m\u001b[1;33m.\u001b[0m\u001b[0mreactions\u001b[0m\u001b[1;33m.\u001b[0m\u001b[0mEX_glc_e\u001b[0m\u001b[1;33m.\u001b[0m\u001b[0mflux\u001b[0m\u001b[1;33m)\u001b[0m\u001b[1;33m)\u001b[0m\u001b[1;33m\u001b[0m\u001b[1;33m\u001b[0m\u001b[0m\n\u001b[0m\u001b[0;32m     22\u001b[0m     \u001b[0mprint\u001b[0m\u001b[1;33m(\u001b[0m\u001b[1;34m'Maximum theoretical yield ='\u001b[0m\u001b[1;33m,\u001b[0m \u001b[0mmaximum_yield\u001b[0m\u001b[1;33m,\u001b[0m \u001b[1;34m'mmol phb/mmol glucose'\u001b[0m\u001b[1;33m)\u001b[0m\u001b[1;33m\u001b[0m\u001b[1;33m\u001b[0m\u001b[0m\n",
      "\u001b[1;31mZeroDivisionError\u001b[0m: float division by zero"
     ]
    }
   ],
   "source": [
    "with model:\n",
    "    medium = model.medium\n",
    "    medium['EX_glc_e'] = 3\n",
    "    medium['EX_fru_e'] = 0\n",
    "    print(medium)\n",
    "    model.medium = medium\n",
    "    solution= model.optimize()\n",
    "    \n",
    "    print(model.summary())\n",
    "    model.objective = model.reactions.EX_BIOMASS_c\n",
    "    solution=model.optimize()\n",
    "    print('The current theoretical maximum biomass productivity:', solution.fluxes['EX_BIOMASS_c'], 'h')\n",
    "    \n",
    "    print('----------------')\n",
    "    model.objective = model.reactions.EX_pbhb_e\n",
    "    phb_production=model.optimize().objective_value\n",
    "    solution= model.optimize()\n",
    "    print('The maximum theoretical productivity for making PHB:', phb_production , 'mmol/gDW*h')\n",
    "    \n",
    "    print('----------------')\n",
    "    maximum_yield = phb_production / (-1*(model.reactions.EX_glc_e.flux))\n",
    "    print('Maximum theoretical yield =', maximum_yield, 'mmol phb/mmol glucose')\n",
    "    "
   ]
  },
  {
   "cell_type": "markdown",
   "metadata": {},
   "source": [
    "### With the data constructed in this file. Here is a table combinding the data in this file:"
   ]
  },
  {
   "cell_type": "code",
   "execution_count": 137,
   "metadata": {},
   "outputs": [
    {
     "name": "stdout",
     "output_type": "stream",
     "text": [
      "C-source  \t Biomass  \t \t PHB production  \t \t Yeild \n",
      " \t \t [per hour] \t [mmol phb/mmol Substrate] \t  [mmol/gDW*h] \n",
      " Fructose \t 0.285 \t \t \t 3.763 \t \t \t \t 1.254 \n",
      " Succinate \t 0.16 \t \t \t 1.936 \t \t \t \t 0.645 \n",
      " Fumarate \t 0.147 \t \t \t 1.827 \t \t \t \t 0.609 \n",
      " Pyruvate \t 0.116 \t \t \t 1.602 \t \t \t \t 0.534 \n",
      "\n"
     ]
    }
   ],
   "source": [
    "print(\"C-source \",\"\\t\",\"Biomass \" , \"\\t\",\"\\t\", \"PHB production \", \"\\t\" , \"\\t\",\"Yeild\"  ,\"\\n\",\n",
    "     \"\\t\",\"\\t\", \"[per hour]\",\"\\t\", \"[mmol phb/mmol Substrate]\", \"\\t\",\" [mmol/gDW*h]\", \"\\n\",\n",
    "    \"Fructose\",\"\\t\", fruData[0],\"\\t\",\"\\t\",\"\\t\",fruData[1],\"\\t\",\"\\t\",\"\\t\",\"\\t\",fruData[2],\"\\n\",\n",
    "    \"Succinate\",\"\\t\", succData[0],\"\\t\",\"\\t\",\"\\t\",succData[1],\"\\t\",\"\\t\",\"\\t\",\"\\t\",succData[2],\"\\n\",\n",
    "    \"Fumarate\",\"\\t\", fumData[0],\"\\t\",\"\\t\",\"\\t\",fumData[1],\"\\t\",\"\\t\",\"\\t\",\"\\t\",fumData[2],\"\\n\",\n",
    "    \"Pyruvate\",\"\\t\", pyrData[0],\"\\t\",\"\\t\",\"\\t\",pyrData[1],\"\\t\",\"\\t\",\"\\t\",\"\\t\",pyrData[2],\"\\n\",\n",
    "     )"
   ]
  },
  {
   "cell_type": "code",
   "execution_count": null,
   "metadata": {},
   "outputs": [],
   "source": []
  }
 ],
 "metadata": {
  "kernelspec": {
   "display_name": "Python 3",
   "language": "python",
   "name": "python3"
  },
  "language_info": {
   "codemirror_mode": {
    "name": "ipython",
    "version": 3
   },
   "file_extension": ".py",
   "mimetype": "text/x-python",
   "name": "python",
   "nbconvert_exporter": "python",
   "pygments_lexer": "ipython3",
   "version": "3.8.3"
  }
 },
 "nbformat": 4,
 "nbformat_minor": 4
}
