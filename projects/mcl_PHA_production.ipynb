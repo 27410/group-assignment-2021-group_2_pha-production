{
 "cells": [
  {
   "cell_type": "code",
   "execution_count": 1,
   "id": "2889ebe8-d598-45f7-9ab8-c882d4869a88",
   "metadata": {},
   "outputs": [],
   "source": [
    "import cobra.test\n",
    "import os\n",
    "from os.path import join\n",
    "from cobra.io import read_sbml_model\n",
    "from cobra import Reaction, Metabolite\n",
    "from cobra.util import create_stoichiometric_matrix\n",
    "import numpy as np\n",
    "model = cobra.io.load_json_model(join(\"RehMBEL1391_sbml_L3V1.json\"))"
   ]
  },
  {
   "cell_type": "code",
   "execution_count": 2,
   "id": "3e13bb06-38ae-4a25-9c46-5e672b4bf7bb",
   "metadata": {},
   "outputs": [
    {
     "data": {
      "text/html": [
       "\n",
       "        <table>\n",
       "            <tr>\n",
       "                <td><strong>Name</strong></td>\n",
       "                <td>RehMBEL1391</td>\n",
       "            </tr><tr>\n",
       "                <td><strong>Memory address</strong></td>\n",
       "                <td>0x024b6a7ba400</td>\n",
       "            </tr><tr>\n",
       "                <td><strong>Number of metabolites</strong></td>\n",
       "                <td>1348</td>\n",
       "            </tr><tr>\n",
       "                <td><strong>Number of reactions</strong></td>\n",
       "                <td>1538</td>\n",
       "            </tr><tr>\n",
       "                <td><strong>Number of groups</strong></td>\n",
       "                <td>0</td>\n",
       "            </tr><tr>\n",
       "                <td><strong>Objective expression</strong></td>\n",
       "                <td>1.0*Biomass - 1.0*Biomass_reverse_57a34</td>\n",
       "            </tr><tr>\n",
       "                <td><strong>Compartments</strong></td>\n",
       "                <td>c, e</td>\n",
       "            </tr>\n",
       "          </table>"
      ],
      "text/plain": [
       "<Model RehMBEL1391 at 0x24b6a7ba400>"
      ]
     },
     "execution_count": 2,
     "metadata": {},
     "output_type": "execute_result"
    }
   ],
   "source": [
    "model"
   ]
  },
  {
   "cell_type": "code",
   "execution_count": 3,
   "id": "86c0cb80-b5a0-42be-8e90-4604a4d1fcd7",
   "metadata": {},
   "outputs": [
    {
     "name": "stdout",
     "output_type": "stream",
     "text": [
      "PHAS: r3hbcoa_c <=> coa_c + phb_c Polyhydroxyalkanoate synthase\n",
      "PHBD: h2o_c + phb_c <=> h_c + r3hbn2_c + r3rhbb_c Poly(3-hydroxybutyrate) depolymerase\n",
      "PHBt: h_c + phb_c --> h_e + phb_e Poly-beta-hydroxybutyrate transport\n",
      "PHBt: h_c + phb_c --> h_e + phb_e Poly-beta-hydroxybutyrate transport\n",
      "EX_pbhb_e: phb_e -->  EX_pbhb_e\n"
     ]
    }
   ],
   "source": [
    "#figuring out the PHA-production-pathway that is included in the provided model \n",
    "for reactions in model.metabolites.get_by_id(\"phb_c\").reactions: \n",
    "    print(reactions, reactions.name)  \n",
    "\n",
    "for reactions in model.metabolites.get_by_id(\"phb_e\").reactions: \n",
    "    print(reactions, reactions.name)"
   ]
  },
  {
   "cell_type": "code",
   "execution_count": 4,
   "id": "391349c4-cc94-4883-a2f8-5319cfe224b5",
   "metadata": {},
   "outputs": [
    {
     "name": "stdout",
     "output_type": "stream",
     "text": [
      "PHAS: r3hbcoa_c <=> coa_c + phb_c Polyhydroxyalkanoate synthase\n",
      "3HBCD: r3hbcoa_c <=> b2coa_c + h2o_c 3-hydroxybutyryl-CoA dehydratase\n",
      "AACOAR: nadp_c + r3hbcoa_c <=> aacoa_c + h_c + nadph_c Acetoacetyl-CoA reductase\n"
     ]
    }
   ],
   "source": [
    "#figuring out the pathways that lead to r3hbcoa_c to figure out how phb production is connected to the rest of the metabolism\n",
    "for reactions in model.metabolites.get_by_id(\"r3hbcoa_c\").reactions: \n",
    "    print(reactions, reactions.name)"
   ]
  },
  {
   "cell_type": "code",
   "execution_count": 5,
   "id": "9ee8f355-78d1-4e6f-aee3-01a00e46f196",
   "metadata": {},
   "outputs": [
    {
     "name": "stdout",
     "output_type": "stream",
     "text": [
      "PHBD: h2o_c + phb_c <=> h_c + r3hbn2_c + r3rhbb_c Poly(3-hydroxybutyrate) depolymerase\n"
     ]
    }
   ],
   "source": [
    "#looking at the pathway leading to r3hbn2_c\n",
    "for reactions in model.metabolites.get_by_id(\"r3hbn2_c\").reactions: \n",
    "    print(reactions, reactions.name)\n",
    "#found a dead-end"
   ]
  },
  {
   "cell_type": "code",
   "execution_count": 6,
   "id": "7ef4ebdc-21f1-4d96-aa03-94506b050b56",
   "metadata": {},
   "outputs": [
    {
     "name": "stdout",
     "output_type": "stream",
     "text": [
      "PHBD: h2o_c + phb_c <=> h_c + r3hbn2_c + r3rhbb_c\n",
      "HBDH: h2o_c + r3rhbb_c <=> 2.0 bhb_c + h_c\n"
     ]
    }
   ],
   "source": [
    "#looking at the pathway leading to r3hbb_c\n",
    "for reactions in model.metabolites.get_by_id(\"r3rhbb_c\").reactions:\n",
    "    print(reactions)"
   ]
  },
  {
   "cell_type": "code",
   "execution_count": 7,
   "id": "248feef7-5643-478a-b959-9a5b3b290bf4",
   "metadata": {},
   "outputs": [
    {
     "name": "stdout",
     "output_type": "stream",
     "text": [
      "3HBCD: r3hbcoa_c <=> b2coa_c + h2o_c 3-hydroxybutyryl-CoA dehydratase\n",
      "GLUCD1: gcoa_c + nad_c --> b2coa_c + co2_c + nadh_c Glutaryl-CoA dehydrogenase\n",
      "ENCOAH1: 3hbcoa_c <=> b2coa_c + h2o_c Enoyl-CoA hydratase\n",
      "ACOADH1: btcoa_c + fad_c + h_c <=> b2coa_c + fadh2_c Acyl-CoA dehydrogenase butanoyl-CoA)\n"
     ]
    }
   ],
   "source": [
    "#looking at the pathway leading to b2coa_c\n",
    "for reactions in model.metabolites.get_by_id(\"b2coa_c\").reactions: \n",
    "    print(reactions, reactions.name)"
   ]
  },
  {
   "cell_type": "code",
   "execution_count": 8,
   "id": "f670c218-b7e6-4cb7-878a-a9b382f69495",
   "metadata": {},
   "outputs": [
    {
     "name": "stdout",
     "output_type": "stream",
     "text": [
      "ACACT1r: 2.0 accoa_c <=> aacoa_c + coa_c Acetyl-CoA C-acetyltransferase\n",
      "AACOAR: nadp_c + r3hbcoa_c <=> aacoa_c + h_c + nadph_c Acetoacetyl-CoA reductase\n",
      "AACOAS: acac_c + atp_c + coa_c --> aacoa_c + amp_c + h_c + ppi_c Acetoacetyl-CoA synthetase\n",
      "HACD1: 3hbcoa_c + nad_c --> aacoa_c + h_c + nadh_c 3-hydroxyacyl-CoA dehydrogenase (acetoacetyl-CoA)\n",
      "3HBCDH: 3hbcoa_c + nadp_c --> aacoa_c + h_c + nadph_c 3-hydroxybutyryl-CoA dehydrogenase\n",
      "OCOAT1m: acac_c + succoa_c <=> aacoa_c + succ_c 3-oxoacid CoA-transferase\n"
     ]
    }
   ],
   "source": [
    "#looking at the pathway leading to aacoa_c (from r3hbcoa_c reactions)\n",
    "for reactions in model.metabolites.get_by_id(\"aacoa_c\").reactions: \n",
    "    print(reactions, reactions.name)"
   ]
  },
  {
   "cell_type": "code",
   "execution_count": 9,
   "id": "fa6f9fe8-8fbc-4511-930d-05b04a616130",
   "metadata": {},
   "outputs": [
    {
     "name": "stdout",
     "output_type": "stream",
     "text": [
      "aacoa_c  =  Acetoacetyl-CoA\n",
      "acac_c  =  Acetoacetate\n",
      "succoa_c  =  Succinyl-CoA\n",
      "gcoa_c  =  Glutaryl-CoA\n",
      "oaa_c  =  Oxaloacetate\n",
      "accoa_c  =  Acetyl-CoA\n",
      "btcoa_c  =  Butanoyl-CoA\n",
      "b2coa_c  =  Crotonoyl-CoA\n",
      "r3rhbb_c  =  (R)-3-((R)-3-Hydroxybutanoyloxy)butanoate\n",
      "r3hbn2_c  =  ((R)-3-Hydroxybutanoyl)(n-2)\n",
      "bhb_c  =  (R)-3-Hydroxybutanoate\n"
     ]
    }
   ],
   "source": [
    "#to figure out the names of the IDs we printed them\n",
    "print(model.metabolites.aacoa_c, ' = ', model.metabolites.aacoa_c.name)\n",
    "print(model.metabolites.acac_c, ' = ', model.metabolites.acac_c.name)\n",
    "print(model.metabolites.succoa_c, ' = ', model.metabolites.succoa_c.name)\n",
    "print(model.metabolites.gcoa_c, ' = ',model.metabolites.gcoa_c.name)\n",
    "print(model.metabolites.oaa_c, ' = ',model.metabolites.oaa_c.name)\n",
    "print(model.metabolites.accoa_c, ' = ',model.metabolites.accoa_c.name)\n",
    "print(model.metabolites.btcoa_c, ' = ',model.metabolites.btcoa_c.name)\n",
    "print(model.metabolites.b2coa_c, ' = ',model.metabolites.b2coa_c.name)\n",
    "print(model.metabolites.r3rhbb_c, ' = ',model.metabolites.r3rhbb_c.name)\n",
    "print(model.metabolites.r3hbn2_c, ' = ',model.metabolites.r3hbn2_c.name)\n",
    "print(model.metabolites.bhb_c, ' = ',model.metabolites.bhb_c.name)"
   ]
  },
  {
   "cell_type": "code",
   "execution_count": 10,
   "id": "3993bb19-adfd-411a-bbb7-face4bee0e51",
   "metadata": {},
   "outputs": [
    {
     "name": "stdout",
     "output_type": "stream",
     "text": [
      "{}\n",
      "3-Hydroxypimeloyl-CoA molecular formula is C28H46N7O20P3S\n",
      "{}\n",
      "The molecular formula of (R)-3-Hydroxybutanoyl-CoA is C25H42N7O18P3S\n",
      "{}\n",
      "{}\n",
      "The molecular formula of (R)-3-((R)-3-Hydroxybutanoyloxy)butanoate is C8H13O5\n",
      "The molecular formula of ((R)-3-Hydroxybutanoyl)(n-2) is C4H6O2\n"
     ]
    }
   ],
   "source": [
    "#whenever we found a metabolite without an assigned molecular formula we added it in accordance with data found on pubchem\n",
    "print(model.metabolites.hpimcoa_c.elements)\n",
    "#add missing molecular formula with data found on PubChem (\"https://pubchem.ncbi.nlm.nih.gov/compound/9543022\")\n",
    "model.metabolites.get_by_id(\"hpimcoa_c\").elements = {\"C\": 28, \"H\": 46, \"N\": 7, \"O\": 20, \"P\":3, \"S\":1}\n",
    "#confirm that the molecular formula was updated\n",
    "print(model.metabolites.get_by_id(\"hpimcoa_c\").name, 'molecular formula is', model.metabolites.get_by_id(\"hpimcoa_c\").formula) \n",
    "\n",
    "#the same was done for other metabolites with missing molecular formulas\n",
    "\n",
    "print(model.metabolites.r3hbcoa_c.elements)\n",
    "#add missing molecular formula for r3hbcoa_3\n",
    "model.metabolites.r3hbcoa_c.elements = {\"C\": 25,\"H\": 42,\"N\": 7,\"O\": 18,\"P\": 3,\"S\": 1}\n",
    "print('The molecular formula of', model.metabolites.get_by_id(\"r3hbcoa_c\").name, 'is', model.metabolites.get_by_id(\"r3hbcoa_c\").formula)\n",
    "\n",
    "print(model.metabolites.r3rhbb_c.elements)\n",
    "print(model.metabolites.r3hbn2_c.elements)\n",
    "#add molecular formula for r3rhbb_c and r3hbn2_c\n",
    "model.metabolites.r3rhbb_c.elements = {\"C\": 8, \"H\": 13, \"O\": 5}\n",
    "model.metabolites.r3hbn2_c.elements = {\"C\": 4, \"H\": 6, \"O\": 2}\n",
    "#print to check whether it was successful\n",
    "print('The molecular formula of', model.metabolites.get_by_id(\"r3rhbb_c\").name, 'is', model.metabolites.get_by_id(\"r3rhbb_c\").formula)\n",
    "print('The molecular formula of', model.metabolites.get_by_id(\"r3hbn2_c\").name, 'is', model.metabolites.get_by_id(\"r3hbn2_c\").formula)"
   ]
  },
  {
   "cell_type": "markdown",
   "id": "71c69bee-d180-453c-95a1-f380a66e099e",
   "metadata": {},
   "source": [
    "Now that we know where and how PHB gets produced in this model, we attempt to introduce our own pathways, according to the enzyme phaC, in \"real life\".\n",
    "\n",
    "Therefore, pathways for 5 medium-chain-length PHAs were added, namely \n",
    "* Polyhydroxyhexanoate (PHHx), \n",
    "* Polyhydroxyheptanoate (PHH), \n",
    "* Polyhydroxyoctanoate (PHHO), \n",
    "* Polyhydroxynonaoate (PHN),\n",
    "* Polyhydroxydecanoate (PHD)."
   ]
  },
  {
   "cell_type": "code",
   "execution_count": 11,
   "id": "456f52bc-4ce1-40cc-bfc5-1dc244617183",
   "metadata": {},
   "outputs": [],
   "source": [
    "#check which metabolite-ids are already taken that could resemble PHA-names\n",
    "for metabolite in model.metabolites.query('phhx_c', 'id'):\n",
    "    print(metabolite)\n",
    "for metabolite in model.metabolites.query('phh_c', 'id'):\n",
    "    print(metabolite)\n",
    "for metabolite in model.metabolites.query('phho_c', 'id'):\n",
    "    print(metabolite)\n",
    "for metabolite in model.metabolites.query('phn_c', 'id'):\n",
    "    print(metabolite)\n",
    "for metabolite in model.metabolites.query('phd_c', 'id'):\n",
    "    print(metabolite)\n",
    "#nothing got printed meaning none of the names have been used before in the model.\n",
    "\n",
    "#creating metabolites, giving them a unique ID according to the abbreviation of their full name\n",
    "PHHx = Metabolite(id=\"phhx_c\", compartment =\"c\", name =\"Polyhydroxyhexanoate\")\n",
    "PHH = Metabolite(id=\"phh_c\", compartment = \"c\", name =\"Polyhydroxyheptanoate\")\n",
    "PHHO = Metabolite(id=\"phho_c\", compartment =\"c\", name =\"Polyhydroxyoctanoate\")\n",
    "PHN = Metabolite(id=\"phn_c\", compartment = \"c\", name =\"Polyhydroxynonaoate\")\n",
    "PHD = Metabolite(id=\"phd_c\", compartment = \"c\", name =\"Polyhydroxydecanoate\")\n",
    "\n",
    "PHHx_E = Metabolite(id=\"phhx_e\", compartment =\"e\", name =\"Polyhydroxyhexanoate\")\n",
    "PHH_E = Metabolite(id=\"phh_e\", compartment = \"e\", name =\"Polyhydroxyheptanoate\")\n",
    "PHHO_E = Metabolite(id=\"phho_e\", compartment =\"e\", name =\"Polyhydroxyoctanoate\")\n",
    "PHN_E = Metabolite(id=\"phn_e\", compartment = \"e\", name =\"Polyhydroxynonaoate\")\n",
    "PHD_E = Metabolite(id=\"phd_e\", compartment = \"e\", name =\"Polyhydroxydecanoate\")\n",
    "\n",
    "#creating one co-polymer\n",
    "PHBcoHHx = Metabolite(id=\"phbcohhx_c\", compartment =\"c\", name =\"Polyhydroxybutyrate-co-hexanoate\")\n",
    "PHBcoHHx_E = Metabolite(id=\"phbcohhx_e\", compartment =\"e\", name =\"Polyhydroxybutyrate-co-hexanoate\")"
   ]
  },
  {
   "cell_type": "markdown",
   "id": "67c4d080-2708-4665-a3a7-261f61158b1c",
   "metadata": {},
   "source": [
    "From KEGG ENZYME:2.3.1.304 (https://www.genome.jp/entry/2.3.1.304) we know the reaction equation:\n",
    "\n",
    "> **(3R)-3-hydroxyacyl-CoA + poly[(R)-3-hydroxyalkanoate]n = CoA + poly[(R)-3-hydroxyalkanoate]$\\scriptstyle n+1$**\n",
    "\n",
    "for easier handling in this model we assume:\n",
    "\n",
    "**hydroxyacyl-CoA -> CoA + polyhydroxyalkanoate**\n",
    "\n",
    "\n",
    "At first, the names of hydroxyacyl-CoA already included in the model were searched to later create an reaction where they react to PHA, in case they are fitting."
   ]
  },
  {
   "cell_type": "code",
   "execution_count": 12,
   "id": "eaf6519d-1608-480b-979e-eed21953f8b6",
   "metadata": {},
   "outputs": [
    {
     "name": "stdout",
     "output_type": "stream",
     "text": [
      "Phenylacetyl-CoA = phaccoa_c\n",
      "2-Methylbut-2-enoyl-CoATiglyl-CoA = 2m2ecoa_c\n",
      "Anthranilyl-CoA = anthcoa_c\n",
      "crotonobetainyl-CoA = ctbtcoa_c\n",
      "Crotonoyl-CoA = b2coa_c\n",
      "Propanoyl-CoA = ppcoa_c\n",
      "2-Amino-5-oxocyclohex-1-enecarbonyl-CoA = 2amoeccoa_c\n",
      "3-Hydroxypropionyl-CoA = 3hpcoa_c\n",
      "2-Methylprop-2-enoyl-CoA = 2mp2coa_c\n",
      "O-Succinylbenzoyl-CoA = sbzcoa_c\n",
      "Pimeloyl-CoA = pmcoa_c\n",
      "Succinyl-CoA = succoa_c\n",
      "Glutaryl-CoA = gcoa_c\n",
      "5-Methyl-3-oxo-4-hexenoyl-CoA = 5m3o4hcoa_c\n",
      "(2E)-5-Methylhexa-2,4-dienoyl-CoA = 2e5mhdcoa_c\n",
      "Cyclohexane-1-carboxyl-CoA = cchccoa_c\n",
      "Malonyl-CoA = malcoa_c\n",
      "3-Oxopropionyl-CoA = 3oppcoa_c\n",
      "Adipyl-CoA = adipcoa_c\n",
      "2-Ketocyclohexane-1-carboxyl-CoA = 2kchccoa_c\n",
      "Naphthyl-2-methyl-succinyl-CoA = napmsccoa_c\n",
      "2-Hydroxycyclohexane-1-carboxyl-CoA = hcchccoa_c\n",
      "3-Methylcrotonyl-CoA = 3mccoa_c\n",
      "(S)-Methylmalonyl-CoA = mmcoa__S_c\n",
      "5-Methylhex-4-enoyl-CoA = 5mh4ecoa_c\n",
      "3-Hydroxypimeloyl-CoA = hpimcoa_c\n",
      "Naphthyl-2-oxomethyl-succinyl-CoA = napomsuccoa_c\n",
      "6-Hydroxycyclohex-1-enecarbonyl-CoA = 6hcecoa_c\n",
      "4-Hydroxyphenylacetyl-CoA = 4hpheacoa_c\n",
      "3-Oxoadipyl-CoA = oxadpcoa_c\n",
      "Cyclopropanecarboxyl-CoA = ccppccoa_c\n",
      "Acetyl-CoA = accoa_c\n",
      "Benzoyl-CoA = benzcoa_c\n",
      "3-Hydroxy-5-oxohexanoyl-CoA = 3h5ohcoa_c\n",
      "Citronellyl-CoA = citnlcoa_c\n",
      "(S)-3-Hydroxybutanoyl-CoA = 3hbcoa_c\n",
      "7-Methyl-3-oxo-6-octenoyl-CoA = 7m3o6ocoa_c\n",
      "2-Naphthoyl-CoA = 2naptcoa_c\n",
      "5-Carboxy-2-pentenoyl-CoA = carpcoa_c\n",
      "2-Methylpropanoyl-CoA = 2mppacoa_c\n",
      "2-Hydroxyglutaryl-CoA = hgcoa_c\n",
      "(S)-3-Hydroxy-2-methylbutyryl-CoA = 3hmbcoa_c\n",
      "3-Hydroxyisovaleryl-CoA = hivcoa_c\n",
      "2-Methylacetoacetyl-CoA = 2maaccoa_c\n",
      "(3S)-3-Hydroxyadipyl-CoA = 3hadpcoa_c\n",
      "Benzoyl acetyl-CoA = bzaccoa_c\n",
      "4-Hydroxybenzoyl-CoA = 4hbzcoa_c\n",
      "(S)-3-Hydroxyisobutyryl-CoA = 3hibutcoa_c\n",
      "(S)-2-Methylbutanoyl-CoA = 2mbcoa_c\n",
      "gamma-butyrobetainyl-CoA = bbtcoa_c\n",
      "3-Oxopimeloyl-CoA = 3opimcoa_c\n",
      "Lactoyl-CoA = laccoa_c\n",
      "(S)-3-Hydroxy-3-methylglutaryl-CoA = 3h3mgcoa_c\n",
      "Propenoyl-CoA = prpncoa_c\n",
      "Itaconyl-CoA = itcncoa_c\n",
      "3-Methylbutanoyl-CoA = 3mbcoa_c\n",
      "trans-Geranyl-CoA = tgercoa_c\n",
      "3-Hydroxy-5-methylhex-4-enoyl-CoA = 3h5m4ecoa_c\n",
      "3-Butenoyl-CoA = 3btecoa_c\n",
      "Naphthyl-2-methylene-succinyl-CoA = nap2msuccoa_c\n",
      "6-Carboxyhex-2-enoyl-CoA = 6checoa_c\n",
      "(R)-Methylmalonyl-CoA = mmcoa__R_c\n",
      "Acetoacetyl-CoA = aacoa_c\n",
      "2,6-Dihydroxycyclohexane-1-carboxyl-CoA = 26dhccoa_c\n",
      "Butanoyl-CoA = btcoa_c\n",
      "(R)-3-Hydroxybutanoyl-CoA = r3hbcoa_c\n",
      "L-Carnitinyl-CoA = crncoa_c\n"
     ]
    }
   ],
   "source": [
    "for metabolite in model.metabolites.query('yl-CoA', 'name'):\n",
    "    print(metabolite.name, '=', metabolite.id)"
   ]
  },
  {
   "cell_type": "markdown",
   "id": "f0e02664-9b93-4fa5-bbbc-56f4c6938a30",
   "metadata": {},
   "source": [
    "Typically, the PHA is composed of monomers that are 2n (n ≥ 0) carbons shorter than the substrates added to the media. For example, growth of _P. oleovorans_ on octanoate ($C\\scriptstyle 8$) generates a PHA copolymer containing $C\\scriptstyle 8$ and $C\\scriptstyle 6$ monomers, whereas growth on dodecanoate ($C\\scriptstyle 12$) generates a PHA containing $C\\scriptstyle 12$, $C\\scriptstyle 10$, $C\\scriptstyle 8$, and $C\\scriptstyle 6$ monomers (Lageveen et al., 1995). Alkanoic acids present in the media are transported into the cell where they are first converted to CoA esters before being directed to the β-oxidation pathway where a number of 3-hydroxyacyl-CoA intermediates can be generated. \n",
    "\n",
    "https://biocyclopedia.com/index/plant_pathways/mediumchainlength_polyhydroxyalkanaote.php\n",
    "\n",
    "mcl-PHAs have **6-14 carbon atoms** in the side chain, so hydroxy-acids with a 6-14 carbon backbone are required.\n",
    " \n",
    "* (3S)-3-Hydroxyadipyl-CoA has a hexanoic acid backbone (X) -> it can react to polyhydroxyhexanoate.\n",
    "* 3-Hydroxypimeloyl-CoA has a heptanoic acid backbone (X) -> it can react to polyhydroxyheptanoate.\n",
    "* 3-Hydroxypropionyl-CoA has a propanoic acid backbone () -> not suitable.\n",
    "* (R)-3-Hydroxybutanoyl-CoA and (S)-3-Hydroxybutanoyl-CoA have a butanoyl backbone () -> not suitable.\n",
    "* (S)-3-Hydroxyisobutyryl-CoA has a methylpropanoic acid backbone () -> not suitable.\n",
    "\n",
    "In the scope of this report, it is assumed that only one type of polyhydroxyalkanoate is produced from the present hydroxyacyls, and the possibility of further degradation of the hydroxyacyl (- 2n carbons) and subsequent incorporation into a polyhydroxyalkanoate is not implemented in the model. Instead, the present hydroxyacyl as well as the added saturated fatty acids are reacting to polyhydroxyalkanoate only in the present version.\n",
    "\n",
    "As only two suitable hydroxy-acyls were identified, it was decided to add further acids into the medium to enable the simulation of the production of different types of PHA."
   ]
  },
  {
   "cell_type": "code",
   "execution_count": 13,
   "id": "a79ad407-2cb6-4603-bf17-d9439d375e07",
   "metadata": {},
   "outputs": [],
   "source": [
    "#check which metabolite-ids are already taken that could resemble PHA-names\n",
    "for metabolite in model.metabolites.query('hexac_e', 'name'):\n",
    "    print(metabolite, metabolite.name)\n",
    "for metabolite in model.metabolites.query('heptac_c', 'name'):\n",
    "    print(metabolite, metabolite.name)\n",
    "for metabolite in model.metabolites.query('octac_c', 'name'):\n",
    "    print(metabolite, metabolite.name)\n",
    "for metabolite in model.metabolites.query('nonac_c', 'name'):\n",
    "    print(metabolite, metabolite.name)\n",
    "for metabolite in model.metabolites.query('decac_c', 'name'):\n",
    "    print(metabolite, metabolite.name)\n",
    "    \n",
    "for metabolite in model.metabolites.query('hexCoA_e', 'name'):\n",
    "    print(metabolite, metabolite.name)\n",
    "for metabolite in model.metabolites.query('heptCoA_c', 'name'):\n",
    "    print(metabolite, metabolite.name)\n",
    "for metabolite in model.metabolites.query('octCoA_c', 'name'):\n",
    "    print(metabolite, metabolite.name)\n",
    "for metabolite in model.metabolites.query('nonCoA_c', 'name'):\n",
    "    print(metabolite, metabolite.name)\n",
    "for metabolite in model.metabolites.query('decCoA_c', 'name'):\n",
    "    print(metabolite, metabolite.name)\n",
    "#nothing got printed meaning none of the names have been used before in the model.\n",
    "\n",
    "#add extracellular saturated fatty acids to media\n",
    "model.add_metabolites([Metabolite(id =\"hexac_e\", name=\"Hexanoic Acid\", compartment = \"e\", formula = \"C6H12O2\")])\n",
    "model.add_metabolites([Metabolite(id =\"heptac_e\", name=\"Heptanoic Acid\", compartment = \"e\", formula = \"C7H14O2\")])\n",
    "model.add_metabolites([Metabolite(id =\"octac_e\", name=\"Octanoic Acid\", compartment = \"e\", formula = \"C8H16O2\")])\n",
    "model.add_metabolites([Metabolite(id =\"nonac_e\", name=\"Nonanoic Acid\", compartment = \"e\", formula = \"C9H18O2\")])\n",
    "model.add_metabolites([Metabolite(id =\"decac_e\", name=\"Decanoic Acid\", compartment = \"e\", formula = \"C10H20O2\")])\n",
    "\n",
    "#add saturated fatty acids within R. eutropha\n",
    "model.add_metabolites([Metabolite(id =\"hexac_c\", name=\"Hexanoic Acid\", compartment = \"c\", formula = \"C6H12O2\")])\n",
    "model.add_metabolites([Metabolite(id =\"heptac_c\", name=\"Heptanoic Acid\", compartment = \"c\", formula = \"C7H14O2\")])\n",
    "model.add_metabolites([Metabolite(id =\"octac_c\", name=\"Octanoic Acid\", compartment = \"c\", formula = \"C8H16O2\")])\n",
    "model.add_metabolites([Metabolite(id =\"nonac_c\", name=\"Nonanoic Acid\", compartment = \"c\", formula = \"C9H18O2\")])\n",
    "model.add_metabolites([Metabolite(id =\"decac_c\", name=\"Decanoic Acid\", compartment = \"c\", formula = \"C10H20O2\")])\n",
    "\n",
    "#add acyl-CoAs\n",
    "model.add_metabolites([Metabolite(id =\"hexCoA_c\", name=\"Hexanoyl-CoA\", compartment = \"c\", formula = \"C6H12O2\")])\n",
    "model.add_metabolites([Metabolite(id =\"heptCoA_c\", name=\"Heptanoyl-CoA\", compartment = \"c\", formula = \"C7H14O2\")])\n",
    "model.add_metabolites([Metabolite(id =\"octCoA_c\", name=\"Octanoyl-CoA\", compartment = \"c\", formula = \"C8H16O2\")])\n",
    "model.add_metabolites([Metabolite(id =\"nonCoA_c\", name=\"Nonanoyl-CoA\", compartment = \"c\", formula = \"C9H18O2\")])\n",
    "model.add_metabolites([Metabolite(id =\"decCoA_c\", name=\"Decanoyl-CoA\", compartment = \"c\", formula = \"C10H20O2\")])"
   ]
  },
  {
   "cell_type": "markdown",
   "id": "4ab6e083-33b0-4b35-8ef0-cf462bf2f16d",
   "metadata": {},
   "source": [
    "Since the PHA synthase accepts only the R-isomer of 3-hydroxyacyl-CoA and the bacterial $\\beta$-oxidation of saturated fatty acids generates only the S-isomer of 3-hydroxyacyl-CoA, bacteria must have enzymes capable of generating R-3-hydroxyacyl-CoA. \n",
    "\n",
    "One potential enzyme is a 3-hydroxyacyl-CoA epimerase, mediating the reversible conversion of the S- and R-isomers of 3-hydroxyacyl-CoA. \n",
    "\n",
    "To turn (3S)-3-Hydroxyadipyl-CoA into its R-epimer this epimerase reaction was added to the model."
   ]
  },
  {
   "cell_type": "code",
   "execution_count": 14,
   "id": "110d0c5b-daba-40c5-93b3-fb14eda4ea70",
   "metadata": {},
   "outputs": [],
   "source": [
    "#creation of R-epimers of (3S)-3-Hydroxyadipyl-CoA\n",
    "#ID is similar to S-epimer with addition of r\n",
    "#this time we also know molecular formula (addition of elements as dict does not work, but copy-pasting of formula from model.metabolites.ID-data does)\n",
    "R3_HADP_COA = Metabolite(id=\"r3hadpcoa_c\", compartment =\"c\", name =\"(3R)-R-Hydroxyadipyl-CoA\", formula = 'C27H44N7O20P3S')\n",
    "\n",
    "epimerase_3hadpcoa_c = Reaction('epimerase_3hadpcoa_c')\n",
    "epimerase_3hadpcoa_c.name = \"Epimerisation of S-Hydroxyadipyl-CoA\"\n",
    "\n",
    "#adding stochiometric data and involved metabolites to new reaction to model the epimerisation\n",
    "epimerase_3hadpcoa_c.add_metabolites({model.metabolites.get_by_id(\"3hadpcoa_c\"): -1,\n",
    "                                model.metabolites.r3hbcoa_c: 1,})\n",
    "#adding the reaction to the model\n",
    "model.add_reactions([epimerase_3hadpcoa_c])"
   ]
  },
  {
   "cell_type": "markdown",
   "id": "6a67d59a-4452-46a3-a7fd-52cd09e6787e",
   "metadata": {},
   "source": [
    "In accordance with (3R)-3-hydroxyacyltransferase (2.3.1.304), the reaction of (3R)-R-Hydroxyadipyl-CoA to PHHx was added to the model."
   ]
  },
  {
   "cell_type": "code",
   "execution_count": 15,
   "id": "597606bb-727f-47a6-941e-2066d9161991",
   "metadata": {},
   "outputs": [],
   "source": [
    "#creating new reaction to model the production of medium-chain-length PHHx from (3R)-R-Hydroxyadipyl-CoA\n",
    "phaC_PHHx_r3hadpcoa_c = Reaction('phaC_PHHx_r3hadpcoa_c')\n",
    "phaC_PHHx_r3hadpcoa_c.name = 'mcl-Polyhydroxyalkanoate synthase for PHHx from (3R)-R-Hydroxyadipyl-CoA'\n",
    "\n",
    "#adding stochiometric data and involved metabolites to new reactions to model the production of PHHx from (3R)-R-Hydroxyadipyl-CoA\n",
    "phaC_PHHx_r3hadpcoa_c.add_metabolites({R3_HADP_COA: -1,\n",
    "                                PHHx: 1, \n",
    "                                    model.metabolites.coa_c: 1,})\n",
    "\n",
    "#adding the reaction to the model\n",
    "model.add_reactions([phaC_PHHx_r3hadpcoa_c])"
   ]
  },
  {
   "cell_type": "markdown",
   "id": "bdb350e3-dc64-4307-a183-57c4dc689213",
   "metadata": {},
   "source": [
    "The saturated fatty acids added to the medium react with coenzyme A to acyl-CoA which is a precursor for PHA.\n",
    "\n",
    "Fatty acid + CoA + ATP <-> Acyl-CoA + ADP + Pi"
   ]
  },
  {
   "cell_type": "code",
   "execution_count": 16,
   "id": "f3cc20d3-bd10-405f-9380-9ba10d0ec718",
   "metadata": {
    "tags": []
   },
   "outputs": [],
   "source": [
    "####TO DO ######\n",
    "\n",
    "#creating new reactions to model the production of Acyl-CoA from fatty acids\n",
    "FACL6_hexac = Reaction(\"FACL6_hexac\")\n",
    "FACL6_hexac.name = 'Hexanoyl-CoA synthase'\n",
    "FACL6_hexac.lower_bound = -1000\n",
    "\n",
    "FACL6_heptac = Reaction('FACL6_heptac')\n",
    "FACL6_heptac.name = 'Heptanoyl-CoA synthase'\n",
    "FACL6_heptac.lower_bound = -1000\n",
    "\n",
    "FACL6_octac = Reaction('FACL6_octac')\n",
    "FACL6_octac.name = \"Octanoyl-CoA synthase\"\n",
    "FACL6_octac.lower_bound = -1000\n",
    "\n",
    "FACL6_nonac = Reaction('FACL6_nonac')\n",
    "FACL6_nonac.name = 'Nonanoyl-CoA synthase'\n",
    "FACL6_nonac.lower_bound = -1000\n",
    "\n",
    "FACL6_decac = Reaction('FACL6_decac')\n",
    "FACL6_decac.name = \"Decanoyl-CoA synthase\"\n",
    "FACL6_decac.lower_bound = -1000\n",
    "\n",
    "#adding stochiometric data and involved metabolites to new reactions to model to produce acyl-CoA from the fatty acids\n",
    "FACL6_hexac.add_metabolites({model.metabolites.hexac_c: -1,\n",
    "                                   model.metabolites.coa_c: -1,\n",
    "                                   model.metabolites.atp_c: -1,\n",
    "                                model.metabolites.hexCoA_c: 1,\n",
    "                                   model.metabolites.adp_c: 1, \n",
    "                                   model.metabolites.pi_c: 1,\n",
    "                                   })\n",
    "FACL6_heptac.add_metabolites({model.metabolites.heptac_c: -1,\n",
    "                                   model.metabolites.coa_c: -1,\n",
    "                              model.metabolites.atp_c: -1,\n",
    "                                model.metabolites.heptCoA_c: 1,\n",
    "                               model.metabolites.adp_c: 1, \n",
    "                                   model.metabolites.pi_c: 1,\n",
    "                                   })\n",
    "FACL6_octac.add_metabolites({model.metabolites.octac_c: -1,\n",
    "                                   model.metabolites.coa_c: -1,\n",
    "                             model.metabolites.atp_c: -1,\n",
    "                                model.metabolites.octCoA_c: 1,\n",
    "                             model.metabolites.adp_c: 1, \n",
    "                                   model.metabolites.pi_c: 1,\n",
    "                                   })\n",
    "FACL6_nonac.add_metabolites({model.metabolites.nonac_c: -1,\n",
    "                                   model.metabolites.coa_c: -1,\n",
    "                             model.metabolites.atp_c: -1,\n",
    "                                model.metabolites.nonCoA_c: 1,\n",
    "                             model.metabolites.adp_c: 1, \n",
    "                                   model.metabolites.pi_c: 1,\n",
    "                                   })\n",
    "FACL6_decac.add_metabolites({model.metabolites.decac_c: -1,\n",
    "                                   model.metabolites.coa_c: -1,\n",
    "                             model.metabolites.atp_c: -1,\n",
    "                                model.metabolites.decCoA_c: 1,\n",
    "                                 model.metabolites.adp_c: 1, \n",
    "                                   model.metabolites.pi_c: 1,\n",
    "                                   })\n",
    "\n",
    "#adding the reactions to the model\n",
    "model.add_reactions([FACL6_hexac])\n",
    "model.add_reactions([FACL6_heptac])\n",
    "model.add_reactions([FACL6_octac])\n",
    "model.add_reactions([FACL6_nonac])\n",
    "model.add_reactions([FACL6_decac])"
   ]
  },
  {
   "cell_type": "markdown",
   "id": "3e08b457-5394-41db-9f5c-e16241d28d18",
   "metadata": {},
   "source": [
    "Afterwards, the reaction of Acyl-CoA to PHA was added.\n",
    "As already mentioned above, it has been modelled according to \n",
    " > hydroxyacyl-CoA -> CoA + polyhydroxyalkanoate"
   ]
  },
  {
   "cell_type": "code",
   "execution_count": 17,
   "id": "7826612a-22f9-41f8-8483-be76f2920a32",
   "metadata": {},
   "outputs": [],
   "source": [
    "#creating new reactions to model to produce medium-chain-length PHA from the acyl-CoAs\n",
    "\n",
    "phaC_PHHx_hexCoA = Reaction('phaC_PHHx_hexCoA')\n",
    "phaC_PHHx_hexCoA.name = 'mcl PHA synthase from hexanoyl-CoA'\n",
    "\n",
    "phaC_PHH_heptCoA = Reaction('phaC_PHH_heptCoA')\n",
    "phaC_PHH_heptCoA.name = 'mcl PHA synthase from heptanoyl-CoA'\n",
    "\n",
    "phaC_PHHO_octCoA = Reaction('phaC_PHHO_octCoA')\n",
    "phaC_PHHO_octCoA.name = 'mcl PHA synthase from octanoyl-CoA'\n",
    "\n",
    "phaC_PHN_nonCoA = Reaction('phaC_PHN_nonCoA')\n",
    "phaC_PHN_nonCoA.name = 'mcl PHA synthase from nonanoyl-CoA'\n",
    "\n",
    "phaC_PHD_decCoA = Reaction('phaC_PHD_decCoA')\n",
    "phaC_PHD_decCoA.name = 'mcl PHA synthase from decanoyl-CoA'\n",
    "\n",
    "\n",
    "#adding stochiometric data and involved metabolites to new reactions to model the production of mcl-PHAs from 3-Hydroxypropionyl-CoA\n",
    "phaC_PHHx_hexCoA.add_metabolites({model.metabolites.get_by_id(\"hexCoA_c\"): -1,\n",
    "                                PHHx: 1, \n",
    "                                    model.metabolites.coa_c: 1,})\n",
    "phaC_PHH_heptCoA.add_metabolites({model.metabolites.get_by_id(\"heptCoA_c\"): -1,\n",
    "                                PHH: 1, \n",
    "                                   model.metabolites.coa_c: 1,})\n",
    "phaC_PHHO_octCoA.add_metabolites({model.metabolites.get_by_id(\"octCoA_c\"): -1,\n",
    "                                PHHO: 1, \n",
    "                                    model.metabolites.coa_c: 1,})\n",
    "phaC_PHN_nonCoA.add_metabolites({model.metabolites.get_by_id(\"nonCoA_c\"): -1,\n",
    "                                PHN: 1, \n",
    "                                   model.metabolites.coa_c: 1,})\n",
    "phaC_PHD_decCoA.add_metabolites({model.metabolites.get_by_id(\"decCoA_c\"): -1,\n",
    "                                PHD: 1, \n",
    "                                   model.metabolites.coa_c: 1,})\n",
    "\n",
    "#adding the reactions to the model\n",
    "model.add_reactions([phaC_PHHx_hexCoA])\n",
    "model.add_reactions([phaC_PHH_heptCoA])\n",
    "model.add_reactions([phaC_PHHO_octCoA])\n",
    "model.add_reactions([phaC_PHN_nonCoA])\n",
    "model.add_reactions([phaC_PHD_decCoA])"
   ]
  },
  {
   "cell_type": "code",
   "execution_count": 18,
   "id": "8b6da0e3-109d-4c68-9c6b-85d284225ed2",
   "metadata": {},
   "outputs": [
    {
     "name": "stdout",
     "output_type": "stream",
     "text": [
      "phaC_PHHx_r3hadpcoa_c: r3hadpcoa_c --> coa_c + phhx_c mcl-Polyhydroxyalkanoate synthase for PHHx from (3R)-R-Hydroxyadipyl-CoA\n",
      "phaC_PHHx_hexCoA: hexCoA_c --> coa_c + phhx_c mcl PHA synthase from hexanoyl-CoA\n"
     ]
    }
   ],
   "source": [
    "#check whether addition was successful\n",
    "for reactions in model.metabolites.get_by_id(\"phhx_c\").reactions:\n",
    "    print(reactions, reactions.name)"
   ]
  },
  {
   "cell_type": "markdown",
   "id": "ff475700-7d12-4ce0-abf3-3c6a904a7f52",
   "metadata": {},
   "source": [
    "To enable the created flux analysis and calculate yields, the excretion of PHA was added, according to the following reaction: \n",
    "\n",
    "> PHA$\\scriptstyle c$  + H$^+$$\\scriptstyle c$ --> PHA$\\scriptstyle e$ + H$^+$$\\scriptstyle e$\n",
    "\n",
    "This reaction was added in accordance with the transport for PHB which was already included in the model: \n",
    "_h_c + phb_c --> h_e + phb_e Poly-beta-hydroxybutyrate transport_\n",
    "\n",
    "_generally, PHA gets accumulated intracellularly as granules, but for the sake of improvement of flux we assume that the PHA gets excreted_"
   ]
  },
  {
   "cell_type": "code",
   "execution_count": 19,
   "id": "679db87b-c4da-42de-8317-6ce04152cc69",
   "metadata": {},
   "outputs": [
    {
     "data": {
      "text/html": [
       "\n",
       "        <table>\n",
       "            <tr>\n",
       "                <td><strong>Reaction identifier</strong></td><td>EX_phn_e</td>\n",
       "            </tr><tr>\n",
       "                <td><strong>Name</strong></td><td>Polyhydroxynonaoate exchange</td>\n",
       "            </tr><tr>\n",
       "                <td><strong>Memory address</strong></td>\n",
       "                <td>0x024b6b6f9d00</td>\n",
       "            </tr><tr>\n",
       "                <td><strong>Stoichiometry</strong></td>\n",
       "                <td>\n",
       "                    <p style='text-align:right'>phn_e <=></p>\n",
       "                    <p style='text-align:right'>Polyhydroxynonaoate <=></p>\n",
       "                </td>\n",
       "            </tr><tr>\n",
       "                <td><strong>GPR</strong></td><td></td>\n",
       "            </tr><tr>\n",
       "                <td><strong>Lower bound</strong></td><td>-1000.0</td>\n",
       "            </tr><tr>\n",
       "                <td><strong>Upper bound</strong></td><td>1000.0</td>\n",
       "            </tr>\n",
       "        </table>\n",
       "        "
      ],
      "text/plain": [
       "<Reaction EX_phn_e at 0x24b6b6f9d00>"
      ]
     },
     "execution_count": 19,
     "metadata": {},
     "output_type": "execute_result"
    }
   ],
   "source": [
    "#adding the exchange reaction to move the PHA outside of the cytosol\n",
    "\n",
    "#exchange for polyhydroxyhexanoate (phhx)\n",
    "phhx_exchange = Reaction(\"phhx_exchange\")\n",
    "#phhx_exchange.lower_bound = -1000\n",
    "\n",
    "#exchange for polyhydroxyheptanoate (phh)\n",
    "phh_exchange = Reaction(\"phh_exchange\")\n",
    "#phh_exchange.lower_bound = -1000\n",
    "\n",
    "#exchange for polyhydroxyoctanoate (phho)\n",
    "phho_exchange = Reaction(\"phho_exchange\")\n",
    "#phho_exchange.lower_bound = -1000\n",
    "\n",
    "#exchange for polyhydroxynonanoate (phn)\n",
    "phn_exchange = Reaction(\"phn_exchange\")\n",
    "#phn_exchange.lower_bound = -1000\n",
    "\n",
    "#exchange for polyhydroxydecanoate (phd)\n",
    "phd_exchange = Reaction(\"phd_exchange\")\n",
    "#phd_exchange.lower_bound = -1000\n",
    "\n",
    "#adding stochiometric data and involved metabolites to move PHA from the inside of the cell to the outside (Polyhydroxyalkanoate transport)\n",
    "phhx_exchange.add_metabolites({model.metabolites.h_c: -1,\n",
    "                                PHHx: -1,\n",
    "                                   model.metabolites.h_e: 1,\n",
    "                                    PHHx_E: 1,})\n",
    "\n",
    "phh_exchange.add_metabolites({model.metabolites.h_c: -1,\n",
    "                                PHH: -1,\n",
    "                                   model.metabolites.h_e: 1,\n",
    "                                    PHH_E: 1,})\n",
    "\n",
    "phho_exchange.add_metabolites({model.metabolites.h_c: -1,\n",
    "                                PHHO: -1,\n",
    "                                   model.metabolites.h_e: 1,\n",
    "                                    PHHO_E: 1,})\n",
    "\n",
    "phn_exchange.add_metabolites({model.metabolites.h_c: -1,\n",
    "                                PHN: -1,\n",
    "                                   model.metabolites.h_e: 1,\n",
    "                                    PHN_E: 1,})\n",
    "\n",
    "phd_exchange.add_metabolites({model.metabolites.h_c: -1,\n",
    "                                PHD: -1,\n",
    "                                   model.metabolites.h_e: 1,\n",
    "                                    PHD_E: 1,})\n",
    "\n",
    "#adding the reactions to the model\n",
    "model.add_reactions([phhx_exchange])\n",
    "model.add_reactions([phh_exchange])\n",
    "model.add_reactions([phho_exchange])\n",
    "model.add_reactions([phn_exchange])\n",
    "model.add_reactions([phd_exchange])\n",
    "\n",
    "#create exchange reactions\n",
    "model.add_boundary(model.metabolites.get_by_id('phhx_e'), type=\"exchange\")\n",
    "model.add_boundary(model.metabolites.get_by_id('phh_e'), type=\"exchange\")\n",
    "model.add_boundary(model.metabolites.get_by_id('phho_e'), type=\"exchange\")\n",
    "model.add_boundary(model.metabolites.get_by_id('phd_e'), type=\"exchange\")\n",
    "model.add_boundary(model.metabolites.get_by_id('phn_e'), type=\"exchange\")"
   ]
  },
  {
   "cell_type": "code",
   "execution_count": 20,
   "id": "d6dfbc80-b381-4c03-b4fe-a93d91c2dc4d",
   "metadata": {},
   "outputs": [
    {
     "name": "stdout",
     "output_type": "stream",
     "text": [
      "Max. pha production [mmol gDW^-1 h^-1]: 0.0\n"
     ]
    },
    {
     "ename": "ZeroDivisionError",
     "evalue": "float division by zero",
     "output_type": "error",
     "traceback": [
      "\u001b[1;31m---------------------------------------------------------------------------\u001b[0m",
      "\u001b[1;31mZeroDivisionError\u001b[0m                         Traceback (most recent call last)",
      "\u001b[1;32m<ipython-input-20-14ff024f5234>\u001b[0m in \u001b[0;36m<module>\u001b[1;34m\u001b[0m\n\u001b[0;32m      6\u001b[0m \u001b[0mphn_production_fru\u001b[0m \u001b[1;33m=\u001b[0m \u001b[0mmodel\u001b[0m\u001b[1;33m.\u001b[0m\u001b[0moptimize\u001b[0m\u001b[1;33m(\u001b[0m\u001b[1;33m)\u001b[0m\u001b[1;33m.\u001b[0m\u001b[0mobjective_value\u001b[0m\u001b[1;33m\u001b[0m\u001b[1;33m\u001b[0m\u001b[0m\n\u001b[0;32m      7\u001b[0m \u001b[0mprint\u001b[0m\u001b[1;33m(\u001b[0m\u001b[1;34m\"Max. pha production [mmol gDW^-1 h^-1]:\"\u001b[0m\u001b[1;33m,\u001b[0m \u001b[0mphn_production_fru\u001b[0m\u001b[1;33m)\u001b[0m\u001b[1;33m\u001b[0m\u001b[1;33m\u001b[0m\u001b[0m\n\u001b[1;32m----> 8\u001b[1;33m \u001b[0mprint\u001b[0m\u001b[1;33m(\u001b[0m\u001b[1;34m\"Theoretical max. yield [mmol-pha / mmol-fru]:\"\u001b[0m\u001b[1;33m,\u001b[0m \u001b[0mphn_production_fru\u001b[0m \u001b[1;33m/\u001b[0m \u001b[1;33m(\u001b[0m\u001b[1;33m-\u001b[0m\u001b[1;36m1\u001b[0m\u001b[1;33m*\u001b[0m\u001b[0mmodel\u001b[0m\u001b[1;33m.\u001b[0m\u001b[0mreactions\u001b[0m\u001b[1;33m.\u001b[0m\u001b[0mEX_fru_e\u001b[0m\u001b[1;33m.\u001b[0m\u001b[0mflux\u001b[0m\u001b[1;33m)\u001b[0m\u001b[1;33m)\u001b[0m\u001b[1;33m\u001b[0m\u001b[1;33m\u001b[0m\u001b[0m\n\u001b[0m",
      "\u001b[1;31mZeroDivisionError\u001b[0m: float division by zero"
     ]
    }
   ],
   "source": [
    "#### improve flux towards the newly added polyhydroxyhexanoate\n",
    "medium = model.medium\n",
    "medium ['EX_fru_e'] = 10\n",
    "\n",
    "model.objective = model.reactions.EX_phn_e\n",
    "phn_production_fru = model.optimize().objective_value\n",
    "print(\"Max. pha production [mmol gDW^-1 h^-1]:\", phn_production_fru)\n",
    "print(\"Theoretical max. yield [mmol-pha / mmol-fru]:\", phn_production_fru / (-1*model.reactions.EX_fru_e.flux))"
   ]
  },
  {
   "cell_type": "code",
   "execution_count": null,
   "id": "333368b3-98a5-45f1-8f9c-a3929ddfeb27",
   "metadata": {},
   "outputs": [],
   "source": [
    "###WHY? \n",
    "model.reactions.EX_fru_e.flux"
   ]
  },
  {
   "cell_type": "code",
   "execution_count": null,
   "id": "3e1c93da-435b-4f0f-b775-b73789e3aa36",
   "metadata": {},
   "outputs": [],
   "source": []
  }
 ],
 "metadata": {
  "kernelspec": {
   "display_name": "Python 3",
   "language": "python",
   "name": "python3"
  },
  "language_info": {
   "codemirror_mode": {
    "name": "ipython",
    "version": 3
   },
   "file_extension": ".py",
   "mimetype": "text/x-python",
   "name": "python",
   "nbconvert_exporter": "python",
   "pygments_lexer": "ipython3",
   "version": "3.8.8"
  }
 },
 "nbformat": 4,
 "nbformat_minor": 5
}
