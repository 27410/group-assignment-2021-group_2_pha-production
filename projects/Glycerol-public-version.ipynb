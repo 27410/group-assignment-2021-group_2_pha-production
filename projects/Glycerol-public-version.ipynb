{
 "cells": [
  {
   "cell_type": "code",
   "execution_count": 1,
   "metadata": {},
   "outputs": [],
   "source": [
    "import cobra.test\n",
    "import os\n",
    "from os.path import join\n",
    "from cobra.io import read_sbml_model\n",
    "model = cobra.io.load_json_model(join(\"RehMBEL1391_sbml_L3V1.json\"))\n",
    "from cobra import Model, Reaction, Metabolite"
   ]
  },
  {
   "cell_type": "markdown",
   "metadata": {
    "tags": []
   },
   "source": [
    "# Adding glycerol to the medium"
   ]
  },
  {
   "cell_type": "markdown",
   "metadata": {},
   "source": [
    "**Current carbon source: Fructose**"
   ]
  },
  {
   "cell_type": "markdown",
   "metadata": {},
   "source": [
    "**Model information:**"
   ]
  },
  {
   "cell_type": "code",
   "execution_count": 2,
   "metadata": {
    "tags": []
   },
   "outputs": [
    {
     "data": {
      "text/html": [
       "\n",
       "        <table>\n",
       "            <tr>\n",
       "                <td><strong>Name</strong></td>\n",
       "                <td>RehMBEL1391</td>\n",
       "            </tr><tr>\n",
       "                <td><strong>Memory address</strong></td>\n",
       "                <td>0x07f877e096c70</td>\n",
       "            </tr><tr>\n",
       "                <td><strong>Number of metabolites</strong></td>\n",
       "                <td>1348</td>\n",
       "            </tr><tr>\n",
       "                <td><strong>Number of reactions</strong></td>\n",
       "                <td>1538</td>\n",
       "            </tr><tr>\n",
       "                <td><strong>Number of groups</strong></td>\n",
       "                <td>0</td>\n",
       "            </tr><tr>\n",
       "                <td><strong>Objective expression</strong></td>\n",
       "                <td>1.0*Biomass - 1.0*Biomass_reverse_57a34</td>\n",
       "            </tr><tr>\n",
       "                <td><strong>Compartments</strong></td>\n",
       "                <td>c, e</td>\n",
       "            </tr>\n",
       "          </table>"
      ],
      "text/plain": [
       "<Model RehMBEL1391 at 0x7f877e096c70>"
      ]
     },
     "execution_count": 2,
     "metadata": {},
     "output_type": "execute_result"
    }
   ],
   "source": [
    "model"
   ]
  },
  {
   "cell_type": "markdown",
   "metadata": {},
   "source": [
    "**Uptake and secrection of raw model**"
   ]
  },
  {
   "cell_type": "code",
   "execution_count": 3,
   "metadata": {
    "tags": []
   },
   "outputs": [
    {
     "data": {
      "text/html": [
       "<h3>Objective</h3><p>1.0 Biomass = 0.2852858664276789</p><h4>Uptake</h4><table border=\"1\" class=\"dataframe\">\n",
       "  <thead>\n",
       "    <tr style=\"text-align: right;\">\n",
       "      <th>Metabolite</th>\n",
       "      <th>Reaction</th>\n",
       "      <th>Flux</th>\n",
       "      <th>C-Number</th>\n",
       "      <th>C-Flux</th>\n",
       "    </tr>\n",
       "  </thead>\n",
       "  <tbody>\n",
       "    <tr>\n",
       "      <td>fe2_e</td>\n",
       "      <td>EX_fe2_e</td>\n",
       "      <td>6.333E-05</td>\n",
       "      <td>0</td>\n",
       "      <td>0.00%</td>\n",
       "    </tr>\n",
       "    <tr>\n",
       "      <td>fru_e</td>\n",
       "      <td>EX_fru_e</td>\n",
       "      <td>3</td>\n",
       "      <td>6</td>\n",
       "      <td>100.00%</td>\n",
       "    </tr>\n",
       "    <tr>\n",
       "      <td>h_e</td>\n",
       "      <td>EX_h_e</td>\n",
       "      <td>10.72</td>\n",
       "      <td>0</td>\n",
       "      <td>0.00%</td>\n",
       "    </tr>\n",
       "    <tr>\n",
       "      <td>nh4_e</td>\n",
       "      <td>EX_nh4_e</td>\n",
       "      <td>3.038</td>\n",
       "      <td>0</td>\n",
       "      <td>0.00%</td>\n",
       "    </tr>\n",
       "    <tr>\n",
       "      <td>o2_e</td>\n",
       "      <td>EX_o2_e</td>\n",
       "      <td>5.734</td>\n",
       "      <td>0</td>\n",
       "      <td>0.00%</td>\n",
       "    </tr>\n",
       "    <tr>\n",
       "      <td>pi_e</td>\n",
       "      <td>EX_pi_e</td>\n",
       "      <td>7.987</td>\n",
       "      <td>0</td>\n",
       "      <td>0.00%</td>\n",
       "    </tr>\n",
       "    <tr>\n",
       "      <td>so4_e</td>\n",
       "      <td>EX_so4_e</td>\n",
       "      <td>0.05797</td>\n",
       "      <td>0</td>\n",
       "      <td>0.00%</td>\n",
       "    </tr>\n",
       "  </tbody>\n",
       "</table><h4>Secretion</h4><table border=\"1\" class=\"dataframe\">\n",
       "  <thead>\n",
       "    <tr style=\"text-align: right;\">\n",
       "      <th>Metabolite</th>\n",
       "      <th>Reaction</th>\n",
       "      <th>Flux</th>\n",
       "      <th>C-Number</th>\n",
       "      <th>C-Flux</th>\n",
       "    </tr>\n",
       "  </thead>\n",
       "  <tbody>\n",
       "    <tr>\n",
       "      <td>BIOMASS_c</td>\n",
       "      <td>EX_BIOMASS_c</td>\n",
       "      <td>-0.2853</td>\n",
       "      <td>0</td>\n",
       "      <td>0.00%</td>\n",
       "    </tr>\n",
       "    <tr>\n",
       "      <td>co2_e</td>\n",
       "      <td>EX_co2_e</td>\n",
       "      <td>-6.151</td>\n",
       "      <td>1</td>\n",
       "      <td>100.00%</td>\n",
       "    </tr>\n",
       "    <tr>\n",
       "      <td>h2o_e</td>\n",
       "      <td>EX_h2o_e</td>\n",
       "      <td>-23.87</td>\n",
       "      <td>0</td>\n",
       "      <td>0.00%</td>\n",
       "    </tr>\n",
       "  </tbody>\n",
       "</table>"
      ],
      "text/plain": [
       "<cobra.summary.model_summary.ModelSummary at 0x7f877f2356d0>"
      ]
     },
     "execution_count": 3,
     "metadata": {},
     "output_type": "execute_result"
    }
   ],
   "source": [
    "model.summary()"
   ]
  },
  {
   "cell_type": "markdown",
   "metadata": {},
   "source": [
    "## Checking if the model can currently uptake glycerol "
   ]
  },
  {
   "cell_type": "code",
   "execution_count": 4,
   "metadata": {},
   "outputs": [],
   "source": [
    "for metabolite in model.metabolites.query('glycerin', 'name'):\n",
    "    print(metabolite.name)"
   ]
  },
  {
   "cell_type": "code",
   "execution_count": 5,
   "metadata": {
    "tags": []
   },
   "outputs": [
    {
     "name": "stdout",
     "output_type": "stream",
     "text": [
      "CDP-diacylglycerol\n",
      "D-erythro-1-(Imidazol-4-yl)glycerol 3-phosphate\n",
      "Triacylglycerol\n",
      "1,2-Diacyl-sn-glycerol\n",
      "Phosphatidylglycerol\n",
      "Glycerophosphoglycerol\n",
      "1-Acyl-sn-glycerol 3-phosphate\n",
      "1-Acylglycerol\n",
      "C1-(3-Indolyl)-glycerol 3-phosphate\n"
     ]
    }
   ],
   "source": [
    "for metabolite in model.metabolites.query('glycerol', 'name'):\n",
    "    print(metabolite.name)"
   ]
  },
  {
   "cell_type": "markdown",
   "metadata": {
    "tags": []
   },
   "source": [
    "-> No glycerol uptake pathway in the current model"
   ]
  },
  {
   "cell_type": "markdown",
   "metadata": {
    "tags": []
   },
   "source": [
    "## Adding a new glycerolipid pathway"
   ]
  },
  {
   "cell_type": "markdown",
   "metadata": {},
   "source": [
    "### First reaction: Glycerol dehydrogenase "
   ]
  },
  {
   "cell_type": "markdown",
   "metadata": {},
   "source": [
    "Check if the metabolites of this reaction already exist in the model. If not adding missing metabolites."
   ]
  },
  {
   "cell_type": "code",
<<<<<<< HEAD
   "execution_count": 6,
   "id": "3ebf2882",
=======
   "execution_count": 28,
>>>>>>> e3af92e42a426ba3074e200562e35cb5edc8ce26
   "metadata": {
    "tags": []
   },
   "outputs": [
    {
     "name": "stdout",
     "output_type": "stream",
     "text": [
      "Check glycerol\n",
      "CDP-diacylglycerol\n",
      "D-erythro-1-(Imidazol-4-yl)glycerol 3-phosphate\n",
      "Triacylglycerol\n",
      "1,2-Diacyl-sn-glycerol\n",
      "Phosphatidylglycerol\n",
      "Glycerophosphoglycerol\n",
      "1-Acyl-sn-glycerol 3-phosphate\n",
      "1-Acylglycerol\n",
      "C1-(3-Indolyl)-glycerol 3-phosphate\n",
      "____________________________\n",
      "Check NADP+\n",
      "nadp_c\n",
      "____________________________\n",
      "Check D-glyceraldehyde\n",
      "____________________________\n",
      "Check NADPH\n",
      "nadph_c\n",
      "____________________________\n",
      "Check H+\n"
     ]
    }
   ],
   "source": [
    "print(\"Check glycerol\")\n",
    "for metabolite in model.metabolites.query('glycerol', 'name'):\n",
    "    print(metabolite.name)\n",
    "model.add_metabolites([Metabolite(\"glycerol_c\", formula='C3H8O3', name=\"glycerol_c\", compartment = \"c\")])\n",
    "print(\"____________________________\")\n",
    "\n",
    "print(\"Check NADP+\")\n",
    "for metabolite in model.metabolites.query('nadp', 'name'):\n",
    "    print(metabolite.name)\n",
    "print(model.metabolites.nadp_c)\n",
    "print(\"____________________________\")\n",
    "\n",
    "### Check for D-glyceraldehyde\n",
    "print(\"Check D-glyceraldehyde\")\n",
    "for metabolite in model.metabolites.query('d-glyceraldehyde', 'name'):\n",
    "    print(metabolite.name)\n",
    "model.add_metabolites([Metabolite(\"glyceraldehyde_c\", formula='C3H6O3', name=\"glyceraldehyde_c\", compartment = \"c\")])\n",
    "print(\"____________________________\")\n",
    "\n",
    "### Check for NADPH\n",
    "print(\"Check NADPH\")\n",
    "for metabolite in model.metabolites.query('nadph', 'name'):\n",
    "    print(metabolite.name)\n",
    "print(model.metabolites.nadph_c)\n",
    "print(\"____________________________\")\n",
    "\n",
    "### Check for  H+\n",
    "print(\"Check H+\")\n",
    "for metabolite in model.metabolites.query('h_c', 'name'):\n",
    "    print(metabolite.name)\n",
    "\n"
   ]
  },
  {
   "cell_type": "markdown",
   "metadata": {},
   "source": [
    "Add reaction glycerol dehydrogenase: Glycerol + NADP+ = D-glyceraldehyde + NADPH + H+"
   ]
  },
  {
   "cell_type": "code",
<<<<<<< HEAD
   "execution_count": 7,
   "id": "4b4f0482",
=======
   "execution_count": 29,
>>>>>>> e3af92e42a426ba3074e200562e35cb5edc8ce26
   "metadata": {
    "tags": []
   },
   "outputs": [
    {
     "name": "stdout",
     "output_type": "stream",
     "text": [
      "glycerol_c + nadp_c --> glyceraldehyde_c + h_c + nadph_c\n"
     ]
    },
    {
     "data": {
      "text/html": [
       "\n",
       "        <table>\n",
       "            <tr>\n",
       "                <td><strong>Reaction identifier</strong></td><td>Gly_deh</td>\n",
       "            </tr><tr>\n",
       "                <td><strong>Name</strong></td><td></td>\n",
       "            </tr><tr>\n",
       "                <td><strong>Memory address</strong></td>\n",
       "                <td>0x07f878038d250</td>\n",
       "            </tr><tr>\n",
       "                <td><strong>Stoichiometry</strong></td>\n",
       "                <td>\n",
       "                    <p style='text-align:right'>glycerol_c + nadp_c --> glyceraldehyde_c + h_c + nadph_c</p>\n",
       "                    <p style='text-align:right'>glycerol_c + Nicotinamide adenine dinucleotide phosphate --> glyceraldehyde_c + H+ + Nicotinamide adenine dinucleotide phosphate -reduced</p>\n",
       "                </td>\n",
       "            </tr><tr>\n",
       "                <td><strong>GPR</strong></td><td></td>\n",
       "            </tr><tr>\n",
       "                <td><strong>Lower bound</strong></td><td>0.0</td>\n",
       "            </tr><tr>\n",
       "                <td><strong>Upper bound</strong></td><td>1000.0</td>\n",
       "            </tr>\n",
       "        </table>\n",
       "        "
      ],
      "text/plain": [
       "<Reaction Gly_deh at 0x7f878038d250>"
      ]
     },
     "execution_count": 7,
     "metadata": {},
     "output_type": "execute_result"
    }
   ],
   "source": [
    "Glycerol_dehydrogenase = Reaction('Gly_deh') \n",
    "Glycerol_dehydrogenase.add_metabolites({model.metabolites.glycerol_c: -1,\n",
    "                            model.metabolites.nadp_c: -1,\n",
    "                             model.metabolites.glyceraldehyde_c: 1,\n",
    "                          model.metabolites.nadph_c: 1,\n",
    "                            model.metabolites.h_c: 1, \n",
    "                              })\n",
    "print(Glycerol_dehydrogenase.build_reaction_string())\n",
    "model.add_reactions([Glycerol_dehydrogenase])\n",
    "model.reactions.Gly_deh\n"
   ]
  },
  {
   "cell_type": "code",
<<<<<<< HEAD
   "execution_count": 8,
   "id": "e6303c43-52a9-4bb3-a029-c03589cf2d08",
=======
   "execution_count": 30,
>>>>>>> e3af92e42a426ba3074e200562e35cb5edc8ce26
   "metadata": {
    "tags": []
   },
   "outputs": [],
   "source": [
    "#model.metabolites.glycerol_c"
   ]
  },
  {
   "cell_type": "markdown",
   "metadata": {
    "tags": []
   },
   "source": [
    "### Add glycerol as an exchange reaction in to the model "
   ]
  },
  {
   "cell_type": "code",
<<<<<<< HEAD
   "execution_count": 9,
   "id": "624cdbcd-beea-4c9f-8b45-d5da2148cd4e",
=======
   "execution_count": 31,
>>>>>>> e3af92e42a426ba3074e200562e35cb5edc8ce26
   "metadata": {},
   "outputs": [],
   "source": [
    "model.add_metabolites([Metabolite(\"glycerol_e\", formula='C3H8O3', name=\"glycerol_e\", compartment = \"e\")])\n",
    "model.add_boundary(model.metabolites.get_by_id(\"glycerol_e\"), type=\"exchange\")\n",
    "Glycerol_import = Reaction(\"glyc_imp\")\n",
    "Glycerol_import.add_metabolites({model.metabolites.glycerol_e: -1, model.metabolites.glycerol_c: 1})\n",
    "model.add_reactions([Glycerol_import])"
   ]
  },
  {
   "cell_type": "code",
<<<<<<< HEAD
   "execution_count": 10,
   "id": "14ee6e6c-e472-4484-b492-4c272fac6e83",
=======
   "execution_count": 32,
>>>>>>> e3af92e42a426ba3074e200562e35cb5edc8ce26
   "metadata": {},
   "outputs": [],
   "source": [
    "Glycerol_import.lower_bound = - 3 "
   ]
  },
  {
   "cell_type": "code",
<<<<<<< HEAD
   "execution_count": 11,
   "id": "c46d7433-e9a8-4f3b-af74-201514927164",
=======
   "execution_count": 33,
>>>>>>> e3af92e42a426ba3074e200562e35cb5edc8ce26
   "metadata": {},
   "outputs": [],
   "source": [
    "#model.reactions.glyc_imp"
   ]
  },
  {
   "cell_type": "code",
<<<<<<< HEAD
   "execution_count": 12,
   "id": "6faab701-deaf-4f28-8f7b-6b29b136472c",
=======
   "execution_count": 34,
>>>>>>> e3af92e42a426ba3074e200562e35cb5edc8ce26
   "metadata": {},
   "outputs": [],
   "source": [
    "#model.summary()\n",
    "#model.reactions.EX_fru_e"
   ]
  },
  {
   "cell_type": "markdown",
   "metadata": {},
   "source": [
    "### Second reaction: Aldehyde dehydrogenase"
   ]
  },
  {
   "cell_type": "markdown",
   "metadata": {},
   "source": [
    "Check if the metabolites of this reaction already exist in the model. If not adding missing metabolites."
   ]
  },
  {
   "cell_type": "code",
<<<<<<< HEAD
   "execution_count": 13,
   "id": "efbf981b-9124-4e7d-98bd-adc17c8a6c27",
=======
   "execution_count": 35,
>>>>>>> e3af92e42a426ba3074e200562e35cb5edc8ce26
   "metadata": {
    "tags": []
   },
   "outputs": [
    {
     "name": "stdout",
     "output_type": "stream",
     "text": [
      "Check aldehyde\n",
      "5-Chloro-2-hydroxymuconic semialdehyde\n",
      "3,4-Dihydroxymandelaldehyde\n",
      "Phenylacetaldehyde\n",
      "Betaine aldehyde\n",
      "L-Glutamate 1-semialdehyde\n",
      "D-Glyceraldehyde 3-phosphate\n",
      "Methylimidazole acetaldehyde\n",
      "Imidazole-4-acetaldehyde\n",
      "4-Carboxy-2-hydroxymuconate semialdehyde\n",
      "Sulfoacetaldehyde\n",
      "2-Amino-3-carboxymuconate semialdehyde\n",
      "L-Aspartate 4-semialdehyde\n",
      "Indole-3-acetaldehyde\n",
      "Gentisate aldehyde\n",
      "3-Chloro-2-hydroxymuconic semialdehyde\n",
      "beta-Aminopropion aldehyde\n",
      "Aminoacetaldehyde\n",
      "Fluoroacetaldehyde\n",
      "Acetaldehyde\n",
      "Acetaldehyde\n",
      "3-Methoxy-4-hydroxyphenylacetaldehyde\n",
      "(Z)-4-Hydroxyphenylacetaldehyde-oxime\n",
      "L-4-Hydroxyglutamate semialdehyde\n",
      "N-Acetyl-L-glutamate 5-semialdehyde\n",
      "L-Glutamate 5-semialdehyde\n",
      "2-Naphthaldehyde\n",
      "3-Chloroallyl aldehyde\n",
      "L-Lactaldehyde\n",
      "Succinate semialdehyde-thiamin diphosphate anion\n",
      "Glycolaldehyde\n",
      "4-Hydroxymethylsalicylaldehyde\n",
      "D-Lactaldehyde\n",
      "2-Hydroxy-5-methyl-cis,cis-muconic semialdehyde\n",
      "2-Aminomuconate semialdehyde\n",
      "Malonate semialdehyde\n",
      "Succinic semialdehyde\n",
      "4-Hydroxybenzaldehyde\n",
      "5-Hydroxyindoleacetaldehyde\n",
      "3-Methoxy-4-hydroxyphenylglycolaldehyde\n",
      "1-Naphthaldehyde\n",
      "3-Hydroxybenzaldehyde\n",
      "p-Tolualdehyde\n",
      "2-Hydroxymuconate semialdehyde\n",
      "3-Methylsalicylaldehyde\n",
      "3,4-Dihydroxyphenylacetaldehyde\n",
      "Chloroacetaldehyde\n",
      "(S)-Methylmalonate semialdehyde\n",
      "D-Glyceraldehyde\n",
      "D-Glyceraldehyde\n",
      "4-Hydroxyphenylacetaldehyde\n",
      "cis-3-Chloroallyl aldehyde\n",
      "2-Methylbenzaldehyde\n",
      "Benzaldehyde\n",
      "Benzaldehyde\n",
      "3-Methylbenzaldehyde\n",
      "glyceraldehyde_c\n",
      "____________________________\n",
      "Check NAD+\n",
      "nonadecanoic acid (C19:0)\n",
      "nonadecanoyl-ACP (C19:0 ACP)\n",
      "nad_c\n",
      "____________________________\n",
      "Check H2O\n",
      "H2O\n",
      "H2O\n",
      "H2O2\n",
      "____________________________\n",
      "Check carboxylate\n",
      "2-Fluorocyclohexadiene-cis,cis-1,2-diol-1-carboxylate\n",
      "2-Hydroxy-2-hydropyrone-4,6-dicarboxylate\n",
      "Urea-1-carboxylate\n",
      "L-1-Pyrroline-3-hydroxy-5-carboxylate\n",
      "5-Fluorocyclohexadiene-cis,cis-1,2-diol-1-carboxylate\n",
      "6-Fluorocyclohexadiene-cis,cis-1,2-diol-1-carboxylate\n",
      "(E)-4-Oxobut-1-ene-1,2,4-tricarboxylate\n",
      "1-Pyrroline-5-carboxylate\n",
      "carboxylate\n",
      "2-Pyrone-4,6-dicarboxylate\n",
      "1-(5-Phospho-D-ribosyl)-5-amino-4-imidazolecarboxylate\n",
      "Cyclopropanecarboxylate\n",
      "3-Fluorocyclohexadiene-cis,cis-1,2-diol-1-carboxylate\n",
      "1-Aminocyclopropane-1-carboxylate\n",
      "2-Hydroxyethylenedicarboxylate\n",
      "5-Amino-4-imidazole carboxylate\n",
      "Cyclohexane-1-carboxylate\n",
      "4-Fluorocyclohexadiene-cis,cis-1,2-diol-1-carboxylate\n",
      "____________________________\n",
      "Check NADH\n",
      "nadh_c\n",
      "____________________________\n"
     ]
    }
   ],
   "source": [
    "print(\"Check aldehyde\")\n",
    "for metabolite in model.metabolites.query('aldehyde', 'name'):\n",
    "    print(metabolite.name)\n",
    "model.add_metabolites([Metabolite(\"aldehyde_c\", formula='CHOR', name=\"aldehyde_c\", compartment = \"c\")])\n",
    "print(\"____________________________\")\n",
    "\n",
    "print(\"Check NAD+\")\n",
    "for metabolite in model.metabolites.query('nad', 'name'):\n",
    "    print(metabolite.name)\n",
    "print(model.metabolites.nad_c)\n",
    "print(\"____________________________\")\n",
    "\n",
    "print(\"Check H2O\")\n",
    "for metabolite in model.metabolites.query('H2O', 'name'):\n",
    "    print(metabolite.name)\n",
    "print(\"____________________________\")\n",
    "\n",
    "print(\"Check carboxylate\")\n",
    "for metabolite in model.metabolites.query('carboxylate', 'name'):\n",
    "    print(metabolite.name)\n",
    "print(\"____________________________\")\n",
    "\n",
    "### Check for NADH\n",
    "print(\"Check NADH\")\n",
    "for metabolite in model.metabolites.query('nadh', 'name'):\n",
    "    print(metabolite.name)\n",
    "print(model.metabolites.nadh_c)\n",
    "print(\"____________________________\")\n",
    "\n",
    "### H+ already found in glycerol dehydrogenase reaction\n"
   ]
  },
  {
   "cell_type": "markdown",
   "metadata": {},
   "source": [
    "Add reaction aldehyde dehydrogenase: Aldehyde + NAD+ + H2O = carboxylate + NADH + H+"
   ]
  },
  {
   "cell_type": "code",
<<<<<<< HEAD
   "execution_count": 14,
   "id": "84ed713e-5552-4255-b6a9-0c26c0a79ff2",
=======
   "execution_count": 36,
>>>>>>> e3af92e42a426ba3074e200562e35cb5edc8ce26
   "metadata": {},
   "outputs": [
    {
     "name": "stdout",
     "output_type": "stream",
     "text": [
      "aldehyde_c + h2o_c + nad_c --> carboxylate_c + h_c + nadh_c\n"
     ]
    },
    {
     "data": {
      "text/html": [
       "\n",
       "        <table>\n",
       "            <tr>\n",
       "                <td><strong>Reaction identifier</strong></td><td>Oxi_red</td>\n",
       "            </tr><tr>\n",
       "                <td><strong>Name</strong></td><td></td>\n",
       "            </tr><tr>\n",
       "                <td><strong>Memory address</strong></td>\n",
       "                <td>0x07f87803ad670</td>\n",
       "            </tr><tr>\n",
       "                <td><strong>Stoichiometry</strong></td>\n",
       "                <td>\n",
       "                    <p style='text-align:right'>aldehyde_c + h2o_c + nad_c --> carboxylate_c + h_c + nadh_c</p>\n",
       "                    <p style='text-align:right'>aldehyde_c + H2O + Nicotinamide adenine dinucleotide --> carboxylate + H+ + Nicotinamide adenine dinucleotide -reduced</p>\n",
       "                </td>\n",
       "            </tr><tr>\n",
       "                <td><strong>GPR</strong></td><td></td>\n",
       "            </tr><tr>\n",
       "                <td><strong>Lower bound</strong></td><td>0.0</td>\n",
       "            </tr><tr>\n",
       "                <td><strong>Upper bound</strong></td><td>1000.0</td>\n",
       "            </tr>\n",
       "        </table>\n",
       "        "
      ],
      "text/plain": [
       "<Reaction Oxi_red at 0x7f87803ad670>"
      ]
     },
     "execution_count": 14,
     "metadata": {},
     "output_type": "execute_result"
    }
   ],
   "source": [
    "Oxidoreductase = Reaction(\"Oxi_red\") \n",
    "Oxidoreductase.add_metabolites({model.metabolites.aldehyde_c: -1,\n",
    "                            model.metabolites.nad_c: -1,\n",
    "                            model.metabolites.h2o_c: -1,\n",
    "                          model.metabolites.carboxylate_c: 1,\n",
    "                            model.metabolites.nadh_c: 1, \n",
    "                              model.metabolites.h_c: 1,\n",
    "                              })\n",
    "print(Oxidoreductase.build_reaction_string())\n",
    "model.add_reactions([Oxidoreductase])\n",
    "model.reactions.Oxi_red"
   ]
  },
  {
   "cell_type": "markdown",
   "metadata": {},
   "source": [
    "### Third reaction: D-glycerate 3-kinase"
   ]
  },
  {
   "cell_type": "markdown",
   "metadata": {},
   "source": [
    "Check if the metabolites of this reaction already exist in the model. If not adding missing metabolites."
   ]
  },
  {
   "cell_type": "code",
<<<<<<< HEAD
   "execution_count": 15,
   "id": "8abc7d57-c5cf-4c40-825a-d72bf1560aff",
=======
   "execution_count": 37,
>>>>>>> e3af92e42a426ba3074e200562e35cb5edc8ce26
   "metadata": {
    "tags": []
   },
   "outputs": [
    {
     "name": "stdout",
     "output_type": "stream",
     "text": [
      "Check ATP\n",
      "atp_c\n",
      "____________________________\n",
      "Check glycerate\n",
      "3-Phospho-D-glycerate\n",
      "3-Phospho-D-glycerate\n",
      "____________________________\n",
      "Check ADP\n",
      "ADP-D-ribose\n",
      "dADP\n",
      "ADP-L-glycero-D-manno-heptose\n",
      "ADP-D-glycero-D-manno-heptose\n",
      "ADP\n",
      "____________________________\n",
      "Check 3-phospho-D-glycerate\n",
      "3-Phospho-D-glycerate\n",
      "3-Phospho-D-glycerate\n",
      "glycerate_c\n",
      "3pg_c\n"
     ]
    }
   ],
   "source": [
    "print(\"Check ATP\")\n",
    "for metabolite in model.metabolites.query('atp', 'name'):\n",
    "    print(metabolite.name)\n",
    "print(model.metabolites.get_by_id('atp_c'))\n",
    "print(\"____________________________\")\n",
    "\n",
    "print(\"Check glycerate\")\n",
    "for metabolite in model.metabolites.query('glycerate', 'name'):\n",
    "    print(metabolite.name)\n",
    "model.add_metabolites([Metabolite(\"glycerate_c\",formula='C3H6O4', name=\"glycerate_c\", compartment = \"c\")])\n",
    "print(\"____________________________\")\n",
    "\n",
    "print(\"Check ADP\")\n",
    "for metabolite in model.metabolites.query('ADP', 'name'):\n",
    "    print(metabolite.name)\n",
    "print(\"____________________________\")\n",
    "\n",
    "print(\"Check 3-phospho-D-glycerate\")\n",
    "for metabolite in model.metabolites.query('glycerate', 'name'):\n",
    "    print(metabolite.name)\n",
    "## check name in model\n",
    "print(model.metabolites.get_by_id('3pg_c'))"
   ]
  },
  {
   "cell_type": "markdown",
   "metadata": {},
   "source": [
    "Add reaction glycerate 3-kinase: ATP + D-glycerate = ADP + 3-phospho-D-glycerate"
   ]
  },
  {
   "cell_type": "code",
<<<<<<< HEAD
   "execution_count": 16,
   "id": "de8b57b8-76ba-447d-89e2-c68fe047f358",
=======
   "execution_count": 38,
>>>>>>> e3af92e42a426ba3074e200562e35cb5edc8ce26
   "metadata": {
    "tags": []
   },
   "outputs": [
    {
     "name": "stdout",
     "output_type": "stream",
     "text": [
      "atp_c + glycerate_c --> 3pg_c + adp_c\n"
     ]
    }
   ],
   "source": [
    "Transferases = Reaction('Tra_fer')  \n",
    "Transferases.add_metabolites({model.metabolites.atp_c: -1,\n",
    "                            model.metabolites.glycerate_c: -1,\n",
    "                            model.metabolites.adp_c: 1,\n",
    "                           model.metabolites.get_by_id('3pg_c'): 1\n",
    "                              })\n",
    "print(Transferases.build_reaction_string())\n",
    "model.add_reactions([Transferases])"
   ]
  },
  {
   "cell_type": "markdown",
   "metadata": {},
   "source": [
    "# Comparison of biomass, PHB production rate and theoretical max. yield between fructose and glycerol in medium"
   ]
  },
  {
   "cell_type": "markdown",
   "metadata": {},
   "source": [
    "Displaying current media components "
   ]
  },
  {
   "cell_type": "code",
   "execution_count": 17,
   "metadata": {
    "tags": []
   },
   "outputs": [
    {
     "data": {
      "text/plain": [
       "{'EX_fe2_e': 10.0,\n",
       " 'EX_mg2_e': 10.0,\n",
       " 'EX_pi_e': 100.0,\n",
       " 'EX_cobalt2_e': 10.0,\n",
       " 'EX_cl_e': 10.0,\n",
       " 'EX_k_e': 10.0,\n",
       " 'EX_fe3_e': 10.0,\n",
       " 'EX_so4_e': 10.0,\n",
       " 'EX_fru_e': 3.0,\n",
       " 'EX_nh4_e': 10.0,\n",
       " 'EX_na_e': 10.0,\n",
       " 'EX_o2_e': 18.5,\n",
       " 'EX_mobd_e': 10.0,\n",
       " 'EX_h2o_e': 1000.0,\n",
       " 'EX_h_e': 100.0,\n",
       " 'EX_glycerol_e': 1000.0}"
      ]
     },
     "execution_count": 17,
     "metadata": {},
     "output_type": "execute_result"
    }
   ],
   "source": [
    "medium = model.medium\n",
    "medium"
   ]
  },
  {
   "cell_type": "markdown",
   "metadata": {},
   "source": [
    "Displaying current uptake and secretion"
   ]
  },
  {
   "cell_type": "code",
   "execution_count": 18,
   "metadata": {},
   "outputs": [
    {
     "data": {
      "text/html": [
       "<h3>Objective</h3><p>1.0 Biomass = 0.2852858664276766</p><h4>Uptake</h4><table border=\"1\" class=\"dataframe\">\n",
       "  <thead>\n",
       "    <tr style=\"text-align: right;\">\n",
       "      <th>Metabolite</th>\n",
       "      <th>Reaction</th>\n",
       "      <th>Flux</th>\n",
       "      <th>C-Number</th>\n",
       "      <th>C-Flux</th>\n",
       "    </tr>\n",
       "  </thead>\n",
       "  <tbody>\n",
       "    <tr>\n",
       "      <td>fe2_e</td>\n",
       "      <td>EX_fe2_e</td>\n",
       "      <td>6.333E-05</td>\n",
       "      <td>0</td>\n",
       "      <td>0.00%</td>\n",
       "    </tr>\n",
       "    <tr>\n",
       "      <td>fru_e</td>\n",
       "      <td>EX_fru_e</td>\n",
       "      <td>3</td>\n",
       "      <td>6</td>\n",
       "      <td>100.00%</td>\n",
       "    </tr>\n",
       "    <tr>\n",
       "      <td>h_e</td>\n",
       "      <td>EX_h_e</td>\n",
       "      <td>10.72</td>\n",
       "      <td>0</td>\n",
       "      <td>0.00%</td>\n",
       "    </tr>\n",
       "    <tr>\n",
       "      <td>nh4_e</td>\n",
       "      <td>EX_nh4_e</td>\n",
       "      <td>3.038</td>\n",
       "      <td>0</td>\n",
       "      <td>0.00%</td>\n",
       "    </tr>\n",
       "    <tr>\n",
       "      <td>o2_e</td>\n",
       "      <td>EX_o2_e</td>\n",
       "      <td>5.734</td>\n",
       "      <td>0</td>\n",
       "      <td>0.00%</td>\n",
       "    </tr>\n",
       "    <tr>\n",
       "      <td>pi_e</td>\n",
       "      <td>EX_pi_e</td>\n",
       "      <td>7.987</td>\n",
       "      <td>0</td>\n",
       "      <td>0.00%</td>\n",
       "    </tr>\n",
       "    <tr>\n",
       "      <td>so4_e</td>\n",
       "      <td>EX_so4_e</td>\n",
       "      <td>0.05797</td>\n",
       "      <td>0</td>\n",
       "      <td>0.00%</td>\n",
       "    </tr>\n",
       "  </tbody>\n",
       "</table><h4>Secretion</h4><table border=\"1\" class=\"dataframe\">\n",
       "  <thead>\n",
       "    <tr style=\"text-align: right;\">\n",
       "      <th>Metabolite</th>\n",
       "      <th>Reaction</th>\n",
       "      <th>Flux</th>\n",
       "      <th>C-Number</th>\n",
       "      <th>C-Flux</th>\n",
       "    </tr>\n",
       "  </thead>\n",
       "  <tbody>\n",
       "    <tr>\n",
       "      <td>BIOMASS_c</td>\n",
       "      <td>EX_BIOMASS_c</td>\n",
       "      <td>-0.2853</td>\n",
       "      <td>0</td>\n",
       "      <td>0.00%</td>\n",
       "    </tr>\n",
       "    <tr>\n",
       "      <td>co2_e</td>\n",
       "      <td>EX_co2_e</td>\n",
       "      <td>-6.151</td>\n",
       "      <td>1</td>\n",
       "      <td>100.00%</td>\n",
       "    </tr>\n",
       "    <tr>\n",
       "      <td>h2o_e</td>\n",
       "      <td>EX_h2o_e</td>\n",
       "      <td>-23.87</td>\n",
       "      <td>0</td>\n",
       "      <td>0.00%</td>\n",
       "    </tr>\n",
       "  </tbody>\n",
       "</table>"
      ],
      "text/plain": [
       "<cobra.summary.model_summary.ModelSummary at 0x7f878038d6a0>"
      ]
     },
     "execution_count": 18,
     "metadata": {},
     "output_type": "execute_result"
    }
   ],
   "source": [
    "model.summary()"
   ]
  },
  {
   "cell_type": "markdown",
   "metadata": {},
   "source": [
    "## Changing media to only fructose as c-source"
   ]
  },
  {
   "cell_type": "code",
   "execution_count": 19,
   "metadata": {
    "tags": []
   },
   "outputs": [
    {
     "name": "stdout",
     "output_type": "stream",
     "text": [
      "{'EX_fe2_e': 10.0, 'EX_mg2_e': 10.0, 'EX_pi_e': 100.0, 'EX_cobalt2_e': 10.0, 'EX_cl_e': 10.0, 'EX_k_e': 10.0, 'EX_fe3_e': 10.0, 'EX_so4_e': 10.0, 'EX_fru_e': 10, 'EX_nh4_e': 10.0, 'EX_na_e': 10.0, 'EX_o2_e': 18.5, 'EX_mobd_e': 10.0, 'EX_h2o_e': 1000.0, 'EX_h_e': 100.0}\n",
      "The current theoretical maximum biomass productivity: 0.0 h\n",
      "----------------\n",
      "The current maximum theoretical productivity for making PHB: 12.542372881355982 mmol/gDW*h\n",
      "----------------\n",
      "Maximum theoretical yield = 1.2542372881355983 mmol phb/mmol fructose\n"
     ]
    }
   ],
   "source": [
    "with model:\n",
    "    medium = model.medium\n",
    "    medium ['EX_fru_e'] = 10\n",
    "    medium [\"EX_glycerol_e\"] = 0\n",
    "    model.medium = medium\n",
    "    model.objective = model.reactions.EX_pbhb_e\n",
    "    solution = model.optimize()\n",
    "    print(model.medium)\n",
    "    print('The current theoretical maximum biomass productivity:', solution.fluxes['EX_BIOMASS_c'], 'h')\n",
    "    print('----------------')\n",
    "    phb_production_fru = model.optimize().objective_value\n",
    "    print('The current maximum theoretical productivity for making PHB:', phb_production_fru , 'mmol/gDW*h')\n",
    "    print('----------------')\n",
    "    maximum_yield = phb_production_fru / (-1*(model.reactions.EX_fru_e.flux))\n",
    "    print('Maximum theoretical yield =', maximum_yield, 'mmol phb/mmol fructose')"
   ]
  },
  {
   "cell_type": "markdown",
   "metadata": {},
   "source": [
    "#### Changing media to only glycerol as c-source"
   ]
  },
  {
   "cell_type": "code",
<<<<<<< HEAD
   "execution_count": 20,
   "id": "08cd5b5a-53a7-4db5-b677-afa2059651df",
=======
   "execution_count": 22,
>>>>>>> e3af92e42a426ba3074e200562e35cb5edc8ce26
   "metadata": {},
   "outputs": [
    {
     "name": "stdout",
     "output_type": "stream",
     "text": [
      "{'EX_fe2_e': 10.0, 'EX_mg2_e': 10.0, 'EX_pi_e': 100.0, 'EX_cobalt2_e': 10.0, 'EX_cl_e': 10.0, 'EX_k_e': 10.0, 'EX_fe3_e': 10.0, 'EX_so4_e': 10.0, 'EX_nh4_e': 10.0, 'EX_na_e': 10.0, 'EX_o2_e': 18.5, 'EX_mobd_e': 10.0, 'EX_h2o_e': 1000.0, 'EX_h_e': 100.0, 'EX_glycerol_e': 10}\n",
      "The current theoretical maximum biomass productivity: 0.0 h\n",
      "----------------\n",
      "The current maximum theoretical productivity for making PHB: 0.0 mmol/gDW*h\n",
      "----------------\n"
     ]
    },
    {
     "ename": "ZeroDivisionError",
     "evalue": "float division by zero",
     "output_type": "error",
     "traceback": [
      "\u001b[0;31m---------------------------------------------------------------------------\u001b[0m",
      "\u001b[0;31mZeroDivisionError\u001b[0m                         Traceback (most recent call last)",
      "\u001b[0;32m<ipython-input-20-3e923f560a55>\u001b[0m in \u001b[0;36m<module>\u001b[0;34m\u001b[0m\n\u001b[1;32m     12\u001b[0m     \u001b[0mprint\u001b[0m\u001b[0;34m(\u001b[0m\u001b[0;34m'The current maximum theoretical productivity for making PHB:'\u001b[0m\u001b[0;34m,\u001b[0m \u001b[0mphb_production_gly\u001b[0m \u001b[0;34m,\u001b[0m \u001b[0;34m'mmol/gDW*h'\u001b[0m\u001b[0;34m)\u001b[0m\u001b[0;34m\u001b[0m\u001b[0;34m\u001b[0m\u001b[0m\n\u001b[1;32m     13\u001b[0m     \u001b[0mprint\u001b[0m\u001b[0;34m(\u001b[0m\u001b[0;34m'----------------'\u001b[0m\u001b[0;34m)\u001b[0m\u001b[0;34m\u001b[0m\u001b[0;34m\u001b[0m\u001b[0m\n\u001b[0;32m---> 14\u001b[0;31m     \u001b[0mmaximum_yield\u001b[0m \u001b[0;34m=\u001b[0m \u001b[0mphb_production_gly\u001b[0m \u001b[0;34m/\u001b[0m \u001b[0;34m(\u001b[0m\u001b[0;34m-\u001b[0m\u001b[0;36m1\u001b[0m\u001b[0;34m*\u001b[0m\u001b[0;34m(\u001b[0m\u001b[0mmodel\u001b[0m\u001b[0;34m.\u001b[0m\u001b[0mreactions\u001b[0m\u001b[0;34m.\u001b[0m\u001b[0mEX_glycerol_e\u001b[0m\u001b[0;34m.\u001b[0m\u001b[0mflux\u001b[0m\u001b[0;34m)\u001b[0m\u001b[0;34m)\u001b[0m\u001b[0;34m\u001b[0m\u001b[0;34m\u001b[0m\u001b[0m\n\u001b[0m\u001b[1;32m     15\u001b[0m     \u001b[0mprint\u001b[0m\u001b[0;34m(\u001b[0m\u001b[0;34m'Maximum theoretical yield ='\u001b[0m\u001b[0;34m,\u001b[0m \u001b[0mmaximum_yield\u001b[0m\u001b[0;34m,\u001b[0m \u001b[0;34m'mmol phb/mmol glycerol'\u001b[0m\u001b[0;34m)\u001b[0m\u001b[0;34m\u001b[0m\u001b[0;34m\u001b[0m\u001b[0m\n",
      "\u001b[0;31mZeroDivisionError\u001b[0m: float division by zero"
     ]
    }
   ],
   "source": [
    "with model:\n",
    "    medium = model.medium\n",
    "    medium ['EX_fru_e'] = 0\n",
    "    medium [\"EX_glycerol_e\"] = 10\n",
    "    model.medium = medium\n",
    "    solution = model.optimize()\n",
    "    print(model.medium)\n",
    "    print('The current theoretical maximum biomass productivity:', solution.fluxes['EX_BIOMASS_c'], 'h')\n",
    "    print('----------------')\n",
    "    model.objective = model.reactions.EX_pbhb_e\n",
    "    phb_production_gly=model.optimize().objective_value\n",
    "    print('The current maximum theoretical productivity for making PHB:', phb_production_gly , 'mmol/gDW*h')\n",
    "    print('----------------')\n",
    "    maximum_yield = phb_production_gly / (-1*(model.reactions.EX_glycerol_e.flux))\n",
    "    print('Maximum theoretical yield =', maximum_yield, 'mmol phb/mmol glycerol')"
   ]
  },
  {
   "cell_type": "code",
<<<<<<< HEAD
   "execution_count": 22,
   "id": "8176cc88-6c9d-4405-99e9-0421e17da3ab",
=======
   "execution_count": 21,
>>>>>>> e3af92e42a426ba3074e200562e35cb5edc8ce26
   "metadata": {},
   "outputs": [
    {
     "data": {
      "text/html": [
       "<h3>Objective</h3><p>1.0 EX_pbhb_e = 3.7627118644067945</p><h4>Uptake</h4><table border=\"1\" class=\"dataframe\">\n",
       "  <thead>\n",
       "    <tr style=\"text-align: right;\">\n",
       "      <th>Metabolite</th>\n",
       "      <th>Reaction</th>\n",
       "      <th>Flux</th>\n",
       "      <th>C-Number</th>\n",
       "      <th>C-Flux</th>\n",
       "    </tr>\n",
       "  </thead>\n",
       "  <tbody>\n",
       "    <tr>\n",
       "      <td>fru_e</td>\n",
       "      <td>EX_fru_e</td>\n",
       "      <td>3</td>\n",
       "      <td>6</td>\n",
       "      <td>100.00%</td>\n",
       "    </tr>\n",
       "    <tr>\n",
       "      <td>o2_e</td>\n",
       "      <td>EX_o2_e</td>\n",
       "      <td>1.068</td>\n",
       "      <td>0</td>\n",
       "      <td>0.00%</td>\n",
       "    </tr>\n",
       "  </tbody>\n",
       "</table><h4>Secretion</h4><table border=\"1\" class=\"dataframe\">\n",
       "  <thead>\n",
       "    <tr style=\"text-align: right;\">\n",
       "      <th>Metabolite</th>\n",
       "      <th>Reaction</th>\n",
       "      <th>Flux</th>\n",
       "      <th>C-Number</th>\n",
       "      <th>C-Flux</th>\n",
       "    </tr>\n",
       "  </thead>\n",
       "  <tbody>\n",
       "    <tr>\n",
       "      <td>co2_e</td>\n",
       "      <td>EX_co2_e</td>\n",
       "      <td>-2.949</td>\n",
       "      <td>1</td>\n",
       "      <td>100.00%</td>\n",
       "    </tr>\n",
       "    <tr>\n",
       "      <td>h2o_e</td>\n",
       "      <td>EX_h2o_e</td>\n",
       "      <td>-6.712</td>\n",
       "      <td>0</td>\n",
       "      <td>0.00%</td>\n",
       "    </tr>\n",
       "    <tr>\n",
       "      <td>phb_e</td>\n",
       "      <td>EX_pbhb_e</td>\n",
       "      <td>-3.763</td>\n",
       "      <td>0</td>\n",
       "      <td>0.00%</td>\n",
       "    </tr>\n",
       "  </tbody>\n",
       "</table>"
      ],
      "text/plain": [
       "<cobra.summary.model_summary.ModelSummary at 0x7f87800271f0>"
      ]
     },
     "execution_count": 22,
     "metadata": {},
     "output_type": "execute_result"
    }
   ],
   "source": [
    "model.objective = model.reactions.EX_pbhb_e\n",
    "model.summary()"
   ]
  },
  {
   "cell_type": "code",
   "execution_count": null,
   "metadata": {},
   "outputs": [],
   "source": []
  },
  {
   "cell_type": "code",
   "execution_count": null,
   "metadata": {},
   "outputs": [],
   "source": []
  },
  {
   "cell_type": "code",
   "execution_count": null,
   "metadata": {},
   "outputs": [],
   "source": []
  },
  {
   "cell_type": "code",
   "execution_count": null,
   "metadata": {},
   "outputs": [],
   "source": []
  },
  {
   "cell_type": "code",
   "execution_count": null,
   "metadata": {},
   "outputs": [],
   "source": []
  },
  {
   "cell_type": "code",
   "execution_count": null,
   "metadata": {},
   "outputs": [],
   "source": []
  },
  {
   "cell_type": "code",
   "execution_count": null,
   "metadata": {},
   "outputs": [],
   "source": []
  },
  {
   "cell_type": "code",
   "execution_count": null,
   "metadata": {},
   "outputs": [],
   "source": []
  },
  {
   "cell_type": "code",
   "execution_count": null,
   "metadata": {},
   "outputs": [],
   "source": []
  },
  {
   "cell_type": "code",
   "execution_count": null,
   "metadata": {},
   "outputs": [],
   "source": []
  },
  {
   "cell_type": "code",
   "execution_count": null,
   "metadata": {},
   "outputs": [],
   "source": []
  },
  {
   "cell_type": "code",
   "execution_count": null,
   "metadata": {},
   "outputs": [],
   "source": []
  },
  {
   "cell_type": "code",
   "execution_count": null,
   "metadata": {},
   "outputs": [],
   "source": []
  },
  {
   "cell_type": "code",
   "execution_count": null,
   "metadata": {},
   "outputs": [],
   "source": []
  },
  {
   "cell_type": "code",
   "execution_count": null,
   "metadata": {},
   "outputs": [],
   "source": []
  }
 ],
 "metadata": {
  "kernelspec": {
   "display_name": "Python 3",
   "language": "python",
   "name": "python3"
  },
  "language_info": {
   "codemirror_mode": {
    "name": "ipython",
    "version": 3
   },
   "file_extension": ".py",
   "mimetype": "text/x-python",
   "name": "python",
   "nbconvert_exporter": "python",
   "pygments_lexer": "ipython3",
   "version": "3.8.3"
  }
 },
 "nbformat": 4,
 "nbformat_minor": 5
}
